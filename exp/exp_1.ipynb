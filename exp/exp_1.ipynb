{
  "nbformat": 4,
  "nbformat_minor": 0,
  "metadata": {
    "colab": {
      "name": "exp_1.ipynb",
      "provenance": [],
      "authorship_tag": "ABX9TyOUZ06oZZbVfGuB9V31KP5K",
      "include_colab_link": true
    },
    "kernelspec": {
      "name": "python3",
      "display_name": "Python 3"
    },
    "language_info": {
      "name": "python"
    },
    "accelerator": "GPU"
  },
  "cells": [
    {
      "cell_type": "markdown",
      "metadata": {
        "id": "view-in-github",
        "colab_type": "text"
      },
      "source": [
        "<a href=\"https://colab.research.google.com/github/MasslessAI/narratelab/blob/master/exp/exp_1.ipynb\" target=\"_parent\"><img src=\"https://colab.research.google.com/assets/colab-badge.svg\" alt=\"Open In Colab\"/></a>"
      ]
    },
    {
      "cell_type": "markdown",
      "metadata": {
        "id": "hLraSPFiAspw"
      },
      "source": [
        "# Install Dependencies"
      ]
    },
    {
      "cell_type": "code",
      "metadata": {
        "colab": {
          "base_uri": "https://localhost:8080/"
        },
        "id": "4BkxwQbbIElv",
        "outputId": "22552e79-d2c4-459a-c86f-baa44c97a853"
      },
      "source": [
        "from google.colab import drive\n",
        "\n",
        "drive.mount('gdrive', force_remount=True)\n",
        "\n",
        "root_dir = '/content/gdrive/'\n",
        "\n",
        "gdrive_path = root_dir + 'MyDrive/narratelab/exp_1'\n",
        "\n",
        "!pip install spacy==3.1.0  keybert[spacy] sentence-transformers redditcleaner psaw pandas loguru bertopic[spacy] distinctipy colour tqdm\n",
        "!python -m spacy download en_core_web_trf\n",
        "!python -m spacy download en_core_web_sm"
      ],
      "execution_count": 1,
      "outputs": [
        {
          "output_type": "stream",
          "text": [
            "Mounted at gdrive\n",
            "Collecting spacy==3.1.0\n",
            "\u001b[?25l  Downloading https://files.pythonhosted.org/packages/c1/da/61f934c6ae177a291c77246ef91a78cab44a2d76f79e6892ca7b17571adf/spacy-3.1.0-cp37-cp37m-manylinux_2_17_x86_64.manylinux2014_x86_64.whl (6.4MB)\n",
            "\u001b[K     |████████████████████████████████| 6.4MB 14.6MB/s \n",
            "\u001b[?25hCollecting keybert[spacy]\n",
            "  Downloading https://files.pythonhosted.org/packages/cd/12/b72f6ce98984157cb0db83baf56a7c8f9eb4df4494d671234dccb630f8a3/keybert-0.4.0.tar.gz\n",
            "\u001b[33m  WARNING: keybert 0.4.0 does not provide the extra 'spacy'\u001b[0m\n",
            "Collecting sentence-transformers\n",
            "\u001b[?25l  Downloading https://files.pythonhosted.org/packages/3b/fd/8a81047bbd9fa134a3f27e12937d2a487bd49d353a038916a5d7ed4e5543/sentence-transformers-2.0.0.tar.gz (85kB)\n",
            "\u001b[K     |████████████████████████████████| 92kB 12.3MB/s \n",
            "\u001b[?25hCollecting redditcleaner\n",
            "  Downloading https://files.pythonhosted.org/packages/f9/8a/7491757daaf8f3381f736473018880c9e89defd44b9ebbf48a83c172e5ff/redditcleaner-1.1.2-py3-none-any.whl\n",
            "Collecting psaw\n",
            "  Downloading https://files.pythonhosted.org/packages/01/fe/e2f43241ff7545588d07bb93dd353e4333ebc02c31d7e0dc36a8a9d93214/psaw-0.1.0-py3-none-any.whl\n",
            "Requirement already satisfied: pandas in /usr/local/lib/python3.7/dist-packages (1.1.5)\n",
            "Collecting loguru\n",
            "\u001b[?25l  Downloading https://files.pythonhosted.org/packages/6d/48/0a7d5847e3de329f1d0134baf707b689700b53bd3066a5a8cfd94b3c9fc8/loguru-0.5.3-py3-none-any.whl (57kB)\n",
            "\u001b[K     |████████████████████████████████| 61kB 9.1MB/s \n",
            "\u001b[?25hCollecting bertopic[spacy]\n",
            "\u001b[?25l  Downloading https://files.pythonhosted.org/packages/f6/9e/16678af67081452c01fcaeca5fd734a1033be2da0e9d40815ee742588ef4/bertopic-0.8.1-py2.py3-none-any.whl (53kB)\n",
            "\u001b[K     |████████████████████████████████| 61kB 10.2MB/s \n",
            "\u001b[?25hCollecting distinctipy\n",
            "  Downloading https://files.pythonhosted.org/packages/58/c2/045338663266b478e095b4de1edfa945a2fede2193ec1a2ea160d4ebe588/distinctipy-1.1.5-py3-none-any.whl\n",
            "Collecting colour\n",
            "  Downloading https://files.pythonhosted.org/packages/74/46/e81907704ab203206769dee1385dc77e1407576ff8f50a0681d0a6b541be/colour-0.1.5-py2.py3-none-any.whl\n",
            "Requirement already satisfied: tqdm in /usr/local/lib/python3.7/dist-packages (4.41.1)\n",
            "Collecting pathy>=0.3.5\n",
            "\u001b[?25l  Downloading https://files.pythonhosted.org/packages/65/ae/ecfa3e2dc267010fa320034be0eb3a8e683dc98dae7e70f92b41605b4d35/pathy-0.6.0-py3-none-any.whl (42kB)\n",
            "\u001b[K     |████████████████████████████████| 51kB 9.1MB/s \n",
            "\u001b[?25hRequirement already satisfied: wasabi<1.1.0,>=0.8.1 in /usr/local/lib/python3.7/dist-packages (from spacy==3.1.0) (0.8.2)\n",
            "Requirement already satisfied: packaging>=20.0 in /usr/local/lib/python3.7/dist-packages (from spacy==3.1.0) (20.9)\n",
            "Collecting typer<0.4.0,>=0.3.0\n",
            "  Downloading https://files.pythonhosted.org/packages/90/34/d138832f6945432c638f32137e6c79a3b682f06a63c488dcfaca6b166c64/typer-0.3.2-py3-none-any.whl\n",
            "Requirement already satisfied: requests<3.0.0,>=2.13.0 in /usr/local/lib/python3.7/dist-packages (from spacy==3.1.0) (2.23.0)\n",
            "Collecting spacy-legacy<3.1.0,>=3.0.7\n",
            "  Downloading https://files.pythonhosted.org/packages/d3/e8/1bc00eeff3faf1c50bde941f88a491a5c1128debb75dd8c913401e71585c/spacy_legacy-3.0.8-py2.py3-none-any.whl\n",
            "Requirement already satisfied: setuptools in /usr/local/lib/python3.7/dist-packages (from spacy==3.1.0) (57.0.0)\n",
            "Requirement already satisfied: jinja2 in /usr/local/lib/python3.7/dist-packages (from spacy==3.1.0) (2.11.3)\n",
            "Collecting catalogue<2.1.0,>=2.0.4\n",
            "  Downloading https://files.pythonhosted.org/packages/9c/10/dbc1203a4b1367c7b02fddf08cb2981d9aa3e688d398f587cea0ab9e3bec/catalogue-2.0.4-py3-none-any.whl\n",
            "Requirement already satisfied: typing-extensions<4.0.0.0,>=3.7.4; python_version < \"3.8\" in /usr/local/lib/python3.7/dist-packages (from spacy==3.1.0) (3.7.4.3)\n",
            "Requirement already satisfied: blis<0.8.0,>=0.4.0 in /usr/local/lib/python3.7/dist-packages (from spacy==3.1.0) (0.4.1)\n",
            "Collecting thinc<8.1.0,>=8.0.7\n",
            "\u001b[?25l  Downloading https://files.pythonhosted.org/packages/7a/6e/bd2da3d71ab2d175248949ac106fee09ae13bfaca39002eabdbd908b7440/thinc-8.0.7-cp37-cp37m-manylinux_2_17_x86_64.manylinux2014_x86_64.whl (619kB)\n",
            "\u001b[K     |████████████████████████████████| 624kB 43.6MB/s \n",
            "\u001b[?25hRequirement already satisfied: numpy>=1.15.0 in /usr/local/lib/python3.7/dist-packages (from spacy==3.1.0) (1.19.5)\n",
            "Requirement already satisfied: cymem<2.1.0,>=2.0.2 in /usr/local/lib/python3.7/dist-packages (from spacy==3.1.0) (2.0.5)\n",
            "Collecting pydantic!=1.8,!=1.8.1,<1.9.0,>=1.7.4\n",
            "\u001b[?25l  Downloading https://files.pythonhosted.org/packages/9f/f2/2d5425efe57f6c4e06cbe5e587c1fd16929dcf0eb90bd4d3d1e1c97d1151/pydantic-1.8.2-cp37-cp37m-manylinux2014_x86_64.whl (10.1MB)\n",
            "\u001b[K     |████████████████████████████████| 10.1MB 46.3MB/s \n",
            "\u001b[?25hRequirement already satisfied: preshed<3.1.0,>=3.0.2 in /usr/local/lib/python3.7/dist-packages (from spacy==3.1.0) (3.0.5)\n",
            "Requirement already satisfied: murmurhash<1.1.0,>=0.28.0 in /usr/local/lib/python3.7/dist-packages (from spacy==3.1.0) (1.0.5)\n",
            "Collecting srsly<3.0.0,>=2.4.1\n",
            "\u001b[?25l  Downloading https://files.pythonhosted.org/packages/c3/84/dfdfc9f6f04f6b88207d96d9520b911e5fec0c67ff47a0dea31ab5429a1e/srsly-2.4.1-cp37-cp37m-manylinux2014_x86_64.whl (456kB)\n",
            "\u001b[K     |████████████████████████████████| 460kB 40.0MB/s \n",
            "\u001b[?25hRequirement already satisfied: scikit-learn>=0.22.2 in /usr/local/lib/python3.7/dist-packages (from keybert[spacy]) (0.22.2.post1)\n",
            "Collecting rich>=10.4.0\n",
            "\u001b[?25l  Downloading https://files.pythonhosted.org/packages/0a/9a/1ba0f7c34afd08c7a720834f60c79331e9e6c73c97fdc4054b5733462f35/rich-10.6.0-py3-none-any.whl (208kB)\n",
            "\u001b[K     |████████████████████████████████| 215kB 54.9MB/s \n",
            "\u001b[?25hCollecting transformers<5.0.0,>=4.6.0\n",
            "\u001b[?25l  Downloading https://files.pythonhosted.org/packages/fd/1a/41c644c963249fd7f3836d926afa1e3f1cc234a1c40d80c5f03ad8f6f1b2/transformers-4.8.2-py3-none-any.whl (2.5MB)\n",
            "\u001b[K     |████████████████████████████████| 2.5MB 45.7MB/s \n",
            "\u001b[?25hRequirement already satisfied: torch>=1.6.0 in /usr/local/lib/python3.7/dist-packages (from sentence-transformers) (1.9.0+cu102)\n",
            "Requirement already satisfied: torchvision in /usr/local/lib/python3.7/dist-packages (from sentence-transformers) (0.10.0+cu102)\n",
            "Requirement already satisfied: scipy in /usr/local/lib/python3.7/dist-packages (from sentence-transformers) (1.4.1)\n",
            "Requirement already satisfied: nltk in /usr/local/lib/python3.7/dist-packages (from sentence-transformers) (3.2.5)\n",
            "Collecting sentencepiece\n",
            "\u001b[?25l  Downloading https://files.pythonhosted.org/packages/ac/aa/1437691b0c7c83086ebb79ce2da16e00bef024f24fec2a5161c35476f499/sentencepiece-0.1.96-cp37-cp37m-manylinux_2_17_x86_64.manylinux2014_x86_64.whl (1.2MB)\n",
            "\u001b[K     |████████████████████████████████| 1.2MB 41.5MB/s \n",
            "\u001b[?25hCollecting huggingface-hub\n",
            "  Downloading https://files.pythonhosted.org/packages/35/03/071adc023c0a7e540cf4652fa9cad13ab32e6ae469bf0cc0262045244812/huggingface_hub-0.0.13-py3-none-any.whl\n",
            "Requirement already satisfied: Click in /usr/local/lib/python3.7/dist-packages (from psaw) (7.1.2)\n",
            "Requirement already satisfied: pytz>=2017.2 in /usr/local/lib/python3.7/dist-packages (from pandas) (2018.9)\n",
            "Requirement already satisfied: python-dateutil>=2.7.3 in /usr/local/lib/python3.7/dist-packages (from pandas) (2.8.1)\n",
            "Collecting plotly<4.14.3,>=4.7.0\n",
            "\u001b[?25l  Downloading https://files.pythonhosted.org/packages/9d/2e/69579c3db25fa4f85d70a10f8a98d52c2b4a0dcbd153e8f17f425761bef4/plotly-4.14.2-py2.py3-none-any.whl (13.2MB)\n",
            "\u001b[K     |████████████████████████████████| 13.2MB 40.5MB/s \n",
            "\u001b[?25hCollecting hdbscan>=0.8.27\n",
            "\u001b[?25l  Downloading https://files.pythonhosted.org/packages/32/bb/59a75bc5ac66a9b4f9b8f979e4545af0e98bb1ca4e6ae96b3b956b554223/hdbscan-0.8.27.tar.gz (6.4MB)\n",
            "\u001b[K     |████████████████████████████████| 6.4MB 47.6MB/s \n",
            "\u001b[?25h  Installing build dependencies ... \u001b[?25l\u001b[?25hdone\n",
            "  Getting requirements to build wheel ... \u001b[?25l\u001b[?25hdone\n",
            "    Preparing wheel metadata ... \u001b[?25l\u001b[?25hdone\n",
            "Collecting umap-learn>=0.5.0\n",
            "\u001b[?25l  Downloading https://files.pythonhosted.org/packages/75/69/85e7f950bb75792ad5d666d86c5f3e62eedbb942848e7e3126513af9999c/umap-learn-0.5.1.tar.gz (80kB)\n",
            "\u001b[K     |████████████████████████████████| 81kB 2.6MB/s \n",
            "\u001b[?25hRequirement already satisfied: matplotlib in /usr/local/lib/python3.7/dist-packages (from distinctipy) (3.2.2)\n",
            "Requirement already satisfied: smart-open<6.0.0,>=5.0.0 in /usr/local/lib/python3.7/dist-packages (from pathy>=0.3.5->spacy==3.1.0) (5.1.0)\n",
            "Requirement already satisfied: pyparsing>=2.0.2 in /usr/local/lib/python3.7/dist-packages (from packaging>=20.0->spacy==3.1.0) (2.4.7)\n",
            "Requirement already satisfied: chardet<4,>=3.0.2 in /usr/local/lib/python3.7/dist-packages (from requests<3.0.0,>=2.13.0->spacy==3.1.0) (3.0.4)\n",
            "Requirement already satisfied: idna<3,>=2.5 in /usr/local/lib/python3.7/dist-packages (from requests<3.0.0,>=2.13.0->spacy==3.1.0) (2.10)\n",
            "Requirement already satisfied: certifi>=2017.4.17 in /usr/local/lib/python3.7/dist-packages (from requests<3.0.0,>=2.13.0->spacy==3.1.0) (2021.5.30)\n",
            "Requirement already satisfied: urllib3!=1.25.0,!=1.25.1,<1.26,>=1.21.1 in /usr/local/lib/python3.7/dist-packages (from requests<3.0.0,>=2.13.0->spacy==3.1.0) (1.24.3)\n",
            "Requirement already satisfied: MarkupSafe>=0.23 in /usr/local/lib/python3.7/dist-packages (from jinja2->spacy==3.1.0) (2.0.1)\n",
            "Requirement already satisfied: zipp>=0.5; python_version < \"3.8\" in /usr/local/lib/python3.7/dist-packages (from catalogue<2.1.0,>=2.0.4->spacy==3.1.0) (3.4.1)\n",
            "Requirement already satisfied: joblib>=0.11 in /usr/local/lib/python3.7/dist-packages (from scikit-learn>=0.22.2->keybert[spacy]) (1.0.1)\n",
            "Requirement already satisfied: pygments<3.0.0,>=2.6.0 in /usr/local/lib/python3.7/dist-packages (from rich>=10.4.0->keybert[spacy]) (2.6.1)\n",
            "Collecting colorama<0.5.0,>=0.4.0\n",
            "  Downloading https://files.pythonhosted.org/packages/44/98/5b86278fbbf250d239ae0ecb724f8572af1c91f4a11edf4d36a206189440/colorama-0.4.4-py2.py3-none-any.whl\n",
            "Collecting commonmark<0.10.0,>=0.9.0\n",
            "\u001b[?25l  Downloading https://files.pythonhosted.org/packages/b1/92/dfd892312d822f36c55366118b95d914e5f16de11044a27cf10a7d71bbbf/commonmark-0.9.1-py2.py3-none-any.whl (51kB)\n",
            "\u001b[K     |████████████████████████████████| 51kB 6.5MB/s \n",
            "\u001b[?25hRequirement already satisfied: pyyaml in /usr/local/lib/python3.7/dist-packages (from transformers<5.0.0,>=4.6.0->sentence-transformers) (3.13)\n",
            "Requirement already satisfied: filelock in /usr/local/lib/python3.7/dist-packages (from transformers<5.0.0,>=4.6.0->sentence-transformers) (3.0.12)\n",
            "Collecting sacremoses\n",
            "\u001b[?25l  Downloading https://files.pythonhosted.org/packages/75/ee/67241dc87f266093c533a2d4d3d69438e57d7a90abb216fa076e7d475d4a/sacremoses-0.0.45-py3-none-any.whl (895kB)\n",
            "\u001b[K     |████████████████████████████████| 901kB 10.9MB/s \n",
            "\u001b[?25hCollecting tokenizers<0.11,>=0.10.1\n",
            "\u001b[?25l  Downloading https://files.pythonhosted.org/packages/d4/e2/df3543e8ffdab68f5acc73f613de9c2b155ac47f162e725dcac87c521c11/tokenizers-0.10.3-cp37-cp37m-manylinux_2_5_x86_64.manylinux1_x86_64.manylinux_2_12_x86_64.manylinux2010_x86_64.whl (3.3MB)\n",
            "\u001b[K     |████████████████████████████████| 3.3MB 43.5MB/s \n",
            "\u001b[?25hRequirement already satisfied: regex!=2019.12.17 in /usr/local/lib/python3.7/dist-packages (from transformers<5.0.0,>=4.6.0->sentence-transformers) (2019.12.20)\n",
            "Requirement already satisfied: importlib-metadata; python_version < \"3.8\" in /usr/local/lib/python3.7/dist-packages (from transformers<5.0.0,>=4.6.0->sentence-transformers) (4.6.0)\n",
            "Requirement already satisfied: pillow>=5.3.0 in /usr/local/lib/python3.7/dist-packages (from torchvision->sentence-transformers) (7.1.2)\n",
            "Requirement already satisfied: six in /usr/local/lib/python3.7/dist-packages (from nltk->sentence-transformers) (1.15.0)\n",
            "Requirement already satisfied: retrying>=1.3.3 in /usr/local/lib/python3.7/dist-packages (from plotly<4.14.3,>=4.7.0->bertopic[spacy]) (1.3.3)\n",
            "Requirement already satisfied: cython>=0.27 in /usr/local/lib/python3.7/dist-packages (from hdbscan>=0.8.27->bertopic[spacy]) (0.29.23)\n",
            "Requirement already satisfied: numba>=0.49 in /usr/local/lib/python3.7/dist-packages (from umap-learn>=0.5.0->bertopic[spacy]) (0.51.2)\n",
            "Collecting pynndescent>=0.5\n",
            "\u001b[?25l  Downloading https://files.pythonhosted.org/packages/b1/8d/44bf1c9e69dd9bf0697a3b9375b0729942525c0eee7b7859f563439d676a/pynndescent-0.5.4.tar.gz (1.1MB)\n",
            "\u001b[K     |████████████████████████████████| 1.1MB 37.5MB/s \n",
            "\u001b[?25hRequirement already satisfied: cycler>=0.10 in /usr/local/lib/python3.7/dist-packages (from matplotlib->distinctipy) (0.10.0)\n",
            "Requirement already satisfied: kiwisolver>=1.0.1 in /usr/local/lib/python3.7/dist-packages (from matplotlib->distinctipy) (1.3.1)\n",
            "Requirement already satisfied: llvmlite<0.35,>=0.34.0.dev0 in /usr/local/lib/python3.7/dist-packages (from numba>=0.49->umap-learn>=0.5.0->bertopic[spacy]) (0.34.0)\n",
            "Building wheels for collected packages: hdbscan\n",
            "  Building wheel for hdbscan (PEP 517) ... \u001b[?25l\u001b[?25hdone\n",
            "  Created wheel for hdbscan: filename=hdbscan-0.8.27-cp37-cp37m-linux_x86_64.whl size=2311736 sha256=f618956e365df9175db8385d35d8de35324200ef32c0efef6968d0c959b3836a\n",
            "  Stored in directory: /root/.cache/pip/wheels/42/63/fb/314ad6c3b270887a3ecb588b8e5aac50b0fad38ff89bb6dff2\n",
            "Successfully built hdbscan\n",
            "Building wheels for collected packages: keybert, sentence-transformers, umap-learn, pynndescent\n",
            "  Building wheel for keybert (setup.py) ... \u001b[?25l\u001b[?25hdone\n",
            "  Created wheel for keybert: filename=keybert-0.4.0-cp37-none-any.whl size=20359 sha256=d396f92dff9387fc6a389eb3086effffd8c2a91cc0a9c30e2d2cc7acd3afa43e\n",
            "  Stored in directory: /root/.cache/pip/wheels/03/5d/47/3043be54833aa892612970b46edc8cb1a3b6d4e74a53efb316\n",
            "  Building wheel for sentence-transformers (setup.py) ... \u001b[?25l\u001b[?25hdone\n",
            "  Created wheel for sentence-transformers: filename=sentence_transformers-2.0.0-cp37-none-any.whl size=126711 sha256=3e689e611a405b09d9dd38894e2ac6ef7fc1b4328017c6957f0cdef61070f3aa\n",
            "  Stored in directory: /root/.cache/pip/wheels/38/d2/98/d191289a877a34c68aa67e05179521e060f96394a3e9336be6\n",
            "  Building wheel for umap-learn (setup.py) ... \u001b[?25l\u001b[?25hdone\n",
            "  Created wheel for umap-learn: filename=umap_learn-0.5.1-cp37-none-any.whl size=76569 sha256=38c2e474e3fcc1aee81b01f9c231a3871deb344836fdf3941bca0d2b78d8fcad\n",
            "  Stored in directory: /root/.cache/pip/wheels/ad/df/d5/a3691296ff779f25cd1cf415a3af954b987fb53111e3392cf4\n",
            "  Building wheel for pynndescent (setup.py) ... \u001b[?25l\u001b[?25hdone\n",
            "  Created wheel for pynndescent: filename=pynndescent-0.5.4-cp37-none-any.whl size=52374 sha256=fa2024a9eacd1e63efbcf20661f4a88c9340959469e92ae027044e689620bf6f\n",
            "  Stored in directory: /root/.cache/pip/wheels/42/4b/8c/f6f119c67cf6583bb192431fa8f7278cf95e5b943055077d94\n",
            "Successfully built keybert sentence-transformers umap-learn pynndescent\n",
            "\u001b[31mERROR: transformers 4.8.2 has requirement huggingface-hub==0.0.12, but you'll have huggingface-hub 0.0.13 which is incompatible.\u001b[0m\n",
            "\u001b[31mERROR: bertopic 0.8.1 has requirement numpy>=1.20.0, but you'll have numpy 1.19.5 which is incompatible.\u001b[0m\n",
            "Installing collected packages: typer, pathy, spacy-legacy, catalogue, pydantic, srsly, thinc, spacy, huggingface-hub, sacremoses, tokenizers, transformers, sentencepiece, sentence-transformers, colorama, commonmark, rich, keybert, redditcleaner, psaw, loguru, plotly, hdbscan, pynndescent, umap-learn, bertopic, distinctipy, colour\n",
            "  Found existing installation: catalogue 1.0.0\n",
            "    Uninstalling catalogue-1.0.0:\n",
            "      Successfully uninstalled catalogue-1.0.0\n",
            "  Found existing installation: srsly 1.0.5\n",
            "    Uninstalling srsly-1.0.5:\n",
            "      Successfully uninstalled srsly-1.0.5\n",
            "  Found existing installation: thinc 7.4.0\n",
            "    Uninstalling thinc-7.4.0:\n",
            "      Successfully uninstalled thinc-7.4.0\n",
            "  Found existing installation: spacy 2.2.4\n",
            "    Uninstalling spacy-2.2.4:\n",
            "      Successfully uninstalled spacy-2.2.4\n",
            "  Found existing installation: plotly 4.4.1\n",
            "    Uninstalling plotly-4.4.1:\n",
            "      Successfully uninstalled plotly-4.4.1\n",
            "Successfully installed bertopic-0.8.1 catalogue-2.0.4 colorama-0.4.4 colour-0.1.5 commonmark-0.9.1 distinctipy-1.1.5 hdbscan-0.8.27 huggingface-hub-0.0.13 keybert-0.4.0 loguru-0.5.3 pathy-0.6.0 plotly-4.14.2 psaw-0.1.0 pydantic-1.8.2 pynndescent-0.5.4 redditcleaner-1.1.2 rich-10.6.0 sacremoses-0.0.45 sentence-transformers-2.0.0 sentencepiece-0.1.96 spacy-3.1.0 spacy-legacy-3.0.8 srsly-2.4.1 thinc-8.0.7 tokenizers-0.10.3 transformers-4.8.2 typer-0.3.2 umap-learn-0.5.1\n",
            "2021-07-15 04:40:58.953154: I tensorflow/stream_executor/platform/default/dso_loader.cc:53] Successfully opened dynamic library libcudart.so.11.0\n",
            "Collecting en-core-web-trf==3.1.0\n",
            "\u001b[?25l  Downloading https://github.com/explosion/spacy-models/releases/download/en_core_web_trf-3.1.0/en_core_web_trf-3.1.0-py3-none-any.whl (460.2MB)\n",
            "\u001b[K     |████████████████████████████████| 460.2MB 36kB/s \n",
            "\u001b[?25hRequirement already satisfied: spacy<3.2.0,>=3.1.0 in /usr/local/lib/python3.7/dist-packages (from en-core-web-trf==3.1.0) (3.1.0)\n",
            "Collecting spacy-transformers<1.1.0,>=1.0.3\n",
            "  Downloading https://files.pythonhosted.org/packages/f3/58/e470e8217c1c93db41c50ef210e02f7302fbf252a56b66708f8ecb579aa3/spacy_transformers-1.0.3-py2.py3-none-any.whl\n",
            "Requirement already satisfied: typer<0.4.0,>=0.3.0 in /usr/local/lib/python3.7/dist-packages (from spacy<3.2.0,>=3.1.0->en-core-web-trf==3.1.0) (0.3.2)\n",
            "Requirement already satisfied: wasabi<1.1.0,>=0.8.1 in /usr/local/lib/python3.7/dist-packages (from spacy<3.2.0,>=3.1.0->en-core-web-trf==3.1.0) (0.8.2)\n",
            "Requirement already satisfied: pathy>=0.3.5 in /usr/local/lib/python3.7/dist-packages (from spacy<3.2.0,>=3.1.0->en-core-web-trf==3.1.0) (0.6.0)\n",
            "Requirement already satisfied: catalogue<2.1.0,>=2.0.4 in /usr/local/lib/python3.7/dist-packages (from spacy<3.2.0,>=3.1.0->en-core-web-trf==3.1.0) (2.0.4)\n",
            "Requirement already satisfied: jinja2 in /usr/local/lib/python3.7/dist-packages (from spacy<3.2.0,>=3.1.0->en-core-web-trf==3.1.0) (2.11.3)\n",
            "Requirement already satisfied: murmurhash<1.1.0,>=0.28.0 in /usr/local/lib/python3.7/dist-packages (from spacy<3.2.0,>=3.1.0->en-core-web-trf==3.1.0) (1.0.5)\n",
            "Requirement already satisfied: tqdm<5.0.0,>=4.38.0 in /usr/local/lib/python3.7/dist-packages (from spacy<3.2.0,>=3.1.0->en-core-web-trf==3.1.0) (4.41.1)\n",
            "Requirement already satisfied: requests<3.0.0,>=2.13.0 in /usr/local/lib/python3.7/dist-packages (from spacy<3.2.0,>=3.1.0->en-core-web-trf==3.1.0) (2.23.0)\n",
            "Requirement already satisfied: spacy-legacy<3.1.0,>=3.0.7 in /usr/local/lib/python3.7/dist-packages (from spacy<3.2.0,>=3.1.0->en-core-web-trf==3.1.0) (3.0.8)\n",
            "Requirement already satisfied: cymem<2.1.0,>=2.0.2 in /usr/local/lib/python3.7/dist-packages (from spacy<3.2.0,>=3.1.0->en-core-web-trf==3.1.0) (2.0.5)\n",
            "Requirement already satisfied: srsly<3.0.0,>=2.4.1 in /usr/local/lib/python3.7/dist-packages (from spacy<3.2.0,>=3.1.0->en-core-web-trf==3.1.0) (2.4.1)\n",
            "Requirement already satisfied: typing-extensions<4.0.0.0,>=3.7.4; python_version < \"3.8\" in /usr/local/lib/python3.7/dist-packages (from spacy<3.2.0,>=3.1.0->en-core-web-trf==3.1.0) (3.7.4.3)\n",
            "Requirement already satisfied: pydantic!=1.8,!=1.8.1,<1.9.0,>=1.7.4 in /usr/local/lib/python3.7/dist-packages (from spacy<3.2.0,>=3.1.0->en-core-web-trf==3.1.0) (1.8.2)\n",
            "Requirement already satisfied: preshed<3.1.0,>=3.0.2 in /usr/local/lib/python3.7/dist-packages (from spacy<3.2.0,>=3.1.0->en-core-web-trf==3.1.0) (3.0.5)\n",
            "Requirement already satisfied: setuptools in /usr/local/lib/python3.7/dist-packages (from spacy<3.2.0,>=3.1.0->en-core-web-trf==3.1.0) (57.0.0)\n",
            "Requirement already satisfied: blis<0.8.0,>=0.4.0 in /usr/local/lib/python3.7/dist-packages (from spacy<3.2.0,>=3.1.0->en-core-web-trf==3.1.0) (0.4.1)\n",
            "Requirement already satisfied: numpy>=1.15.0 in /usr/local/lib/python3.7/dist-packages (from spacy<3.2.0,>=3.1.0->en-core-web-trf==3.1.0) (1.19.5)\n",
            "Requirement already satisfied: thinc<8.1.0,>=8.0.7 in /usr/local/lib/python3.7/dist-packages (from spacy<3.2.0,>=3.1.0->en-core-web-trf==3.1.0) (8.0.7)\n",
            "Requirement already satisfied: packaging>=20.0 in /usr/local/lib/python3.7/dist-packages (from spacy<3.2.0,>=3.1.0->en-core-web-trf==3.1.0) (20.9)\n",
            "Requirement already satisfied: torch>=1.5.0 in /usr/local/lib/python3.7/dist-packages (from spacy-transformers<1.1.0,>=1.0.3->en-core-web-trf==3.1.0) (1.9.0+cu102)\n",
            "Collecting transformers<4.7.0,>=3.4.0\n",
            "\u001b[?25l  Downloading https://files.pythonhosted.org/packages/d5/43/cfe4ee779bbd6a678ac6a97c5a5cdeb03c35f9eaebbb9720b036680f9a2d/transformers-4.6.1-py3-none-any.whl (2.2MB)\n",
            "\u001b[K     |████████████████████████████████| 2.3MB 18.1MB/s \n",
            "\u001b[?25hCollecting spacy-alignments<1.0.0,>=0.7.2\n",
            "\u001b[?25l  Downloading https://files.pythonhosted.org/packages/ea/86/a6786d24d1d8f3a6cff2c60b55a7e845725a94919cd94d270ea49d82e59b/spacy_alignments-0.8.3-cp37-cp37m-manylinux2014_x86_64.whl (998kB)\n",
            "\u001b[K     |████████████████████████████████| 1.0MB 50.7MB/s \n",
            "\u001b[?25hRequirement already satisfied: click<7.2.0,>=7.1.1 in /usr/local/lib/python3.7/dist-packages (from typer<0.4.0,>=0.3.0->spacy<3.2.0,>=3.1.0->en-core-web-trf==3.1.0) (7.1.2)\n",
            "Requirement already satisfied: smart-open<6.0.0,>=5.0.0 in /usr/local/lib/python3.7/dist-packages (from pathy>=0.3.5->spacy<3.2.0,>=3.1.0->en-core-web-trf==3.1.0) (5.1.0)\n",
            "Requirement already satisfied: zipp>=0.5; python_version < \"3.8\" in /usr/local/lib/python3.7/dist-packages (from catalogue<2.1.0,>=2.0.4->spacy<3.2.0,>=3.1.0->en-core-web-trf==3.1.0) (3.4.1)\n",
            "Requirement already satisfied: MarkupSafe>=0.23 in /usr/local/lib/python3.7/dist-packages (from jinja2->spacy<3.2.0,>=3.1.0->en-core-web-trf==3.1.0) (2.0.1)\n",
            "Requirement already satisfied: idna<3,>=2.5 in /usr/local/lib/python3.7/dist-packages (from requests<3.0.0,>=2.13.0->spacy<3.2.0,>=3.1.0->en-core-web-trf==3.1.0) (2.10)\n",
            "Requirement already satisfied: chardet<4,>=3.0.2 in /usr/local/lib/python3.7/dist-packages (from requests<3.0.0,>=2.13.0->spacy<3.2.0,>=3.1.0->en-core-web-trf==3.1.0) (3.0.4)\n",
            "Requirement already satisfied: certifi>=2017.4.17 in /usr/local/lib/python3.7/dist-packages (from requests<3.0.0,>=2.13.0->spacy<3.2.0,>=3.1.0->en-core-web-trf==3.1.0) (2021.5.30)\n",
            "Requirement already satisfied: urllib3!=1.25.0,!=1.25.1,<1.26,>=1.21.1 in /usr/local/lib/python3.7/dist-packages (from requests<3.0.0,>=2.13.0->spacy<3.2.0,>=3.1.0->en-core-web-trf==3.1.0) (1.24.3)\n",
            "Requirement already satisfied: pyparsing>=2.0.2 in /usr/local/lib/python3.7/dist-packages (from packaging>=20.0->spacy<3.2.0,>=3.1.0->en-core-web-trf==3.1.0) (2.4.7)\n",
            "Requirement already satisfied: sacremoses in /usr/local/lib/python3.7/dist-packages (from transformers<4.7.0,>=3.4.0->spacy-transformers<1.1.0,>=1.0.3->en-core-web-trf==3.1.0) (0.0.45)\n",
            "Requirement already satisfied: tokenizers<0.11,>=0.10.1 in /usr/local/lib/python3.7/dist-packages (from transformers<4.7.0,>=3.4.0->spacy-transformers<1.1.0,>=1.0.3->en-core-web-trf==3.1.0) (0.10.3)\n",
            "Collecting huggingface-hub==0.0.8\n",
            "  Downloading https://files.pythonhosted.org/packages/a1/88/7b1e45720ecf59c6c6737ff332f41c955963090a18e72acbcbeac6b25e86/huggingface_hub-0.0.8-py3-none-any.whl\n",
            "Requirement already satisfied: filelock in /usr/local/lib/python3.7/dist-packages (from transformers<4.7.0,>=3.4.0->spacy-transformers<1.1.0,>=1.0.3->en-core-web-trf==3.1.0) (3.0.12)\n",
            "Requirement already satisfied: importlib-metadata; python_version < \"3.8\" in /usr/local/lib/python3.7/dist-packages (from transformers<4.7.0,>=3.4.0->spacy-transformers<1.1.0,>=1.0.3->en-core-web-trf==3.1.0) (4.6.0)\n",
            "Requirement already satisfied: regex!=2019.12.17 in /usr/local/lib/python3.7/dist-packages (from transformers<4.7.0,>=3.4.0->spacy-transformers<1.1.0,>=1.0.3->en-core-web-trf==3.1.0) (2019.12.20)\n",
            "Requirement already satisfied: six in /usr/local/lib/python3.7/dist-packages (from sacremoses->transformers<4.7.0,>=3.4.0->spacy-transformers<1.1.0,>=1.0.3->en-core-web-trf==3.1.0) (1.15.0)\n",
            "Requirement already satisfied: joblib in /usr/local/lib/python3.7/dist-packages (from sacremoses->transformers<4.7.0,>=3.4.0->spacy-transformers<1.1.0,>=1.0.3->en-core-web-trf==3.1.0) (1.0.1)\n",
            "\u001b[31mERROR: bertopic 0.8.1 has requirement numpy>=1.20.0, but you'll have numpy 1.19.5 which is incompatible.\u001b[0m\n",
            "Installing collected packages: huggingface-hub, transformers, spacy-alignments, spacy-transformers, en-core-web-trf\n",
            "  Found existing installation: huggingface-hub 0.0.13\n",
            "    Uninstalling huggingface-hub-0.0.13:\n",
            "      Successfully uninstalled huggingface-hub-0.0.13\n",
            "  Found existing installation: transformers 4.8.2\n",
            "    Uninstalling transformers-4.8.2:\n",
            "      Successfully uninstalled transformers-4.8.2\n",
            "Successfully installed en-core-web-trf-3.1.0 huggingface-hub-0.0.8 spacy-alignments-0.8.3 spacy-transformers-1.0.3 transformers-4.6.1\n",
            "\u001b[38;5;2m✔ Download and installation successful\u001b[0m\n",
            "You can now load the package via spacy.load('en_core_web_trf')\n",
            "2021-07-15 04:41:44.357041: I tensorflow/stream_executor/platform/default/dso_loader.cc:53] Successfully opened dynamic library libcudart.so.11.0\n",
            "Collecting en-core-web-sm==3.1.0\n",
            "\u001b[?25l  Downloading https://github.com/explosion/spacy-models/releases/download/en_core_web_sm-3.1.0/en_core_web_sm-3.1.0-py3-none-any.whl (13.6MB)\n",
            "\u001b[K     |████████████████████████████████| 13.6MB 14.5MB/s \n",
            "\u001b[?25hRequirement already satisfied: spacy<3.2.0,>=3.1.0 in /usr/local/lib/python3.7/dist-packages (from en-core-web-sm==3.1.0) (3.1.0)\n",
            "Requirement already satisfied: wasabi<1.1.0,>=0.8.1 in /usr/local/lib/python3.7/dist-packages (from spacy<3.2.0,>=3.1.0->en-core-web-sm==3.1.0) (0.8.2)\n",
            "Requirement already satisfied: thinc<8.1.0,>=8.0.7 in /usr/local/lib/python3.7/dist-packages (from spacy<3.2.0,>=3.1.0->en-core-web-sm==3.1.0) (8.0.7)\n",
            "Requirement already satisfied: tqdm<5.0.0,>=4.38.0 in /usr/local/lib/python3.7/dist-packages (from spacy<3.2.0,>=3.1.0->en-core-web-sm==3.1.0) (4.41.1)\n",
            "Requirement already satisfied: typer<0.4.0,>=0.3.0 in /usr/local/lib/python3.7/dist-packages (from spacy<3.2.0,>=3.1.0->en-core-web-sm==3.1.0) (0.3.2)\n",
            "Requirement already satisfied: cymem<2.1.0,>=2.0.2 in /usr/local/lib/python3.7/dist-packages (from spacy<3.2.0,>=3.1.0->en-core-web-sm==3.1.0) (2.0.5)\n",
            "Requirement already satisfied: jinja2 in /usr/local/lib/python3.7/dist-packages (from spacy<3.2.0,>=3.1.0->en-core-web-sm==3.1.0) (2.11.3)\n",
            "Requirement already satisfied: setuptools in /usr/local/lib/python3.7/dist-packages (from spacy<3.2.0,>=3.1.0->en-core-web-sm==3.1.0) (57.0.0)\n",
            "Requirement already satisfied: preshed<3.1.0,>=3.0.2 in /usr/local/lib/python3.7/dist-packages (from spacy<3.2.0,>=3.1.0->en-core-web-sm==3.1.0) (3.0.5)\n",
            "Requirement already satisfied: typing-extensions<4.0.0.0,>=3.7.4; python_version < \"3.8\" in /usr/local/lib/python3.7/dist-packages (from spacy<3.2.0,>=3.1.0->en-core-web-sm==3.1.0) (3.7.4.3)\n",
            "Requirement already satisfied: spacy-legacy<3.1.0,>=3.0.7 in /usr/local/lib/python3.7/dist-packages (from spacy<3.2.0,>=3.1.0->en-core-web-sm==3.1.0) (3.0.8)\n",
            "Requirement already satisfied: numpy>=1.15.0 in /usr/local/lib/python3.7/dist-packages (from spacy<3.2.0,>=3.1.0->en-core-web-sm==3.1.0) (1.19.5)\n",
            "Requirement already satisfied: catalogue<2.1.0,>=2.0.4 in /usr/local/lib/python3.7/dist-packages (from spacy<3.2.0,>=3.1.0->en-core-web-sm==3.1.0) (2.0.4)\n",
            "Requirement already satisfied: blis<0.8.0,>=0.4.0 in /usr/local/lib/python3.7/dist-packages (from spacy<3.2.0,>=3.1.0->en-core-web-sm==3.1.0) (0.4.1)\n",
            "Requirement already satisfied: pydantic!=1.8,!=1.8.1,<1.9.0,>=1.7.4 in /usr/local/lib/python3.7/dist-packages (from spacy<3.2.0,>=3.1.0->en-core-web-sm==3.1.0) (1.8.2)\n",
            "Requirement already satisfied: pathy>=0.3.5 in /usr/local/lib/python3.7/dist-packages (from spacy<3.2.0,>=3.1.0->en-core-web-sm==3.1.0) (0.6.0)\n",
            "Requirement already satisfied: murmurhash<1.1.0,>=0.28.0 in /usr/local/lib/python3.7/dist-packages (from spacy<3.2.0,>=3.1.0->en-core-web-sm==3.1.0) (1.0.5)\n",
            "Requirement already satisfied: requests<3.0.0,>=2.13.0 in /usr/local/lib/python3.7/dist-packages (from spacy<3.2.0,>=3.1.0->en-core-web-sm==3.1.0) (2.23.0)\n",
            "Requirement already satisfied: packaging>=20.0 in /usr/local/lib/python3.7/dist-packages (from spacy<3.2.0,>=3.1.0->en-core-web-sm==3.1.0) (20.9)\n",
            "Requirement already satisfied: srsly<3.0.0,>=2.4.1 in /usr/local/lib/python3.7/dist-packages (from spacy<3.2.0,>=3.1.0->en-core-web-sm==3.1.0) (2.4.1)\n",
            "Requirement already satisfied: click<7.2.0,>=7.1.1 in /usr/local/lib/python3.7/dist-packages (from typer<0.4.0,>=0.3.0->spacy<3.2.0,>=3.1.0->en-core-web-sm==3.1.0) (7.1.2)\n",
            "Requirement already satisfied: MarkupSafe>=0.23 in /usr/local/lib/python3.7/dist-packages (from jinja2->spacy<3.2.0,>=3.1.0->en-core-web-sm==3.1.0) (2.0.1)\n",
            "Requirement already satisfied: zipp>=0.5; python_version < \"3.8\" in /usr/local/lib/python3.7/dist-packages (from catalogue<2.1.0,>=2.0.4->spacy<3.2.0,>=3.1.0->en-core-web-sm==3.1.0) (3.4.1)\n",
            "Requirement already satisfied: smart-open<6.0.0,>=5.0.0 in /usr/local/lib/python3.7/dist-packages (from pathy>=0.3.5->spacy<3.2.0,>=3.1.0->en-core-web-sm==3.1.0) (5.1.0)\n",
            "Requirement already satisfied: idna<3,>=2.5 in /usr/local/lib/python3.7/dist-packages (from requests<3.0.0,>=2.13.0->spacy<3.2.0,>=3.1.0->en-core-web-sm==3.1.0) (2.10)\n",
            "Requirement already satisfied: certifi>=2017.4.17 in /usr/local/lib/python3.7/dist-packages (from requests<3.0.0,>=2.13.0->spacy<3.2.0,>=3.1.0->en-core-web-sm==3.1.0) (2021.5.30)\n",
            "Requirement already satisfied: chardet<4,>=3.0.2 in /usr/local/lib/python3.7/dist-packages (from requests<3.0.0,>=2.13.0->spacy<3.2.0,>=3.1.0->en-core-web-sm==3.1.0) (3.0.4)\n",
            "Requirement already satisfied: urllib3!=1.25.0,!=1.25.1,<1.26,>=1.21.1 in /usr/local/lib/python3.7/dist-packages (from requests<3.0.0,>=2.13.0->spacy<3.2.0,>=3.1.0->en-core-web-sm==3.1.0) (1.24.3)\n",
            "Requirement already satisfied: pyparsing>=2.0.2 in /usr/local/lib/python3.7/dist-packages (from packaging>=20.0->spacy<3.2.0,>=3.1.0->en-core-web-sm==3.1.0) (2.4.7)\n",
            "Installing collected packages: en-core-web-sm\n",
            "  Found existing installation: en-core-web-sm 2.2.5\n",
            "    Uninstalling en-core-web-sm-2.2.5:\n",
            "      Successfully uninstalled en-core-web-sm-2.2.5\n",
            "Successfully installed en-core-web-sm-3.1.0\n",
            "\u001b[38;5;2m✔ Download and installation successful\u001b[0m\n",
            "You can now load the package via spacy.load('en_core_web_sm')\n"
          ],
          "name": "stdout"
        }
      ]
    },
    {
      "cell_type": "markdown",
      "metadata": {
        "id": "oAB4Q2gbTqi7"
      },
      "source": [
        "# Scrap Reddit Data\n",
        "\n",
        "Using pushshift api to quickly search for submissions where title contains **question-indicative phrases/words**. Only retrieve submissions whose **num_comments > 1**, this filters out most of the ads.\n",
        "\n",
        "refer to [Content Ideas From Reddit](https://timothywangdev.github.io/knowledge/Content%20Marketing/content-ideas-from-reddit)"
      ]
    },
    {
      "cell_type": "code",
      "metadata": {
        "id": "e_xYE3OUW-6c"
      },
      "source": [
        "import datetime as dt\n",
        "from datetime import date, datetime\n",
        "from loguru import logger\n",
        "import pandas as pd\n",
        "from psaw import PushshiftAPI\n",
        "import time\n",
        "import os\n",
        "import redditcleaner\n",
        "import re\n",
        "import base64\n",
        "import IPython\n",
        "from distinctipy import distinctipy\n",
        "import random\n",
        "from colour import Color\n",
        "\n",
        "api = PushshiftAPI()\n",
        "\n",
        "QUESTION_WORDS = [\n",
        "  \"what\",\n",
        "  \"when\",\n",
        "  \"where\",\n",
        "  \"who\",\n",
        "  \"whom\",\n",
        "  \"which\",\n",
        "  \"whose\",\n",
        "  \"why\",\n",
        "  \"how\",\n",
        "  \"wonder\",\n",
        "  \"want\",\n",
        "  \"is anyone\",\n",
        "  \"does anyone\",\n",
        "  \"any tips\",\n",
        "  \"advice\",\n",
        "  \"suggestion\",\n",
        "  \"suggestions\",\n",
        "  \"suggest\",\n",
        "  \"ideas on\",\n",
        "  \"need help\",\n",
        "  \"needs help\",\n",
        "  \"need your help\",\n",
        "  \"serious help\",\n",
        "  \"please help\",\n",
        "  \"challenge\",\n",
        "  \"challenges\",\n",
        "  \"can't stand\",\n",
        "  \"struggle\",\n",
        "  \"struggling\",\n",
        "  \"can't figure out\",\n",
        "  \"help me\",\n",
        "  \"hardest part\",\n",
        "  \"would appreciate\",\n",
        "  \"would really appreciate\",\n",
        "  \"any guidance\",\n",
        "  \"no idea\",\n",
        "  \"confused with\",\n",
        "  \"new to\",\n",
        "  \"is there any way\"\n",
        "]"
      ],
      "execution_count": 39,
      "outputs": []
    },
    {
      "cell_type": "markdown",
      "metadata": {
        "id": "ecpCY3v4b4kH"
      },
      "source": [
        "# (Optional) Do some experiments on question words and psaw filters"
      ]
    },
    {
      "cell_type": "code",
      "metadata": {
        "colab": {
          "base_uri": "https://localhost:8080/",
          "height": 334
        },
        "id": "TiIVwi7Tb3HJ",
        "outputId": "c4f316b6-0295-4e75-8e9a-5402ea36ca5b"
      },
      "source": [
        "\n",
        "# do some exps on question words and psaw filters\n",
        "_QUESTION_WORDS=[\"ideas on\", \"struggle with\", \"suggestion\"]\n",
        "title_query = '|'.join(map(lambda x: '\"{}\"'.format(x), _QUESTION_WORDS))\n",
        "print(title_query)\n",
        "\n",
        "gen = list(\n",
        "        api.search_submissions(\n",
        "            title=title_query,\n",
        "            is_self=True,\n",
        "            is_original_content=True, \n",
        "            subreddit='content_marketing',\n",
        "            num_comments=\">1\",\n",
        "            filter=['title', 'selftext', 'author', 'permalink', 'num_comments', 'score', 'total_awards_received',\n",
        "                    'upvote_ratio'],\n",
        "            sort='asc', sort_type='created_utc', limit=500))\n",
        "\n",
        "titles = [item.d_['title'] for item in gen]\n",
        "\n",
        "# generate distinct hsl colors\n",
        "bg_color_list = distinctipy.get_colors(50)\n",
        "inverted_color_list = distinctipy.invert_colors(bg_color_list)\n",
        "text_color_list = [distinctipy.get_text_color(color) for color in bg_color_list]\n",
        "\n",
        "# convert colors to hex\n",
        "bg_color_list = [Color(rgb=color).hex for color in bg_color_list]\n",
        "inverted_color_list = [Color(rgb=color).hex for color in inverted_color_list]\n",
        "text_color_list = [Color(rgb=color).hex for color in text_color_list]\n",
        "\n",
        "def colored(word, color_idx=0):\n",
        "  color = bg_color_list[color_idx]\n",
        "  return '<span style=\"display: inline-block; font-weight: 600; font-size: 16px; border-radius: 15%; padding-left: 5px; padding-right: 5px; margin: 4px 2px; background-color: {}; color:{};\">{}</span>'.format(bg_color_list[color_idx], text_color_list[color_idx], word)\n",
        "  \n",
        "colored_titles = []\n",
        "for title in titles:\n",
        "  _title = title.lower()\n",
        "  for idx, question_word in enumerate(_QUESTION_WORDS):\n",
        "    _title = _title.replace(question_word, colored(question_word, color_idx = idx))\n",
        "  colored_titles.append('<li>' + _title + \"</li>\")\n",
        "\n",
        "IPython.display.HTML(\"<ol>\" +' '.join(colored_titles) + \"</ol>\")"
      ],
      "execution_count": 192,
      "outputs": [
        {
          "output_type": "stream",
          "text": [
            "\"ideas on\"|\"struggle with\"|\"suggestion\"\n"
          ],
          "name": "stdout"
        },
        {
          "output_type": "execute_result",
          "data": {
            "text/html": [
              "<ol><li>what do you <span style=\"display: inline-block; font-weight: 600; font-size: 16px; border-radius: 15%; padding-left: 5px; padding-right: 5px; margin: 4px 2px; background-color: #f0f; color:#fff;\">struggle with</span> most when writing and creating content for your business?</li> <li>any <span style=\"display: inline-block; font-weight: 600; font-size: 16px; border-radius: 15%; padding-left: 5px; padding-right: 5px; margin: 4px 2px; background-color: #0f0; color:#fff;\">ideas on</span> how to do content marketing on reddit ? without breaking the unspoken rules</li> <li>best free tools for improving writing content skills, please put your <span style=\"display: inline-block; font-weight: 600; font-size: 16px; border-radius: 15%; padding-left: 5px; padding-right: 5px; margin: 4px 2px; background-color: #007fff; color:#fff;\">suggestion</span>?</li> <li>as a busy entrepreneur do you <span style=\"display: inline-block; font-weight: 600; font-size: 16px; border-radius: 15%; padding-left: 5px; padding-right: 5px; margin: 4px 2px; background-color: #f0f; color:#fff;\">struggle with</span> losing weight?</li> <li>need email software <span style=\"display: inline-block; font-weight: 600; font-size: 16px; border-radius: 15%; padding-left: 5px; padding-right: 5px; margin: 4px 2px; background-color: #007fff; color:#fff;\">suggestion</span></li> <li>agency marketers (or anyone with a <span style=\"display: inline-block; font-weight: 600; font-size: 16px; border-radius: 15%; padding-left: 5px; padding-right: 5px; margin: 4px 2px; background-color: #007fff; color:#fff;\">suggestion</span>,) what small things are you doing to help clients during the pandemic?</li> <li>guys, what are the content marketing fields that you have the most <span style=\"display: inline-block; font-weight: 600; font-size: 16px; border-radius: 15%; padding-left: 5px; padding-right: 5px; margin: 4px 2px; background-color: #f0f; color:#fff;\">struggle with</span>?</li> <li>running out of <span style=\"display: inline-block; font-weight: 600; font-size: 16px; border-radius: 15%; padding-left: 5px; padding-right: 5px; margin: 4px 2px; background-color: #0f0; color:#fff;\">ideas on</span> covid 19 for internal communication</li> <li><span style=\"display: inline-block; font-weight: 600; font-size: 16px; border-radius: 15%; padding-left: 5px; padding-right: 5px; margin: 4px 2px; background-color: #007fff; color:#fff;\">suggestion</span> for a saas company's marketing strategy</li> <li>need some <span style=\"display: inline-block; font-weight: 600; font-size: 16px; border-radius: 15%; padding-left: 5px; padding-right: 5px; margin: 4px 2px; background-color: #0f0; color:#fff;\">ideas on</span> what to do with unboxing and review videos of the specific product i custom branded and sell</li></ol>"
            ],
            "text/plain": [
              "<IPython.core.display.HTML object>"
            ]
          },
          "metadata": {
            "tags": []
          },
          "execution_count": 192
        }
      ]
    },
    {
      "cell_type": "markdown",
      "metadata": {
        "id": "Ub4bxyAGWwhW"
      },
      "source": [
        "Only retrieve submissions that are text submissions, and filter out deleted submissions and submissions whose author is banned.\n",
        "\n",
        "We keep the following fields:\n",
        "\n",
        "* title\n",
        "* selftext\n",
        "* author\n",
        "* permalink\n",
        "* num_comments <font color='blue'>*</font>\n",
        "* score <font color='blue'>*</font>\n",
        "* upvote_ratio <font color='blue'>*</font>\n",
        "* total_awards_received <font color='blue'>*</font>\n",
        "\n",
        "<font color='blue'>*</font> *Used for future ranking purpose*\n",
        "\n",
        "<mark>TODO</mark> \n",
        " - [ ] Use praw to get latest metadata (pushshift only updates data in for the first 24hr)\n"
      ]
    },
    {
      "cell_type": "code",
      "metadata": {
        "colab": {
          "base_uri": "https://localhost:8080/"
        },
        "id": "bd5wSUCcU7bx",
        "outputId": "3d02f6ee-b8ec-4210-8054-79fffaf0a4de"
      },
      "source": [
        "start_epoch = int(dt.datetime(2018, 1, 1).timestamp())\n",
        "#end_epoch = int(dt.datetime(2020, 3, 1).timestamp())\n",
        "end_epoch = int(time.time())\n",
        "total = 0\n",
        "\n",
        "SUBREDDIT = 'ethereum'\n",
        "DATA_FILE_NAME = gdrive_path + '/reddit_submission_{}_{}_{}.tsv'.format(\n",
        "    SUBREDDIT, datetime.fromtimestamp(start_epoch).strftime(\"%Y_%m_%d\"),\n",
        "    datetime.fromtimestamp(end_epoch).strftime(\"%Y_%m_%d\"))\n",
        "\n",
        "title_query = '|'.join(map(lambda x: '\"{}\"'.format(x), QUESTION_WORDS))\n",
        "while True:\n",
        "    gen = list(\n",
        "        api.search_submissions(\n",
        "            after=start_epoch, \n",
        "            before=end_epoch,\n",
        "            title=title_query,\n",
        "            is_self=True,\n",
        "            is_original_content=True,\n",
        "            subreddit=SUBREDDIT,\n",
        "            # note the num_comments is only updated for the first 24hr\n",
        "            # may need to use praw to get latest meta data\n",
        "            num_comments=\">1\",\n",
        "            filter=['title', 'selftext', 'author', 'permalink', 'num_comments', 'score', 'total_awards_received',\n",
        "                    'upvote_ratio'],\n",
        "            sort='asc', \n",
        "            sort_type='created_utc', \n",
        "            limit=500))\n",
        "\n",
        "    if len(gen) == 0:\n",
        "        break\n",
        "\n",
        "    def submission_filter(submission):\n",
        "        if 'title' not in submission:\n",
        "            return False\n",
        "        if 'selftext' not in submission:\n",
        "            return False\n",
        "        if len(submission['selftext']) == 0:\n",
        "            # if submission is deleted, the psaw returns empty str\n",
        "            return False\n",
        "        if 'author' not in submission:\n",
        "            return False\n",
        "        if submission['author'] == \"[deleted]\":\n",
        "            return False\n",
        "        if any(submission['selftext'] == x for x in [\"[removed]\", \"[deleted]\"]):\n",
        "            return False\n",
        "        return True\n",
        "\n",
        "    def prepare_data(data):\n",
        "        # some of the fields may be missing\n",
        "        # must manually set an init value to avoid\n",
        "        # generating invalid csv\n",
        "        _data = {\n",
        "            'title': '',\n",
        "            'selftext': '',\n",
        "            'author': '',\n",
        "            'permalink': '',\n",
        "            'num_comments': 0,\n",
        "            'score': 0,\n",
        "            'total_awards_received': 0,\n",
        "            'upvote_ratio': 1.0,\n",
        "            'created_utc': None\n",
        "        }\n",
        "\n",
        "        for key in _data:\n",
        "            if key in data and data[key] is not None:\n",
        "                _data[key] = data[key]\n",
        "\n",
        "        return _data\n",
        "\n",
        "\n",
        "    items = map(prepare_data, [item.d_ for item in gen])\n",
        "\n",
        "    items = list(filter(submission_filter, items))\n",
        "    df = pd.DataFrame(items)\n",
        "\n",
        "    # clean data\n",
        "    def clean(text):\n",
        "        text = text.lower()\n",
        "        # remove reddit styles\n",
        "        text = redditcleaner.clean(\n",
        "            text, quote=False, bullet_point=False, link=False, strikethrough=False, spoiler=False, code=False,\n",
        "            superscript=False, table=False)\n",
        "\n",
        "        # refer to https://towardsdatascience.com/cleaning-text-data-with-python-b69b47b97b76\n",
        "        # Remove unicode characters\n",
        "        text = text.encode('ascii', 'ignore').decode()\n",
        "\n",
        "        # Remove Hashtags\n",
        "        text = re.sub(\"#\\S+\", \" \", text)\n",
        "\n",
        "        # Remove markdown links\n",
        "        text = re.sub(r\"\\[(.+)\\]\\(.+\\)\", r\"\\1\", text)\n",
        "\n",
        "        # Remove other urls\n",
        "        text = re.sub(r\"http\\S+\", \" \", text)\n",
        "\n",
        "        # remove text inside brackets\n",
        "        text = re.sub(\"\\(.*?\\)\",\" \", text)\n",
        "        text = re.sub(\"\\[.*?\\]\",\" \", text)\n",
        "\n",
        "        # remove quotes\n",
        "        # remove brackets\n",
        "        # remove semicolon\n",
        "        text = re.sub(r'[\\t()[\\]\\\"*:\\\\]',' ', text)\n",
        "\n",
        "        # remove non-ascii chars\n",
        "        text = re.sub(r\"[^\\x00-\\x7F]+\",' ', text)\n",
        "\n",
        "         # Replace the over spaces# if submission is deleted, the psaw returns NaN, must check if \n",
        "            # it's a valid string\n",
        "        text = re.sub('\\s{2,}', \" \", text)\n",
        "\n",
        "        return text\n",
        "\n",
        "    if len(df) > 0:\n",
        "      df['title'] = df['title'].map(clean)\n",
        "      df['selftext'] = df['selftext'].map(clean)\n",
        "\n",
        "      if not os.path.isfile(DATA_FILE_NAME):\n",
        "          df.to_csv(DATA_FILE_NAME, sep='\\t', header='column_names', index=False, quoting=3)\n",
        "      else:  # else it exists so append without writing the header\n",
        "          df.to_csv(DATA_FILE_NAME, sep='\\t', mode='a', header=False, index=False, quoting=3)\n",
        "\n",
        "      start_epoch = items[-1]['created_utc']\n",
        "      total += len(items)\n",
        "\n",
        "      logger.info('Added {} Total {} Last created_utc {}'.format(\n",
        "        len(items), total, date.fromtimestamp(start_epoch)))\n",
        "\n",
        "      time.sleep(1)\n",
        "    else:\n",
        "      break"
      ],
      "execution_count": 59,
      "outputs": [
        {
          "output_type": "stream",
          "text": [
            "2021-07-15 05:38:12.941 | INFO     | __main__:<module>:129 - Added 403 Total 403 Last created_utc 2018-03-13\n",
            "2021-07-15 05:38:24.498 | INFO     | __main__:<module>:129 - Added 404 Total 807 Last created_utc 2018-09-05\n",
            "2021-07-15 05:38:32.839 | INFO     | __main__:<module>:129 - Added 364 Total 1171 Last created_utc 2019-06-02\n",
            "2021-07-15 05:38:42.502 | INFO     | __main__:<module>:129 - Added 288 Total 1459 Last created_utc 2020-06-16\n",
            "2021-07-15 05:38:52.743 | INFO     | __main__:<module>:129 - Added 279 Total 1738 Last created_utc 2021-01-11\n",
            "2021-07-15 05:38:58.958 | INFO     | __main__:<module>:129 - Added 337 Total 2075 Last created_utc 2021-04-04\n",
            "2021-07-15 05:39:07.158 | INFO     | __main__:<module>:129 - Added 348 Total 2423 Last created_utc 2021-05-21\n",
            "2021-07-15 05:39:11.333 | INFO     | __main__:<module>:129 - Added 181 Total 2604 Last created_utc 2021-07-05\n"
          ],
          "name": "stderr"
        }
      ]
    },
    {
      "cell_type": "markdown",
      "metadata": {
        "id": "lkJ_ER3vV6gQ"
      },
      "source": [
        "# Load Scrapped Reddit Data\n",
        "\n",
        "Load submissions, filter out ads, and classified them by wh-words\n",
        "\n",
        "From observation, some **submissions are ads**, which often contain the following symbols/phrases\n",
        "\n",
        "```\n",
        "'-', ':', ';' \n",
        "your business(es)\n",
        "help you\n",
        "case study\n",
        "ALL CAPITAL chars\n",
        "how i\n",
        "dollar symbol $ (e.g turn $100 into 100k)\n",
        "step-by-step\n",
        "here is how\n",
        "here's how\n",
        "part 1/2/3\n",
        "top [number] things\n",
        "[number] reasons\n",
        "ultimate guide\n",
        "cheat sheet\n",
        "cheatsheet\n",
        "infographic\n",
        "by [year]\n",
        "ama\n",
        "```\n",
        "\n",
        "<mark>TODO</mark> \n",
        " - [x] Add more ad-indicative phrases\n",
        " - [x] Use num_comments to filter ads"
      ]
    },
    {
      "cell_type": "code",
      "metadata": {
        "id": "1AjZF260X1Is",
        "colab": {
          "base_uri": "https://localhost:8080/"
        },
        "outputId": "96ab12ed-7e6a-4020-a348-103e280f0e34"
      },
      "source": [
        "df = pd.read_csv(gdrive_path +\"/reddit_submission_ethereum_2018_01_01_2021_07_15.tsv\", sep='\\t', quoting=3)\n",
        "\n",
        "# data cleanup\n",
        "print('before clean-up # rows: {}'.format(len(df)))\n",
        "cleaned_rows = []\n",
        "\n",
        "AD_INDICATIVE_PHRASES = [\n",
        "  \"your business\", \n",
        "  \"your businesses\", \n",
        "  \"help you\", \n",
        "  \"case study\"\n",
        "  \"how i\",\n",
        "  \"$\",\n",
        "  \"step-by-step\",\n",
        "  \"here is how\",\n",
        "  \"here's how\",\n",
        "  \"part 1\",\n",
        "  \"part 2\",\n",
        "  \"part 3\",\n",
        "  \"ultimate guide\",\n",
        "  \"cheatsheet\",\n",
        "  \"infographic\",\n",
        "  \"ama\"\n",
        "]\n",
        "\n",
        "for index, row in df.iterrows():\n",
        "    row_title = row['title'].lower()\n",
        "    if not any(x in ['-', ':', ';'] for x in row_title) and not any(phrase in row_title for phrase in AD_INDICATIVE_PHRASES) and \"?\" in row_title:\n",
        "        '''\n",
        "        1. must contain '?'\n",
        "        2. can only contain alphanumeric, punctuations and space\n",
        "        3. should not contain '-', ':', ';' which indicates ads\n",
        "        '''\n",
        "        cleaned_rows.append(index)\n",
        "\n",
        "df = df[df.index.isin(cleaned_rows)].reset_index()\n",
        "print('after clean-up # rows: {}'.format(len(df)))\n",
        "\n",
        "print(df.head(5).to_markdown())"
      ],
      "execution_count": 61,
      "outputs": [
        {
          "output_type": "stream",
          "text": [
            "before clean-up # rows: 2604\n",
            "after clean-up # rows: 1710\n",
            "|    |   index | title                                                                     | selftext                                                                                                                                                                                                                                                                                                                                                                                                                                                                                                                                                                                                                                                                                                                                                                                                    | author          | permalink                                                                 |   num_comments |   score |   total_awards_received |   upvote_ratio |   created_utc |\n",
            "|---:|--------:|:--------------------------------------------------------------------------|:------------------------------------------------------------------------------------------------------------------------------------------------------------------------------------------------------------------------------------------------------------------------------------------------------------------------------------------------------------------------------------------------------------------------------------------------------------------------------------------------------------------------------------------------------------------------------------------------------------------------------------------------------------------------------------------------------------------------------------------------------------------------------------------------------------|:----------------|:--------------------------------------------------------------------------|---------------:|--------:|------------------------:|---------------:|--------------:|\n",
            "|  0 |       0 | how to experiment with transactions and wallets?                          | a long time ago, i played around with bitcoin. i was able to find a website that would transfer you something like 0.0000010 bitcoin to play with transactions. i was hoping to do something similar today to make sure my wallet and things are working properly before i actually start using it. the exchanges i have looked at seem to have like a week-long hold on the deposited funds. is there a quick way to deposit $1 on multiple coins and try moving them around and test wallets, etc?                                                                                                                                                                                                                                                                                                        | Dont____Panic   | /r/ethereum/comments/7ncfsf/noob_how_to_experiment_with_transactions_and/ |              6 |       2 |                       0 |              1 |    1514770517 |\n",
            "|  1 |       1 | how does claymore / nanopool payout work?                                 | as above, im just trying to find out how nanopool / claymore miner payout works. i have setup the miner bat with my ethereum address already.                                                                                                                                                                                                                                                                                                                                                                                                                                                                                                                                                                                                                                                               | typhoon90       | /r/ethereum/comments/7ndl2o/how_does_claymore_nanopool_payout_work/       |              4 |       0 |                       0 |              1 |    1514785742 |\n",
            "|  2 |       3 | why is integer overflow allowed in the evm?                               | as i've been working on writing a smart contract for the first time, i realized that almost every solidity contract i've seen is covered with safe math asserts for each function, that guarantee that integer overflow/underflow won't happen. honestly it seems a little bit absurd to me that programmers have to manually check this themselves. in my admittedly limited experience, i can't even think of a single situation where the desired result for subtracting 2 from 1 would equal 4 billion. especially in the context where contracts are dealing with money and a missing check in just a single place can mean that millions of dollars are lost, it seems crazy that is the accepted way things are. why not have the evm automatically throw an exception if overflow/underflow occurs? | A_Huge_Mistake  | /r/ethereum/comments/7nh8hw/why_is_integer_overflow_allowed_in_the_evm/   |             17 |      22 |                       0 |              1 |    1514837112 |\n",
            "|  3 |       4 | how are you guys purchasing/keeping coins?                                | coinbase seems to be the most popular but how secure is it to keep all your coins there?                                                                                                                                                                                                                                                                                                                                                                                                                                                                                                                                                                                                                                                                                                                    | swolepursedog   | /r/ethereum/comments/7niimc/how_are_you_guys_purchasingkeeping_coins/     |             36 |      10 |                       0 |              1 |    1514849851 |\n",
            "|  4 |       5 | which wallets can support a mnemonic seed restoration from trezor wallet? | lets say the trezor wallet did not exist anymore. which wallet can i restore my seed with. will myetherwallet be able to restore my seeds?                                                                                                                                                                                                                                                                                                                                                                                                                                                                                                                                                                                                                                                                  | soysaucestapler | /r/ethereum/comments/7nkahh/which_wallets_can_support_a_mnemonic_seed/    |              5 |       9 |                       0 |              1 |    1514869238 |\n"
          ],
          "name": "stdout"
        }
      ]
    },
    {
      "cell_type": "markdown",
      "metadata": {
        "id": "l5lzeN49cbAw"
      },
      "source": [
        "# Classified submissions by wh-words in title, extract keywords and aggregate stats"
      ]
    },
    {
      "cell_type": "code",
      "metadata": {
        "id": "eHRjLDsoXq9u",
        "colab": {
          "base_uri": "https://localhost:8080/",
          "height": 229
        },
        "outputId": "7b1f1637-85bc-4aaa-a246-ebb182e8d227"
      },
      "source": [
        "import pprint\n",
        "from keybert import KeyBERT\n",
        "import spacy\n",
        "from tqdm import tqdm \n",
        "\n",
        "spacy.require_gpu()\n",
        "nlp = spacy.load(\"en_core_web_trf\")\n",
        "kw_model = KeyBERT(model='paraphrase-MiniLM-L6-v2')\n",
        "\n",
        "title_cat = []\n",
        "keywords = []\n",
        "lemmatized_combined_text = []\n",
        "df['combined_text'] = df['title'] +' '+ df['selftext']\n",
        "docs = list(nlp.pipe(df['combined_text']))\n",
        "for index, row in tqdm(df.iterrows(), position=0, leave=True, total=len(df)):\n",
        "    title_cat.append('NO_WH_WORD')  \n",
        "    for wh_word in QUESTION_WORDS:\n",
        "        if wh_word in row['title'].lower():\n",
        "            title_cat[-1] = wh_word\n",
        "            break\n",
        "    doc = docs[index]\n",
        "\n",
        "    doc_lemmas = ' '.join([token.lemma_ for token in doc])\n",
        "    lemmatized_combined_text.append(doc_lemmas)\n",
        "\n",
        "    entities = [ent.text for ent in doc.ents]\n",
        "\n",
        "    # extract keywords from lemmatized text\n",
        "    doc_keywords = kw_model.extract_keywords(doc_lemmas)\n",
        "    doc_keywords = [keyword[0] for keyword in doc_keywords]\n",
        "\n",
        "    # combine both extracted keywords and entities\n",
        "    # and remove duplicates\n",
        "    all_keywords = list(set(doc_keywords + entities))\n",
        "\n",
        "    keywords.append(all_keywords)\n",
        "\n",
        "df['title_cat'] = title_cat\n",
        "df['keywords'] = keywords\n",
        "df['lemmatized_combined_text'] = lemmatized_combined_text\n",
        "\n",
        "cat_stats = {\n",
        "    'cat': QUESTION_WORDS,\n",
        "    'num_docs': [],\n",
        "    'total_score': [],\n",
        "    'total_comments': []\n",
        "}\n",
        "\n",
        "# print out number of docs per category\n",
        "for wh_word in QUESTION_WORDS:\n",
        "    _df = df[df['title_cat'] == wh_word]\n",
        "    cat_stats['num_docs'].append(len(_df))\n",
        "    cat_stats['total_score'].append(_df['score'].sum())\n",
        "    cat_stats['total_comments'].append(_df['num_comments'].sum())\n",
        "  \n",
        "cat_stats_df = pd.DataFrame(data=cat_stats)\n",
        "\n",
        "print('\\n', cat_stats_df.to_markdown())\n",
        "  "
      ],
      "execution_count": 62,
      "outputs": [
        {
          "output_type": "error",
          "ename": "SystemError",
          "evalue": "ignored",
          "traceback": [
            "\u001b[0;31m---------------------------------------------------------------------------\u001b[0m",
            "\u001b[0;31mSystemError\u001b[0m                               Traceback (most recent call last)",
            "\u001b[0;32m<ipython-input-62-ee339d7a47f6>\u001b[0m in \u001b[0;36m<module>\u001b[0;34m()\u001b[0m\n\u001b[1;32m     12\u001b[0m \u001b[0mlemmatized_combined_text\u001b[0m \u001b[0;34m=\u001b[0m \u001b[0;34m[\u001b[0m\u001b[0;34m]\u001b[0m\u001b[0;34m\u001b[0m\u001b[0;34m\u001b[0m\u001b[0m\n\u001b[1;32m     13\u001b[0m \u001b[0mdf\u001b[0m\u001b[0;34m[\u001b[0m\u001b[0;34m'combined_text'\u001b[0m\u001b[0;34m]\u001b[0m \u001b[0;34m=\u001b[0m \u001b[0mdf\u001b[0m\u001b[0;34m[\u001b[0m\u001b[0;34m'title'\u001b[0m\u001b[0;34m]\u001b[0m \u001b[0;34m+\u001b[0m\u001b[0;34m' '\u001b[0m\u001b[0;34m+\u001b[0m \u001b[0mdf\u001b[0m\u001b[0;34m[\u001b[0m\u001b[0;34m'selftext'\u001b[0m\u001b[0;34m]\u001b[0m\u001b[0;34m\u001b[0m\u001b[0;34m\u001b[0m\u001b[0m\n\u001b[0;32m---> 14\u001b[0;31m \u001b[0mdocs\u001b[0m \u001b[0;34m=\u001b[0m \u001b[0mlist\u001b[0m\u001b[0;34m(\u001b[0m\u001b[0mnlp\u001b[0m\u001b[0;34m.\u001b[0m\u001b[0mpipe\u001b[0m\u001b[0;34m(\u001b[0m\u001b[0mdf\u001b[0m\u001b[0;34m[\u001b[0m\u001b[0;34m'combined_text'\u001b[0m\u001b[0;34m]\u001b[0m\u001b[0;34m)\u001b[0m\u001b[0;34m)\u001b[0m\u001b[0;34m\u001b[0m\u001b[0;34m\u001b[0m\u001b[0m\n\u001b[0m\u001b[1;32m     15\u001b[0m \u001b[0;32mfor\u001b[0m \u001b[0mindex\u001b[0m\u001b[0;34m,\u001b[0m \u001b[0mrow\u001b[0m \u001b[0;32min\u001b[0m \u001b[0mtqdm\u001b[0m\u001b[0;34m(\u001b[0m\u001b[0mdf\u001b[0m\u001b[0;34m.\u001b[0m\u001b[0miterrows\u001b[0m\u001b[0;34m(\u001b[0m\u001b[0;34m)\u001b[0m\u001b[0;34m,\u001b[0m \u001b[0mposition\u001b[0m\u001b[0;34m=\u001b[0m\u001b[0;36m0\u001b[0m\u001b[0;34m,\u001b[0m \u001b[0mleave\u001b[0m\u001b[0;34m=\u001b[0m\u001b[0;32mTrue\u001b[0m\u001b[0;34m,\u001b[0m \u001b[0mtotal\u001b[0m\u001b[0;34m=\u001b[0m\u001b[0mlen\u001b[0m\u001b[0;34m(\u001b[0m\u001b[0mdf\u001b[0m\u001b[0;34m)\u001b[0m\u001b[0;34m)\u001b[0m\u001b[0;34m:\u001b[0m\u001b[0;34m\u001b[0m\u001b[0;34m\u001b[0m\u001b[0m\n\u001b[1;32m     16\u001b[0m     \u001b[0mtitle_cat\u001b[0m\u001b[0;34m.\u001b[0m\u001b[0mappend\u001b[0m\u001b[0;34m(\u001b[0m\u001b[0;34m'NO_WH_WORD'\u001b[0m\u001b[0;34m)\u001b[0m\u001b[0;34m\u001b[0m\u001b[0;34m\u001b[0m\u001b[0m\n",
            "\u001b[0;31mSystemError\u001b[0m: <class 'list'> returned NULL without setting an error"
          ]
        }
      ]
    },
    {
      "cell_type": "markdown",
      "metadata": {
        "id": "jn_p6EBAYPd0"
      },
      "source": [
        "# Pick a wh-word category"
      ]
    },
    {
      "cell_type": "code",
      "metadata": {
        "id": "Iyw8AKm-YRUv",
        "colab": {
          "base_uri": "https://localhost:8080/"
        },
        "outputId": "6e1092b9-a1d2-4a00-cc59-8c4b338338af"
      },
      "source": [
        "df_selection = df[df['title_cat'] == 'what'].copy().reset_index()\n",
        "print(df_selection.head(10).to_markdown())"
      ],
      "execution_count": 55,
      "outputs": [
        {
          "output_type": "stream",
          "text": [
            "|    |   level_0 |   index | title                                                                                            | selftext                                                                                                                                                                                                                                                                                                                                                                                                                                                                                                                                                                                                                                                                                                                                                                                                                                                                                                                                                                                                                                                                                                                                                                                                                                                                                                                                                                                                                                                                                                                                                                                                                                                                                                                                                                                                                                                                                                                                                                                                                                                                                                                                                                                                                                                                                                                                                                                                                                                                                                                                                                                                                  | author             | permalink                                                                 |   num_comments |   score |   total_awards_received |   upvote_ratio |   created_utc | combined_text                                                                                                                                                                                                                                                                                                                                                                                                                                                                                                                                                                                                                                                                                                                                                                                                                                                                                                                                                                                                                                                                                                                                                                                                                                                                                                                                                                                                                                                                                                                                                                                                                                                                                                                                                                                                                                                                                                                                                                                                                                                                                                                                                                                                                                                                                                                                                                                                                                                                                                                                                                                                                                         | title_cat   | keywords                                                                                                     | lemmatized_combined_text                                                                                                                                                                                                                                                                                                                                                                                                                                                                                                                                                                                                                                                                                                                                                                                                                                                                                                                                                                                                                                                                                                                                                                                                                                                                                                                                                                                                                                                                                                                                                                                                                                                                                                                                                                                                                                                                                                                                                                                                                                                                                                                                                                                                                                                                                                                                                                                                                                                                                                                                                                     |\n",
            "|---:|----------:|--------:|:-------------------------------------------------------------------------------------------------|:--------------------------------------------------------------------------------------------------------------------------------------------------------------------------------------------------------------------------------------------------------------------------------------------------------------------------------------------------------------------------------------------------------------------------------------------------------------------------------------------------------------------------------------------------------------------------------------------------------------------------------------------------------------------------------------------------------------------------------------------------------------------------------------------------------------------------------------------------------------------------------------------------------------------------------------------------------------------------------------------------------------------------------------------------------------------------------------------------------------------------------------------------------------------------------------------------------------------------------------------------------------------------------------------------------------------------------------------------------------------------------------------------------------------------------------------------------------------------------------------------------------------------------------------------------------------------------------------------------------------------------------------------------------------------------------------------------------------------------------------------------------------------------------------------------------------------------------------------------------------------------------------------------------------------------------------------------------------------------------------------------------------------------------------------------------------------------------------------------------------------------------------------------------------------------------------------------------------------------------------------------------------------------------------------------------------------------------------------------------------------------------------------------------------------------------------------------------------------------------------------------------------------------------------------------------------------------------------------------------------------|:-------------------|:--------------------------------------------------------------------------|---------------:|--------:|------------------------:|---------------:|--------------:|:------------------------------------------------------------------------------------------------------------------------------------------------------------------------------------------------------------------------------------------------------------------------------------------------------------------------------------------------------------------------------------------------------------------------------------------------------------------------------------------------------------------------------------------------------------------------------------------------------------------------------------------------------------------------------------------------------------------------------------------------------------------------------------------------------------------------------------------------------------------------------------------------------------------------------------------------------------------------------------------------------------------------------------------------------------------------------------------------------------------------------------------------------------------------------------------------------------------------------------------------------------------------------------------------------------------------------------------------------------------------------------------------------------------------------------------------------------------------------------------------------------------------------------------------------------------------------------------------------------------------------------------------------------------------------------------------------------------------------------------------------------------------------------------------------------------------------------------------------------------------------------------------------------------------------------------------------------------------------------------------------------------------------------------------------------------------------------------------------------------------------------------------------------------------------------------------------------------------------------------------------------------------------------------------------------------------------------------------------------------------------------------------------------------------------------------------------------------------------------------------------------------------------------------------------------------------------------------------------------------------------------------------------|:------------|:-------------------------------------------------------------------------------------------------------------|:---------------------------------------------------------------------------------------------------------------------------------------------------------------------------------------------------------------------------------------------------------------------------------------------------------------------------------------------------------------------------------------------------------------------------------------------------------------------------------------------------------------------------------------------------------------------------------------------------------------------------------------------------------------------------------------------------------------------------------------------------------------------------------------------------------------------------------------------------------------------------------------------------------------------------------------------------------------------------------------------------------------------------------------------------------------------------------------------------------------------------------------------------------------------------------------------------------------------------------------------------------------------------------------------------------------------------------------------------------------------------------------------------------------------------------------------------------------------------------------------------------------------------------------------------------------------------------------------------------------------------------------------------------------------------------------------------------------------------------------------------------------------------------------------------------------------------------------------------------------------------------------------------------------------------------------------------------------------------------------------------------------------------------------------------------------------------------------------------------------------------------------------------------------------------------------------------------------------------------------------------------------------------------------------------------------------------------------------------------------------------------------------------------------------------------------------------------------------------------------------------------------------------------------------------------------------------------------------|\n",
            "|  0 |         0 |       2 | what are defi applications?                                                                      | defi, or decentralized finance, is a term that you might have seen floating around the crypto-sphere recently. as a young industry rife with buzzwords, youd be right in being suspicious of the next big thing. more than just a catchy phrase, defi actually represents a paradigm shift in the way users can access financial products and services. the rise of defi defi products are built on public blockchains such as bitcoin and ethereum. the rise of defi stems from the creation of bitcoin , the ethereum community quickly developed more complex contracts such as daos , and most recently, defi applications. defi applications today fulfill the vision of bitcoin by allowing complex financial products, such as lending and borrowing platforms like set protocol and , asset management tools like such as using smart contracts, which cannot be modified after being created on the blockchain. a defi smart contract would also be programmed with certain rules using mathematical/economic models, or game theory to achieve a certain financial characteristic or goal . defi smart contracts would also typically be programmed such that each users assets would only be controllable with the owners private keys in order to achieve this goal. 2. can be accessed by everyone the second attribute of a defi app is that it is permissionless . gatekeepers in traditional institutions like banks can deny their services to customers, while governments can limit their citizens access to various financial markets or instruments . on the other hand, since anyone can use widely available cryptographic software to generate private keys and begin interacting with defi apps on the blockchain directly, it is hard for 3rd parties to block access to them. for example, with just an ethereum wallet, anyone can interact with the , or sidechains with a large number of incentivized nodes, and hosting its frontend on decentralized filesystems like , and weve even connected markets across the different blockchains using non-custodian protocols. if youd like to find out more about the smart contracts that support switcheo exchange, they are open-source and available on well soon be pushing further on the decentralization of our application through this innovation will enable us to move our trade matching engines to a distributed system of nodes running as a sidechain, completely decentralizing our entire infrastructure. with so much progress in this space, we hope youre just as excited as us on the future of defi! &amp;x200b; source | ExcellentRecover8  | /r/defi/comments/dfcfzy/what_are_defi_applications/                       |              2 |       3 |                       0 |              1 |    1570598329 | what are defi applications? defi, or decentralized finance, is a term that you might have seen floating around the crypto-sphere recently. as a young industry rife with buzzwords, youd be right in being suspicious of the next big thing. more than just a catchy phrase, defi actually represents a paradigm shift in the way users can access financial products and services. the rise of defi defi products are built on public blockchains such as bitcoin and ethereum. the rise of defi stems from the creation of bitcoin , the ethereum community quickly developed more complex contracts such as daos , and most recently, defi applications. defi applications today fulfill the vision of bitcoin by allowing complex financial products, such as lending and borrowing platforms like set protocol and , asset management tools like such as using smart contracts, which cannot be modified after being created on the blockchain. a defi smart contract would also be programmed with certain rules using mathematical/economic models, or game theory to achieve a certain financial characteristic or goal . defi smart contracts would also typically be programmed such that each users assets would only be controllable with the owners private keys in order to achieve this goal. 2. can be accessed by everyone the second attribute of a defi app is that it is permissionless . gatekeepers in traditional institutions like banks can deny their services to customers, while governments can limit their citizens access to various financial markets or instruments . on the other hand, since anyone can use widely available cryptographic software to generate private keys and begin interacting with defi apps on the blockchain directly, it is hard for 3rd parties to block access to them. for example, with just an ethereum wallet, anyone can interact with the , or sidechains with a large number of incentivized nodes, and hosting its frontend on decentralized filesystems like , and weve even connected markets across the different blockchains using non-custodian protocols. if youd like to find out more about the smart contracts that support switcheo exchange, they are open-source and available on well soon be pushing further on the decentralization of our application through this innovation will enable us to move our trade matching engines to a distributed system of nodes running as a sidechain, completely decentralizing our entire infrastructure. with so much progress in this space, we hope youre just as excited as us on the future of defi! &amp;x200b; source | what        | ['crypto', 'blockchain', '2.', 'second', 'switcheo exchange', 'today', 'defi', 'finance', 'ethereum', '3rd'] | what be defi application ? defi , or decentralized finance , be a term that you might have see float around the crypto - sphere recently . as a young industry rife with buzzword , you d be right in be suspicious of the next big thing . more than just a catchy phrase , defi actually represent a paradigm shift in the way user can access financial product and service . the rise of defi defi product be build on public blockchain such as bitcoin and ethereum . the rise of defi stem from the creation of bitcoin , the ethereum community quickly develop more complex contract such as daos , and most recently , defi application . defi application today fulfill the vision of bitcoin by allow complex financial product , such as lending and borrowing platform like set protocol and , asset management tool like such as use smart contract , which can not be modify after be create on the blockchain . a defi smart contract would also be program with certain rule use mathematical / economic model , or game theory to achieve a certain financial characteristic or goal . defi smart contract would also typically be program such that each users asset would only be controllable with the owner private key in order to achieve this goal . 2 . can be access by everyone the second attribute of a defi app be that it be permissionless . gatekeeper in traditional institution like bank can deny their service to customer , while government can limit their citizen access to various financial market or instrument . on the other hand , since anyone can use widely available cryptographic software to generate private key and begin interact with defi app on the blockchain directly , it be hard for 3rd party to block access to they . for example , with just an ethereum wallet , anyone can interact with the , or sidechain with a large number of incentivize node , and host its frontend on decentralized filesystem like , and we ve even connect market across the different blockchain use non - custodian protocol . if you d like to find out more about the smart contract that support switcheo exchange , they be open - source and available on well soon be push far on the decentralization of our application through this innovation will enable we to move our trade matching engine to a distribute system of node run as a sidechain , completely decentralize our entire infrastructure . with so much progress in this space , we hope you re just as excited as we on the future of defi ! & amp;x200b ; source |\n",
            "|  1 |         1 |       3 | dai cdai on compound defi.. what will happen?                                                    | when the multicollateral makerdao 2.0 will start, what will happen to cdai? will they be converted to the new cdai / dai automatically?                                                                                                                                                                                                                                                                                                                                                                                                                                                                                                                                                                                                                                                                                                                                                                                                                                                                                                                                                                                                                                                                                                                                                                                                                                                                                                                                                                                                                                                                                                                                                                                                                                                                                                                                                                                                                                                                                                                                                                                                                                                                                                                                                                                                                                                                                                                                                                                                                                                                                   | grigio             | /r/defi/comments/dmuaoh/dai_cdai_on_compound_defi_what_will_happen/       |              3 |       4 |                       0 |              1 |    1571991114 | dai cdai on compound defi.. what will happen? when the multicollateral makerdao 2.0 will start, what will happen to cdai? will they be converted to the new cdai / dai automatically?                                                                                                                                                                                                                                                                                                                                                                                                                                                                                                                                                                                                                                                                                                                                                                                                                                                                                                                                                                                                                                                                                                                                                                                                                                                                                                                                                                                                                                                                                                                                                                                                                                                                                                                                                                                                                                                                                                                                                                                                                                                                                                                                                                                                                                                                                                                                                                                                                                                                 | what        | ['dai', 'makerdao', 'compound', 'cdai', 'defi']                                                              | dai cdai on compound defi .. what will happen ? when the multicollateral makerdao 2.0 will start , what will happen to cdai ? will they be convert to the new cdai / dai automatically ?                                                                                                                                                                                                                                                                                                                                                                                                                                                                                                                                                                                                                                                                                                                                                                                                                                                                                                                                                                                                                                                                                                                                                                                                                                                                                                                                                                                                                                                                                                                                                                                                                                                                                                                                                                                                                                                                                                                                                                                                                                                                                                                                                                                                                                                                                                                                                                                                     |\n",
            "|  2 |         3 |       6 | what defi projects are of european origin?                                                       | just doing a bit of research on this sector right now. what up and coming defi projects are of european origin?...as in the teams/intelligence behind them being from europe?                                                                                                                                                                                                                                                                                                                                                                                                                                                                                                                                                                                                                                                                                                                                                                                                                                                                                                                                                                                                                                                                                                                                                                                                                                                                                                                                                                                                                                                                                                                                                                                                                                                                                                                                                                                                                                                                                                                                                                                                                                                                                                                                                                                                                                                                                                                                                                                                                                             | borderfox100       | /r/defi/comments/eqfiq3/what_defi_projects_are_of_european_origin/        |              2 |       1 |                       0 |              1 |    1579348292 | what defi projects are of european origin? just doing a bit of research on this sector right now. what up and coming defi projects are of european origin?...as in the teams/intelligence behind them being from europe?                                                                                                                                                                                                                                                                                                                                                                                                                                                                                                                                                                                                                                                                                                                                                                                                                                                                                                                                                                                                                                                                                                                                                                                                                                                                                                                                                                                                                                                                                                                                                                                                                                                                                                                                                                                                                                                                                                                                                                                                                                                                                                                                                                                                                                                                                                                                                                                                                              | what        | ['european origin?', 'origin', 'europe', 'european origin', 'defi', 'european', 'sector']                    | what defi project be of european origin ? just do a bit of research on this sector right now . what up and come defi project be of european origin? ... as in the team / intelligence behind they be from europe ?                                                                                                                                                                                                                                                                                                                                                                                                                                                                                                                                                                                                                                                                                                                                                                                                                                                                                                                                                                                                                                                                                                                                                                                                                                                                                                                                                                                                                                                                                                                                                                                                                                                                                                                                                                                                                                                                                                                                                                                                                                                                                                                                                                                                                                                                                                                                                                           |\n",
            "|  3 |         4 |       8 | defi question what happens if app developers simply shut down their site?                        | i am quite excited with defi - distributed crypto finances - idea. the concept is explained in many faqs. however, i still dont understand couple of things. what if i lend coins via some application and its developer team simply shuts down its web app/mobile app effectively preventing access to funds transfer. in theory it works inside a smart contract, so my funds will be there forever. but how can i extract them in this case?                                                                                                                                                                                                                                                                                                                                                                                                                                                                                                                                                                                                                                                                                                                                                                                                                                                                                                                                                                                                                                                                                                                                                                                                                                                                                                                                                                                                                                                                                                                                                                                                                                                                                                                                                                                                                                                                                                                                                                                                                                                                                                                                                                           | welltimat          | /r/defi/comments/f2urhl/defi_question_what_happens_if_app_developers/     |              8 |       1 |                       0 |              1 |    1581528738 | defi question what happens if app developers simply shut down their site? i am quite excited with defi - distributed crypto finances - idea. the concept is explained in many faqs. however, i still dont understand couple of things. what if i lend coins via some application and its developer team simply shuts down its web app/mobile app effectively preventing access to funds transfer. in theory it works inside a smart contract, so my funds will be there forever. but how can i extract them in this case?                                                                                                                                                                                                                                                                                                                                                                                                                                                                                                                                                                                                                                                                                                                                                                                                                                                                                                                                                                                                                                                                                                                                                                                                                                                                                                                                                                                                                                                                                                                                                                                                                                                                                                                                                                                                                                                                                                                                                                                                                                                                                                                             | what        | ['lend', 'crypto', 'fund', 'defi', 'finance']                                                                | defi question what happen if app developer simply shut down their site ? I be quite excited with defi - distribute crypto finance - idea . the concept be explain in many faq . however , I still do nt understand couple of thing . what if I lend coin via some application and its developer team simply shut down its web app / mobile app effectively prevent access to fund transfer . in theory it work inside a smart contract , so my fund will be there forever . but how can I extract they in this case ?                                                                                                                                                                                                                                                                                                                                                                                                                                                                                                                                                                                                                                                                                                                                                                                                                                                                                                                                                                                                                                                                                                                                                                                                                                                                                                                                                                                                                                                                                                                                                                                                                                                                                                                                                                                                                                                                                                                                                                                                                                                                        |\n",
            "|  4 |         7 |      12 | what are the uses for high apr loans on eth or tokens?                                           | hey folks. i understand how useful loans can be on maker with dai at 8% lets say to pay rent without selling your crypto or use it for % arbitrage . but why would someone get a loan with a high apr like 20% or more in eth or tokens? can someone help me with an eli5? thanks a lot.                                                                                                                                                                                                                                                                                                                                                                                                                                                                                                                                                                                                                                                                                                                                                                                                                                                                                                                                                                                                                                                                                                                                                                                                                                                                                                                                                                                                                                                                                                                                                                                                                                                                                                                                                                                                                                                                                                                                                                                                                                                                                                                                                                                                                                                                                                                                  | lucasgabd          | /r/defi/comments/fbr2xh/what_are_the_uses_for_high_apr_loans_on_eth_or/   |              9 |       1 |                       0 |              1 |    1583050302 | what are the uses for high apr loans on eth or tokens?  hey folks. i understand how useful loans can be on maker with dai at 8% lets say to pay rent without selling your crypto or use it for % arbitrage . but why would someone get a loan with a high apr like 20% or more in eth or tokens? can someone help me with an eli5? thanks a lot.                                                                                                                                                                                                                                                                                                                                                                                                                                                                                                                                                                                                                                                                                                                                                                                                                                                                                                                                                                                                                                                                                                                                                                                                                                                                                                                                                                                                                                                                                                                                                                                                                                                                                                                                                                                                                                                                                                                                                                                                                                                                                                                                                                                                                                                                                                      | what        | ['crypto', 'apr', '8%', 'token', '20%', 'eth', 'arbitrage']                                                  | what be the use for high apr loan on eth or token ?   hey folk . I understand how useful loan can be on maker with dai at 8 % lets say to pay rent without sell your crypto or use it for % arbitrage . but why would someone get a loan with a high apr like 20 % or more in eth or token ? can someone help I with an eli5 ? thank a lot .                                                                                                                                                                                                                                                                                                                                                                                                                                                                                                                                                                                                                                                                                                                                                                                                                                                                                                                                                                                                                                                                                                                                                                                                                                                                                                                                                                                                                                                                                                                                                                                                                                                                                                                                                                                                                                                                                                                                                                                                                                                                                                                                                                                                                                                 |\n",
            "|  5 |         9 |      14 | what is the decentralised exchange with the most volume?                                         | it appears to be kyber with about $4 million / day volume.                                                                                                                                                                                                                                                                                                                                                                                                                                                                                                                                                                                                                                                                                                                                                                                                                                                                                                                                                                                                                                                                                                                                                                                                                                                                                                                                                                                                                                                                                                                                                                                                                                                                                                                                                                                                                                                                                                                                                                                                                                                                                                                                                                                                                                                                                                                                                                                                                                                                                                                                                                | DarkKarpeles       | /r/defi/comments/fd3mqd/what_is_the_decentralised_exchange_with_the_most/ |              2 |       1 |                       0 |              1 |    1583278011 | what is the decentralised exchange with the most volume? it appears to be kyber with about $4 million / day volume.                                                                                                                                                                                                                                                                                                                                                                                                                                                                                                                                                                                                                                                                                                                                                                                                                                                                                                                                                                                                                                                                                                                                                                                                                                                                                                                                                                                                                                                                                                                                                                                                                                                                                                                                                                                                                                                                                                                                                                                                                                                                                                                                                                                                                                                                                                                                                                                                                                                                                                                                   | what        | ['million', 'about $4 million / day', 'decentralised', 'volume', 'exchange', 'kyber']                        | what be the decentralised exchange with the most volume ? it appear to be kyber with about $ 4 million / day volume .                                                                                                                                                                                                                                                                                                                                                                                                                                                                                                                                                                                                                                                                                                                                                                                                                                                                                                                                                                                                                                                                                                                                                                                                                                                                                                                                                                                                                                                                                                                                                                                                                                                                                                                                                                                                                                                                                                                                                                                                                                                                                                                                                                                                                                                                                                                                                                                                                                                                        |\n",
            "|  6 |        10 |      15 | what is the breakdown of assets locked in defi?                                                  | is it mostly assets out for loan + collateral from borrowers? does anyone have stats on this? thanks!                                                                                                                                                                                                                                                                                                                                                                                                                                                                                                                                                                                                                                                                                                                                                                                                                                                                                                                                                                                                                                                                                                                                                                                                                                                                                                                                                                                                                                                                                                                                                                                                                                                                                                                                                                                                                                                                                                                                                                                                                                                                                                                                                                                                                                                                                                                                                                                                                                                                                                                     | Character-Barnacle | /r/defi/comments/fg675n/what_is_the_breakdown_of_assets_locked_in_defi/   |              2 |       1 |                       0 |              1 |    1583805066 | what is the breakdown of assets locked in defi? is it mostly assets out for loan + collateral from borrowers? does anyone have stats on this? thanks!                                                                                                                                                                                                                                                                                                                                                                                                                                                                                                                                                                                                                                                                                                                                                                                                                                                                                                                                                                                                                                                                                                                                                                                                                                                                                                                                                                                                                                                                                                                                                                                                                                                                                                                                                                                                                                                                                                                                                                                                                                                                                                                                                                                                                                                                                                                                                                                                                                                                                                 | what        | ['asset', 'loan', 'collateral', 'defi', 'borrower']                                                          | what be the breakdown of asset lock in defi ? be it mostly asset out for loan + collateral from borrower ? do anyone have stat on this ? thank !                                                                                                                                                                                                                                                                                                                                                                                                                                                                                                                                                                                                                                                                                                                                                                                                                                                                                                                                                                                                                                                                                                                                                                                                                                                                                                                                                                                                                                                                                                                                                                                                                                                                                                                                                                                                                                                                                                                                                                                                                                                                                                                                                                                                                                                                                                                                                                                                                                             |\n",
            "|  7 |        14 |      22 | what are the top websites that you're checking in the morning to get the current status of defi? | what are the top websites that you're checking in the morning to get the current status of defi?                                                                                                                                                                                                                                                                                                                                                                                                                                                                                                                                                                                                                                                                                                                                                                                                                                                                                                                                                                                                                                                                                                                                                                                                                                                                                                                                                                                                                                                                                                                                                                                                                                                                                                                                                                                                                                                                                                                                                                                                                                                                                                                                                                                                                                                                                                                                                                                                                                                                                                                          | Nebuchadrezar      | /r/defi/comments/hnoc94/what_are_the_top_websites_that_youre_checking_in/ |             10 |       1 |                       0 |              1 |    1594238531 | what are the top websites that you're checking in the morning to get the current status of defi? what are the top websites that you're checking in the morning to get the current status of defi?                                                                                                                                                                                                                                                                                                                                                                                                                                                                                                                                                                                                                                                                                                                                                                                                                                                                                                                                                                                                                                                                                                                                                                                                                                                                                                                                                                                                                                                                                                                                                                                                                                                                                                                                                                                                                                                                                                                                                                                                                                                                                                                                                                                                                                                                                                                                                                                                                                                     | what        | ['the morning', 'status', 'morning', 'check', 'website', 'defi']                                             | what be the top website that you be check in the morning to get the current status of defi ? what be the top website that you be check in the morning to get the current status of defi ?                                                                                                                                                                                                                                                                                                                                                                                                                                                                                                                                                                                                                                                                                                                                                                                                                                                                                                                                                                                                                                                                                                                                                                                                                                                                                                                                                                                                                                                                                                                                                                                                                                                                                                                                                                                                                                                                                                                                                                                                                                                                                                                                                                                                                                                                                                                                                                                                    |\n",
            "|  8 |        26 |      47 | what are your favorited defi lending apps?                                                       | i've been using blockfi, nexo, and celsius. yes, i was lured in by the high interest rates. but now, i've discovered their practice of re-hypothecation of collateral. this practice is not a problem until it is. so, i'm willing to use another platform to earn interest even if it is not paying what the likes of blockfi are. suggestions please?                                                                                                                                                                                                                                                                                                                                                                                                                                                                                                                                                                                                                                                                                                                                                                                                                                                                                                                                                                                                                                                                                                                                                                                                                                                                                                                                                                                                                                                                                                                                                                                                                                                                                                                                                                                                                                                                                                                                                                                                                                                                                                                                                                                                                                                                   | 4MoreKnowledge     | /r/defi/comments/i9qgim/what_are_your_favorited_defi_lending_apps/        |              7 |       1 |                       0 |              1 |    1597426659 | what are your favorited defi lending apps? i've been using blockfi, nexo, and celsius. yes, i was lured in by the high interest rates. but now, i've discovered their practice of re-hypothecation of collateral. this practice is not a problem until it is. so, i'm willing to use another platform to earn interest even if it is not paying what the likes of blockfi are. suggestions please?                                                                                                                                                                                                                                                                                                                                                                                                                                                                                                                                                                                                                                                                                                                                                                                                                                                                                                                                                                                                                                                                                                                                                                                                                                                                                                                                                                                                                                                                                                                                                                                                                                                                                                                                                                                                                                                                                                                                                                                                                                                                                                                                                                                                                                                    | what        | ['nexo', 'app', 'lending', 'celsius', 'blockfi', 'collateral', 'defi']                                       | what be your favorited defi lending app ? I 've be use blockfi , nexo , and celsius . yes , I be lure in by the high interest rate . but now , I 've discover their practice of re - hypothecation of collateral . this practice be not a problem until it be . so , I be willing to use another platform to earn interest even if it be not pay what the like of blockfi be . suggestion please ?                                                                                                                                                                                                                                                                                                                                                                                                                                                                                                                                                                                                                                                                                                                                                                                                                                                                                                                                                                                                                                                                                                                                                                                                                                                                                                                                                                                                                                                                                                                                                                                                                                                                                                                                                                                                                                                                                                                                                                                                                                                                                                                                                                                           |\n",
            "|  9 |        30 |      54 | what exactly is defi?                                                                            | i've been away from crypto for a while. can anybody help me understand exactly what defi is? i get that it is decentralized finance but what does that entail? can this be usd that is controlled by a non-authoritative figure?                                                                                                                                                                                                                                                                                                                                                                                                                                                                                                                                                                                                                                                                                                                                                                                                                                                                                                                                                                                                                                                                                                                                                                                                                                                                                                                                                                                                                                                                                                                                                                                                                                                                                                                                                                                                                                                                                                                                                                                                                                                                                                                                                                                                                                                                                                                                                                                          | jamesrt2004        | /r/defi/comments/ie5f0i/what_exactly_is_defi/                             |             17 |       1 |                       0 |              1 |    1598044250 | what exactly is defi? i've been away from crypto for a while. can anybody help me understand exactly what defi is? i get that it is decentralized finance but what does that entail? can this be usd that is controlled by a non-authoritative figure?                                                                                                                                                                                                                                                                                                                                                                                                                                                                                                                                                                                                                                                                                                                                                                                                                                                                                                                                                                                                                                                                                                                                                                                                                                                                                                                                                                                                                                                                                                                                                                                                                                                                                                                                                                                                                                                                                                                                                                                                                                                                                                                                                                                                                                                                                                                                                                                                | what        | ['crypto', 'defi', 'finance', 'decentralized', 'usd']                                                        | what exactly be defi ? I 've be away from crypto for a while . can anybody help I understand exactly what defi be ? I get that it be decentralized finance but what do that entail ? can this be usd that be control by a non - authoritative figure ?                                                                                                                                                                                                                                                                                                                                                                                                                                                                                                                                                                                                                                                                                                                                                                                                                                                                                                                                                                                                                                                                                                                                                                                                                                                                                                                                                                                                                                                                                                                                                                                                                                                                                                                                                                                                                                                                                                                                                                                                                                                                                                                                                                                                                                                                                                                                       |\n"
          ],
          "name": "stdout"
        }
      ]
    },
    {
      "cell_type": "markdown",
      "metadata": {
        "id": "bZ-0XcmFcrTx"
      },
      "source": [
        "# Topic Modeling with BERTopic"
      ]
    },
    {
      "cell_type": "code",
      "metadata": {
        "id": "ReLmnh9C_BD5",
        "colab": {
          "base_uri": "https://localhost:8080/"
        },
        "outputId": "142ff3a6-2892-43ea-f2a9-dfeeb64a90d0"
      },
      "source": [
        "from bertopic import BERTopic\n",
        "\n",
        "topic_model = BERTopic(n_gram_range=(1, 1), calculate_probabilities=True, min_topic_size=5)\n",
        "_docs = [' '.join(list(map(lambda x: '_'.join(x.split()), keywords))) for keywords in list(df_selection['keywords'])]\n",
        "\n",
        "topics, probabilities = topic_model.fit_transform(_docs)\n",
        "#topics, probabilities = topic_model.fit_transform(df_selewhyction['lemmatized_combined_text'])\n",
        "topic_info_df = topic_model.get_topic_info()\n",
        "print(topic_info_df.to_markdown())"
      ],
      "execution_count": 56,
      "outputs": [
        {
          "output_type": "stream",
          "text": [
            "|    |   Topic |   Count | Name                                                           |\n",
            "|---:|--------:|--------:|:---------------------------------------------------------------|\n",
            "|  0 |      -1 |     112 | -1_crypto_token_blockchain_finance                             |\n",
            "|  1 |       0 |      14 | 0_farming_yield_farm_stable                                    |\n",
            "|  2 |       1 |       1 | 1_decentralisation_decentralised_decentralization_decentralize |\n"
          ],
          "name": "stdout"
        }
      ]
    },
    {
      "cell_type": "code",
      "metadata": {
        "id": "I-7gh1pPFblc"
      },
      "source": [
        "from collections import defaultdict\n",
        "\n",
        "docs_by_topics = defaultdict(list)\n",
        "\n",
        "for index, topic in enumerate(topics):\n",
        "  docs_by_topics[topic].append({\n",
        "      'docIdx': index,\n",
        "      'prob': probabilities[index][topic],\n",
        "      'num_comments':df_selection['num_comments'][index],\n",
        "      'score': df_selection['score'][index],\n",
        "      'title': df_selection['title'][index],\n",
        "      'keywords': df_selection['keywords'][index]\n",
        "  })\n",
        "\n",
        "# sort doc by their topic prob\n",
        "for index, topic in enumerate(topics):\n",
        "  docs_by_topics[topic].sort(key=lambda x: x['prob'], reverse=True)\n"
      ],
      "execution_count": 57,
      "outputs": []
    },
    {
      "cell_type": "code",
      "metadata": {
        "colab": {
          "base_uri": "https://localhost:8080/"
        },
        "id": "U6qlWIBQItoR",
        "outputId": "e2b47855-1d09-4971-fec2-1e88b50ec6cd"
      },
      "source": [
        "\n",
        "for idx, row in topic_info_df.iterrows():\n",
        "  print(row.to_frame().T)\n",
        "  topic_docs_df = pd.DataFrame(docs_by_topics[row['Topic']])\n",
        "  print(topic_docs_df.head(50).to_markdown())\n",
        "\n"
      ],
      "execution_count": 58,
      "outputs": [
        {
          "output_type": "stream",
          "text": [
            "  Topic Count                                Name\n",
            "0    -1   112  -1_crypto_token_blockchain_finance\n",
            "|    |   docIdx |     prob |   num_comments |   score | title                                                                                                                                                                       | keywords                                                                                                                                                                                                         |\n",
            "|---:|---------:|---------:|---------------:|--------:|:----------------------------------------------------------------------------------------------------------------------------------------------------------------------------|:-----------------------------------------------------------------------------------------------------------------------------------------------------------------------------------------------------------------|\n",
            "|  0 |        3 | 1        |              8 |       1 | defi question what happens if app developers simply shut down their site?                                                                                                   | ['lend', 'crypto', 'fund', 'defi', 'finance']                                                                                                                                                                    |\n",
            "|  1 |        6 | 1        |              2 |       1 | what is the breakdown of assets locked in defi?                                                                                                                             | ['asset', 'loan', 'collateral', 'defi', 'borrower']                                                                                                                                                              |\n",
            "|  2 |        7 | 1        |             10 |       1 | what are the top websites that you're checking in the morning to get the current status of defi?                                                                            | ['the morning', 'status', 'morning', 'check', 'website', 'defi']                                                                                                                                                 |\n",
            "|  3 |       12 | 1        |              5 |       1 | what kinds of projects did you participate in? tell the advantages and disadvantages of the projects you have joined in.                                                    | ['join', 'advantage', 'popular', 'participate', 'project']                                                                                                                                                       |\n",
            "|  4 |       25 | 1        |              4 |       1 | what does it mean ''wrap'' ?                                                                                                                                                | ['wrap', 'swap', 'exange', 'btc', 'eth']                                                                                                                                                                         |\n",
            "|  5 |       26 | 1        |              5 |       1 | what is the state of layer 2 networks in defi?                                                                                                                              | ['network', 'layer', 'defi', 'gas', '2', 'vitalik', 'l2']                                                                                                                                                        |\n",
            "|  6 |       28 | 1        |              4 |       1 | eli5 what is defi?                                                                                                                                                          | ['eli5', 'protocol', 'resource', 'market', 'defi']                                                                                                                                                               |\n",
            "|  7 |       32 | 1        |              5 |       1 | what problems does plasmapay solve?                                                                                                                                         | ['satoshi nakamoto', 'europe', 'bitcoin', 'cryptocurrency', 'years', 'bithumb glabal', 'plasmapay', 'two', 'plasmachain', 'today', 'uniswap', 'plasma', 'december 10', 'nearly 12 years old', 'cryptocurrencie'] |\n",
            "|  8 |       34 | 1        |             13 |       1 | what do you think about unstopable domains?                                                                                                                                 | ['crypto', 'blockchain', 'domain', 'unstopable', 'browser']                                                                                                                                                      |\n",
            "|  9 |       36 | 1        |             36 |       1 | what are the chances of binance smart chain projects getting listed on binance?                                                                                             | ['chain', 'listing', 'link', 'bondly', 'altcoin', 'binance', 'binance smart chain']                                                                                                                              |\n",
            "| 10 |       38 | 1        |             13 |       1 | what is the rationale behind taking out loans that require 150% collaterization?                                                                                            | ['150%', 'loan', 'rationale', 'fund', 'collaterization', 'collaterize']                                                                                                                                          |\n",
            "| 11 |       41 | 1        |             52 |       2 | what asset would you like to see tokenized?                                                                                                                                 | ['tokenize', 'asset', 'blockchain', 'currency', 'coin']                                                                                                                                                          |\n",
            "| 12 |       46 | 1        |              3 |       1 | what defi products would you like to see created that haven't yet?                                                                                                          | ['product', 'create', 'choose', 'defi', 'game']                                                                                                                                                                  |\n",
            "| 13 |       62 | 1        |             38 |       1 | who borrows crypto and what for?                                                                                                                                            | ['staker', 'borrow', 'lender', 'crypto', 'provider']                                                                                                                                                             |\n",
            "| 14 |       68 | 1        |             30 |       1 | what is the difference between pools and farms ?                                                                                                                            | ['difference', 'token', 'pool', 'dex', 'coin']                                                                                                                                                                   |\n",
            "| 15 |       82 | 1        |              4 |       1 | what defi tools can i use today to easily collateralise my assets?                                                                                                          | ['defi', 'asset', 'collateralise', 'lending', 'today', 'credit']                                                                                                                                                 |\n",
            "| 16 |       87 | 1        |             19 |       1 | what is the best way to lend out bitcoin?                                                                                                                                   | ['lend', 'bitcoin', 'coinbase', 'money', 'coin']                                                                                                                                                                 |\n",
            "| 17 |       92 | 1        |              6 |       1 | what to look for in a defi project?                                                                                                                                         | ['hi', 'guy', 'defi', 'project', 'look']                                                                                                                                                                         |\n",
            "| 18 |      104 | 1        |             30 |       1 | what are the top use cases for blockchain / defi? among these, what are the most unexplored areas in your view?                                                             | ['cryptocurrency', 'blockchain', 'case', 'application', 'unexplored']                                                                                                                                            |\n",
            "| 19 |      106 | 1        |              4 |       1 | bitcoin is now legal tender in el salvador, but what does this mean to crypto?                                                                                              | ['salvador', 'crypto', 'bitcoin', 'decentralisation', 'money', 'el salvador']                                                                                                                                    |\n",
            "| 20 |      108 | 1        |              4 |       0 | what determines token price on uniswap, pancake swap, etc.?                                                                                                                 | ['price', 'liquidity', 'swap', 'token', 'two', 'value']                                                                                                                                                          |\n",
            "| 21 |      114 | 1        |              2 |       1 | what is obtc?                                                                                                                                                               | ['bitcoin', 'curve', 'obtc', 'btc', 'fund']                                                                                                                                                                      |\n",
            "| 22 |      115 | 1        |             22 |       1 | what are lp tokens?                                                                                                                                                         | ['token', 'transaction', 'lp', 'exchange', 'withdrawal']                                                                                                                                                         |\n",
            "| 23 |      118 | 1        |             15 |       1 | oracles themselves are not data sources, they collect data from 1000 external sources and share it with the blockchain. oracles seem to be a tough door. what do you think? | ['crypto', 'datum', 'third', 'blockchain', 'almost zero', '1000', 'cointelegraph', 'binance', 'one day', 'oracle', 'oracles']                                                                                    |\n",
            "| 24 |      125 | 1        |              2 |       1 | it is going to be interested to see how smart contracts evolve as rules are becoming tighter. what do you think?                                                            | ['third', 'blockchain', '5.', '2.', '1', 'two', 'smart', 'insurance', 'contract', '3.', 'decentralized', '4.']                                                                                                   |\n",
            "| 25 |      126 | 1        |              5 |       1 | what happens to bsc if binance were to go under?                                                                                                                            | ['token', 'bsc', 'bep20', 'binance', 'happen', 'contract']                                                                                                                                                       |\n",
            "| 26 |       57 | 0.972195 |             17 |       1 | what do people do with defi loans for the most part?                                                                                                                        | ['crypto', 'loan', 'lending', 'defi', '6-12%', 'debt']                                                                                                                                                           |\n",
            "| 27 |       98 | 0.968644 |              2 |       1 | defi dex database? what coin on what dex?                                                                                                                                   | ['database', 'search', 'token', 'dex', 'coin']                                                                                                                                                                   |\n",
            "| 28 |       78 | 0.962692 |              3 |       1 | when i look at the contract for a token and it is holding some of the token what does that mean and who owns those tokens?                                                  | ['hold', 'mean', 'token', 'foo', 'contract']                                                                                                                                                                     |\n",
            "| 29 |       24 | 0.957324 |              4 |       1 | what is the fuse network and why is it revolutionary in the payments industry?                                                                                              | ['network', 'chain', 'blockchain', 'fuse', 'ethereum', 'the fuse studio']                                                                                                                                        |\n",
            "| 30 |      122 | 0.955601 |             19 |       1 | what is decentralized finance?                                                                                                                                              | ['banking', 'third', 'blockchain', 'lending', 'finance', 'decentralized']                                                                                                                                        |\n",
            "| 31 |       27 | 0.951262 |              4 |       1 | what are the latest news?                                                                                                                                                   | ['news', 'late', 'month', 'about a month', 'swap', 'lately']                                                                                                                                                     |\n",
            "| 32 |      121 | 0.946747 |             13 |       1 | taking out a loan on my assets and staking the loan. what can go wrong?                                                                                                     | ['asset', '5000 usd', 'loan', 'collateralization', '8%', '2.94%', 'risk', 'money', '75%', 'venus / compound']                                                                                                    |\n",
            "| 33 |       21 | 0.94663  |              8 |       1 | what are the extra features of various swap projects?                                                                                                                       | ['various', 'swap', 'spaceswap', 'difference', 'uniswap']                                                                                                                                                        |\n",
            "| 34 |       76 | 0.946027 |             27 |       1 | what does defi summer 2.0 mean?                                                                                                                                             | ['crypto', 'summer', 'last summer', 'hey', 'defi summer 2.0', 'defi', 'new']                                                                                                                                     |\n",
            "| 35 |       49 | 0.94329  |              5 |       1 | what am i missing?                                                                                                                                                          | ['borrow', 'asset', 'loan', 'capital', 'up to 75 or 80 percent', 'collateral']                                                                                                                                   |\n",
            "| 36 |       11 | 0.94017  |              3 |       1 | defi users what's your favorite defi app and how do you make money with it?                                                                                                 | ['app', 'lending', 'user', 'money', 'defi']                                                                                                                                                                      |\n",
            "| 37 |       66 | 0.933827 |              8 |       1 | what happens when you transfer or swap lp tokens?                                                                                                                           | ['cryptocurrency', 'deposit', '3', 'swap', 'receive', 'token', '1', '2', 'aavegotchi', '4', 'quickswap']                                                                                                         |\n",
            "| 38 |       65 | 0.92615  |             10 |       1 | has anyone heard of ankr? what are your thoughts?                                                                                                                           | ['network', 'chain', 'defi summer', 'node', 'ankr', 'this morning', 'project']                                                                                                                                   |\n",
            "| 39 |       14 | 0.919663 |             10 |       1 | what makes the perfect defi project?                                                                                                                                        | ['real', 'perfect', 'defi', 'project', 'roi']                                                                                                                                                                    |\n",
            "| 40 |       15 | 0.916147 |              3 |       1 | what happens if i have converted my eth to dai and eth moons in the meantime?                                                                                               | ['crypto', 'moon', 'eth', 'coin', 'moons']                                                                                                                                                                       |\n",
            "| 41 |       51 | 0.913    |              2 |       1 | what is the meaning of being an advisor for a project?                                                                                                                      | ['mean', 'endorse', 'project', 'advisor', 'meaning']                                                                                                                                                             |\n",
            "| 42 |       10 | 0.912901 |              4 |       1 | what does staking your governance token actually acomplish?                                                                                                                 | ['yfv', 'stake', 'token', 'governance', 'srm']                                                                                                                                                                   |\n",
            "| 43 |       99 | 0.910392 |              9 |       1 | what are the opportunities with flash loans? can we get interest on it?                                                                                                     | ['degen', 'a couple of seconds', 'invest', 'loan', 'opportunity', 'flash', 'exchange']                                                                                                                           |\n",
            "| 44 |        2 | 0.908205 |              2 |       1 | what defi projects are of european origin?                                                                                                                                  | ['european origin?', 'origin', 'europe', 'european origin', 'defi', 'european', 'sector']                                                                                                                        |\n",
            "| 45 |       23 | 0.905917 |              2 |       1 | what else does this dapp casino have in store?                                                                                                                              | ['casino', 'betting', 'poker', 'earnbet', 'first', 'slot', 'dapp']                                                                                                                                               |\n",
            "| 46 |       13 | 0.905147 |             21 |       1 | what are some of the defi tokens are you are holding at the moment?                                                                                                         | ['hold', 'risky', 'token', 'bet', 'defi']                                                                                                                                                                        |\n",
            "| 47 |       81 | 0.904293 |             17 |       1 | how do you decide what to invest in?                                                                                                                                        | ['decide', 'coinbase', 'invest', 'asset', 'research']                                                                                                                                                            |\n",
            "| 48 |       44 | 0.903437 |              2 |       1 | what crypto saas based in a token business model do you know?                                                                                                               | ['model', 'business', 'crypto', 'saa', 'token']                                                                                                                                                                  |\n",
            "| 49 |        0 | 0.903285 |              2 |       3 | what are defi applications?                                                                                                                                                 | ['crypto', 'blockchain', '2.', 'second', 'switcheo exchange', 'today', 'defi', 'finance', 'ethereum', '3rd']                                                                                                     |\n",
            "  Topic Count                         Name\n",
            "1     0    14  0_farming_yield_farm_stable\n",
            "|    |   docIdx |     prob |   num_comments |   score | title                                                                                                                             | keywords                                                                                              |\n",
            "|---:|---------:|---------:|---------------:|--------:|:----------------------------------------------------------------------------------------------------------------------------------|:------------------------------------------------------------------------------------------------------|\n",
            "|  0 |       47 | 1        |              4 |       6 | what does it mean for a liquidity pool to be farming ?                                                                            | ['liquidity', 'mean', 'pool', 'farm', 'farming']                                                      |\n",
            "|  1 |       54 | 1        |             12 |       1 | crypto newbie. what capital to start making reasonable gains with yield farming ? is it better than just holding spot btc / eth ? | ['farming', 'reserve', 'capital', 'farm', 'north of a hundred k / one mil', 'yield']                  |\n",
            "|  2 |       61 | 1        |              2 |       1 | what does harvesting do exactly?                                                                                                  | ['staking', 'harvesting', 'know', 'help', 'explanation']                                              |\n",
            "|  3 |       64 | 1        |              9 |       1 | what is liquidity mining/yield farming?                                                                                           | ['yield', 'mining', 'liquidity', 'defi', 'farming']                                                   |\n",
            "|  4 |       91 | 1        |              5 |       1 | what do multipliers mean on yieldfarms?                                                                                           | ['mean', 'yieldfarm', 'farm', 'defi', 'multiplier']                                                   |\n",
            "|  5 |       90 | 0.960265 |              6 |       1 | what is the best yield farming strategy you have or have come across from legit projects?                                         | ['yield', 'strategy', 'staking', 'test', 'farming']                                                   |\n",
            "|  6 |       73 | 0.936076 |             17 |       1 | what is your favorite yield farming strategies? regardless of chain                                                               | ['yield', 'strategy', 'yearn', '20%', 'usdc', 'farm', 'farming', '500-1000%']                         |\n",
            "|  7 |      116 | 0.90041  |             35 |       1 | what are the best yielding stable farms and how did you find them?                                                                | ['around 0.5-0.8%', 'yielding', 'invest', 'favourite', 'farm', 'stable']                              |\n",
            "|  8 |       20 | 0.879294 |             16 |       1 | what do you think about harvest.finance?                                                                                          | ['reddit', 'harvest', 'farm', 'profit', 'today', 'first', 'yield', 'finance']                         |\n",
            "|  9 |       88 | 0.876503 |              3 |       1 | what are tour thoughts on terra 20% apy on ust farm?                                                                              | ['last weeks', 'ust', 'tour', 'ust farming', 'terra', 'terra 20% apy', 'farm', 'farming', 'ust farm'] |\n",
            "| 10 |       94 | 0.813543 |              6 |       1 | what is the best return on stables?                                                                                               | ['yield', 'bsc', 'stable', 'farming', 'eth', 'good', 'solana', 'return']                              |\n",
            "| 11 |       43 | 0.736591 |             80 |       1 | what is the catch with yield farming and can you yield farm with stablecoins?                                                     | ['farming', '2.5%', '10%', 'farm', 'blockfi', 'earn', 'stablecoin', 'yield', '8.6%']                  |\n",
            "| 12 |       86 | 0.703393 |              7 |       1 | what are your thoughts on waves.exchange yield farming protocols ?                                                                | ['protocol', 'yield', 'trading', 'exchange', 'farming']                                               |\n",
            "| 13 |       89 | 0.68668  |             20 |       1 | fellow degens, what are the most degen defi strategies youre doing right now to get yield?                                        | ['strategy', 'degen', 'degens', 'defi', 'yield']                                                      |\n",
            "  Topic Count                                               Name\n",
            "2     1     1  1_decentralisation_decentralised_decentralizat...\n",
            "|    |   docIdx |     prob |   num_comments |   score | title                            | keywords                                          |\n",
            "|---:|---------:|---------:|---------------:|--------:|:---------------------------------|:--------------------------------------------------|\n",
            "|  0 |       50 | 0.207295 |              9 |       1 | nft by spaceswap, what about it? | ['3', 'spaceswap', 'pool', 'nft', 'milk2', 'new'] |\n"
          ],
          "name": "stdout"
        }
      ]
    },
    {
      "cell_type": "code",
      "metadata": {
        "colab": {
          "base_uri": "https://localhost:8080/",
          "height": 467
        },
        "id": "w-n1lFO3Canc",
        "outputId": "da2724b3-b8fa-4427-8ece-af214e63d1dd"
      },
      "source": [
        "topics_over_time = topic_model.topics_over_time(df_selection['title'], topics, df_selection['created_utc'], nr_bins=20)\n",
        "topic_model.visualize_topics_over_time(topics_over_time, top_n_topics=10)"
      ],
      "execution_count": 14,
      "outputs": [
        {
          "output_type": "display_data",
          "data": {
            "text/html": [
              "<html>\n",
              "<head><meta charset=\"utf-8\" /></head>\n",
              "<body>\n",
              "    <div>            <script src=\"https://cdnjs.cloudflare.com/ajax/libs/mathjax/2.7.5/MathJax.js?config=TeX-AMS-MML_SVG\"></script><script type=\"text/javascript\">if (window.MathJax) {MathJax.Hub.Config({SVG: {font: \"STIX-Web\"}});}</script>                <script type=\"text/javascript\">window.PlotlyConfig = {MathJaxConfig: 'local'};</script>\n",
              "        <script src=\"https://cdn.plot.ly/plotly-latest.min.js\"></script>                <div id=\"3fac20fd-853e-456f-96c3-e98e0b837994\" class=\"plotly-graph-div\" style=\"height:450px; width:1250px;\"></div>            <script type=\"text/javascript\">                                    window.PLOTLYENV=window.PLOTLYENV || {};                                    if (document.getElementById(\"3fac20fd-853e-456f-96c3-e98e0b837994\")) {                    Plotly.newPlot(                        \"3fac20fd-853e-456f-96c3-e98e0b837994\",                        [{\"hoverinfo\": \"text\", \"hovertext\": [\"<b>Topic 1</b><br>Words: copyrighttrademark, nfts, crypto, nft, copyright\", \"<b>Topic 1</b><br>Words: duplicate, wont, copyright, creator, nft\", \"<b>Topic 1</b><br>Words: benefit, golden, crypto, digital, nfts\", \"<b>Topic 1</b><br>Words: digital, sharing, unlockable, legal, stop\", \"<b>Topic 1</b><br>Words: crypto, gift, authenticated, sustainability, give\", \"<b>Topic 1</b><br>Words: rights, ip, nfts, crypto, can\", \"<b>Topic 1</b><br>Words: replace, doesnt, certificates, copyright, nfts\", \"<b>Topic 1</b><br>Words: space, crypto, nft, copyright, nfts\", \"<b>Topic 1</b><br>Words: tech, registrate, cloning, copy, voice\"], \"marker\": {\"color\": \"#E69F00\"}, \"mode\": \"lines\", \"name\": \"1_crypto_can_nft_copyright\", \"type\": \"scatter\", \"x\": [1602990220.365, 1612175380.0, 1613320661.75, 1614465943.5, 1616756507.0, 1617901788.75, 1619047070.5, 1621337634.0, 1624773479.25], \"y\": [1, 2, 1, 4, 3, 1, 1, 1, 2]}, {\"hoverinfo\": \"text\", \"hovertext\": [\"<b>Topic 3</b><br>Words: musician, song, can, nft, make\", \"<b>Topic 3</b><br>Words: pokemon, nft, physical, item, picture\", \"<b>Topic 3</b><br>Words: move, sculpture, physical, nft, make\", \"<b>Topic 3</b><br>Words: item, show, nft, picture, walletdigital\", \"<b>Topic 3</b><br>Words: game, can, nft, item, how\", \"<b>Topic 3</b><br>Words: guitar, player, make, nft, item\", \"<b>Topic 3</b><br>Words: console, item, link, gaming, nft\"], \"marker\": {\"color\": \"#56B4E9\"}, \"mode\": \"lines\", \"name\": \"3_make_item_nft_console\", \"type\": \"scatter\", \"x\": [1608739534.75, 1612175380.0, 1614465943.5, 1616756507.0, 1621337634.0, 1623628197.5, 1624773479.25], \"y\": [1, 1, 2, 4, 1, 1, 2]}, {\"hoverinfo\": \"text\", \"hovertext\": [\"<b>Topic 0</b><br>Words: expensive, minting, rarible, mint, gas\", \"<b>Topic 0</b><br>Words: gasless, check, mint, minting, gas\", \"<b>Topic 0</b><br>Words: cancel, mint, 1000, nfts, mintable\", \"<b>Topic 0</b><br>Words: mint, mintable, distribute, bank, limit\", \"<b>Topic 0</b><br>Words: gas, fee, mint, mintable, minting\", \"<b>Topic 0</b><br>Words: mint, private, downloadable, tokens, mintable\", \"<b>Topic 0</b><br>Words: mint, got, client, randomized, edition\", \"<b>Topic 0</b><br>Words: url, share, mintable, mint, gas\", \"<b>Topic 0</b><br>Words: fungible, tokens, mint, mintable, minting\"], \"marker\": {\"color\": \"#009E73\"}, \"mode\": \"lines\", \"name\": \"0_mint_mintable_tokens_minting\", \"type\": \"scatter\", \"x\": [1613320661.75, 1614465943.5, 1615611225.25, 1616756507.0, 1617901788.75, 1619047070.5, 1620192352.25, 1621337634.0, 1622482915.75], \"y\": [1, 2, 2, 4, 1, 2, 2, 1, 1]}, {\"hoverinfo\": \"text\", \"hovertext\": [\"<b>Topic 2</b><br>Words: scared, dying, start, viral, tweet\", \"<b>Topic 2</b><br>Words: world, nft, tweet, viral, get\", \"<b>Topic 2</b><br>Words: tweet, viral, on, meme, mlb\", \"<b>Topic 2</b><br>Words: transaction, search, exchange, createtransfer, chubbies\", \"<b>Topic 2</b><br>Words: size, block, 8mb, large, tweet\", \"<b>Topic 2</b><br>Words: airdrop, nft, viral, tweet, get\"], \"marker\": {\"color\": \"#F0E442\"}, \"mode\": \"lines\", \"name\": \"2_tweet_viral_nft_get\", \"type\": \"scatter\", \"x\": [1613320661.75, 1616756507.0, 1617901788.75, 1619047070.5, 1620192352.25, 1622482915.75], \"y\": [2, 1, 4, 4, 1, 1]}, {\"hoverinfo\": \"text\", \"hovertext\": [\"<b>Topic 4</b><br>Words: accepted, foundation, wait, until, waitlist\", \"<b>Topic 4</b><br>Words: environmentalists, respond, foundation, wallet, upvote\", \"<b>Topic 4</b><br>Words: wallet, foundation, change, wait, waitlist\", \"<b>Topic 4</b><br>Words: upvoted, foundations, upvote, community, foundation\", \"<b>Topic 4</b><br>Words: invited, foundation, wallet, environmentalists, upvote\", \"<b>Topic 4</b><br>Words: waitlist, foundation, wait, wallet, environmentalists\", \"<b>Topic 4</b><br>Words: until, niftygateway, wait, foundation, foundations\"], \"marker\": {\"color\": \"#D55E00\"}, \"mode\": \"lines\", \"name\": \"4_foundation_upvote_environmentalists_up...\", \"type\": \"scatter\", \"x\": [1613320661.75, 1616756507.0, 1617901788.75, 1619047070.5, 1620192352.25, 1623628197.5, 1624773479.25], \"y\": [1, 1, 1, 1, 1, 1, 1]}],                        {\"height\": 450, \"hoverlabel\": {\"bgcolor\": \"white\", \"font\": {\"family\": \"Rockwell\", \"size\": 16}}, \"legend\": {\"title\": {\"text\": \"<b>Global Topic Representation\"}}, \"template\": {\"data\": {\"bar\": [{\"error_x\": {\"color\": \"rgb(36,36,36)\"}, \"error_y\": {\"color\": \"rgb(36,36,36)\"}, \"marker\": {\"line\": {\"color\": \"white\", \"width\": 0.5}}, \"type\": \"bar\"}], \"barpolar\": [{\"marker\": {\"line\": {\"color\": \"white\", \"width\": 0.5}}, \"type\": \"barpolar\"}], \"carpet\": [{\"aaxis\": {\"endlinecolor\": \"rgb(36,36,36)\", \"gridcolor\": \"white\", \"linecolor\": \"white\", \"minorgridcolor\": \"white\", \"startlinecolor\": \"rgb(36,36,36)\"}, \"baxis\": {\"endlinecolor\": \"rgb(36,36,36)\", \"gridcolor\": \"white\", \"linecolor\": \"white\", \"minorgridcolor\": \"white\", \"startlinecolor\": \"rgb(36,36,36)\"}, \"type\": \"carpet\"}], \"choropleth\": [{\"colorbar\": {\"outlinewidth\": 1, \"tickcolor\": \"rgb(36,36,36)\", \"ticks\": \"outside\"}, \"type\": \"choropleth\"}], \"contour\": [{\"colorbar\": {\"outlinewidth\": 1, \"tickcolor\": \"rgb(36,36,36)\", \"ticks\": \"outside\"}, \"colorscale\": [[0.0, \"#440154\"], [0.1111111111111111, \"#482878\"], [0.2222222222222222, \"#3e4989\"], [0.3333333333333333, \"#31688e\"], [0.4444444444444444, \"#26828e\"], [0.5555555555555556, \"#1f9e89\"], [0.6666666666666666, \"#35b779\"], [0.7777777777777778, \"#6ece58\"], [0.8888888888888888, \"#b5de2b\"], [1.0, \"#fde725\"]], \"type\": \"contour\"}], \"contourcarpet\": [{\"colorbar\": {\"outlinewidth\": 1, \"tickcolor\": \"rgb(36,36,36)\", \"ticks\": \"outside\"}, \"type\": \"contourcarpet\"}], \"heatmap\": [{\"colorbar\": {\"outlinewidth\": 1, \"tickcolor\": \"rgb(36,36,36)\", \"ticks\": \"outside\"}, \"colorscale\": [[0.0, \"#440154\"], [0.1111111111111111, \"#482878\"], [0.2222222222222222, \"#3e4989\"], [0.3333333333333333, \"#31688e\"], [0.4444444444444444, \"#26828e\"], [0.5555555555555556, \"#1f9e89\"], [0.6666666666666666, \"#35b779\"], [0.7777777777777778, \"#6ece58\"], [0.8888888888888888, \"#b5de2b\"], [1.0, \"#fde725\"]], \"type\": \"heatmap\"}], \"heatmapgl\": [{\"colorbar\": {\"outlinewidth\": 1, \"tickcolor\": \"rgb(36,36,36)\", \"ticks\": \"outside\"}, \"colorscale\": [[0.0, \"#440154\"], [0.1111111111111111, \"#482878\"], [0.2222222222222222, \"#3e4989\"], [0.3333333333333333, \"#31688e\"], [0.4444444444444444, \"#26828e\"], [0.5555555555555556, \"#1f9e89\"], [0.6666666666666666, \"#35b779\"], [0.7777777777777778, \"#6ece58\"], [0.8888888888888888, \"#b5de2b\"], [1.0, \"#fde725\"]], \"type\": \"heatmapgl\"}], \"histogram\": [{\"marker\": {\"line\": {\"color\": \"white\", \"width\": 0.6}}, \"type\": \"histogram\"}], \"histogram2d\": [{\"colorbar\": {\"outlinewidth\": 1, \"tickcolor\": \"rgb(36,36,36)\", \"ticks\": \"outside\"}, \"colorscale\": [[0.0, \"#440154\"], [0.1111111111111111, \"#482878\"], [0.2222222222222222, \"#3e4989\"], [0.3333333333333333, \"#31688e\"], [0.4444444444444444, \"#26828e\"], [0.5555555555555556, \"#1f9e89\"], [0.6666666666666666, \"#35b779\"], [0.7777777777777778, \"#6ece58\"], [0.8888888888888888, \"#b5de2b\"], [1.0, \"#fde725\"]], \"type\": \"histogram2d\"}], \"histogram2dcontour\": [{\"colorbar\": {\"outlinewidth\": 1, \"tickcolor\": \"rgb(36,36,36)\", \"ticks\": \"outside\"}, \"colorscale\": [[0.0, \"#440154\"], [0.1111111111111111, \"#482878\"], [0.2222222222222222, \"#3e4989\"], [0.3333333333333333, \"#31688e\"], [0.4444444444444444, \"#26828e\"], [0.5555555555555556, \"#1f9e89\"], [0.6666666666666666, \"#35b779\"], [0.7777777777777778, \"#6ece58\"], [0.8888888888888888, \"#b5de2b\"], [1.0, \"#fde725\"]], \"type\": \"histogram2dcontour\"}], \"mesh3d\": [{\"colorbar\": {\"outlinewidth\": 1, \"tickcolor\": \"rgb(36,36,36)\", \"ticks\": \"outside\"}, \"type\": \"mesh3d\"}], \"parcoords\": [{\"line\": {\"colorbar\": {\"outlinewidth\": 1, \"tickcolor\": \"rgb(36,36,36)\", \"ticks\": \"outside\"}}, \"type\": \"parcoords\"}], \"pie\": [{\"automargin\": true, \"type\": \"pie\"}], \"scatter\": [{\"marker\": {\"colorbar\": {\"outlinewidth\": 1, \"tickcolor\": \"rgb(36,36,36)\", \"ticks\": \"outside\"}}, \"type\": \"scatter\"}], \"scatter3d\": [{\"line\": {\"colorbar\": {\"outlinewidth\": 1, \"tickcolor\": \"rgb(36,36,36)\", \"ticks\": \"outside\"}}, \"marker\": {\"colorbar\": {\"outlinewidth\": 1, \"tickcolor\": \"rgb(36,36,36)\", \"ticks\": \"outside\"}}, \"type\": \"scatter3d\"}], \"scattercarpet\": [{\"marker\": {\"colorbar\": {\"outlinewidth\": 1, \"tickcolor\": \"rgb(36,36,36)\", \"ticks\": \"outside\"}}, \"type\": \"scattercarpet\"}], \"scattergeo\": [{\"marker\": {\"colorbar\": {\"outlinewidth\": 1, \"tickcolor\": \"rgb(36,36,36)\", \"ticks\": \"outside\"}}, \"type\": \"scattergeo\"}], \"scattergl\": [{\"marker\": {\"colorbar\": {\"outlinewidth\": 1, \"tickcolor\": \"rgb(36,36,36)\", \"ticks\": \"outside\"}}, \"type\": \"scattergl\"}], \"scattermapbox\": [{\"marker\": {\"colorbar\": {\"outlinewidth\": 1, \"tickcolor\": \"rgb(36,36,36)\", \"ticks\": \"outside\"}}, \"type\": \"scattermapbox\"}], \"scatterpolar\": [{\"marker\": {\"colorbar\": {\"outlinewidth\": 1, \"tickcolor\": \"rgb(36,36,36)\", \"ticks\": \"outside\"}}, \"type\": \"scatterpolar\"}], \"scatterpolargl\": [{\"marker\": {\"colorbar\": {\"outlinewidth\": 1, \"tickcolor\": \"rgb(36,36,36)\", \"ticks\": \"outside\"}}, \"type\": \"scatterpolargl\"}], \"scatterternary\": [{\"marker\": {\"colorbar\": {\"outlinewidth\": 1, \"tickcolor\": \"rgb(36,36,36)\", \"ticks\": \"outside\"}}, \"type\": \"scatterternary\"}], \"surface\": [{\"colorbar\": {\"outlinewidth\": 1, \"tickcolor\": \"rgb(36,36,36)\", \"ticks\": \"outside\"}, \"colorscale\": [[0.0, \"#440154\"], [0.1111111111111111, \"#482878\"], [0.2222222222222222, \"#3e4989\"], [0.3333333333333333, \"#31688e\"], [0.4444444444444444, \"#26828e\"], [0.5555555555555556, \"#1f9e89\"], [0.6666666666666666, \"#35b779\"], [0.7777777777777778, \"#6ece58\"], [0.8888888888888888, \"#b5de2b\"], [1.0, \"#fde725\"]], \"type\": \"surface\"}], \"table\": [{\"cells\": {\"fill\": {\"color\": \"rgb(237,237,237)\"}, \"line\": {\"color\": \"white\"}}, \"header\": {\"fill\": {\"color\": \"rgb(217,217,217)\"}, \"line\": {\"color\": \"white\"}}, \"type\": \"table\"}]}, \"layout\": {\"annotationdefaults\": {\"arrowhead\": 0, \"arrowwidth\": 1}, \"autotypenumbers\": \"strict\", \"coloraxis\": {\"colorbar\": {\"outlinewidth\": 1, \"tickcolor\": \"rgb(36,36,36)\", \"ticks\": \"outside\"}}, \"colorscale\": {\"diverging\": [[0.0, \"rgb(103,0,31)\"], [0.1, \"rgb(178,24,43)\"], [0.2, \"rgb(214,96,77)\"], [0.3, \"rgb(244,165,130)\"], [0.4, \"rgb(253,219,199)\"], [0.5, \"rgb(247,247,247)\"], [0.6, \"rgb(209,229,240)\"], [0.7, \"rgb(146,197,222)\"], [0.8, \"rgb(67,147,195)\"], [0.9, \"rgb(33,102,172)\"], [1.0, \"rgb(5,48,97)\"]], \"sequential\": [[0.0, \"#440154\"], [0.1111111111111111, \"#482878\"], [0.2222222222222222, \"#3e4989\"], [0.3333333333333333, \"#31688e\"], [0.4444444444444444, \"#26828e\"], [0.5555555555555556, \"#1f9e89\"], [0.6666666666666666, \"#35b779\"], [0.7777777777777778, \"#6ece58\"], [0.8888888888888888, \"#b5de2b\"], [1.0, \"#fde725\"]], \"sequentialminus\": [[0.0, \"#440154\"], [0.1111111111111111, \"#482878\"], [0.2222222222222222, \"#3e4989\"], [0.3333333333333333, \"#31688e\"], [0.4444444444444444, \"#26828e\"], [0.5555555555555556, \"#1f9e89\"], [0.6666666666666666, \"#35b779\"], [0.7777777777777778, \"#6ece58\"], [0.8888888888888888, \"#b5de2b\"], [1.0, \"#fde725\"]]}, \"colorway\": [\"#1F77B4\", \"#FF7F0E\", \"#2CA02C\", \"#D62728\", \"#9467BD\", \"#8C564B\", \"#E377C2\", \"#7F7F7F\", \"#BCBD22\", \"#17BECF\"], \"font\": {\"color\": \"rgb(36,36,36)\"}, \"geo\": {\"bgcolor\": \"white\", \"lakecolor\": \"white\", \"landcolor\": \"white\", \"showlakes\": true, \"showland\": true, \"subunitcolor\": \"white\"}, \"hoverlabel\": {\"align\": \"left\"}, \"hovermode\": \"closest\", \"mapbox\": {\"style\": \"light\"}, \"paper_bgcolor\": \"white\", \"plot_bgcolor\": \"white\", \"polar\": {\"angularaxis\": {\"gridcolor\": \"rgb(232,232,232)\", \"linecolor\": \"rgb(36,36,36)\", \"showgrid\": false, \"showline\": true, \"ticks\": \"outside\"}, \"bgcolor\": \"white\", \"radialaxis\": {\"gridcolor\": \"rgb(232,232,232)\", \"linecolor\": \"rgb(36,36,36)\", \"showgrid\": false, \"showline\": true, \"ticks\": \"outside\"}}, \"scene\": {\"xaxis\": {\"backgroundcolor\": \"white\", \"gridcolor\": \"rgb(232,232,232)\", \"gridwidth\": 2, \"linecolor\": \"rgb(36,36,36)\", \"showbackground\": true, \"showgrid\": false, \"showline\": true, \"ticks\": \"outside\", \"zeroline\": false, \"zerolinecolor\": \"rgb(36,36,36)\"}, \"yaxis\": {\"backgroundcolor\": \"white\", \"gridcolor\": \"rgb(232,232,232)\", \"gridwidth\": 2, \"linecolor\": \"rgb(36,36,36)\", \"showbackground\": true, \"showgrid\": false, \"showline\": true, \"ticks\": \"outside\", \"zeroline\": false, \"zerolinecolor\": \"rgb(36,36,36)\"}, \"zaxis\": {\"backgroundcolor\": \"white\", \"gridcolor\": \"rgb(232,232,232)\", \"gridwidth\": 2, \"linecolor\": \"rgb(36,36,36)\", \"showbackground\": true, \"showgrid\": false, \"showline\": true, \"ticks\": \"outside\", \"zeroline\": false, \"zerolinecolor\": \"rgb(36,36,36)\"}}, \"shapedefaults\": {\"fillcolor\": \"black\", \"line\": {\"width\": 0}, \"opacity\": 0.3}, \"ternary\": {\"aaxis\": {\"gridcolor\": \"rgb(232,232,232)\", \"linecolor\": \"rgb(36,36,36)\", \"showgrid\": false, \"showline\": true, \"ticks\": \"outside\"}, \"baxis\": {\"gridcolor\": \"rgb(232,232,232)\", \"linecolor\": \"rgb(36,36,36)\", \"showgrid\": false, \"showline\": true, \"ticks\": \"outside\"}, \"bgcolor\": \"white\", \"caxis\": {\"gridcolor\": \"rgb(232,232,232)\", \"linecolor\": \"rgb(36,36,36)\", \"showgrid\": false, \"showline\": true, \"ticks\": \"outside\"}}, \"title\": {\"x\": 0.05}, \"xaxis\": {\"automargin\": true, \"gridcolor\": \"rgb(232,232,232)\", \"linecolor\": \"rgb(36,36,36)\", \"showgrid\": false, \"showline\": true, \"ticks\": \"outside\", \"title\": {\"standoff\": 15}, \"zeroline\": false, \"zerolinecolor\": \"rgb(36,36,36)\"}, \"yaxis\": {\"automargin\": true, \"gridcolor\": \"rgb(232,232,232)\", \"linecolor\": \"rgb(36,36,36)\", \"showgrid\": false, \"showline\": true, \"ticks\": \"outside\", \"title\": {\"standoff\": 15}, \"zeroline\": false, \"zerolinecolor\": \"rgb(36,36,36)\"}}}, \"title\": {\"font\": {\"color\": \"Black\", \"size\": 22}, \"text\": \"<b>Topics over Time\", \"x\": 0.4, \"xanchor\": \"center\", \"y\": 0.95, \"yanchor\": \"top\"}, \"width\": 1250, \"xaxis\": {\"showgrid\": true}, \"yaxis\": {\"showgrid\": true, \"title\": {\"text\": \"Frequency\"}}},                        {\"responsive\": true}                    ).then(function(){\n",
              "                            \n",
              "var gd = document.getElementById('3fac20fd-853e-456f-96c3-e98e0b837994');\n",
              "var x = new MutationObserver(function (mutations, observer) {{\n",
              "        var display = window.getComputedStyle(gd).display;\n",
              "        if (!display || display === 'none') {{\n",
              "            console.log([gd, 'removed!']);\n",
              "            Plotly.purge(gd);\n",
              "            observer.disconnect();\n",
              "        }}\n",
              "}});\n",
              "\n",
              "// Listen for the removal of the full notebook cells\n",
              "var notebookContainer = gd.closest('#notebook-container');\n",
              "if (notebookContainer) {{\n",
              "    x.observe(notebookContainer, {childList: true});\n",
              "}}\n",
              "\n",
              "// Listen for the clearing of the current output cell\n",
              "var outputEl = gd.closest('.output');\n",
              "if (outputEl) {{\n",
              "    x.observe(outputEl, {childList: true});\n",
              "}}\n",
              "\n",
              "                        })                };                            </script>        </div>\n",
              "</body>\n",
              "</html>"
            ]
          },
          "metadata": {
            "tags": []
          }
        }
      ]
    },
    {
      "cell_type": "code",
      "metadata": {
        "id": "QiPjaXEeMys-",
        "colab": {
          "base_uri": "https://localhost:8080/",
          "height": 667
        },
        "outputId": "10f21869-4653-45d8-9c9c-94c7c4b0f108"
      },
      "source": [
        "topic_model.visualize_topics()"
      ],
      "execution_count": 21,
      "outputs": [
        {
          "output_type": "display_data",
          "data": {
            "text/html": [
              "<html>\n",
              "<head><meta charset=\"utf-8\" /></head>\n",
              "<body>\n",
              "    <div>            <script src=\"https://cdnjs.cloudflare.com/ajax/libs/mathjax/2.7.5/MathJax.js?config=TeX-AMS-MML_SVG\"></script><script type=\"text/javascript\">if (window.MathJax) {MathJax.Hub.Config({SVG: {font: \"STIX-Web\"}});}</script>                <script type=\"text/javascript\">window.PlotlyConfig = {MathJaxConfig: 'local'};</script>\n",
              "        <script src=\"https://cdn.plot.ly/plotly-latest.min.js\"></script>                <div id=\"9ec00ce6-5f52-47bc-998c-9188c5775863\" class=\"plotly-graph-div\" style=\"height:650px; width:650px;\"></div>            <script type=\"text/javascript\">                                    window.PLOTLYENV=window.PLOTLYENV || {};                                    if (document.getElementById(\"9ec00ce6-5f52-47bc-998c-9188c5775863\")) {                    Plotly.newPlot(                        \"9ec00ce6-5f52-47bc-998c-9188c5775863\",                        [{\"customdata\": [[12.924379348754883, 9.617932319641113, 0, \"sell | nfts | buy | nft | money\", 32], [12.678990364074707, 9.063725471496582, 1, \"art | artist | much | afford | auction\", 25], [2.3142476081848145, 17.288911819458008, 2, \"work | nfts | understanding | traction | sound\", 17], [2.5924670696258545, 17.01071548461914, 3, \"mint | mintable | minting | tokens | gasless\", 15], [21.465240478515625, 15.4201078414917, 4, \"item | make | packs | can | pokemon\", 11], [13.694262504577637, 9.21664047241211, 5, \"copyright | nfts | ownership | copy | duplicate\", 10], [11.330917358398438, 8.460862159729004, 6, \"foundation | upvoted | wallet | waitlist | foundations\", 7], [11.896583557128906, 8.673638343811035, 7, \"crypto | rarible | gift | unlockable | benefit\", 7], [21.159263610839844, 15.725436210632324, 8, \"marketplace | opensea | build | launch | website\", 7]], \"hovertemplate\": \"<b>Topic %{customdata[2]}</b><br>Words: %{customdata[3]}<br>Size: %{customdata[4]}\", \"legendgroup\": \"\", \"marker\": {\"color\": \"#B0BEC5\", \"line\": {\"color\": \"DarkSlateGrey\", \"width\": 2}, \"size\": [32, 25, 17, 15, 11, 10, 7, 7, 7], \"sizemode\": \"area\", \"sizeref\": 0.02, \"symbol\": \"circle\"}, \"mode\": \"markers\", \"name\": \"\", \"orientation\": \"v\", \"showlegend\": false, \"type\": \"scatter\", \"x\": [12.924379348754883, 12.678990364074707, 2.3142476081848145, 2.5924670696258545, 21.465240478515625, 13.694262504577637, 11.330917358398438, 11.896583557128906, 21.159263610839844], \"xaxis\": \"x\", \"y\": [9.617932319641113, 9.063725471496582, 17.288911819458008, 17.01071548461914, 15.4201078414917, 9.21664047241211, 8.460862159729004, 8.673638343811035, 15.725436210632324], \"yaxis\": \"y\"}],                        {\"annotations\": [{\"showarrow\": false, \"text\": \"D1\", \"x\": 1.9671104669570922, \"y\": 13.53699071407318, \"yshift\": 10}, {\"showarrow\": false, \"text\": \"D2\", \"x\": 13.32606850862503, \"xshift\": 10, \"y\": 19.88224859237671}], \"height\": 650, \"hoverlabel\": {\"bgcolor\": \"white\", \"font\": {\"family\": \"Rockwell\", \"size\": 16}}, \"legend\": {\"itemsizing\": \"constant\", \"tracegroupgap\": 0}, \"margin\": {\"t\": 60}, \"shapes\": [{\"line\": {\"color\": \"#CFD8DC\", \"width\": 2}, \"type\": \"line\", \"x0\": 13.32606850862503, \"x1\": 13.32606850862503, \"y0\": 7.1917328357696535, \"y1\": 19.88224859237671}, {\"line\": {\"color\": \"#9E9E9E\", \"width\": 2}, \"type\": \"line\", \"x0\": 1.9671104669570922, \"x1\": 24.685026550292967, \"y0\": 13.53699071407318, \"y1\": 13.53699071407318}], \"sliders\": [{\"active\": 0, \"pad\": {\"t\": 50}, \"steps\": [{\"args\": [{\"marker.color\": [[\"red\", \"#B0BEC5\", \"#B0BEC5\", \"#B0BEC5\", \"#B0BEC5\", \"#B0BEC5\", \"#B0BEC5\", \"#B0BEC5\", \"#B0BEC5\"]]}], \"label\": \"Topic 0\", \"method\": \"update\"}, {\"args\": [{\"marker.color\": [[\"#B0BEC5\", \"red\", \"#B0BEC5\", \"#B0BEC5\", \"#B0BEC5\", \"#B0BEC5\", \"#B0BEC5\", \"#B0BEC5\", \"#B0BEC5\"]]}], \"label\": \"Topic 1\", \"method\": \"update\"}, {\"args\": [{\"marker.color\": [[\"#B0BEC5\", \"#B0BEC5\", \"red\", \"#B0BEC5\", \"#B0BEC5\", \"#B0BEC5\", \"#B0BEC5\", \"#B0BEC5\", \"#B0BEC5\"]]}], \"label\": \"Topic 2\", \"method\": \"update\"}, {\"args\": [{\"marker.color\": [[\"#B0BEC5\", \"#B0BEC5\", \"#B0BEC5\", \"red\", \"#B0BEC5\", \"#B0BEC5\", \"#B0BEC5\", \"#B0BEC5\", \"#B0BEC5\"]]}], \"label\": \"Topic 3\", \"method\": \"update\"}, {\"args\": [{\"marker.color\": [[\"#B0BEC5\", \"#B0BEC5\", \"#B0BEC5\", \"#B0BEC5\", \"red\", \"#B0BEC5\", \"#B0BEC5\", \"#B0BEC5\", \"#B0BEC5\"]]}], \"label\": \"Topic 4\", \"method\": \"update\"}, {\"args\": [{\"marker.color\": [[\"#B0BEC5\", \"#B0BEC5\", \"#B0BEC5\", \"#B0BEC5\", \"#B0BEC5\", \"red\", \"#B0BEC5\", \"#B0BEC5\", \"#B0BEC5\"]]}], \"label\": \"Topic 5\", \"method\": \"update\"}, {\"args\": [{\"marker.color\": [[\"#B0BEC5\", \"#B0BEC5\", \"#B0BEC5\", \"#B0BEC5\", \"#B0BEC5\", \"#B0BEC5\", \"red\", \"#B0BEC5\", \"#B0BEC5\"]]}], \"label\": \"Topic 6\", \"method\": \"update\"}, {\"args\": [{\"marker.color\": [[\"#B0BEC5\", \"#B0BEC5\", \"#B0BEC5\", \"#B0BEC5\", \"#B0BEC5\", \"#B0BEC5\", \"#B0BEC5\", \"red\", \"#B0BEC5\"]]}], \"label\": \"Topic 7\", \"method\": \"update\"}, {\"args\": [{\"marker.color\": [[\"#B0BEC5\", \"#B0BEC5\", \"#B0BEC5\", \"#B0BEC5\", \"#B0BEC5\", \"#B0BEC5\", \"#B0BEC5\", \"#B0BEC5\", \"red\"]]}], \"label\": \"Topic 8\", \"method\": \"update\"}]}], \"template\": {\"data\": {\"bar\": [{\"error_x\": {\"color\": \"rgb(36,36,36)\"}, \"error_y\": {\"color\": \"rgb(36,36,36)\"}, \"marker\": {\"line\": {\"color\": \"white\", \"width\": 0.5}}, \"type\": \"bar\"}], \"barpolar\": [{\"marker\": {\"line\": {\"color\": \"white\", \"width\": 0.5}}, \"type\": \"barpolar\"}], \"carpet\": [{\"aaxis\": {\"endlinecolor\": \"rgb(36,36,36)\", \"gridcolor\": \"white\", \"linecolor\": \"white\", \"minorgridcolor\": \"white\", \"startlinecolor\": \"rgb(36,36,36)\"}, \"baxis\": {\"endlinecolor\": \"rgb(36,36,36)\", \"gridcolor\": \"white\", \"linecolor\": \"white\", \"minorgridcolor\": \"white\", \"startlinecolor\": \"rgb(36,36,36)\"}, \"type\": \"carpet\"}], \"choropleth\": [{\"colorbar\": {\"outlinewidth\": 1, \"tickcolor\": \"rgb(36,36,36)\", \"ticks\": \"outside\"}, \"type\": \"choropleth\"}], \"contour\": [{\"colorbar\": {\"outlinewidth\": 1, \"tickcolor\": \"rgb(36,36,36)\", \"ticks\": \"outside\"}, \"colorscale\": [[0.0, \"#440154\"], [0.1111111111111111, \"#482878\"], [0.2222222222222222, \"#3e4989\"], [0.3333333333333333, \"#31688e\"], [0.4444444444444444, \"#26828e\"], [0.5555555555555556, \"#1f9e89\"], [0.6666666666666666, \"#35b779\"], [0.7777777777777778, \"#6ece58\"], [0.8888888888888888, \"#b5de2b\"], [1.0, \"#fde725\"]], \"type\": \"contour\"}], \"contourcarpet\": [{\"colorbar\": {\"outlinewidth\": 1, \"tickcolor\": \"rgb(36,36,36)\", \"ticks\": \"outside\"}, \"type\": \"contourcarpet\"}], \"heatmap\": [{\"colorbar\": {\"outlinewidth\": 1, \"tickcolor\": \"rgb(36,36,36)\", \"ticks\": \"outside\"}, \"colorscale\": [[0.0, \"#440154\"], [0.1111111111111111, \"#482878\"], [0.2222222222222222, \"#3e4989\"], [0.3333333333333333, \"#31688e\"], [0.4444444444444444, \"#26828e\"], [0.5555555555555556, \"#1f9e89\"], [0.6666666666666666, \"#35b779\"], [0.7777777777777778, \"#6ece58\"], [0.8888888888888888, \"#b5de2b\"], [1.0, \"#fde725\"]], \"type\": \"heatmap\"}], \"heatmapgl\": [{\"colorbar\": {\"outlinewidth\": 1, \"tickcolor\": \"rgb(36,36,36)\", \"ticks\": \"outside\"}, \"colorscale\": [[0.0, \"#440154\"], [0.1111111111111111, \"#482878\"], [0.2222222222222222, \"#3e4989\"], [0.3333333333333333, \"#31688e\"], [0.4444444444444444, \"#26828e\"], [0.5555555555555556, \"#1f9e89\"], [0.6666666666666666, \"#35b779\"], [0.7777777777777778, \"#6ece58\"], [0.8888888888888888, \"#b5de2b\"], [1.0, \"#fde725\"]], \"type\": \"heatmapgl\"}], \"histogram\": [{\"marker\": {\"line\": {\"color\": \"white\", \"width\": 0.6}}, \"type\": \"histogram\"}], \"histogram2d\": [{\"colorbar\": {\"outlinewidth\": 1, \"tickcolor\": \"rgb(36,36,36)\", \"ticks\": \"outside\"}, \"colorscale\": [[0.0, \"#440154\"], [0.1111111111111111, \"#482878\"], [0.2222222222222222, \"#3e4989\"], [0.3333333333333333, \"#31688e\"], [0.4444444444444444, \"#26828e\"], [0.5555555555555556, \"#1f9e89\"], [0.6666666666666666, \"#35b779\"], [0.7777777777777778, \"#6ece58\"], [0.8888888888888888, \"#b5de2b\"], [1.0, \"#fde725\"]], \"type\": \"histogram2d\"}], \"histogram2dcontour\": [{\"colorbar\": {\"outlinewidth\": 1, \"tickcolor\": \"rgb(36,36,36)\", \"ticks\": \"outside\"}, \"colorscale\": [[0.0, \"#440154\"], [0.1111111111111111, \"#482878\"], [0.2222222222222222, \"#3e4989\"], [0.3333333333333333, \"#31688e\"], [0.4444444444444444, \"#26828e\"], [0.5555555555555556, \"#1f9e89\"], [0.6666666666666666, \"#35b779\"], [0.7777777777777778, \"#6ece58\"], [0.8888888888888888, \"#b5de2b\"], [1.0, \"#fde725\"]], \"type\": \"histogram2dcontour\"}], \"mesh3d\": [{\"colorbar\": {\"outlinewidth\": 1, \"tickcolor\": \"rgb(36,36,36)\", \"ticks\": \"outside\"}, \"type\": \"mesh3d\"}], \"parcoords\": [{\"line\": {\"colorbar\": {\"outlinewidth\": 1, \"tickcolor\": \"rgb(36,36,36)\", \"ticks\": \"outside\"}}, \"type\": \"parcoords\"}], \"pie\": [{\"automargin\": true, \"type\": \"pie\"}], \"scatter\": [{\"marker\": {\"colorbar\": {\"outlinewidth\": 1, \"tickcolor\": \"rgb(36,36,36)\", \"ticks\": \"outside\"}}, \"type\": \"scatter\"}], \"scatter3d\": [{\"line\": {\"colorbar\": {\"outlinewidth\": 1, \"tickcolor\": \"rgb(36,36,36)\", \"ticks\": \"outside\"}}, \"marker\": {\"colorbar\": {\"outlinewidth\": 1, \"tickcolor\": \"rgb(36,36,36)\", \"ticks\": \"outside\"}}, \"type\": \"scatter3d\"}], \"scattercarpet\": [{\"marker\": {\"colorbar\": {\"outlinewidth\": 1, \"tickcolor\": \"rgb(36,36,36)\", \"ticks\": \"outside\"}}, \"type\": \"scattercarpet\"}], \"scattergeo\": [{\"marker\": {\"colorbar\": {\"outlinewidth\": 1, \"tickcolor\": \"rgb(36,36,36)\", \"ticks\": \"outside\"}}, \"type\": \"scattergeo\"}], \"scattergl\": [{\"marker\": {\"colorbar\": {\"outlinewidth\": 1, \"tickcolor\": \"rgb(36,36,36)\", \"ticks\": \"outside\"}}, \"type\": \"scattergl\"}], \"scattermapbox\": [{\"marker\": {\"colorbar\": {\"outlinewidth\": 1, \"tickcolor\": \"rgb(36,36,36)\", \"ticks\": \"outside\"}}, \"type\": \"scattermapbox\"}], \"scatterpolar\": [{\"marker\": {\"colorbar\": {\"outlinewidth\": 1, \"tickcolor\": \"rgb(36,36,36)\", \"ticks\": \"outside\"}}, \"type\": \"scatterpolar\"}], \"scatterpolargl\": [{\"marker\": {\"colorbar\": {\"outlinewidth\": 1, \"tickcolor\": \"rgb(36,36,36)\", \"ticks\": \"outside\"}}, \"type\": \"scatterpolargl\"}], \"scatterternary\": [{\"marker\": {\"colorbar\": {\"outlinewidth\": 1, \"tickcolor\": \"rgb(36,36,36)\", \"ticks\": \"outside\"}}, \"type\": \"scatterternary\"}], \"surface\": [{\"colorbar\": {\"outlinewidth\": 1, \"tickcolor\": \"rgb(36,36,36)\", \"ticks\": \"outside\"}, \"colorscale\": [[0.0, \"#440154\"], [0.1111111111111111, \"#482878\"], [0.2222222222222222, \"#3e4989\"], [0.3333333333333333, \"#31688e\"], [0.4444444444444444, \"#26828e\"], [0.5555555555555556, \"#1f9e89\"], [0.6666666666666666, \"#35b779\"], [0.7777777777777778, \"#6ece58\"], [0.8888888888888888, \"#b5de2b\"], [1.0, \"#fde725\"]], \"type\": \"surface\"}], \"table\": [{\"cells\": {\"fill\": {\"color\": \"rgb(237,237,237)\"}, \"line\": {\"color\": \"white\"}}, \"header\": {\"fill\": {\"color\": \"rgb(217,217,217)\"}, \"line\": {\"color\": \"white\"}}, \"type\": \"table\"}]}, \"layout\": {\"annotationdefaults\": {\"arrowhead\": 0, \"arrowwidth\": 1}, \"autotypenumbers\": \"strict\", \"coloraxis\": {\"colorbar\": {\"outlinewidth\": 1, \"tickcolor\": \"rgb(36,36,36)\", \"ticks\": \"outside\"}}, \"colorscale\": {\"diverging\": [[0.0, \"rgb(103,0,31)\"], [0.1, \"rgb(178,24,43)\"], [0.2, \"rgb(214,96,77)\"], [0.3, \"rgb(244,165,130)\"], [0.4, \"rgb(253,219,199)\"], [0.5, \"rgb(247,247,247)\"], [0.6, \"rgb(209,229,240)\"], [0.7, \"rgb(146,197,222)\"], [0.8, \"rgb(67,147,195)\"], [0.9, \"rgb(33,102,172)\"], [1.0, \"rgb(5,48,97)\"]], \"sequential\": [[0.0, \"#440154\"], [0.1111111111111111, \"#482878\"], [0.2222222222222222, \"#3e4989\"], [0.3333333333333333, \"#31688e\"], [0.4444444444444444, \"#26828e\"], [0.5555555555555556, \"#1f9e89\"], [0.6666666666666666, \"#35b779\"], [0.7777777777777778, \"#6ece58\"], [0.8888888888888888, \"#b5de2b\"], [1.0, \"#fde725\"]], \"sequentialminus\": [[0.0, \"#440154\"], [0.1111111111111111, \"#482878\"], [0.2222222222222222, \"#3e4989\"], [0.3333333333333333, \"#31688e\"], [0.4444444444444444, \"#26828e\"], [0.5555555555555556, \"#1f9e89\"], [0.6666666666666666, \"#35b779\"], [0.7777777777777778, \"#6ece58\"], [0.8888888888888888, \"#b5de2b\"], [1.0, \"#fde725\"]]}, \"colorway\": [\"#1F77B4\", \"#FF7F0E\", \"#2CA02C\", \"#D62728\", \"#9467BD\", \"#8C564B\", \"#E377C2\", \"#7F7F7F\", \"#BCBD22\", \"#17BECF\"], \"font\": {\"color\": \"rgb(36,36,36)\"}, \"geo\": {\"bgcolor\": \"white\", \"lakecolor\": \"white\", \"landcolor\": \"white\", \"showlakes\": true, \"showland\": true, \"subunitcolor\": \"white\"}, \"hoverlabel\": {\"align\": \"left\"}, \"hovermode\": \"closest\", \"mapbox\": {\"style\": \"light\"}, \"paper_bgcolor\": \"white\", \"plot_bgcolor\": \"white\", \"polar\": {\"angularaxis\": {\"gridcolor\": \"rgb(232,232,232)\", \"linecolor\": \"rgb(36,36,36)\", \"showgrid\": false, \"showline\": true, \"ticks\": \"outside\"}, \"bgcolor\": \"white\", \"radialaxis\": {\"gridcolor\": \"rgb(232,232,232)\", \"linecolor\": \"rgb(36,36,36)\", \"showgrid\": false, \"showline\": true, \"ticks\": \"outside\"}}, \"scene\": {\"xaxis\": {\"backgroundcolor\": \"white\", \"gridcolor\": \"rgb(232,232,232)\", \"gridwidth\": 2, \"linecolor\": \"rgb(36,36,36)\", \"showbackground\": true, \"showgrid\": false, \"showline\": true, \"ticks\": \"outside\", \"zeroline\": false, \"zerolinecolor\": \"rgb(36,36,36)\"}, \"yaxis\": {\"backgroundcolor\": \"white\", \"gridcolor\": \"rgb(232,232,232)\", \"gridwidth\": 2, \"linecolor\": \"rgb(36,36,36)\", \"showbackground\": true, \"showgrid\": false, \"showline\": true, \"ticks\": \"outside\", \"zeroline\": false, \"zerolinecolor\": \"rgb(36,36,36)\"}, \"zaxis\": {\"backgroundcolor\": \"white\", \"gridcolor\": \"rgb(232,232,232)\", \"gridwidth\": 2, \"linecolor\": \"rgb(36,36,36)\", \"showbackground\": true, \"showgrid\": false, \"showline\": true, \"ticks\": \"outside\", \"zeroline\": false, \"zerolinecolor\": \"rgb(36,36,36)\"}}, \"shapedefaults\": {\"fillcolor\": \"black\", \"line\": {\"width\": 0}, \"opacity\": 0.3}, \"ternary\": {\"aaxis\": {\"gridcolor\": \"rgb(232,232,232)\", \"linecolor\": \"rgb(36,36,36)\", \"showgrid\": false, \"showline\": true, \"ticks\": \"outside\"}, \"baxis\": {\"gridcolor\": \"rgb(232,232,232)\", \"linecolor\": \"rgb(36,36,36)\", \"showgrid\": false, \"showline\": true, \"ticks\": \"outside\"}, \"bgcolor\": \"white\", \"caxis\": {\"gridcolor\": \"rgb(232,232,232)\", \"linecolor\": \"rgb(36,36,36)\", \"showgrid\": false, \"showline\": true, \"ticks\": \"outside\"}}, \"title\": {\"x\": 0.05}, \"xaxis\": {\"automargin\": true, \"gridcolor\": \"rgb(232,232,232)\", \"linecolor\": \"rgb(36,36,36)\", \"showgrid\": false, \"showline\": true, \"ticks\": \"outside\", \"title\": {\"standoff\": 15}, \"zeroline\": false, \"zerolinecolor\": \"rgb(36,36,36)\"}, \"yaxis\": {\"automargin\": true, \"gridcolor\": \"rgb(232,232,232)\", \"linecolor\": \"rgb(36,36,36)\", \"showgrid\": false, \"showline\": true, \"ticks\": \"outside\", \"title\": {\"standoff\": 15}, \"zeroline\": false, \"zerolinecolor\": \"rgb(36,36,36)\"}}}, \"title\": {\"font\": {\"color\": \"Black\", \"size\": 22}, \"text\": \"<b>Intertopic Distance Map\", \"x\": 0.5, \"xanchor\": \"center\", \"y\": 0.95, \"yanchor\": \"top\"}, \"width\": 650, \"xaxis\": {\"anchor\": \"y\", \"domain\": [0.0, 1.0], \"range\": [1.9671104669570922, 24.685026550292967], \"title\": {\"text\": \"\"}, \"visible\": false}, \"yaxis\": {\"anchor\": \"x\", \"domain\": [0.0, 1.0], \"range\": [7.1917328357696535, 19.88224859237671], \"title\": {\"text\": \"\"}, \"visible\": false}},                        {\"responsive\": true}                    ).then(function(){\n",
              "                            \n",
              "var gd = document.getElementById('9ec00ce6-5f52-47bc-998c-9188c5775863');\n",
              "var x = new MutationObserver(function (mutations, observer) {{\n",
              "        var display = window.getComputedStyle(gd).display;\n",
              "        if (!display || display === 'none') {{\n",
              "            console.log([gd, 'removed!']);\n",
              "            Plotly.purge(gd);\n",
              "            observer.disconnect();\n",
              "        }}\n",
              "}});\n",
              "\n",
              "// Listen for the removal of the full notebook cells\n",
              "var notebookContainer = gd.closest('#notebook-container');\n",
              "if (notebookContainer) {{\n",
              "    x.observe(notebookContainer, {childList: true});\n",
              "}}\n",
              "\n",
              "// Listen for the clearing of the current output cell\n",
              "var outputEl = gd.closest('.output');\n",
              "if (outputEl) {{\n",
              "    x.observe(outputEl, {childList: true});\n",
              "}}\n",
              "\n",
              "                        })                };                            </script>        </div>\n",
              "</body>\n",
              "</html>"
            ]
          },
          "metadata": {
            "tags": []
          }
        }
      ]
    },
    {
      "cell_type": "code",
      "metadata": {
        "id": "SZmZg9BrG5Vt",
        "colab": {
          "base_uri": "https://localhost:8080/",
          "height": 817
        },
        "outputId": "4de4d46a-b289-486e-e247-16c16210f346"
      },
      "source": [
        "topic_model.visualize_heatmap()"
      ],
      "execution_count": 22,
      "outputs": [
        {
          "output_type": "display_data",
          "data": {
            "text/html": [
              "<html>\n",
              "<head><meta charset=\"utf-8\" /></head>\n",
              "<body>\n",
              "    <div>            <script src=\"https://cdnjs.cloudflare.com/ajax/libs/mathjax/2.7.5/MathJax.js?config=TeX-AMS-MML_SVG\"></script><script type=\"text/javascript\">if (window.MathJax) {MathJax.Hub.Config({SVG: {font: \"STIX-Web\"}});}</script>                <script type=\"text/javascript\">window.PlotlyConfig = {MathJaxConfig: 'local'};</script>\n",
              "        <script src=\"https://cdn.plot.ly/plotly-latest.min.js\"></script>                <div id=\"13052034-4a79-412f-8fb4-ca7903bcfd31\" class=\"plotly-graph-div\" style=\"height:800px; width:800px;\"></div>            <script type=\"text/javascript\">                                    window.PLOTLYENV=window.PLOTLYENV || {};                                    if (document.getElementById(\"13052034-4a79-412f-8fb4-ca7903bcfd31\")) {                    Plotly.newPlot(                        \"13052034-4a79-412f-8fb4-ca7903bcfd31\",                        [{\"coloraxis\": \"coloraxis\", \"hovertemplate\": \"x: %{x}<br>y: %{y}<br>Similarity Score: %{z}<extra></extra>\", \"name\": \"0\", \"type\": \"heatmap\", \"x\": [\"-1_nfts_collectors_nft\", \"0_sell_nfts_buy\", \"1_art_artist_much\", \"2_work_nfts_understanding\", \"3_mint_mintable_minting\", \"4_item_make_packs\", \"5_copyright_nfts_ownership\", \"6_foundation_upvoted_wallet\", \"7_crypto_rarible_gift\", \"8_marketplace_opensea_build\"], \"xaxis\": \"x\", \"y\": [\"-1_nfts_collectors_nft\", \"0_sell_nfts_buy\", \"1_art_artist_much\", \"2_work_nfts_understanding\", \"3_mint_mintable_minting\", \"4_item_make_packs\", \"5_copyright_nfts_ownership\", \"6_foundation_upvoted_wallet\", \"7_crypto_rarible_gift\", \"8_marketplace_opensea_build\"], \"yaxis\": \"y\", \"z\": [[0.9999999999999996, 0.7273709942908628, 0.5640257212883898, 0.7119988376592596, 0.42703108834669035, 0.6681734647478255, 0.5697854018947953, 0.5062080665788687, 0.5850322731808187, 0.6448722349834581], [0.7273709942908628, 1.0000000000000004, 0.7521162483397208, 0.5644828924699714, 0.41264740554121293, 0.6237926012791868, 0.5196191405223995, 0.44252631572313494, 0.5161022397847955, 0.6410398836889827], [0.5640257212883898, 0.7521162483397208, 1.0, 0.4738244206984885, 0.41773558591438237, 0.6718342974918449, 0.4464428819476117, 0.42128597982277727, 0.5457108956451036, 0.5424920687643096], [0.7119988376592596, 0.5644828924699714, 0.4738244206984885, 0.9999999999999998, 0.3259568013129787, 0.6042595760675656, 0.424757166368282, 0.5136140648526687, 0.5197539730764928, 0.5167203589421746], [0.42703108834669035, 0.41264740554121293, 0.41773558591438237, 0.3259568013129787, 1.0000000000000002, 0.49891031630161, 0.3271128713327185, 0.33460257344530075, 0.4190316128592919, 0.3044165709866376], [0.6681734647478255, 0.6237926012791868, 0.6718342974918449, 0.6042595760675656, 0.49891031630161, 1.0000000000000004, 0.44980451520482595, 0.4928148579212048, 0.6082043032773521, 0.4941068485225129], [0.5697854018947953, 0.5196191405223995, 0.4464428819476117, 0.424757166368282, 0.3271128713327185, 0.44980451520482595, 1.0, 0.4857264013650307, 0.5590077048507245, 0.45826511839981116], [0.5062080665788687, 0.44252631572313494, 0.42128597982277727, 0.5136140648526687, 0.33460257344530075, 0.4928148579212048, 0.4857264013650307, 0.9999999999999998, 0.5308793437516895, 0.569730306758413], [0.5850322731808187, 0.5161022397847955, 0.5457108956451036, 0.5197539730764928, 0.4190316128592919, 0.6082043032773521, 0.5590077048507245, 0.5308793437516895, 1.0000000000000004, 0.5011937320287787], [0.6448722349834581, 0.6410398836889827, 0.5424920687643096, 0.5167203589421746, 0.3044165709866376, 0.4941068485225129, 0.45826511839981116, 0.569730306758413, 0.5011937320287787, 0.9999999999999993]]}],                        {\"coloraxis\": {\"colorbar\": {\"title\": {\"text\": \"Similarity Score\"}}, \"colorscale\": [[0.0, \"rgb(247,252,240)\"], [0.125, \"rgb(224,243,219)\"], [0.25, \"rgb(204,235,197)\"], [0.375, \"rgb(168,221,181)\"], [0.5, \"rgb(123,204,196)\"], [0.625, \"rgb(78,179,211)\"], [0.75, \"rgb(43,140,190)\"], [0.875, \"rgb(8,104,172)\"], [1.0, \"rgb(8,64,129)\"]]}, \"height\": 800, \"hoverlabel\": {\"bgcolor\": \"white\", \"font\": {\"family\": \"Rockwell\", \"size\": 16}}, \"legend\": {\"title\": {\"text\": \"Trend\"}}, \"margin\": {\"t\": 60}, \"showlegend\": true, \"template\": {\"data\": {\"bar\": [{\"error_x\": {\"color\": \"#2a3f5f\"}, \"error_y\": {\"color\": \"#2a3f5f\"}, \"marker\": {\"line\": {\"color\": \"#E5ECF6\", \"width\": 0.5}}, \"type\": \"bar\"}], \"barpolar\": [{\"marker\": {\"line\": {\"color\": \"#E5ECF6\", \"width\": 0.5}}, \"type\": \"barpolar\"}], \"carpet\": [{\"aaxis\": {\"endlinecolor\": \"#2a3f5f\", \"gridcolor\": \"white\", \"linecolor\": \"white\", \"minorgridcolor\": \"white\", \"startlinecolor\": \"#2a3f5f\"}, \"baxis\": {\"endlinecolor\": \"#2a3f5f\", \"gridcolor\": \"white\", \"linecolor\": \"white\", \"minorgridcolor\": \"white\", \"startlinecolor\": \"#2a3f5f\"}, \"type\": \"carpet\"}], \"choropleth\": [{\"colorbar\": {\"outlinewidth\": 0, \"ticks\": \"\"}, \"type\": \"choropleth\"}], \"contour\": [{\"colorbar\": {\"outlinewidth\": 0, \"ticks\": \"\"}, \"colorscale\": [[0.0, \"#0d0887\"], [0.1111111111111111, \"#46039f\"], [0.2222222222222222, \"#7201a8\"], [0.3333333333333333, \"#9c179e\"], [0.4444444444444444, \"#bd3786\"], [0.5555555555555556, \"#d8576b\"], [0.6666666666666666, \"#ed7953\"], [0.7777777777777778, \"#fb9f3a\"], [0.8888888888888888, \"#fdca26\"], [1.0, \"#f0f921\"]], \"type\": \"contour\"}], \"contourcarpet\": [{\"colorbar\": {\"outlinewidth\": 0, \"ticks\": \"\"}, \"type\": \"contourcarpet\"}], \"heatmap\": [{\"colorbar\": {\"outlinewidth\": 0, \"ticks\": \"\"}, \"colorscale\": [[0.0, \"#0d0887\"], [0.1111111111111111, \"#46039f\"], [0.2222222222222222, \"#7201a8\"], [0.3333333333333333, \"#9c179e\"], [0.4444444444444444, \"#bd3786\"], [0.5555555555555556, \"#d8576b\"], [0.6666666666666666, \"#ed7953\"], [0.7777777777777778, \"#fb9f3a\"], [0.8888888888888888, \"#fdca26\"], [1.0, \"#f0f921\"]], \"type\": \"heatmap\"}], \"heatmapgl\": [{\"colorbar\": {\"outlinewidth\": 0, \"ticks\": \"\"}, \"colorscale\": [[0.0, \"#0d0887\"], [0.1111111111111111, \"#46039f\"], [0.2222222222222222, \"#7201a8\"], [0.3333333333333333, \"#9c179e\"], [0.4444444444444444, \"#bd3786\"], [0.5555555555555556, \"#d8576b\"], [0.6666666666666666, \"#ed7953\"], [0.7777777777777778, \"#fb9f3a\"], [0.8888888888888888, \"#fdca26\"], [1.0, \"#f0f921\"]], \"type\": \"heatmapgl\"}], \"histogram\": [{\"marker\": {\"colorbar\": {\"outlinewidth\": 0, \"ticks\": \"\"}}, \"type\": \"histogram\"}], \"histogram2d\": [{\"colorbar\": {\"outlinewidth\": 0, \"ticks\": \"\"}, \"colorscale\": [[0.0, \"#0d0887\"], [0.1111111111111111, \"#46039f\"], [0.2222222222222222, \"#7201a8\"], [0.3333333333333333, \"#9c179e\"], [0.4444444444444444, \"#bd3786\"], [0.5555555555555556, \"#d8576b\"], [0.6666666666666666, \"#ed7953\"], [0.7777777777777778, \"#fb9f3a\"], [0.8888888888888888, \"#fdca26\"], [1.0, \"#f0f921\"]], \"type\": \"histogram2d\"}], \"histogram2dcontour\": [{\"colorbar\": {\"outlinewidth\": 0, \"ticks\": \"\"}, \"colorscale\": [[0.0, \"#0d0887\"], [0.1111111111111111, \"#46039f\"], [0.2222222222222222, \"#7201a8\"], [0.3333333333333333, \"#9c179e\"], [0.4444444444444444, \"#bd3786\"], [0.5555555555555556, \"#d8576b\"], [0.6666666666666666, \"#ed7953\"], [0.7777777777777778, \"#fb9f3a\"], [0.8888888888888888, \"#fdca26\"], [1.0, \"#f0f921\"]], \"type\": \"histogram2dcontour\"}], \"mesh3d\": [{\"colorbar\": {\"outlinewidth\": 0, \"ticks\": \"\"}, \"type\": \"mesh3d\"}], \"parcoords\": [{\"line\": {\"colorbar\": {\"outlinewidth\": 0, \"ticks\": \"\"}}, \"type\": \"parcoords\"}], \"pie\": [{\"automargin\": true, \"type\": \"pie\"}], \"scatter\": [{\"marker\": {\"colorbar\": {\"outlinewidth\": 0, \"ticks\": \"\"}}, \"type\": \"scatter\"}], \"scatter3d\": [{\"line\": {\"colorbar\": {\"outlinewidth\": 0, \"ticks\": \"\"}}, \"marker\": {\"colorbar\": {\"outlinewidth\": 0, \"ticks\": \"\"}}, \"type\": \"scatter3d\"}], \"scattercarpet\": [{\"marker\": {\"colorbar\": {\"outlinewidth\": 0, \"ticks\": \"\"}}, \"type\": \"scattercarpet\"}], \"scattergeo\": [{\"marker\": {\"colorbar\": {\"outlinewidth\": 0, \"ticks\": \"\"}}, \"type\": \"scattergeo\"}], \"scattergl\": [{\"marker\": {\"colorbar\": {\"outlinewidth\": 0, \"ticks\": \"\"}}, \"type\": \"scattergl\"}], \"scattermapbox\": [{\"marker\": {\"colorbar\": {\"outlinewidth\": 0, \"ticks\": \"\"}}, \"type\": \"scattermapbox\"}], \"scatterpolar\": [{\"marker\": {\"colorbar\": {\"outlinewidth\": 0, \"ticks\": \"\"}}, \"type\": \"scatterpolar\"}], \"scatterpolargl\": [{\"marker\": {\"colorbar\": {\"outlinewidth\": 0, \"ticks\": \"\"}}, \"type\": \"scatterpolargl\"}], \"scatterternary\": [{\"marker\": {\"colorbar\": {\"outlinewidth\": 0, \"ticks\": \"\"}}, \"type\": \"scatterternary\"}], \"surface\": [{\"colorbar\": {\"outlinewidth\": 0, \"ticks\": \"\"}, \"colorscale\": [[0.0, \"#0d0887\"], [0.1111111111111111, \"#46039f\"], [0.2222222222222222, \"#7201a8\"], [0.3333333333333333, \"#9c179e\"], [0.4444444444444444, \"#bd3786\"], [0.5555555555555556, \"#d8576b\"], [0.6666666666666666, \"#ed7953\"], [0.7777777777777778, \"#fb9f3a\"], [0.8888888888888888, \"#fdca26\"], [1.0, \"#f0f921\"]], \"type\": \"surface\"}], \"table\": [{\"cells\": {\"fill\": {\"color\": \"#EBF0F8\"}, \"line\": {\"color\": \"white\"}}, \"header\": {\"fill\": {\"color\": \"#C8D4E3\"}, \"line\": {\"color\": \"white\"}}, \"type\": \"table\"}]}, \"layout\": {\"annotationdefaults\": {\"arrowcolor\": \"#2a3f5f\", \"arrowhead\": 0, \"arrowwidth\": 1}, \"autotypenumbers\": \"strict\", \"coloraxis\": {\"colorbar\": {\"outlinewidth\": 0, \"ticks\": \"\"}}, \"colorscale\": {\"diverging\": [[0, \"#8e0152\"], [0.1, \"#c51b7d\"], [0.2, \"#de77ae\"], [0.3, \"#f1b6da\"], [0.4, \"#fde0ef\"], [0.5, \"#f7f7f7\"], [0.6, \"#e6f5d0\"], [0.7, \"#b8e186\"], [0.8, \"#7fbc41\"], [0.9, \"#4d9221\"], [1, \"#276419\"]], \"sequential\": [[0.0, \"#0d0887\"], [0.1111111111111111, \"#46039f\"], [0.2222222222222222, \"#7201a8\"], [0.3333333333333333, \"#9c179e\"], [0.4444444444444444, \"#bd3786\"], [0.5555555555555556, \"#d8576b\"], [0.6666666666666666, \"#ed7953\"], [0.7777777777777778, \"#fb9f3a\"], [0.8888888888888888, \"#fdca26\"], [1.0, \"#f0f921\"]], \"sequentialminus\": [[0.0, \"#0d0887\"], [0.1111111111111111, \"#46039f\"], [0.2222222222222222, \"#7201a8\"], [0.3333333333333333, \"#9c179e\"], [0.4444444444444444, \"#bd3786\"], [0.5555555555555556, \"#d8576b\"], [0.6666666666666666, \"#ed7953\"], [0.7777777777777778, \"#fb9f3a\"], [0.8888888888888888, \"#fdca26\"], [1.0, \"#f0f921\"]]}, \"colorway\": [\"#636efa\", \"#EF553B\", \"#00cc96\", \"#ab63fa\", \"#FFA15A\", \"#19d3f3\", \"#FF6692\", \"#B6E880\", \"#FF97FF\", \"#FECB52\"], \"font\": {\"color\": \"#2a3f5f\"}, \"geo\": {\"bgcolor\": \"white\", \"lakecolor\": \"white\", \"landcolor\": \"#E5ECF6\", \"showlakes\": true, \"showland\": true, \"subunitcolor\": \"white\"}, \"hoverlabel\": {\"align\": \"left\"}, \"hovermode\": \"closest\", \"mapbox\": {\"style\": \"light\"}, \"paper_bgcolor\": \"white\", \"plot_bgcolor\": \"#E5ECF6\", \"polar\": {\"angularaxis\": {\"gridcolor\": \"white\", \"linecolor\": \"white\", \"ticks\": \"\"}, \"bgcolor\": \"#E5ECF6\", \"radialaxis\": {\"gridcolor\": \"white\", \"linecolor\": \"white\", \"ticks\": \"\"}}, \"scene\": {\"xaxis\": {\"backgroundcolor\": \"#E5ECF6\", \"gridcolor\": \"white\", \"gridwidth\": 2, \"linecolor\": \"white\", \"showbackground\": true, \"ticks\": \"\", \"zerolinecolor\": \"white\"}, \"yaxis\": {\"backgroundcolor\": \"#E5ECF6\", \"gridcolor\": \"white\", \"gridwidth\": 2, \"linecolor\": \"white\", \"showbackground\": true, \"ticks\": \"\", \"zerolinecolor\": \"white\"}, \"zaxis\": {\"backgroundcolor\": \"#E5ECF6\", \"gridcolor\": \"white\", \"gridwidth\": 2, \"linecolor\": \"white\", \"showbackground\": true, \"ticks\": \"\", \"zerolinecolor\": \"white\"}}, \"shapedefaults\": {\"line\": {\"color\": \"#2a3f5f\"}}, \"ternary\": {\"aaxis\": {\"gridcolor\": \"white\", \"linecolor\": \"white\", \"ticks\": \"\"}, \"baxis\": {\"gridcolor\": \"white\", \"linecolor\": \"white\", \"ticks\": \"\"}, \"bgcolor\": \"#E5ECF6\", \"caxis\": {\"gridcolor\": \"white\", \"linecolor\": \"white\", \"ticks\": \"\"}}, \"title\": {\"x\": 0.05}, \"xaxis\": {\"automargin\": true, \"gridcolor\": \"white\", \"linecolor\": \"white\", \"ticks\": \"\", \"title\": {\"standoff\": 15}, \"zerolinecolor\": \"white\", \"zerolinewidth\": 2}, \"yaxis\": {\"automargin\": true, \"gridcolor\": \"white\", \"linecolor\": \"white\", \"ticks\": \"\", \"title\": {\"standoff\": 15}, \"zerolinecolor\": \"white\", \"zerolinewidth\": 2}}}, \"title\": {\"font\": {\"color\": \"Black\", \"size\": 22}, \"text\": \"<b>Similarity Matrix\", \"x\": 0.55, \"xanchor\": \"center\", \"y\": 0.95, \"yanchor\": \"top\"}, \"width\": 800, \"xaxis\": {\"anchor\": \"y\", \"constrain\": \"domain\", \"domain\": [0.0, 1.0], \"scaleanchor\": \"y\"}, \"yaxis\": {\"anchor\": \"x\", \"autorange\": \"reversed\", \"constrain\": \"domain\", \"domain\": [0.0, 1.0]}},                        {\"responsive\": true}                    ).then(function(){\n",
              "                            \n",
              "var gd = document.getElementById('13052034-4a79-412f-8fb4-ca7903bcfd31');\n",
              "var x = new MutationObserver(function (mutations, observer) {{\n",
              "        var display = window.getComputedStyle(gd).display;\n",
              "        if (!display || display === 'none') {{\n",
              "            console.log([gd, 'removed!']);\n",
              "            Plotly.purge(gd);\n",
              "            observer.disconnect();\n",
              "        }}\n",
              "}});\n",
              "\n",
              "// Listen for the removal of the full notebook cells\n",
              "var notebookContainer = gd.closest('#notebook-container');\n",
              "if (notebookContainer) {{\n",
              "    x.observe(notebookContainer, {childList: true});\n",
              "}}\n",
              "\n",
              "// Listen for the clearing of the current output cell\n",
              "var outputEl = gd.closest('.output');\n",
              "if (outputEl) {{\n",
              "    x.observe(outputEl, {childList: true});\n",
              "}}\n",
              "\n",
              "                        })                };                            </script>        </div>\n",
              "</body>\n",
              "</html>"
            ]
          },
          "metadata": {
            "tags": []
          }
        }
      ]
    },
    {
      "cell_type": "code",
      "metadata": {
        "id": "iagobgBQHBC1",
        "colab": {
          "base_uri": "https://localhost:8080/",
          "height": 617
        },
        "outputId": "93991245-7430-4e62-b62a-4e972e2a5563"
      },
      "source": [
        "topic_model.visualize_hierarchy()"
      ],
      "execution_count": 23,
      "outputs": [
        {
          "output_type": "display_data",
          "data": {
            "text/html": [
              "<html>\n",
              "<head><meta charset=\"utf-8\" /></head>\n",
              "<body>\n",
              "    <div>            <script src=\"https://cdnjs.cloudflare.com/ajax/libs/mathjax/2.7.5/MathJax.js?config=TeX-AMS-MML_SVG\"></script><script type=\"text/javascript\">if (window.MathJax) {MathJax.Hub.Config({SVG: {font: \"STIX-Web\"}});}</script>                <script type=\"text/javascript\">window.PlotlyConfig = {MathJaxConfig: 'local'};</script>\n",
              "        <script src=\"https://cdn.plot.ly/plotly-latest.min.js\"></script>                <div id=\"0a1f51a8-6dca-4bc8-8319-4f77f8e4451a\" class=\"plotly-graph-div\" style=\"height:600px; width:1000px;\"></div>            <script type=\"text/javascript\">                                    window.PLOTLYENV=window.PLOTLYENV || {};                                    if (document.getElementById(\"0a1f51a8-6dca-4bc8-8319-4f77f8e4451a\")) {                    Plotly.newPlot(                        \"0a1f51a8-6dca-4bc8-8319-4f77f8e4451a\",                        [{\"hoverinfo\": \"text\", \"marker\": {\"color\": \"rgb(61,153,112)\"}, \"mode\": \"lines\", \"type\": \"scatter\", \"x\": [0.0, 0.506587940771925, 0.506587940771925, 0.0], \"xaxis\": \"x\", \"y\": [-15.0, -15.0, -25.0, -25.0], \"yaxis\": \"y\"}, {\"hoverinfo\": \"text\", \"marker\": {\"color\": \"rgb(61,153,112)\"}, \"mode\": \"lines\", \"type\": \"scatter\", \"x\": [0.0, 0.42014461862731095, 0.42014461862731095, 0.0], \"xaxis\": \"x\", \"y\": [-45.0, -45.0, -55.0, -55.0], \"yaxis\": \"y\"}, {\"hoverinfo\": \"text\", \"marker\": {\"color\": \"rgb(61,153,112)\"}, \"mode\": \"lines\", \"type\": \"scatter\", \"x\": [0.0, 0.5938167359217568, 0.5938167359217568, 0.42014461862731095], \"xaxis\": \"x\", \"y\": [-35.0, -35.0, -50.0, -50.0], \"yaxis\": \"y\"}, {\"hoverinfo\": \"text\", \"marker\": {\"color\": \"rgb(61,153,112)\"}, \"mode\": \"lines\", \"type\": \"scatter\", \"x\": [0.506587940771925, 0.800054053253738, 0.800054053253738, 0.5938167359217568], \"xaxis\": \"x\", \"y\": [-20.0, -20.0, -42.5, -42.5], \"yaxis\": \"y\"}, {\"hoverinfo\": \"text\", \"marker\": {\"color\": \"rgb(255,65,54)\"}, \"mode\": \"lines\", \"type\": \"scatter\", \"x\": [0.0, 0.6674526037439613, 0.6674526037439613, 0.0], \"xaxis\": \"x\", \"y\": [-65.0, -65.0, -75.0, -75.0], \"yaxis\": \"y\"}, {\"hoverinfo\": \"text\", \"marker\": {\"color\": \"rgb(255,65,54)\"}, \"mode\": \"lines\", \"type\": \"scatter\", \"x\": [0.0, 0.6679432556432966, 0.6679432556432966, 0.0], \"xaxis\": \"x\", \"y\": [-85.0, -85.0, -95.0, -95.0], \"yaxis\": \"y\"}, {\"hoverinfo\": \"text\", \"marker\": {\"color\": \"rgb(255,65,54)\"}, \"mode\": \"lines\", \"type\": \"scatter\", \"x\": [0.6674526037439613, 0.8250109608541913, 0.8250109608541913, 0.6679432556432966], \"xaxis\": \"x\", \"y\": [-70.0, -70.0, -90.0, -90.0], \"yaxis\": \"y\"}, {\"hoverinfo\": \"text\", \"marker\": {\"color\": \"rgb(0,116,217)\"}, \"mode\": \"lines\", \"type\": \"scatter\", \"x\": [0.800054053253738, 1.0494706597980519, 1.0494706597980519, 0.8250109608541913], \"xaxis\": \"x\", \"y\": [-31.25, -31.25, -80.0, -80.0], \"yaxis\": \"y\"}, {\"hoverinfo\": \"text\", \"marker\": {\"color\": \"rgb(0,116,217)\"}, \"mode\": \"lines\", \"type\": \"scatter\", \"x\": [0.0, 1.2142764681364864, 1.2142764681364864, 1.0494706597980519], \"xaxis\": \"x\", \"y\": [-5.0, -5.0, -55.625, -55.625], \"yaxis\": \"y\"}],                        {\"autosize\": false, \"height\": 600, \"hoverlabel\": {\"bgcolor\": \"white\", \"font\": {\"family\": \"Rockwell\", \"size\": 16}}, \"hovermode\": \"closest\", \"plot_bgcolor\": \"#ECEFF1\", \"showlegend\": false, \"template\": {\"data\": {\"bar\": [{\"error_x\": {\"color\": \"#2a3f5f\"}, \"error_y\": {\"color\": \"#2a3f5f\"}, \"marker\": {\"line\": {\"color\": \"white\", \"width\": 0.5}}, \"type\": \"bar\"}], \"barpolar\": [{\"marker\": {\"line\": {\"color\": \"white\", \"width\": 0.5}}, \"type\": \"barpolar\"}], \"carpet\": [{\"aaxis\": {\"endlinecolor\": \"#2a3f5f\", \"gridcolor\": \"#C8D4E3\", \"linecolor\": \"#C8D4E3\", \"minorgridcolor\": \"#C8D4E3\", \"startlinecolor\": \"#2a3f5f\"}, \"baxis\": {\"endlinecolor\": \"#2a3f5f\", \"gridcolor\": \"#C8D4E3\", \"linecolor\": \"#C8D4E3\", \"minorgridcolor\": \"#C8D4E3\", \"startlinecolor\": \"#2a3f5f\"}, \"type\": \"carpet\"}], \"choropleth\": [{\"colorbar\": {\"outlinewidth\": 0, \"ticks\": \"\"}, \"type\": \"choropleth\"}], \"contour\": [{\"colorbar\": {\"outlinewidth\": 0, \"ticks\": \"\"}, \"colorscale\": [[0.0, \"#0d0887\"], [0.1111111111111111, \"#46039f\"], [0.2222222222222222, \"#7201a8\"], [0.3333333333333333, \"#9c179e\"], [0.4444444444444444, \"#bd3786\"], [0.5555555555555556, \"#d8576b\"], [0.6666666666666666, \"#ed7953\"], [0.7777777777777778, \"#fb9f3a\"], [0.8888888888888888, \"#fdca26\"], [1.0, \"#f0f921\"]], \"type\": \"contour\"}], \"contourcarpet\": [{\"colorbar\": {\"outlinewidth\": 0, \"ticks\": \"\"}, \"type\": \"contourcarpet\"}], \"heatmap\": [{\"colorbar\": {\"outlinewidth\": 0, \"ticks\": \"\"}, \"colorscale\": [[0.0, \"#0d0887\"], [0.1111111111111111, \"#46039f\"], [0.2222222222222222, \"#7201a8\"], [0.3333333333333333, \"#9c179e\"], [0.4444444444444444, \"#bd3786\"], [0.5555555555555556, \"#d8576b\"], [0.6666666666666666, \"#ed7953\"], [0.7777777777777778, \"#fb9f3a\"], [0.8888888888888888, \"#fdca26\"], [1.0, \"#f0f921\"]], \"type\": \"heatmap\"}], \"heatmapgl\": [{\"colorbar\": {\"outlinewidth\": 0, \"ticks\": \"\"}, \"colorscale\": [[0.0, \"#0d0887\"], [0.1111111111111111, \"#46039f\"], [0.2222222222222222, \"#7201a8\"], [0.3333333333333333, \"#9c179e\"], [0.4444444444444444, \"#bd3786\"], [0.5555555555555556, \"#d8576b\"], [0.6666666666666666, \"#ed7953\"], [0.7777777777777778, \"#fb9f3a\"], [0.8888888888888888, \"#fdca26\"], [1.0, \"#f0f921\"]], \"type\": \"heatmapgl\"}], \"histogram\": [{\"marker\": {\"colorbar\": {\"outlinewidth\": 0, \"ticks\": \"\"}}, \"type\": \"histogram\"}], \"histogram2d\": [{\"colorbar\": {\"outlinewidth\": 0, \"ticks\": \"\"}, \"colorscale\": [[0.0, \"#0d0887\"], [0.1111111111111111, \"#46039f\"], [0.2222222222222222, \"#7201a8\"], [0.3333333333333333, \"#9c179e\"], [0.4444444444444444, \"#bd3786\"], [0.5555555555555556, \"#d8576b\"], [0.6666666666666666, \"#ed7953\"], [0.7777777777777778, \"#fb9f3a\"], [0.8888888888888888, \"#fdca26\"], [1.0, \"#f0f921\"]], \"type\": \"histogram2d\"}], \"histogram2dcontour\": [{\"colorbar\": {\"outlinewidth\": 0, \"ticks\": \"\"}, \"colorscale\": [[0.0, \"#0d0887\"], [0.1111111111111111, \"#46039f\"], [0.2222222222222222, \"#7201a8\"], [0.3333333333333333, \"#9c179e\"], [0.4444444444444444, \"#bd3786\"], [0.5555555555555556, \"#d8576b\"], [0.6666666666666666, \"#ed7953\"], [0.7777777777777778, \"#fb9f3a\"], [0.8888888888888888, \"#fdca26\"], [1.0, \"#f0f921\"]], \"type\": \"histogram2dcontour\"}], \"mesh3d\": [{\"colorbar\": {\"outlinewidth\": 0, \"ticks\": \"\"}, \"type\": \"mesh3d\"}], \"parcoords\": [{\"line\": {\"colorbar\": {\"outlinewidth\": 0, \"ticks\": \"\"}}, \"type\": \"parcoords\"}], \"pie\": [{\"automargin\": true, \"type\": \"pie\"}], \"scatter\": [{\"marker\": {\"colorbar\": {\"outlinewidth\": 0, \"ticks\": \"\"}}, \"type\": \"scatter\"}], \"scatter3d\": [{\"line\": {\"colorbar\": {\"outlinewidth\": 0, \"ticks\": \"\"}}, \"marker\": {\"colorbar\": {\"outlinewidth\": 0, \"ticks\": \"\"}}, \"type\": \"scatter3d\"}], \"scattercarpet\": [{\"marker\": {\"colorbar\": {\"outlinewidth\": 0, \"ticks\": \"\"}}, \"type\": \"scattercarpet\"}], \"scattergeo\": [{\"marker\": {\"colorbar\": {\"outlinewidth\": 0, \"ticks\": \"\"}}, \"type\": \"scattergeo\"}], \"scattergl\": [{\"marker\": {\"colorbar\": {\"outlinewidth\": 0, \"ticks\": \"\"}}, \"type\": \"scattergl\"}], \"scattermapbox\": [{\"marker\": {\"colorbar\": {\"outlinewidth\": 0, \"ticks\": \"\"}}, \"type\": \"scattermapbox\"}], \"scatterpolar\": [{\"marker\": {\"colorbar\": {\"outlinewidth\": 0, \"ticks\": \"\"}}, \"type\": \"scatterpolar\"}], \"scatterpolargl\": [{\"marker\": {\"colorbar\": {\"outlinewidth\": 0, \"ticks\": \"\"}}, \"type\": \"scatterpolargl\"}], \"scatterternary\": [{\"marker\": {\"colorbar\": {\"outlinewidth\": 0, \"ticks\": \"\"}}, \"type\": \"scatterternary\"}], \"surface\": [{\"colorbar\": {\"outlinewidth\": 0, \"ticks\": \"\"}, \"colorscale\": [[0.0, \"#0d0887\"], [0.1111111111111111, \"#46039f\"], [0.2222222222222222, \"#7201a8\"], [0.3333333333333333, \"#9c179e\"], [0.4444444444444444, \"#bd3786\"], [0.5555555555555556, \"#d8576b\"], [0.6666666666666666, \"#ed7953\"], [0.7777777777777778, \"#fb9f3a\"], [0.8888888888888888, \"#fdca26\"], [1.0, \"#f0f921\"]], \"type\": \"surface\"}], \"table\": [{\"cells\": {\"fill\": {\"color\": \"#EBF0F8\"}, \"line\": {\"color\": \"white\"}}, \"header\": {\"fill\": {\"color\": \"#C8D4E3\"}, \"line\": {\"color\": \"white\"}}, \"type\": \"table\"}]}, \"layout\": {\"annotationdefaults\": {\"arrowcolor\": \"#2a3f5f\", \"arrowhead\": 0, \"arrowwidth\": 1}, \"autotypenumbers\": \"strict\", \"coloraxis\": {\"colorbar\": {\"outlinewidth\": 0, \"ticks\": \"\"}}, \"colorscale\": {\"diverging\": [[0, \"#8e0152\"], [0.1, \"#c51b7d\"], [0.2, \"#de77ae\"], [0.3, \"#f1b6da\"], [0.4, \"#fde0ef\"], [0.5, \"#f7f7f7\"], [0.6, \"#e6f5d0\"], [0.7, \"#b8e186\"], [0.8, \"#7fbc41\"], [0.9, \"#4d9221\"], [1, \"#276419\"]], \"sequential\": [[0.0, \"#0d0887\"], [0.1111111111111111, \"#46039f\"], [0.2222222222222222, \"#7201a8\"], [0.3333333333333333, \"#9c179e\"], [0.4444444444444444, \"#bd3786\"], [0.5555555555555556, \"#d8576b\"], [0.6666666666666666, \"#ed7953\"], [0.7777777777777778, \"#fb9f3a\"], [0.8888888888888888, \"#fdca26\"], [1.0, \"#f0f921\"]], \"sequentialminus\": [[0.0, \"#0d0887\"], [0.1111111111111111, \"#46039f\"], [0.2222222222222222, \"#7201a8\"], [0.3333333333333333, \"#9c179e\"], [0.4444444444444444, \"#bd3786\"], [0.5555555555555556, \"#d8576b\"], [0.6666666666666666, \"#ed7953\"], [0.7777777777777778, \"#fb9f3a\"], [0.8888888888888888, \"#fdca26\"], [1.0, \"#f0f921\"]]}, \"colorway\": [\"#636efa\", \"#EF553B\", \"#00cc96\", \"#ab63fa\", \"#FFA15A\", \"#19d3f3\", \"#FF6692\", \"#B6E880\", \"#FF97FF\", \"#FECB52\"], \"font\": {\"color\": \"#2a3f5f\"}, \"geo\": {\"bgcolor\": \"white\", \"lakecolor\": \"white\", \"landcolor\": \"white\", \"showlakes\": true, \"showland\": true, \"subunitcolor\": \"#C8D4E3\"}, \"hoverlabel\": {\"align\": \"left\"}, \"hovermode\": \"closest\", \"mapbox\": {\"style\": \"light\"}, \"paper_bgcolor\": \"white\", \"plot_bgcolor\": \"white\", \"polar\": {\"angularaxis\": {\"gridcolor\": \"#EBF0F8\", \"linecolor\": \"#EBF0F8\", \"ticks\": \"\"}, \"bgcolor\": \"white\", \"radialaxis\": {\"gridcolor\": \"#EBF0F8\", \"linecolor\": \"#EBF0F8\", \"ticks\": \"\"}}, \"scene\": {\"xaxis\": {\"backgroundcolor\": \"white\", \"gridcolor\": \"#DFE8F3\", \"gridwidth\": 2, \"linecolor\": \"#EBF0F8\", \"showbackground\": true, \"ticks\": \"\", \"zerolinecolor\": \"#EBF0F8\"}, \"yaxis\": {\"backgroundcolor\": \"white\", \"gridcolor\": \"#DFE8F3\", \"gridwidth\": 2, \"linecolor\": \"#EBF0F8\", \"showbackground\": true, \"ticks\": \"\", \"zerolinecolor\": \"#EBF0F8\"}, \"zaxis\": {\"backgroundcolor\": \"white\", \"gridcolor\": \"#DFE8F3\", \"gridwidth\": 2, \"linecolor\": \"#EBF0F8\", \"showbackground\": true, \"ticks\": \"\", \"zerolinecolor\": \"#EBF0F8\"}}, \"shapedefaults\": {\"line\": {\"color\": \"#2a3f5f\"}}, \"ternary\": {\"aaxis\": {\"gridcolor\": \"#DFE8F3\", \"linecolor\": \"#A2B1C6\", \"ticks\": \"\"}, \"baxis\": {\"gridcolor\": \"#DFE8F3\", \"linecolor\": \"#A2B1C6\", \"ticks\": \"\"}, \"bgcolor\": \"white\", \"caxis\": {\"gridcolor\": \"#DFE8F3\", \"linecolor\": \"#A2B1C6\", \"ticks\": \"\"}}, \"title\": {\"x\": 0.05}, \"xaxis\": {\"automargin\": true, \"gridcolor\": \"#EBF0F8\", \"linecolor\": \"#EBF0F8\", \"ticks\": \"\", \"title\": {\"standoff\": 15}, \"zerolinecolor\": \"#EBF0F8\", \"zerolinewidth\": 2}, \"yaxis\": {\"automargin\": true, \"gridcolor\": \"#EBF0F8\", \"linecolor\": \"#EBF0F8\", \"ticks\": \"\", \"title\": {\"standoff\": 15}, \"zerolinecolor\": \"#EBF0F8\", \"zerolinewidth\": 2}}}, \"title\": {\"font\": {\"color\": \"Black\", \"size\": 22}, \"text\": \"<b>Hierarchical Clustering\", \"x\": 0.5, \"xanchor\": \"center\", \"y\": 0.95, \"yanchor\": \"top\"}, \"width\": 1000, \"xaxis\": {\"mirror\": \"allticks\", \"rangemode\": \"tozero\", \"showgrid\": false, \"showline\": true, \"showticklabels\": true, \"ticks\": \"outside\", \"type\": \"linear\", \"zeroline\": false}, \"yaxis\": {\"mirror\": \"allticks\", \"rangemode\": \"tozero\", \"showgrid\": false, \"showline\": true, \"showticklabels\": true, \"tickmode\": \"array\", \"ticks\": \"outside\", \"ticktext\": [\"3_mint_mintable_minting\", \"-1_nfts_collectors_nft\", \"2_work_nfts_understanding\", \"4_item_make_packs\", \"0_sell_nfts_buy\", \"1_art_artist_much\", \"5_copyright_nfts_ownership\", \"7_crypto_rarible_gift\", \"6_foundation_upvoted_wallet\", \"8_marketplace_opensea_build\"], \"tickvals\": [-5.0, -15.0, -25.0, -35.0, -45.0, -55.0, -65.0, -75.0, -85.0, -95.0], \"type\": \"linear\", \"zeroline\": false}},                        {\"responsive\": true}                    ).then(function(){\n",
              "                            \n",
              "var gd = document.getElementById('0a1f51a8-6dca-4bc8-8319-4f77f8e4451a');\n",
              "var x = new MutationObserver(function (mutations, observer) {{\n",
              "        var display = window.getComputedStyle(gd).display;\n",
              "        if (!display || display === 'none') {{\n",
              "            console.log([gd, 'removed!']);\n",
              "            Plotly.purge(gd);\n",
              "            observer.disconnect();\n",
              "        }}\n",
              "}});\n",
              "\n",
              "// Listen for the removal of the full notebook cells\n",
              "var notebookContainer = gd.closest('#notebook-container');\n",
              "if (notebookContainer) {{\n",
              "    x.observe(notebookContainer, {childList: true});\n",
              "}}\n",
              "\n",
              "// Listen for the clearing of the current output cell\n",
              "var outputEl = gd.closest('.output');\n",
              "if (outputEl) {{\n",
              "    x.observe(outputEl, {childList: true});\n",
              "}}\n",
              "\n",
              "                        })                };                            </script>        </div>\n",
              "</body>\n",
              "</html>"
            ]
          },
          "metadata": {
            "tags": []
          }
        }
      ]
    }
  ]
}