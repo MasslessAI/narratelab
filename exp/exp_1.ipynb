{
  "nbformat": 4,
  "nbformat_minor": 0,
  "metadata": {
    "colab": {
      "name": "exp_1.ipynb",
      "provenance": [],
      "authorship_tag": "ABX9TyPsbaNaYXqIoknknR92GXnD",
      "include_colab_link": true
    },
    "kernelspec": {
      "name": "python3",
      "display_name": "Python 3"
    },
    "language_info": {
      "name": "python"
    },
    "accelerator": "TPU"
  },
  "cells": [
    {
      "cell_type": "markdown",
      "metadata": {
        "id": "view-in-github",
        "colab_type": "text"
      },
      "source": [
        "<a href=\"https://colab.research.google.com/github/MasslessAI/narratelab/blob/master/exp/exp_1.ipynb\" target=\"_parent\"><img src=\"https://colab.research.google.com/assets/colab-badge.svg\" alt=\"Open In Colab\"/></a>"
      ]
    },
    {
      "cell_type": "markdown",
      "metadata": {
        "id": "hLraSPFiAspw"
      },
      "source": [
        "# Install Dependencies"
      ]
    },
    {
      "cell_type": "code",
      "metadata": {
        "colab": {
          "base_uri": "https://localhost:8080/"
        },
        "id": "4BkxwQbbIElv",
        "outputId": "b7f58137-c3ff-4f98-fae0-2888407e43e5"
      },
      "source": [
        "from google.colab import drive\n",
        "\n",
        "drive.mount('gdrive', force_remount=True)\n",
        "\n",
        "root_dir = '/content/gdrive/'\n",
        "\n",
        "gdrive_path = root_dir + 'MyDrive/narratelab/exp_1'\n",
        "\n",
        "!pip install spacy keybert[spacy] sentence-transformers redditcleaner psaw pandas loguru bertopic[spacy] distinctipy colour\n",
        "# !python -m spacy download en_core_web_trf"
      ],
      "execution_count": 140,
      "outputs": [
        {
          "output_type": "stream",
          "text": [
            "Mounted at gdrive\n",
            "Requirement already satisfied: spacy in /usr/local/lib/python3.7/dist-packages (2.2.4)\n",
            "Requirement already satisfied: keybert[spacy] in /usr/local/lib/python3.7/dist-packages (0.4.0)\n",
            "\u001b[33m  WARNING: keybert 0.4.0 does not provide the extra 'spacy'\u001b[0m\n",
            "Requirement already satisfied: sentence-transformers in /usr/local/lib/python3.7/dist-packages (2.0.0)\n",
            "Requirement already satisfied: redditcleaner in /usr/local/lib/python3.7/dist-packages (1.1.2)\n",
            "Requirement already satisfied: psaw in /usr/local/lib/python3.7/dist-packages (0.1.0)\n",
            "Requirement already satisfied: pandas in /usr/local/lib/python3.7/dist-packages (1.1.5)\n",
            "Requirement already satisfied: loguru in /usr/local/lib/python3.7/dist-packages (0.5.3)\n",
            "Requirement already satisfied: bertopic[spacy] in /usr/local/lib/python3.7/dist-packages (0.8.1)\n",
            "Requirement already satisfied: distinctipy in /usr/local/lib/python3.7/dist-packages (1.1.5)\n",
            "Collecting colour\n",
            "  Downloading https://files.pythonhosted.org/packages/74/46/e81907704ab203206769dee1385dc77e1407576ff8f50a0681d0a6b541be/colour-0.1.5-py2.py3-none-any.whl\n",
            "Requirement already satisfied: catalogue<1.1.0,>=0.0.7 in /usr/local/lib/python3.7/dist-packages (from spacy) (1.0.0)\n",
            "Requirement already satisfied: murmurhash<1.1.0,>=0.28.0 in /usr/local/lib/python3.7/dist-packages (from spacy) (1.0.5)\n",
            "Requirement already satisfied: thinc==7.4.0 in /usr/local/lib/python3.7/dist-packages (from spacy) (7.4.0)\n",
            "Requirement already satisfied: wasabi<1.1.0,>=0.4.0 in /usr/local/lib/python3.7/dist-packages (from spacy) (0.8.2)\n",
            "Requirement already satisfied: plac<1.2.0,>=0.9.6 in /usr/local/lib/python3.7/dist-packages (from spacy) (1.1.3)\n",
            "Requirement already satisfied: numpy>=1.15.0 in /usr/local/lib/python3.7/dist-packages (from spacy) (1.19.5)\n",
            "Requirement already satisfied: blis<0.5.0,>=0.4.0 in /usr/local/lib/python3.7/dist-packages (from spacy) (0.4.1)\n",
            "Requirement already satisfied: requests<3.0.0,>=2.13.0 in /usr/local/lib/python3.7/dist-packages (from spacy) (2.23.0)\n",
            "Requirement already satisfied: srsly<1.1.0,>=1.0.2 in /usr/local/lib/python3.7/dist-packages (from spacy) (1.0.5)\n",
            "Requirement already satisfied: setuptools in /usr/local/lib/python3.7/dist-packages (from spacy) (57.0.0)\n",
            "Requirement already satisfied: cymem<2.1.0,>=2.0.2 in /usr/local/lib/python3.7/dist-packages (from spacy) (2.0.5)\n",
            "Requirement already satisfied: preshed<3.1.0,>=3.0.2 in /usr/local/lib/python3.7/dist-packages (from spacy) (3.0.5)\n",
            "Requirement already satisfied: tqdm<5.0.0,>=4.38.0 in /usr/local/lib/python3.7/dist-packages (from spacy) (4.41.1)\n",
            "Requirement already satisfied: rich>=10.4.0 in /usr/local/lib/python3.7/dist-packages (from keybert[spacy]) (10.6.0)\n",
            "Requirement already satisfied: scikit-learn>=0.22.2 in /usr/local/lib/python3.7/dist-packages (from keybert[spacy]) (0.22.2.post1)\n",
            "Requirement already satisfied: scipy in /usr/local/lib/python3.7/dist-packages (from sentence-transformers) (1.4.1)\n",
            "Requirement already satisfied: nltk in /usr/local/lib/python3.7/dist-packages (from sentence-transformers) (3.2.5)\n",
            "Requirement already satisfied: torchvision in /usr/local/lib/python3.7/dist-packages (from sentence-transformers) (0.10.0+cu102)\n",
            "Requirement already satisfied: transformers<5.0.0,>=4.6.0 in /usr/local/lib/python3.7/dist-packages (from sentence-transformers) (4.8.2)\n",
            "Requirement already satisfied: sentencepiece in /usr/local/lib/python3.7/dist-packages (from sentence-transformers) (0.1.96)\n",
            "Requirement already satisfied: huggingface-hub in /usr/local/lib/python3.7/dist-packages (from sentence-transformers) (0.0.13)\n",
            "Requirement already satisfied: torch>=1.6.0 in /usr/local/lib/python3.7/dist-packages (from sentence-transformers) (1.9.0+cu102)\n",
            "Requirement already satisfied: Click in /usr/local/lib/python3.7/dist-packages (from psaw) (7.1.2)\n",
            "Requirement already satisfied: pytz>=2017.2 in /usr/local/lib/python3.7/dist-packages (from pandas) (2018.9)\n",
            "Requirement already satisfied: python-dateutil>=2.7.3 in /usr/local/lib/python3.7/dist-packages (from pandas) (2.8.1)\n",
            "Requirement already satisfied: hdbscan>=0.8.27 in /usr/local/lib/python3.7/dist-packages (from bertopic[spacy]) (0.8.27)\n",
            "Requirement already satisfied: umap-learn>=0.5.0 in /usr/local/lib/python3.7/dist-packages (from bertopic[spacy]) (0.5.1)\n",
            "Requirement already satisfied: plotly<4.14.3,>=4.7.0 in /usr/local/lib/python3.7/dist-packages (from bertopic[spacy]) (4.14.2)\n",
            "Requirement already satisfied: matplotlib in /usr/local/lib/python3.7/dist-packages (from distinctipy) (3.2.2)\n",
            "Requirement already satisfied: importlib-metadata>=0.20; python_version < \"3.8\" in /usr/local/lib/python3.7/dist-packages (from catalogue<1.1.0,>=0.0.7->spacy) (4.6.0)\n",
            "Requirement already satisfied: idna<3,>=2.5 in /usr/local/lib/python3.7/dist-packages (from requests<3.0.0,>=2.13.0->spacy) (2.10)\n",
            "Requirement already satisfied: urllib3!=1.25.0,!=1.25.1,<1.26,>=1.21.1 in /usr/local/lib/python3.7/dist-packages (from requests<3.0.0,>=2.13.0->spacy) (1.24.3)\n",
            "Requirement already satisfied: certifi>=2017.4.17 in /usr/local/lib/python3.7/dist-packages (from requests<3.0.0,>=2.13.0->spacy) (2021.5.30)\n",
            "Requirement already satisfied: chardet<4,>=3.0.2 in /usr/local/lib/python3.7/dist-packages (from requests<3.0.0,>=2.13.0->spacy) (3.0.4)\n",
            "Requirement already satisfied: pygments<3.0.0,>=2.6.0 in /usr/local/lib/python3.7/dist-packages (from rich>=10.4.0->keybert[spacy]) (2.6.1)\n",
            "Requirement already satisfied: typing-extensions<4.0.0,>=3.7.4; python_version < \"3.8\" in /usr/local/lib/python3.7/dist-packages (from rich>=10.4.0->keybert[spacy]) (3.7.4.3)\n",
            "Requirement already satisfied: colorama<0.5.0,>=0.4.0 in /usr/local/lib/python3.7/dist-packages (from rich>=10.4.0->keybert[spacy]) (0.4.4)\n",
            "Requirement already satisfied: commonmark<0.10.0,>=0.9.0 in /usr/local/lib/python3.7/dist-packages (from rich>=10.4.0->keybert[spacy]) (0.9.1)\n",
            "Requirement already satisfied: joblib>=0.11 in /usr/local/lib/python3.7/dist-packages (from scikit-learn>=0.22.2->keybert[spacy]) (1.0.1)\n",
            "Requirement already satisfied: six in /usr/local/lib/python3.7/dist-packages (from nltk->sentence-transformers) (1.15.0)\n",
            "Requirement already satisfied: pillow>=5.3.0 in /usr/local/lib/python3.7/dist-packages (from torchvision->sentence-transformers) (7.1.2)\n",
            "Requirement already satisfied: tokenizers<0.11,>=0.10.1 in /usr/local/lib/python3.7/dist-packages (from transformers<5.0.0,>=4.6.0->sentence-transformers) (0.10.3)\n",
            "Requirement already satisfied: filelock in /usr/local/lib/python3.7/dist-packages (from transformers<5.0.0,>=4.6.0->sentence-transformers) (3.0.12)\n",
            "Requirement already satisfied: sacremoses in /usr/local/lib/python3.7/dist-packages (from transformers<5.0.0,>=4.6.0->sentence-transformers) (0.0.45)\n",
            "Requirement already satisfied: packaging in /usr/local/lib/python3.7/dist-packages (from transformers<5.0.0,>=4.6.0->sentence-transformers) (20.9)\n",
            "Requirement already satisfied: regex!=2019.12.17 in /usr/local/lib/python3.7/dist-packages (from transformers<5.0.0,>=4.6.0->sentence-transformers) (2019.12.20)\n",
            "Requirement already satisfied: pyyaml in /usr/local/lib/python3.7/dist-packages (from transformers<5.0.0,>=4.6.0->sentence-transformers) (3.13)\n",
            "Requirement already satisfied: cython>=0.27 in /usr/local/lib/python3.7/dist-packages (from hdbscan>=0.8.27->bertopic[spacy]) (0.29.23)\n",
            "Requirement already satisfied: numba>=0.49 in /usr/local/lib/python3.7/dist-packages (from umap-learn>=0.5.0->bertopic[spacy]) (0.51.2)\n",
            "Requirement already satisfied: pynndescent>=0.5 in /usr/local/lib/python3.7/dist-packages (from umap-learn>=0.5.0->bertopic[spacy]) (0.5.4)\n",
            "Requirement already satisfied: retrying>=1.3.3 in /usr/local/lib/python3.7/dist-packages (from plotly<4.14.3,>=4.7.0->bertopic[spacy]) (1.3.3)\n",
            "Requirement already satisfied: kiwisolver>=1.0.1 in /usr/local/lib/python3.7/dist-packages (from matplotlib->distinctipy) (1.3.1)\n",
            "Requirement already satisfied: pyparsing!=2.0.4,!=2.1.2,!=2.1.6,>=2.0.1 in /usr/local/lib/python3.7/dist-packages (from matplotlib->distinctipy) (2.4.7)\n",
            "Requirement already satisfied: cycler>=0.10 in /usr/local/lib/python3.7/dist-packages (from matplotlib->distinctipy) (0.10.0)\n",
            "Requirement already satisfied: zipp>=0.5 in /usr/local/lib/python3.7/dist-packages (from importlib-metadata>=0.20; python_version < \"3.8\"->catalogue<1.1.0,>=0.0.7->spacy) (3.4.1)\n",
            "Requirement already satisfied: llvmlite<0.35,>=0.34.0.dev0 in /usr/local/lib/python3.7/dist-packages (from numba>=0.49->umap-learn>=0.5.0->bertopic[spacy]) (0.34.0)\n",
            "Installing collected packages: colour\n",
            "Successfully installed colour-0.1.5\n"
          ],
          "name": "stdout"
        }
      ]
    },
    {
      "cell_type": "markdown",
      "metadata": {
        "id": "oAB4Q2gbTqi7"
      },
      "source": [
        "# Scrap Reddit Data\n",
        "\n",
        "Using pushshift api to quickly search for submissions where title contains **question-indicative phrases/words**. Only retrieve submissions whose **num_comments > 1**, this filters out most of the ads.\n",
        "\n",
        "refer to [Content Ideas From Reddit](https://timothywangdev.github.io/knowledge/Content%20Marketing/content-ideas-from-reddit)"
      ]
    },
    {
      "cell_type": "code",
      "metadata": {
        "id": "e_xYE3OUW-6c"
      },
      "source": [
        "import datetime as dt\n",
        "from datetime import date, datetime\n",
        "from loguru import logger\n",
        "import pandas as pd\n",
        "from psaw import PushshiftAPI\n",
        "import time\n",
        "import os\n",
        "import redditcleaner\n",
        "import re\n",
        "import base64\n",
        "import IPython\n",
        "from distinctipy import distinctipy\n",
        "import random\n",
        "from colour import Color\n",
        "\n",
        "api = PushshiftAPI()\n",
        "\n",
        "QUESTION_WORDS = [\n",
        "  \"what\",\n",
        "  \"when\",\n",
        "  \"where\",\n",
        "  \"who\",\n",
        "  \"whom\",\n",
        "  \"which\",\n",
        "  \"whose\",\n",
        "  \"why\",\n",
        "  \"how\",\n",
        "  \"wonder\",\n",
        "  \"want\",\n",
        "  \"is anyone\",\n",
        "  \"does anyone\",\n",
        "  \"any tips\",\n",
        "  \"advice\",\n",
        "  \"suggestion\",\n",
        "  \"suggestions\",\n",
        "  \"suggest\",\n",
        "  \"ideas on\",\n",
        "  \"need help\",\n",
        "  \"needs help\",\n",
        "  \"need your help\",\n",
        "  \"serious help\",\n",
        "  \"please help\",\n",
        "  \"challenge\",\n",
        "  \"challenges\",\n",
        "  \"can't stand\",\n",
        "  \"struggle\",\n",
        "  \"struggling\",\n",
        "  \"can't figure out\",\n",
        "  \"help me\",\n",
        "  \"hardest part\",\n",
        "  \"would appreciate\",\n",
        "  \"would really appreciate\",\n",
        "  \"any guidance\",\n",
        "  \"no idea\",\n",
        "  \"confused with\",\n",
        "  \"new to\",\n",
        "  \"is there any way\"\n",
        "]"
      ],
      "execution_count": 193,
      "outputs": []
    },
    {
      "cell_type": "markdown",
      "metadata": {
        "id": "ecpCY3v4b4kH"
      },
      "source": [
        "# (Optional) Do some experiments on question words and psaw filters"
      ]
    },
    {
      "cell_type": "code",
      "metadata": {
        "id": "TiIVwi7Tb3HJ",
        "outputId": "c4f316b6-0295-4e75-8e9a-5402ea36ca5b",
        "colab": {
          "base_uri": "https://localhost:8080/",
          "height": 332
        }
      },
      "source": [
        "\n",
        "# do some exps on question words and psaw filters\n",
        "_QUESTION_WORDS=[\"ideas on\", \"struggle with\", \"suggestion\"]\n",
        "title_query = '|'.join(map(lambda x: '\"{}\"'.format(x), _QUESTION_WORDS))\n",
        "print(title_query)\n",
        "\n",
        "gen = list(\n",
        "        api.search_submissions(\n",
        "            title=title_query,\n",
        "            is_self=True,\n",
        "            is_original_content=True, \n",
        "            subreddit='content_marketing',\n",
        "            num_comments=\">1\",\n",
        "            filter=['title', 'selftext', 'author', 'permalink', 'num_comments', 'score', 'total_awards_received',\n",
        "                    'upvote_ratio'],\n",
        "            sort='asc', sort_type='created_utc', limit=500))\n",
        "\n",
        "titles = [item.d_['title'] for item in gen]\n",
        "\n",
        "# generate distinct hsl colors\n",
        "bg_color_list = distinctipy.get_colors(50)\n",
        "inverted_color_list = distinctipy.invert_colors(bg_color_list)\n",
        "text_color_list = [distinctipy.get_text_color(color) for color in bg_color_list]\n",
        "\n",
        "# convert colors to hex\n",
        "bg_color_list = [Color(rgb=color).hex for color in bg_color_list]\n",
        "inverted_color_list = [Color(rgb=color).hex for color in inverted_color_list]\n",
        "text_color_list = [Color(rgb=color).hex for color in text_color_list]\n",
        "\n",
        "def colored(word, color_idx=0):\n",
        "  color = bg_color_list[color_idx]\n",
        "  return '<span style=\"display: inline-block; font-weight: 600; font-size: 16px; border-radius: 15%; padding-left: 5px; padding-right: 5px; margin: 4px 2px; background-color: {}; color:{};\">{}</span>'.format(bg_color_list[color_idx], text_color_list[color_idx], word)\n",
        "  \n",
        "colored_titles = []\n",
        "for title in titles:\n",
        "  _title = title.lower()\n",
        "  for idx, question_word in enumerate(_QUESTION_WORDS):\n",
        "    _title = _title.replace(question_word, colored(question_word, color_idx = idx))\n",
        "  colored_titles.append('<li>' + _title + \"</li>\")\n",
        "\n",
        "IPython.display.HTML(\"<ol>\" +' '.join(colored_titles) + \"</ol>\")"
      ],
      "execution_count": 192,
      "outputs": [
        {
          "output_type": "stream",
          "text": [
            "\"ideas on\"|\"struggle with\"|\"suggestion\"\n"
          ],
          "name": "stdout"
        },
        {
          "output_type": "execute_result",
          "data": {
            "text/html": [
              "<ol><li>what do you <span style=\"display: inline-block; font-weight: 600; font-size: 16px; border-radius: 15%; padding-left: 5px; padding-right: 5px; margin: 4px 2px; background-color: #f0f; color:#fff;\">struggle with</span> most when writing and creating content for your business?</li> <li>any <span style=\"display: inline-block; font-weight: 600; font-size: 16px; border-radius: 15%; padding-left: 5px; padding-right: 5px; margin: 4px 2px; background-color: #0f0; color:#fff;\">ideas on</span> how to do content marketing on reddit ? without breaking the unspoken rules</li> <li>best free tools for improving writing content skills, please put your <span style=\"display: inline-block; font-weight: 600; font-size: 16px; border-radius: 15%; padding-left: 5px; padding-right: 5px; margin: 4px 2px; background-color: #007fff; color:#fff;\">suggestion</span>?</li> <li>as a busy entrepreneur do you <span style=\"display: inline-block; font-weight: 600; font-size: 16px; border-radius: 15%; padding-left: 5px; padding-right: 5px; margin: 4px 2px; background-color: #f0f; color:#fff;\">struggle with</span> losing weight?</li> <li>need email software <span style=\"display: inline-block; font-weight: 600; font-size: 16px; border-radius: 15%; padding-left: 5px; padding-right: 5px; margin: 4px 2px; background-color: #007fff; color:#fff;\">suggestion</span></li> <li>agency marketers (or anyone with a <span style=\"display: inline-block; font-weight: 600; font-size: 16px; border-radius: 15%; padding-left: 5px; padding-right: 5px; margin: 4px 2px; background-color: #007fff; color:#fff;\">suggestion</span>,) what small things are you doing to help clients during the pandemic?</li> <li>guys, what are the content marketing fields that you have the most <span style=\"display: inline-block; font-weight: 600; font-size: 16px; border-radius: 15%; padding-left: 5px; padding-right: 5px; margin: 4px 2px; background-color: #f0f; color:#fff;\">struggle with</span>?</li> <li>running out of <span style=\"display: inline-block; font-weight: 600; font-size: 16px; border-radius: 15%; padding-left: 5px; padding-right: 5px; margin: 4px 2px; background-color: #0f0; color:#fff;\">ideas on</span> covid 19 for internal communication</li> <li><span style=\"display: inline-block; font-weight: 600; font-size: 16px; border-radius: 15%; padding-left: 5px; padding-right: 5px; margin: 4px 2px; background-color: #007fff; color:#fff;\">suggestion</span> for a saas company's marketing strategy</li> <li>need some <span style=\"display: inline-block; font-weight: 600; font-size: 16px; border-radius: 15%; padding-left: 5px; padding-right: 5px; margin: 4px 2px; background-color: #0f0; color:#fff;\">ideas on</span> what to do with unboxing and review videos of the specific product i custom branded and sell</li></ol>"
            ],
            "text/plain": [
              "<IPython.core.display.HTML object>"
            ]
          },
          "metadata": {
            "tags": []
          },
          "execution_count": 192
        }
      ]
    },
    {
      "cell_type": "markdown",
      "metadata": {
        "id": "Ub4bxyAGWwhW"
      },
      "source": [
        "Only retrieve submissions that are text submissions, and filter out deleted submissions and submissions whose author is banned.\n",
        "\n",
        "We keep the following fields:\n",
        "\n",
        "* title\n",
        "* selftext\n",
        "* author\n",
        "* permalink\n",
        "* num_comments <font color='blue'>*</font>\n",
        "* score <font color='blue'>*</font>\n",
        "* upvote_ratio <font color='blue'>*</font>\n",
        "* total_awards_received <font color='blue'>*</font>\n",
        "\n",
        "<font color='blue'>*</font> *Used for future ranking purpose*"
      ]
    },
    {
      "cell_type": "code",
      "metadata": {
        "colab": {
          "base_uri": "https://localhost:8080/"
        },
        "id": "bd5wSUCcU7bx",
        "outputId": "ab48ea01-117e-4de7-ae3b-b994366d762b"
      },
      "source": [
        "start_epoch = int(dt.datetime(2019, 1, 1).timestamp())\n",
        "#end_epoch = int(dt.datetime(2020, 3, 1).timestamp())\n",
        "end_epoch = int(time.time())\n",
        "total = 0\n",
        "\n",
        "SUBREDDIT = 'nft'\n",
        "DATA_FILE_NAME = gdrive_path + '/reddit_submission_{}_{}_{}.tsv'.format(\n",
        "    SUBREDDIT, datetime.fromtimestamp(start_epoch).strftime(\"%Y_%m_%d\"),\n",
        "    datetime.fromtimestamp(end_epoch).strftime(\"%Y_%m_%d\"))\n",
        "\n",
        "title_query = '|'.join(map(lambda x: '\"{}\"'.format(x), QUESTION_WORDS))\n",
        "while True:\n",
        "    gen = list(\n",
        "        api.search_submissions(\n",
        "            after=start_epoch, \n",
        "            before=end_epoch,\n",
        "            title=title_query,\n",
        "            is_self=True,\n",
        "            is_original_content=True,\n",
        "            subreddit=SUBREDDIT,\n",
        "            num_comments=\">1\",\n",
        "            filter=['title', 'selftext', 'author', 'permalink', 'num_comments', 'score', 'total_awards_received',\n",
        "                    'upvote_ratio'],\n",
        "            sort='asc', sort_type='created_utc', limit=500))\n",
        "\n",
        "    if len(gen) == 0:\n",
        "        break\n",
        "\n",
        "    def submission_filter(submission):\n",
        "        if 'title' not in submission:\n",
        "            return False\n",
        "        if 'selftext' not in submission:\n",
        "            return False\n",
        "        if 'author' not in submission:\n",
        "            return False\n",
        "        if submission['author'] == \"[deleted]\":\n",
        "            return False\n",
        "        if any(submission['selftext'] == x for x in [\"[removed]\", \"[deleted]\"]):\n",
        "            return False\n",
        "        return True\n",
        "\n",
        "    def prepare_data(data):\n",
        "        # some of the fields may be missing\n",
        "        # must manually set an init value to avoid\n",
        "        # generating invalid csv\n",
        "        _data = {\n",
        "            'title': '',\n",
        "            'selftext': '',\n",
        "            'author': '',\n",
        "            'permalink': '',\n",
        "            'num_comments': 0,\n",
        "            'score': 0,\n",
        "            'total_awards_received': 0,\n",
        "            'upvote_ratio': 1.0,\n",
        "            'created_utc': None\n",
        "        }\n",
        "\n",
        "        for key in _data:\n",
        "            if key in data and data[key] is not None:\n",
        "                _data[key] = data[key]\n",
        "\n",
        "        return _data\n",
        "\n",
        "\n",
        "    items = map(prepare_data, [item.d_ for item in gen])\n",
        "\n",
        "    items = list(filter(submission_filter, items))\n",
        "\n",
        "    df = pd.DataFrame(items)\n",
        "\n",
        "    # clean data\n",
        "    def clean(text):\n",
        "        # remove reddit styles\n",
        "        text = redditcleaner.clean(\n",
        "            text, quote=False, bullet_point=False, link=False, strikethrough=False, spoiler=False, code=False,\n",
        "            superscript=False, table=False)\n",
        "\n",
        "        # refer to https://towardsdatascience.com/cleaning-text-data-with-python-b69b47b97b76\n",
        "        # Remove unicode characters\n",
        "        text = text.encode('ascii', 'ignore').decode()\n",
        "\n",
        "        # Remove Hashtags\n",
        "        text = re.sub(\"#\\S+\", \" \", text)\n",
        "\n",
        "        # Remove markdown links\n",
        "        text = re.sub(r\"\\[(.+)\\]\\(.+\\)\", r\"\\1\", text)\n",
        "\n",
        "        # Remove other urls\n",
        "        text = re.sub(r\"http\\S+\", \" \", text)\n",
        "\n",
        "        # remove text inside brackets\n",
        "        text = re.sub(\"\\(.*?\\)\",\" \", text)\n",
        "        text = re.sub(\"\\[.*?\\]\",\" \", text)\n",
        "\n",
        "        # remove quotes\n",
        "        # remove brackets\n",
        "        # remove semicolon\n",
        "        text = re.sub(r'[\\t()[\\]\\\"*:\\\\]',' ', text)\n",
        "\n",
        "        # remove non-ascii chars\n",
        "        text = re.sub(r\"[^\\x00-\\x7F]+\",' ', text)\n",
        "\n",
        "         # Replace the over spaces\n",
        "        text = re.sub('\\s{2,}', \" \", text)\n",
        "\n",
        "        return text\n",
        "\n",
        "    df['title'] = df['title'].map(clean)\n",
        "    df['selftext'] = df['selftext'].map(clean)\n",
        "\n",
        "    if not os.path.isfile(DATA_FILE_NAME):\n",
        "        df.to_csv(DATA_FILE_NAME, sep='\\t', header='column_names', index=False, quoting=3)\n",
        "    else:  # else it exists so append without writing the header\n",
        "        df.to_csv(DATA_FILE_NAME, sep='\\t', mode='a', header=False, index=False, quoting=3)\n",
        "\n",
        "    start_epoch = items[-1]['created_utc']\n",
        "    total += len(items)\n",
        "    logger.info('Added {} Total {} Last created_utc {}'.format(\n",
        "        len(items), total, date.fromtimestamp(start_epoch)))\n",
        "\n",
        "    time.sleep(3)"
      ],
      "execution_count": 194,
      "outputs": [
        {
          "output_type": "stream",
          "text": [
            "2021-07-14 23:56:20.108 | INFO     | __main__:<module>:119 - Added 355 Total 355 Last created_utc 2021-04-14\n",
            "2021-07-14 23:56:26.071 | INFO     | __main__:<module>:119 - Added 308 Total 663 Last created_utc 2021-05-15\n",
            "2021-07-14 23:56:34.763 | INFO     | __main__:<module>:119 - Added 320 Total 983 Last created_utc 2021-07-11\n",
            "2021-07-14 23:56:38.393 | INFO     | __main__:<module>:119 - Added 10 Total 993 Last created_utc 2021-07-14\n"
          ],
          "name": "stderr"
        }
      ]
    },
    {
      "cell_type": "markdown",
      "metadata": {
        "id": "lkJ_ER3vV6gQ"
      },
      "source": [
        "# Load Scrapped Reddit Data\n",
        "\n",
        "Load submissions, filter out ads, and classified them by wh-words\n",
        "\n",
        "From observation, some **submissions are ads**, which often contain the following symbols/phrases\n",
        "\n",
        "```\n",
        "'-', ':', ';' \n",
        "your business(es)\n",
        "help you\n",
        "case study\n",
        "ALL CAPITAL chars\n",
        "how i\n",
        "dollar symbol $ (e.g turn $100 into 100k)\n",
        "step-by-step\n",
        "here is how\n",
        "here's how\n",
        "part 1/2/3\n",
        "top [number] things\n",
        "[number] reasons\n",
        "ultimate guide\n",
        "cheat sheet\n",
        "cheatsheet\n",
        "infographic\n",
        "by [year]\n",
        "ama\n",
        "```\n",
        "\n",
        "<mark>TODO</mark> \n",
        " - [ ] Add more ad-indicative phrases\n",
        " - [ ] Use num_comments to filter ads"
      ]
    },
    {
      "cell_type": "code",
      "metadata": {
        "id": "1AjZF260X1Is",
        "colab": {
          "base_uri": "https://localhost:8080/"
        },
        "outputId": "e633eb6d-ec88-47d7-e570-db18341cdd40"
      },
      "source": [
        "df = pd.read_csv(gdrive_path +\"/reddit_submission_nft_2019_01_01_2021_07_12.tsv\", sep='\\t', quoting=3)\n",
        "\n",
        "# data cleanup\n",
        "print('before clean-up # rows: {}'.format(len(df)))\n",
        "cleaned_rows = []\n",
        "\n",
        "AD_INDICATIVE_PHRASES = [\n",
        "  \"your business\", \n",
        "  \"your businesses\", \n",
        "  \"help you\", \n",
        "  \"case study\"\n",
        "  \"how i\",\n",
        "  \"$\",\n",
        "  \"step-by-step\",\n",
        "  \"here is how\",\n",
        "  \"here's how\",\n",
        "  \"part 1\",\n",
        "  \"part 2\",\n",
        "  \"part 3\",\n",
        "  \"ultimate guide\",\n",
        "  \"cheatsheet\",\n",
        "  \"infographic\",\n",
        "  \"ama\"\n",
        "]\n",
        "\n",
        "for index, row in df.iterrows():\n",
        "    row_title = row['title'].lower()\n",
        "    if not any(x in ['-', ':', ';'] for x in row_title) and not any(phrase in row_title for phrase in AD_INDICATIVE_PHRASES) and \"?\" in row_title:\n",
        "        '''\n",
        "        1. must contain '?'\n",
        "        2. can only contain alphanumeric, punctuations and space\n",
        "        3. should not contain '-', ':', ';' which indicates ads\n",
        "        '''\n",
        "        cleaned_rows.append(index)\n",
        "\n",
        "df = df[df.index.isin(cleaned_rows)].reset_index()\n",
        "print('after clean-up # rows: {}'.format(len(df)))"
      ],
      "execution_count": 195,
      "outputs": [
        {
          "output_type": "stream",
          "text": [
            "before clean-up # rows: 2812\n",
            "after clean-up # rows: 1907\n"
          ],
          "name": "stdout"
        }
      ]
    },
    {
      "cell_type": "markdown",
      "metadata": {
        "id": "l5lzeN49cbAw"
      },
      "source": [
        "# Classified submissions by wh-words in title and aggregate stats"
      ]
    },
    {
      "cell_type": "code",
      "metadata": {
        "id": "eHRjLDsoXq9u",
        "colab": {
          "base_uri": "https://localhost:8080/"
        },
        "outputId": "d0dc69bf-9c1f-4dd5-a16c-e9be7bee94b2"
      },
      "source": [
        "import pprint\n",
        "\n",
        "title_cat = []\n",
        "for index, row in df.iterrows():\n",
        "    title_cat.append('NO_WH_WORD')\n",
        "    for wh_word in QUESTION_WORDS:\n",
        "        if wh_word in row['title'].lower():\n",
        "            title_cat[-1] = wh_word\n",
        "            break\n",
        "\n",
        "df['title_cat'] = title_cat\n",
        "\n",
        "cat_stats = {\n",
        "    'cat': QUESTION_WORDS,\n",
        "    'num_docs': [],\n",
        "    'total_score': [],\n",
        "    'total_comments': []\n",
        "}\n",
        "\n",
        "# print out number of docs per category\n",
        "for wh_word in QUESTION_WORDS:\n",
        "    _df = df[df['title_cat'] == wh_word]\n",
        "    cat_stats['num_docs'].append(len(_df))\n",
        "    cat_stats['total_score'].append(_df['score'].sum())\n",
        "    cat_stats['total_comments'].append(_df['num_comments'].sum())\n",
        "  \n",
        "cat_stats_df = pd.DataFrame(data=cat_stats)\n",
        "\n",
        "print(cat_stats_df.to_markdown())\n",
        "  "
      ],
      "execution_count": 202,
      "outputs": [
        {
          "output_type": "stream",
          "text": [
            "|    | cat                     |   num_docs |   total_score |   total_comments |\n",
            "|---:|:------------------------|-----------:|--------------:|-----------------:|\n",
            "|  0 | what                    |        633 |           765 |             1825 |\n",
            "|  1 | when                    |         58 |            58 |              224 |\n",
            "|  2 | where                   |        114 |           146 |              420 |\n",
            "|  3 | who                     |         72 |            78 |              122 |\n",
            "|  4 | whom                    |          0 |             0 |                0 |\n",
            "|  5 | which                   |        118 |           132 |              432 |\n",
            "|  6 | whose                   |          0 |             0 |                0 |\n",
            "|  7 | why                     |        120 |           130 |              542 |\n",
            "|  8 | how                     |        590 |           658 |             1944 |\n",
            "|  9 | wonder                  |          2 |             2 |                8 |\n",
            "| 10 | want                    |         42 |            42 |              148 |\n",
            "| 11 | is anyone               |          8 |             8 |               24 |\n",
            "| 12 | does anyone             |         18 |            18 |               76 |\n",
            "| 13 | any tips                |          0 |             0 |                0 |\n",
            "| 14 | advice                  |          0 |             0 |                0 |\n",
            "| 15 | suggestion              |          0 |             0 |                0 |\n",
            "| 16 | suggestions             |          0 |             0 |                0 |\n",
            "| 17 | suggest                 |          0 |             0 |                0 |\n",
            "| 18 | ideas on                |          0 |             0 |                0 |\n",
            "| 19 | need help               |          0 |             0 |                0 |\n",
            "| 20 | needs help              |          0 |             0 |                0 |\n",
            "| 21 | need your help          |          0 |             0 |                0 |\n",
            "| 22 | serious help            |          0 |             0 |                0 |\n",
            "| 23 | please help             |          0 |             0 |                0 |\n",
            "| 24 | challenge               |          0 |             0 |                0 |\n",
            "| 25 | challenges              |          0 |             0 |                0 |\n",
            "| 26 | can't stand             |          0 |             0 |                0 |\n",
            "| 27 | struggle                |          0 |             0 |                0 |\n",
            "| 28 | struggling              |          2 |             2 |                8 |\n",
            "| 29 | can't figure out        |          0 |             0 |                0 |\n",
            "| 30 | help me                 |          2 |             2 |                4 |\n",
            "| 31 | hardest part            |          0 |             0 |                0 |\n",
            "| 32 | would appreciate        |          0 |             0 |                0 |\n",
            "| 33 | would really appreciate |          0 |             0 |                0 |\n",
            "| 34 | any guidance            |          0 |             0 |                0 |\n",
            "| 35 | no idea                 |          0 |             0 |                0 |\n",
            "| 36 | confused with           |          0 |             0 |                0 |\n",
            "| 37 | new to                  |          4 |             4 |                8 |\n",
            "| 38 | is there any way        |          0 |             0 |                0 |\n"
          ],
          "name": "stdout"
        }
      ]
    },
    {
      "cell_type": "markdown",
      "metadata": {
        "id": "jn_p6EBAYPd0"
      },
      "source": [
        "# Pick a wh-word category"
      ]
    },
    {
      "cell_type": "code",
      "metadata": {
        "id": "Iyw8AKm-YRUv",
        "colab": {
          "base_uri": "https://localhost:8080/"
        },
        "outputId": "f5a2bd31-fdcb-43f8-dd88-c1f3ccf3a7f2"
      },
      "source": [
        "df_selection = df[df['title_cat'] == 'why'].copy().reset_index()\n",
        "print(df_selection.head(10).to_markdown())"
      ],
      "execution_count": 209,
      "outputs": [
        {
          "output_type": "stream",
          "text": [
            "|    |   level_0 |   index | title                                                                                               | selftext                                                                                                                                                                                                                                                                                                                 | author             | permalink                                                                 |   num_comments |   score |   total_awards_received |   upvote_ratio |   created_utc | title_cat   |\n",
            "|---:|----------:|--------:|:----------------------------------------------------------------------------------------------------|:-------------------------------------------------------------------------------------------------------------------------------------------------------------------------------------------------------------------------------------------------------------------------------------------------------------------------|:-------------------|:--------------------------------------------------------------------------|---------------:|--------:|------------------------:|---------------:|--------------:|:------------|\n",
            "|  0 |        49 |      65 | Same artwork, multiple tokens, multiple price why?                                                  | Hello, On Nifty Gateway, some NFT artworks are open edition, so offer to buy multiple time in different prices. For exemple ! Sure, they don't have the same number, so, I understand it's not the same token, but it doesn't explain anything for me. Someone could help me to understand? Thanks in advance! SRin1week | superrichin1week   | /r/NFT/comments/lgoyzt/same_artwork_multiple_tokens_multiple_price_why/   |              3 |       1 |                       0 |           1    |    1612944087 | why         |\n",
            "|  1 |        55 |      73 | 415 NFT with each the same artwork, but HUGE difference in the price WHY!?                          | Hello everyone, Here is the link Processing img kd3vsjrazzg61... Thanks in advance for helping me to understand... SRin1week                                                                                                                                                                                             | superrichin1week   | /r/NFT/comments/li65mo/415_nft_with_each_the_same_artwork_but_huge/       |              7 |       1 |                       0 |           1    |    1613114662 | why         |\n",
            "|  2 |        63 |      84 | If anyone can download the art file, why would I buy the NFT?                                       | It's interesting to read the article AND the comments.                                                                                                                                                                                                                                                                   | superrichin1week   | /r/NFT/comments/ljlmx2/if_anyone_can_download_the_art_file_why_would_i/   |             14 |       1 |                       0 |           1    |    1613296198 | why         |\n",
            "|  3 |        75 |     108 | why is trash day always the same day as a critical gaming breakthrough...?                          | my first NFT. new to this and just hoping to learn. hope yall like.                                                                                                                                                                                                                                                      | jayinthefresh      | /r/NFT/comments/lnk1m6/why_is_trash_day_always_the_same_day_as_a/         |              0 |       1 |                       0 |           1    |    1613752356 | why         |\n",
            "|  4 |        92 |     129 | Why is minting for me so expensive?                                                                 | My roommate and I are both artist, so we decided to get into NFTs on rarible. He minted his nft for about $20 however, it wants me to pay $95 to mint mine. Both are priced at .15 ETH. What other factors are going into this.                                                                                          | basedandlinkpilled | /r/NFT/comments/lp20kh/why_is_minting_for_me_so_expensive/                |              7 |       1 |                       0 |           1    |    1613928732 | why         |\n",
            "|  5 |       104 |     143 | Why would anyone buy this lol?                                                                      | nft art Anyone have any NFT favorites?                                                                                                                                                                                                                                                                                   | Terrible_Sun_2806  | /r/NFT/comments/lq3v57/why_would_anyone_buy_this_lol/                     |              6 |       1 |                       0 |           1    |    1614038371 | why         |\n",
            "|  6 |       117 |     158 | Why do all nft stores involve mostly etherium? Why not Bitcoin or Paypal?                           | nan                                                                                                                                                                                                                                                                                                                      | theomegod          | /r/NFT/comments/lr72et/why_do_all_nft_stores_involve_mostly_etherium_why/ |              0 |       1 |                       0 |           0.67 |    1614153068 | why         |\n",
            "|  7 |       133 |     180 | Why are the Ethereum gas fees so high? I have to pay double for the price of the NFT I want to buy. | nan                                                                                                                                                                                                                                                                                                                      | emperor-penguin-   | /r/NFT/comments/ls3e21/why_are_the_ethereum_gas_fees_so_high_i_have_to/   |              2 |       1 |                       0 |           1    |    1614248014 | why         |\n",
            "|  8 |       136 |     183 | Why Do People Buy NFTs?                                                                             | Hi there, I'm getting into the world of NFTs, but I can't stop asking myself that question. Why do people buy? Do people buy mostly because they could resell them for higher prices? Or because they like the idea of owning digital art? What's the purpose?                                                           | MrVulpe            | /r/NFT/comments/ls6n25/why_do_people_buy_nfts/                            |             31 |       5 |                       0 |           1    |    1614259894 | why         |\n",
            "|  9 |       176 |     247 | Why does the market need Rise Protocol?                                                             | Frictionless yield technology is also embedded within the Rise Protocol, which means that just by holding the Rise token in your wallet, holders will receive extra tokens as a percentage of every buy and sell transaction is distributed back to the holders.                                                         | lethaigbbn         | /r/NFT/comments/lx9u1n/why_does_the_market_need_rise_protocol/            |              0 |       1 |                       0 |           1    |    1614822689 | why         |\n"
          ],
          "name": "stdout"
        }
      ]
    },
    {
      "cell_type": "markdown",
      "metadata": {
        "id": "bZ-0XcmFcrTx"
      },
      "source": [
        "# Topic Modeling with BERTopic"
      ]
    },
    {
      "cell_type": "code",
      "metadata": {
        "id": "ReLmnh9C_BD5",
        "colab": {
          "base_uri": "https://localhost:8080/",
          "height": 173
        },
        "outputId": "f990c085-51e9-4510-a246-c7221c6e5b09"
      },
      "source": [
        "from bertopic import BERTopic\n",
        "\n",
        "topic_model = BERTopic(n_gram_range=(1, 2), nr_topics='auto', calculate_probabilities=True, min_topic_size=5)\n",
        "topics, probabilities = topic_model.fit_transform(df_selection['title'])\n",
        "topic_model.get_topic_info()"
      ],
      "execution_count": 218,
      "outputs": [
        {
          "output_type": "execute_result",
          "data": {
            "text/html": [
              "<div>\n",
              "<style scoped>\n",
              "    .dataframe tbody tr th:only-of-type {\n",
              "        vertical-align: middle;\n",
              "    }\n",
              "\n",
              "    .dataframe tbody tr th {\n",
              "        vertical-align: top;\n",
              "    }\n",
              "\n",
              "    .dataframe thead th {\n",
              "        text-align: right;\n",
              "    }\n",
              "</style>\n",
              "<table border=\"1\" class=\"dataframe\">\n",
              "  <thead>\n",
              "    <tr style=\"text-align: right;\">\n",
              "      <th></th>\n",
              "      <th>Topic</th>\n",
              "      <th>Count</th>\n",
              "      <th>Name</th>\n",
              "    </tr>\n",
              "  </thead>\n",
              "  <tbody>\n",
              "    <tr>\n",
              "      <th>0</th>\n",
              "      <td>-1</td>\n",
              "      <td>74</td>\n",
              "      <td>-1_why_nft_nfts_why are</td>\n",
              "    </tr>\n",
              "    <tr>\n",
              "      <th>1</th>\n",
              "      <td>0</td>\n",
              "      <td>28</td>\n",
              "      <td>0_art_why_nft_conventional art</td>\n",
              "    </tr>\n",
              "    <tr>\n",
              "      <th>2</th>\n",
              "      <td>1</td>\n",
              "      <td>12</td>\n",
              "      <td>1_minting_opensea_on opensea_in mintableapp</td>\n",
              "    </tr>\n",
              "    <tr>\n",
              "      <th>3</th>\n",
              "      <td>2</td>\n",
              "      <td>6</td>\n",
              "      <td>2_gas fees_fees_fee_ethereum</td>\n",
              "    </tr>\n",
              "  </tbody>\n",
              "</table>\n",
              "</div>"
            ],
            "text/plain": [
              "   Topic  Count                                         Name\n",
              "0     -1     74                      -1_why_nft_nfts_why are\n",
              "1      0     28               0_art_why_nft_conventional art\n",
              "2      1     12  1_minting_opensea_on opensea_in mintableapp\n",
              "3      2      6                 2_gas fees_fees_fee_ethereum"
            ]
          },
          "metadata": {
            "tags": []
          },
          "execution_count": 218
        }
      ]
    },
    {
      "cell_type": "code",
      "metadata": {
        "id": "I-7gh1pPFblc"
      },
      "source": [
        "from collections import defaultdict\n",
        "\n",
        "docs_by_topics = defaultdict(list)\n",
        "\n",
        "for index, topic in enumerate(topics):\n",
        "  docs_by_topics[topic].append({\n",
        "      'docIdx': index,\n",
        "      'prob': probabilities[index][topic+1]\n",
        "  })\n",
        "\n",
        "# sort doc by their topic prob\n",
        "for index, topic in enumerate(topics):\n",
        "  docs_by_topics[topic].sort(key=lambda x: x['prob'], reverse=True)\n"
      ],
      "execution_count": 220,
      "outputs": []
    },
    {
      "cell_type": "code",
      "metadata": {
        "colab": {
          "base_uri": "https://localhost:8080/"
        },
        "id": "U6qlWIBQItoR",
        "outputId": "3b1f0974-dc4d-4e09-c3e5-b601d5209df6"
      },
      "source": [
        "for doc in docs_by_topics[2][:20]:\n",
        "  print(doc['prob'], df_selection['title'][doc['docIdx']])\n"
      ],
      "execution_count": 222,
      "outputs": [
        {
          "output_type": "stream",
          "text": [
            "0.0 Why are the Ethereum gas fees so high? I have to pay double for the price of the NFT I want to buy.\n",
            "0.0 Why would I choose Traditional and pass gas fees?\n",
            "0.0 New to NFT. Why my gas fee is so high?\n",
            "0.0 Why are the Ethereum gas fees so high? I have to pay double for the price of the NFT I want to buy.\n",
            "0.0 Why would I choose Traditional and pass gas fees?\n",
            "0.0 New to NFT. Why my gas fee is so high?\n"
          ],
          "name": "stdout"
        }
      ]
    },
    {
      "cell_type": "code",
      "metadata": {
        "colab": {
          "base_uri": "https://localhost:8080/",
          "height": 467
        },
        "id": "w-n1lFO3Canc",
        "outputId": "6b18c2fc-c2fa-4e0e-8210-5d4237c9c281"
      },
      "source": [
        "topics_over_time = topic_model.topics_over_time(df_selection['title'], topics, df_selection['created_utc'], nr_bins=20)\n",
        "topic_model.visualize_topics_over_time(topics_over_time, top_n_topics=10)"
      ],
      "execution_count": 71,
      "outputs": [
        {
          "output_type": "display_data",
          "data": {
            "text/html": [
              "<html>\n",
              "<head><meta charset=\"utf-8\" /></head>\n",
              "<body>\n",
              "    <div>            <script src=\"https://cdnjs.cloudflare.com/ajax/libs/mathjax/2.7.5/MathJax.js?config=TeX-AMS-MML_SVG\"></script><script type=\"text/javascript\">if (window.MathJax) {MathJax.Hub.Config({SVG: {font: \"STIX-Web\"}});}</script>                <script type=\"text/javascript\">window.PlotlyConfig = {MathJaxConfig: 'local'};</script>\n",
              "        <script src=\"https://cdn.plot.ly/plotly-latest.min.js\"></script>                <div id=\"8173f42e-e53c-4b27-b73b-e6fffd9134df\" class=\"plotly-graph-div\" style=\"height:450px; width:1250px;\"></div>            <script type=\"text/javascript\">                                    window.PLOTLYENV=window.PLOTLYENV || {};                                    if (document.getElementById(\"8173f42e-e53c-4b27-b73b-e6fffd9134df\")) {                    Plotly.newPlot(                        \"8173f42e-e53c-4b27-b73b-e6fffd9134df\",                        [{\"hoverinfo\": \"text\", \"hovertext\": [\"<b>Topic 1</b><br>Words: tokenised, workitem, are linked, tokenised workitem, linked\", \"<b>Topic 1</b><br>Words: you display, display your, your nft, nft art, art\", \"<b>Topic 1</b><br>Words: creating digital, nfts in, art nfts, on creating, put nfts\", \"<b>Topic 1</b><br>Words: art, nft, nfts, gif, art how\", \"<b>Topic 1</b><br>Words: jeezy, will sell, snowman nft, think jeezy, jeezy snowman\", \"<b>Topic 1</b><br>Words: latest nft, like chubbies, you spend, projects like, do projects\", \"<b>Topic 1</b><br>Words: yes how, without large, sold an, you promote, large social\", \"<b>Topic 1</b><br>Words: using atomichub, make gif, nft using, gif nft, gif\", \"<b>Topic 1</b><br>Words: the last, money have, month selling, last month, selling nfts\"], \"marker\": {\"color\": \"#E69F00\"}, \"mode\": \"lines\", \"name\": \"1_nft_art_nfts_nft how\", \"type\": \"scatter\", \"x\": [1601023757.867, 1612240187.85, 1613483694.5, 1614727201.15, 1617214214.45, 1618457721.1, 1620944734.4, 1623431747.7, 1624675254.35], \"y\": [2, 1, 2, 14, 3, 6, 1, 4, 2]}, {\"hoverinfo\": \"text\", \"hovertext\": [\"<b>Topic 2</b><br>Words: digital products, to secure, secure digital, using nfts, secure\", \"<b>Topic 2</b><br>Words: how secure, secure, secure how, crypto, on rarible\", \"<b>Topic 2</b><br>Words: crypto, come cryptovoxels, cryptovoxels is, cryptovoxels, crypto yet\", \"<b>Topic 2</b><br>Words: on rarible, rarible, upload, crypto, be compacted\", \"<b>Topic 2</b><br>Words: crypto, crypto how, give gift, gift related, gift\", \"<b>Topic 2</b><br>Words: verified on, get verified, verified, it take, on rarible\", \"<b>Topic 2</b><br>Words: will affect, crash, crypto crash, the crypto, crash will\"], \"marker\": {\"color\": \"#56B4E9\"}, \"mode\": \"lines\", \"name\": \"2_crypto_on rarible_rarible_secure\", \"type\": \"scatter\", \"x\": [1601023757.867, 1607266161.25, 1613483694.5, 1614727201.15, 1617214214.45, 1618457721.1, 1620944734.4], \"y\": [2, 2, 4, 16, 4, 2, 2]}, {\"hoverinfo\": \"text\", \"hovertext\": [\"<b>Topic 4</b><br>Words: packs, nft packs, to pokemon, packs similiar, pokemon\", \"<b>Topic 4</b><br>Words: video game, sell video, game, to sell, game how\", \"<b>Topic 4</b><br>Words: physical item, nft for, create nft, to create, create\", \"<b>Topic 4</b><br>Words: physical item, item, an nft, nft to, walletdigital picture\", \"<b>Topic 4</b><br>Words: of game, nft out, game, make nft, game how\", \"<b>Topic 4</b><br>Words: gaming, physical item, item how, an nft, gaming companies\"], \"marker\": {\"color\": \"#009E73\"}, \"mode\": \"lines\", \"name\": \"4_physical item_gaming_item how_item\", \"type\": \"scatter\", \"x\": [1612240187.85, 1614727201.15, 1615970707.8, 1617214214.45, 1620944734.4, 1624675254.35], \"y\": [2, 2, 2, 6, 2, 6]}, {\"hoverinfo\": \"text\", \"hovertext\": [\"<b>Topic 0</b><br>Words: minting, mintable gasless, to check, gas price, minting process\", \"<b>Topic 0</b><br>Words: mint, to mint, gas, mintable, mint art\", \"<b>Topic 0</b><br>Words: labs make, nfts purchasable, make nbatopshot, dapper labs, did dapper\", \"<b>Topic 0</b><br>Words: mintable, mint, mintable account, can delete, delete\", \"<b>Topic 0</b><br>Words: private, mint an, my eth, private just, content private\", \"<b>Topic 0</b><br>Words: mint, mintable, to mint, mint it, mint randomized\", \"<b>Topic 0</b><br>Words: mintable url, my mintable, mintable, url how, mint\", \"<b>Topic 0</b><br>Words: many nfts, skulls, nfts posted, have skulls, non fungible\", \"<b>Topic 0</b><br>Words: cloning tech, pizzap, pizzap voicenft, plian blockchain, cloning\"], \"marker\": {\"color\": \"#F0E442\"}, \"mode\": \"lines\", \"name\": \"0_mint_mintable_to mint_mintable how\", \"type\": \"scatter\", \"x\": [1613483694.5, 1614727201.15, 1615970707.8, 1617214214.45, 1618457721.1, 1619701227.75, 1620944734.4, 1623431747.7, 1624675254.35], \"y\": [6, 28, 6, 14, 4, 8, 2, 4, 2]}, {\"hoverinfo\": \"text\", \"hovertext\": [\"<b>Topic 3</b><br>Words: creator in, get accepted, in foundation, accepted as, as creator\", \"<b>Topic 3</b><br>Words: foundation, invite, for foundation, on foundation, foundation how\", \"<b>Topic 3</b><br>Words: foundation, from foundation, environmentalists, environmentalists how, rarible site\", \"<b>Topic 3</b><br>Words: my foundation, foundation wallet, wallet, foundation, wallet how\", \"<b>Topic 3</b><br>Words: foundation, on foundation, get invited, community upvote, get upvoted\", \"<b>Topic 3</b><br>Words: waitlist, is foundation, foundation waitlist, foundation, on foundation\", \"<b>Topic 3</b><br>Words: insight until, until how, until, to wait, to niftygateway\"], \"marker\": {\"color\": \"#D55E00\"}, \"mode\": \"lines\", \"name\": \"3_foundation_on foundation_creator_get\", \"type\": \"scatter\", \"x\": [1613483694.5, 1614727201.15, 1617214214.45, 1618457721.1, 1619701227.75, 1623431747.7, 1624675254.35], \"y\": [2, 6, 4, 2, 6, 2, 2]}, {\"hoverinfo\": \"text\", \"hovertext\": [\"<b>Topic 6</b><br>Words: token, can reduce, taxes on, pay taxes, receive nfts\", \"<b>Topic 6</b><br>Words: launder, token ownership, erc721, erc721 token, launder money\", \"<b>Topic 6</b><br>Words: as much, newbie and, to newbie, reduced as, be reduced\", \"<b>Topic 6</b><br>Words: pay crazy, crazy price, crazy, people pay, nft\"], \"marker\": {\"color\": \"#0072B2\"}, \"mode\": \"lines\", \"name\": \"6_token_can_money_an nft\", \"type\": \"scatter\", \"x\": [1613483694.5, 1614727201.15, 1615970707.8, 1623431747.7], \"y\": [10, 5, 2, 1]}, {\"hoverinfo\": \"text\", \"hovertext\": [\"<b>Topic 8</b><br>Words: atomichub, from atomichub, atomichub how, atomic 01, upload audiovideos\", \"<b>Topic 8</b><br>Words: atomichub, atoms you, atoms, atomic 01, upload audiovideos\"], \"marker\": {\"color\": \"#CC79A7\"}, \"mode\": \"lines\", \"name\": \"8_atomichub_atomichub atomic_to atomichu...\", \"type\": \"scatter\", \"x\": [1613483694.5, 1614727201.15], \"y\": [2, 4]}, {\"hoverinfo\": \"text\", \"hovertext\": [\"<b>Topic 5</b><br>Words: opensea, set royalties, royalties, royalties on, openseas dont\", \"<b>Topic 5</b><br>Words: eth should, opensea startup, startup costs, total opensea, much eth\", \"<b>Topic 5</b><br>Words: opensea, on opensea, much eth, like opensea, opensea how\", \"<b>Topic 5</b><br>Words: opensea, opensea how, to opensea, like opensea, dollars will\", \"<b>Topic 5</b><br>Words: opensea, item super, get people, super noob, noob\"], \"marker\": {\"color\": \"#E69F00\"}, \"mode\": \"lines\", \"name\": \"5_opensea_opensea how_get_on opensea\", \"type\": \"scatter\", \"x\": [1614727201.15, 1615970707.8, 1617214214.45, 1618457721.1, 1619701227.75], \"y\": [4, 2, 6, 6, 2]}, {\"hoverinfo\": \"text\", \"hovertext\": [\"<b>Topic 9</b><br>Words: everything in, on top, top of, top, on\", \"<b>Topic 9</b><br>Words: topps mlb, nft drop, drops work, drop tonight, drop\"], \"marker\": {\"color\": \"#56B4E9\"}, \"mode\": \"lines\", \"name\": \"9_topps_drop tonight_mlb nft_topps anybo...\", \"type\": \"scatter\", \"x\": [1614727201.15, 1618457721.1], \"y\": [2, 4]}, {\"hoverinfo\": \"text\", \"hovertext\": [\"<b>Topic 7</b><br>Words: photographers have, photographers, market an, fellow photographers, tips on\", \"<b>Topic 7</b><br>Words: link my, sell them, photos, photos to, to link\", \"<b>Topic 7</b><br>Words: tweet, tweet go, mean tweets, that tweet, tweetsimagesvideos\", \"<b>Topic 7</b><br>Words: im photographer, photographer, photographer how, into nft, get\"], \"marker\": {\"color\": \"#009E73\"}, \"mode\": \"lines\", \"name\": \"7_tweet_tweet go_auction how_tweets\", \"type\": \"scatter\", \"x\": [1615970707.8, 1617214214.45, 1618457721.1, 1624675254.35], \"y\": [2, 2, 4, 2]}],                        {\"height\": 450, \"hoverlabel\": {\"bgcolor\": \"white\", \"font\": {\"family\": \"Rockwell\", \"size\": 16}}, \"legend\": {\"title\": {\"text\": \"<b>Global Topic Representation\"}}, \"template\": {\"data\": {\"bar\": [{\"error_x\": {\"color\": \"rgb(36,36,36)\"}, \"error_y\": {\"color\": \"rgb(36,36,36)\"}, \"marker\": {\"line\": {\"color\": \"white\", \"width\": 0.5}}, \"type\": \"bar\"}], \"barpolar\": [{\"marker\": {\"line\": {\"color\": \"white\", \"width\": 0.5}}, \"type\": \"barpolar\"}], \"carpet\": [{\"aaxis\": {\"endlinecolor\": \"rgb(36,36,36)\", \"gridcolor\": \"white\", \"linecolor\": \"white\", \"minorgridcolor\": \"white\", \"startlinecolor\": \"rgb(36,36,36)\"}, \"baxis\": {\"endlinecolor\": \"rgb(36,36,36)\", \"gridcolor\": \"white\", \"linecolor\": \"white\", \"minorgridcolor\": \"white\", \"startlinecolor\": \"rgb(36,36,36)\"}, \"type\": \"carpet\"}], \"choropleth\": [{\"colorbar\": {\"outlinewidth\": 1, \"tickcolor\": \"rgb(36,36,36)\", \"ticks\": \"outside\"}, \"type\": \"choropleth\"}], \"contour\": [{\"colorbar\": {\"outlinewidth\": 1, \"tickcolor\": \"rgb(36,36,36)\", \"ticks\": \"outside\"}, \"colorscale\": [[0.0, \"#440154\"], [0.1111111111111111, \"#482878\"], [0.2222222222222222, \"#3e4989\"], [0.3333333333333333, \"#31688e\"], [0.4444444444444444, \"#26828e\"], [0.5555555555555556, \"#1f9e89\"], [0.6666666666666666, \"#35b779\"], [0.7777777777777778, \"#6ece58\"], [0.8888888888888888, \"#b5de2b\"], [1.0, \"#fde725\"]], \"type\": \"contour\"}], \"contourcarpet\": [{\"colorbar\": {\"outlinewidth\": 1, \"tickcolor\": \"rgb(36,36,36)\", \"ticks\": \"outside\"}, \"type\": \"contourcarpet\"}], \"heatmap\": [{\"colorbar\": {\"outlinewidth\": 1, \"tickcolor\": \"rgb(36,36,36)\", \"ticks\": \"outside\"}, \"colorscale\": [[0.0, \"#440154\"], [0.1111111111111111, \"#482878\"], [0.2222222222222222, \"#3e4989\"], [0.3333333333333333, \"#31688e\"], [0.4444444444444444, \"#26828e\"], [0.5555555555555556, \"#1f9e89\"], [0.6666666666666666, \"#35b779\"], [0.7777777777777778, \"#6ece58\"], [0.8888888888888888, \"#b5de2b\"], [1.0, \"#fde725\"]], \"type\": \"heatmap\"}], \"heatmapgl\": [{\"colorbar\": {\"outlinewidth\": 1, \"tickcolor\": \"rgb(36,36,36)\", \"ticks\": \"outside\"}, \"colorscale\": [[0.0, \"#440154\"], [0.1111111111111111, \"#482878\"], [0.2222222222222222, \"#3e4989\"], [0.3333333333333333, \"#31688e\"], [0.4444444444444444, \"#26828e\"], [0.5555555555555556, \"#1f9e89\"], [0.6666666666666666, \"#35b779\"], [0.7777777777777778, \"#6ece58\"], [0.8888888888888888, \"#b5de2b\"], [1.0, \"#fde725\"]], \"type\": \"heatmapgl\"}], \"histogram\": [{\"marker\": {\"line\": {\"color\": \"white\", \"width\": 0.6}}, \"type\": \"histogram\"}], \"histogram2d\": [{\"colorbar\": {\"outlinewidth\": 1, \"tickcolor\": \"rgb(36,36,36)\", \"ticks\": \"outside\"}, \"colorscale\": [[0.0, \"#440154\"], [0.1111111111111111, \"#482878\"], [0.2222222222222222, \"#3e4989\"], [0.3333333333333333, \"#31688e\"], [0.4444444444444444, \"#26828e\"], [0.5555555555555556, \"#1f9e89\"], [0.6666666666666666, \"#35b779\"], [0.7777777777777778, \"#6ece58\"], [0.8888888888888888, \"#b5de2b\"], [1.0, \"#fde725\"]], \"type\": \"histogram2d\"}], \"histogram2dcontour\": [{\"colorbar\": {\"outlinewidth\": 1, \"tickcolor\": \"rgb(36,36,36)\", \"ticks\": \"outside\"}, \"colorscale\": [[0.0, \"#440154\"], [0.1111111111111111, \"#482878\"], [0.2222222222222222, \"#3e4989\"], [0.3333333333333333, \"#31688e\"], [0.4444444444444444, \"#26828e\"], [0.5555555555555556, \"#1f9e89\"], [0.6666666666666666, \"#35b779\"], [0.7777777777777778, \"#6ece58\"], [0.8888888888888888, \"#b5de2b\"], [1.0, \"#fde725\"]], \"type\": \"histogram2dcontour\"}], \"mesh3d\": [{\"colorbar\": {\"outlinewidth\": 1, \"tickcolor\": \"rgb(36,36,36)\", \"ticks\": \"outside\"}, \"type\": \"mesh3d\"}], \"parcoords\": [{\"line\": {\"colorbar\": {\"outlinewidth\": 1, \"tickcolor\": \"rgb(36,36,36)\", \"ticks\": \"outside\"}}, \"type\": \"parcoords\"}], \"pie\": [{\"automargin\": true, \"type\": \"pie\"}], \"scatter\": [{\"marker\": {\"colorbar\": {\"outlinewidth\": 1, \"tickcolor\": \"rgb(36,36,36)\", \"ticks\": \"outside\"}}, \"type\": \"scatter\"}], \"scatter3d\": [{\"line\": {\"colorbar\": {\"outlinewidth\": 1, \"tickcolor\": \"rgb(36,36,36)\", \"ticks\": \"outside\"}}, \"marker\": {\"colorbar\": {\"outlinewidth\": 1, \"tickcolor\": \"rgb(36,36,36)\", \"ticks\": \"outside\"}}, \"type\": \"scatter3d\"}], \"scattercarpet\": [{\"marker\": {\"colorbar\": {\"outlinewidth\": 1, \"tickcolor\": \"rgb(36,36,36)\", \"ticks\": \"outside\"}}, \"type\": \"scattercarpet\"}], \"scattergeo\": [{\"marker\": {\"colorbar\": {\"outlinewidth\": 1, \"tickcolor\": \"rgb(36,36,36)\", \"ticks\": \"outside\"}}, \"type\": \"scattergeo\"}], \"scattergl\": [{\"marker\": {\"colorbar\": {\"outlinewidth\": 1, \"tickcolor\": \"rgb(36,36,36)\", \"ticks\": \"outside\"}}, \"type\": \"scattergl\"}], \"scattermapbox\": [{\"marker\": {\"colorbar\": {\"outlinewidth\": 1, \"tickcolor\": \"rgb(36,36,36)\", \"ticks\": \"outside\"}}, \"type\": \"scattermapbox\"}], \"scatterpolar\": [{\"marker\": {\"colorbar\": {\"outlinewidth\": 1, \"tickcolor\": \"rgb(36,36,36)\", \"ticks\": \"outside\"}}, \"type\": \"scatterpolar\"}], \"scatterpolargl\": [{\"marker\": {\"colorbar\": {\"outlinewidth\": 1, \"tickcolor\": \"rgb(36,36,36)\", \"ticks\": \"outside\"}}, \"type\": \"scatterpolargl\"}], \"scatterternary\": [{\"marker\": {\"colorbar\": {\"outlinewidth\": 1, \"tickcolor\": \"rgb(36,36,36)\", \"ticks\": \"outside\"}}, \"type\": \"scatterternary\"}], \"surface\": [{\"colorbar\": {\"outlinewidth\": 1, \"tickcolor\": \"rgb(36,36,36)\", \"ticks\": \"outside\"}, \"colorscale\": [[0.0, \"#440154\"], [0.1111111111111111, \"#482878\"], [0.2222222222222222, \"#3e4989\"], [0.3333333333333333, \"#31688e\"], [0.4444444444444444, \"#26828e\"], [0.5555555555555556, \"#1f9e89\"], [0.6666666666666666, \"#35b779\"], [0.7777777777777778, \"#6ece58\"], [0.8888888888888888, \"#b5de2b\"], [1.0, \"#fde725\"]], \"type\": \"surface\"}], \"table\": [{\"cells\": {\"fill\": {\"color\": \"rgb(237,237,237)\"}, \"line\": {\"color\": \"white\"}}, \"header\": {\"fill\": {\"color\": \"rgb(217,217,217)\"}, \"line\": {\"color\": \"white\"}}, \"type\": \"table\"}]}, \"layout\": {\"annotationdefaults\": {\"arrowhead\": 0, \"arrowwidth\": 1}, \"autotypenumbers\": \"strict\", \"coloraxis\": {\"colorbar\": {\"outlinewidth\": 1, \"tickcolor\": \"rgb(36,36,36)\", \"ticks\": \"outside\"}}, \"colorscale\": {\"diverging\": [[0.0, \"rgb(103,0,31)\"], [0.1, \"rgb(178,24,43)\"], [0.2, \"rgb(214,96,77)\"], [0.3, \"rgb(244,165,130)\"], [0.4, \"rgb(253,219,199)\"], [0.5, \"rgb(247,247,247)\"], [0.6, \"rgb(209,229,240)\"], [0.7, \"rgb(146,197,222)\"], [0.8, \"rgb(67,147,195)\"], [0.9, \"rgb(33,102,172)\"], [1.0, \"rgb(5,48,97)\"]], \"sequential\": [[0.0, \"#440154\"], [0.1111111111111111, \"#482878\"], [0.2222222222222222, \"#3e4989\"], [0.3333333333333333, \"#31688e\"], [0.4444444444444444, \"#26828e\"], [0.5555555555555556, \"#1f9e89\"], [0.6666666666666666, \"#35b779\"], [0.7777777777777778, \"#6ece58\"], [0.8888888888888888, \"#b5de2b\"], [1.0, \"#fde725\"]], \"sequentialminus\": [[0.0, \"#440154\"], [0.1111111111111111, \"#482878\"], [0.2222222222222222, \"#3e4989\"], [0.3333333333333333, \"#31688e\"], [0.4444444444444444, \"#26828e\"], [0.5555555555555556, \"#1f9e89\"], [0.6666666666666666, \"#35b779\"], [0.7777777777777778, \"#6ece58\"], [0.8888888888888888, \"#b5de2b\"], [1.0, \"#fde725\"]]}, \"colorway\": [\"#1F77B4\", \"#FF7F0E\", \"#2CA02C\", \"#D62728\", \"#9467BD\", \"#8C564B\", \"#E377C2\", \"#7F7F7F\", \"#BCBD22\", \"#17BECF\"], \"font\": {\"color\": \"rgb(36,36,36)\"}, \"geo\": {\"bgcolor\": \"white\", \"lakecolor\": \"white\", \"landcolor\": \"white\", \"showlakes\": true, \"showland\": true, \"subunitcolor\": \"white\"}, \"hoverlabel\": {\"align\": \"left\"}, \"hovermode\": \"closest\", \"mapbox\": {\"style\": \"light\"}, \"paper_bgcolor\": \"white\", \"plot_bgcolor\": \"white\", \"polar\": {\"angularaxis\": {\"gridcolor\": \"rgb(232,232,232)\", \"linecolor\": \"rgb(36,36,36)\", \"showgrid\": false, \"showline\": true, \"ticks\": \"outside\"}, \"bgcolor\": \"white\", \"radialaxis\": {\"gridcolor\": \"rgb(232,232,232)\", \"linecolor\": \"rgb(36,36,36)\", \"showgrid\": false, \"showline\": true, \"ticks\": \"outside\"}}, \"scene\": {\"xaxis\": {\"backgroundcolor\": \"white\", \"gridcolor\": \"rgb(232,232,232)\", \"gridwidth\": 2, \"linecolor\": \"rgb(36,36,36)\", \"showbackground\": true, \"showgrid\": false, \"showline\": true, \"ticks\": \"outside\", \"zeroline\": false, \"zerolinecolor\": \"rgb(36,36,36)\"}, \"yaxis\": {\"backgroundcolor\": \"white\", \"gridcolor\": \"rgb(232,232,232)\", \"gridwidth\": 2, \"linecolor\": \"rgb(36,36,36)\", \"showbackground\": true, \"showgrid\": false, \"showline\": true, \"ticks\": \"outside\", \"zeroline\": false, \"zerolinecolor\": \"rgb(36,36,36)\"}, \"zaxis\": {\"backgroundcolor\": \"white\", \"gridcolor\": \"rgb(232,232,232)\", \"gridwidth\": 2, \"linecolor\": \"rgb(36,36,36)\", \"showbackground\": true, \"showgrid\": false, \"showline\": true, \"ticks\": \"outside\", \"zeroline\": false, \"zerolinecolor\": \"rgb(36,36,36)\"}}, \"shapedefaults\": {\"fillcolor\": \"black\", \"line\": {\"width\": 0}, \"opacity\": 0.3}, \"ternary\": {\"aaxis\": {\"gridcolor\": \"rgb(232,232,232)\", \"linecolor\": \"rgb(36,36,36)\", \"showgrid\": false, \"showline\": true, \"ticks\": \"outside\"}, \"baxis\": {\"gridcolor\": \"rgb(232,232,232)\", \"linecolor\": \"rgb(36,36,36)\", \"showgrid\": false, \"showline\": true, \"ticks\": \"outside\"}, \"bgcolor\": \"white\", \"caxis\": {\"gridcolor\": \"rgb(232,232,232)\", \"linecolor\": \"rgb(36,36,36)\", \"showgrid\": false, \"showline\": true, \"ticks\": \"outside\"}}, \"title\": {\"x\": 0.05}, \"xaxis\": {\"automargin\": true, \"gridcolor\": \"rgb(232,232,232)\", \"linecolor\": \"rgb(36,36,36)\", \"showgrid\": false, \"showline\": true, \"ticks\": \"outside\", \"title\": {\"standoff\": 15}, \"zeroline\": false, \"zerolinecolor\": \"rgb(36,36,36)\"}, \"yaxis\": {\"automargin\": true, \"gridcolor\": \"rgb(232,232,232)\", \"linecolor\": \"rgb(36,36,36)\", \"showgrid\": false, \"showline\": true, \"ticks\": \"outside\", \"title\": {\"standoff\": 15}, \"zeroline\": false, \"zerolinecolor\": \"rgb(36,36,36)\"}}}, \"title\": {\"font\": {\"color\": \"Black\", \"size\": 22}, \"text\": \"<b>Topics over Time\", \"x\": 0.4, \"xanchor\": \"center\", \"y\": 0.95, \"yanchor\": \"top\"}, \"width\": 1250, \"xaxis\": {\"showgrid\": true}, \"yaxis\": {\"showgrid\": true, \"title\": {\"text\": \"Frequency\"}}},                        {\"responsive\": true}                    ).then(function(){\n",
              "                            \n",
              "var gd = document.getElementById('8173f42e-e53c-4b27-b73b-e6fffd9134df');\n",
              "var x = new MutationObserver(function (mutations, observer) {{\n",
              "        var display = window.getComputedStyle(gd).display;\n",
              "        if (!display || display === 'none') {{\n",
              "            console.log([gd, 'removed!']);\n",
              "            Plotly.purge(gd);\n",
              "            observer.disconnect();\n",
              "        }}\n",
              "}});\n",
              "\n",
              "// Listen for the removal of the full notebook cells\n",
              "var notebookContainer = gd.closest('#notebook-container');\n",
              "if (notebookContainer) {{\n",
              "    x.observe(notebookContainer, {childList: true});\n",
              "}}\n",
              "\n",
              "// Listen for the clearing of the current output cell\n",
              "var outputEl = gd.closest('.output');\n",
              "if (outputEl) {{\n",
              "    x.observe(outputEl, {childList: true});\n",
              "}}\n",
              "\n",
              "                        })                };                            </script>        </div>\n",
              "</body>\n",
              "</html>"
            ]
          },
          "metadata": {
            "tags": []
          }
        }
      ]
    },
    {
      "cell_type": "code",
      "metadata": {
        "id": "QiPjaXEeMys-",
        "colab": {
          "base_uri": "https://localhost:8080/",
          "height": 667
        },
        "outputId": "da0c6190-83b5-4582-8398-313096e8d356"
      },
      "source": [
        "topic_model.visualize_topics()"
      ],
      "execution_count": 72,
      "outputs": [
        {
          "output_type": "display_data",
          "data": {
            "text/html": [
              "<html>\n",
              "<head><meta charset=\"utf-8\" /></head>\n",
              "<body>\n",
              "    <div>            <script src=\"https://cdnjs.cloudflare.com/ajax/libs/mathjax/2.7.5/MathJax.js?config=TeX-AMS-MML_SVG\"></script><script type=\"text/javascript\">if (window.MathJax) {MathJax.Hub.Config({SVG: {font: \"STIX-Web\"}});}</script>                <script type=\"text/javascript\">window.PlotlyConfig = {MathJaxConfig: 'local'};</script>\n",
              "        <script src=\"https://cdn.plot.ly/plotly-latest.min.js\"></script>                <div id=\"cf114fdd-3261-4bb3-87da-c44bffa3d81f\" class=\"plotly-graph-div\" style=\"height:650px; width:650px;\"></div>            <script type=\"text/javascript\">                                    window.PLOTLYENV=window.PLOTLYENV || {};                                    if (document.getElementById(\"cf114fdd-3261-4bb3-87da-c44bffa3d81f\")) {                    Plotly.newPlot(                        \"cf114fdd-3261-4bb3-87da-c44bffa3d81f\",                        [{\"customdata\": [[-5.667831897735596, 1.8440593481063843, 0, \"mint | mintable | to mint | mintable how | minting\", 74], [2.390716314315796, -4.492716312408447, 1, \"nft | art | nfts | nft how | your nft\", 35], [-5.104787349700928, 2.4051551818847656, 2, \"crypto | on rarible | rarible | secure | how to\", 32], [16.800451278686523, 11.578484535217285, 3, \"foundation | on foundation | creator | get | for foundation\", 24], [4.576182842254639, -5.333858966827393, 4, \"physical item | gaming | item how | item | game\", 20], [-5.939120769500732, 1.5730564594268799, 5, \"opensea | opensea how | get | on opensea | to opensea\", 20], [4.309553146362305, -5.050064563751221, 6, \"token | can | money | an nft | receive nfts\", 18], [17.024328231811523, 11.802730560302734, 7, \"tweet | tweet go | auction how | tweets | tweets how\", 10], [12.423125267028809, -5.202731132507324, 8, \"atomichub | atomichub atomic | to atomichub | atoms you | atoms\", 6], [12.719640731811523, -4.906194686889648, 9, \"topps | drop tonight | mlb nft | topps anybody | topps mlb\", 6]], \"hovertemplate\": \"<b>Topic %{customdata[2]}</b><br>Words: %{customdata[3]}<br>Size: %{customdata[4]}\", \"legendgroup\": \"\", \"marker\": {\"color\": \"#B0BEC5\", \"line\": {\"color\": \"DarkSlateGrey\", \"width\": 2}, \"size\": [74, 35, 32, 24, 20, 20, 18, 10, 6, 6], \"sizemode\": \"area\", \"sizeref\": 0.04625, \"symbol\": \"circle\"}, \"mode\": \"markers\", \"name\": \"\", \"orientation\": \"v\", \"showlegend\": false, \"type\": \"scatter\", \"x\": [-5.667831897735596, 2.390716314315796, -5.104787349700928, 16.800451278686523, 4.576182842254639, -5.939120769500732, 4.309553146362305, 17.024328231811523, 12.423125267028809, 12.719640731811523], \"xaxis\": \"x\", \"y\": [1.8440593481063843, -4.492716312408447, 2.4051551818847656, 11.578484535217285, -5.333858966827393, 1.5730564594268799, -5.050064563751221, 11.802730560302734, -5.202731132507324, -4.906194686889648], \"yaxis\": \"y\"}],                        {\"annotations\": [{\"showarrow\": false, \"text\": \"D1\", \"x\": -6.829988884925842, \"y\": 3.7196011662483217, \"yshift\": 10}, {\"showarrow\": false, \"text\": \"D2\", \"x\": 6.373994290828705, \"xshift\": 10, \"y\": 13.573140144348145}], \"height\": 650, \"hoverlabel\": {\"bgcolor\": \"white\", \"font\": {\"family\": \"Rockwell\", \"size\": 16}}, \"legend\": {\"itemsizing\": \"constant\", \"tracegroupgap\": 0}, \"margin\": {\"t\": 60}, \"shapes\": [{\"line\": {\"color\": \"#CFD8DC\", \"width\": 2}, \"type\": \"line\", \"x0\": 6.373994290828705, \"x1\": 6.373994290828705, \"y0\": -6.133937811851501, \"y1\": 13.573140144348145}, {\"line\": {\"color\": \"#9E9E9E\", \"width\": 2}, \"type\": \"line\", \"x0\": -6.829988884925842, \"x1\": 19.577977466583253, \"y0\": 3.7196011662483217, \"y1\": 3.7196011662483217}], \"sliders\": [{\"active\": 0, \"pad\": {\"t\": 50}, \"steps\": [{\"args\": [{\"marker.color\": [[\"red\", \"#B0BEC5\", \"#B0BEC5\", \"#B0BEC5\", \"#B0BEC5\", \"#B0BEC5\", \"#B0BEC5\", \"#B0BEC5\", \"#B0BEC5\", \"#B0BEC5\"]]}], \"label\": \"Topic 0\", \"method\": \"update\"}, {\"args\": [{\"marker.color\": [[\"#B0BEC5\", \"red\", \"#B0BEC5\", \"#B0BEC5\", \"#B0BEC5\", \"#B0BEC5\", \"#B0BEC5\", \"#B0BEC5\", \"#B0BEC5\", \"#B0BEC5\"]]}], \"label\": \"Topic 1\", \"method\": \"update\"}, {\"args\": [{\"marker.color\": [[\"#B0BEC5\", \"#B0BEC5\", \"red\", \"#B0BEC5\", \"#B0BEC5\", \"#B0BEC5\", \"#B0BEC5\", \"#B0BEC5\", \"#B0BEC5\", \"#B0BEC5\"]]}], \"label\": \"Topic 2\", \"method\": \"update\"}, {\"args\": [{\"marker.color\": [[\"#B0BEC5\", \"#B0BEC5\", \"#B0BEC5\", \"red\", \"#B0BEC5\", \"#B0BEC5\", \"#B0BEC5\", \"#B0BEC5\", \"#B0BEC5\", \"#B0BEC5\"]]}], \"label\": \"Topic 3\", \"method\": \"update\"}, {\"args\": [{\"marker.color\": [[\"#B0BEC5\", \"#B0BEC5\", \"#B0BEC5\", \"#B0BEC5\", \"red\", \"#B0BEC5\", \"#B0BEC5\", \"#B0BEC5\", \"#B0BEC5\", \"#B0BEC5\"]]}], \"label\": \"Topic 4\", \"method\": \"update\"}, {\"args\": [{\"marker.color\": [[\"#B0BEC5\", \"#B0BEC5\", \"#B0BEC5\", \"#B0BEC5\", \"#B0BEC5\", \"red\", \"#B0BEC5\", \"#B0BEC5\", \"#B0BEC5\", \"#B0BEC5\"]]}], \"label\": \"Topic 5\", \"method\": \"update\"}, {\"args\": [{\"marker.color\": [[\"#B0BEC5\", \"#B0BEC5\", \"#B0BEC5\", \"#B0BEC5\", \"#B0BEC5\", \"#B0BEC5\", \"red\", \"#B0BEC5\", \"#B0BEC5\", \"#B0BEC5\"]]}], \"label\": \"Topic 6\", \"method\": \"update\"}, {\"args\": [{\"marker.color\": [[\"#B0BEC5\", \"#B0BEC5\", \"#B0BEC5\", \"#B0BEC5\", \"#B0BEC5\", \"#B0BEC5\", \"#B0BEC5\", \"red\", \"#B0BEC5\", \"#B0BEC5\"]]}], \"label\": \"Topic 7\", \"method\": \"update\"}, {\"args\": [{\"marker.color\": [[\"#B0BEC5\", \"#B0BEC5\", \"#B0BEC5\", \"#B0BEC5\", \"#B0BEC5\", \"#B0BEC5\", \"#B0BEC5\", \"#B0BEC5\", \"red\", \"#B0BEC5\"]]}], \"label\": \"Topic 8\", \"method\": \"update\"}, {\"args\": [{\"marker.color\": [[\"#B0BEC5\", \"#B0BEC5\", \"#B0BEC5\", \"#B0BEC5\", \"#B0BEC5\", \"#B0BEC5\", \"#B0BEC5\", \"#B0BEC5\", \"#B0BEC5\", \"red\"]]}], \"label\": \"Topic 9\", \"method\": \"update\"}]}], \"template\": {\"data\": {\"bar\": [{\"error_x\": {\"color\": \"rgb(36,36,36)\"}, \"error_y\": {\"color\": \"rgb(36,36,36)\"}, \"marker\": {\"line\": {\"color\": \"white\", \"width\": 0.5}}, \"type\": \"bar\"}], \"barpolar\": [{\"marker\": {\"line\": {\"color\": \"white\", \"width\": 0.5}}, \"type\": \"barpolar\"}], \"carpet\": [{\"aaxis\": {\"endlinecolor\": \"rgb(36,36,36)\", \"gridcolor\": \"white\", \"linecolor\": \"white\", \"minorgridcolor\": \"white\", \"startlinecolor\": \"rgb(36,36,36)\"}, \"baxis\": {\"endlinecolor\": \"rgb(36,36,36)\", \"gridcolor\": \"white\", \"linecolor\": \"white\", \"minorgridcolor\": \"white\", \"startlinecolor\": \"rgb(36,36,36)\"}, \"type\": \"carpet\"}], \"choropleth\": [{\"colorbar\": {\"outlinewidth\": 1, \"tickcolor\": \"rgb(36,36,36)\", \"ticks\": \"outside\"}, \"type\": \"choropleth\"}], \"contour\": [{\"colorbar\": {\"outlinewidth\": 1, \"tickcolor\": \"rgb(36,36,36)\", \"ticks\": \"outside\"}, \"colorscale\": [[0.0, \"#440154\"], [0.1111111111111111, \"#482878\"], [0.2222222222222222, \"#3e4989\"], [0.3333333333333333, \"#31688e\"], [0.4444444444444444, \"#26828e\"], [0.5555555555555556, \"#1f9e89\"], [0.6666666666666666, \"#35b779\"], [0.7777777777777778, \"#6ece58\"], [0.8888888888888888, \"#b5de2b\"], [1.0, \"#fde725\"]], \"type\": \"contour\"}], \"contourcarpet\": [{\"colorbar\": {\"outlinewidth\": 1, \"tickcolor\": \"rgb(36,36,36)\", \"ticks\": \"outside\"}, \"type\": \"contourcarpet\"}], \"heatmap\": [{\"colorbar\": {\"outlinewidth\": 1, \"tickcolor\": \"rgb(36,36,36)\", \"ticks\": \"outside\"}, \"colorscale\": [[0.0, \"#440154\"], [0.1111111111111111, \"#482878\"], [0.2222222222222222, \"#3e4989\"], [0.3333333333333333, \"#31688e\"], [0.4444444444444444, \"#26828e\"], [0.5555555555555556, \"#1f9e89\"], [0.6666666666666666, \"#35b779\"], [0.7777777777777778, \"#6ece58\"], [0.8888888888888888, \"#b5de2b\"], [1.0, \"#fde725\"]], \"type\": \"heatmap\"}], \"heatmapgl\": [{\"colorbar\": {\"outlinewidth\": 1, \"tickcolor\": \"rgb(36,36,36)\", \"ticks\": \"outside\"}, \"colorscale\": [[0.0, \"#440154\"], [0.1111111111111111, \"#482878\"], [0.2222222222222222, \"#3e4989\"], [0.3333333333333333, \"#31688e\"], [0.4444444444444444, \"#26828e\"], [0.5555555555555556, \"#1f9e89\"], [0.6666666666666666, \"#35b779\"], [0.7777777777777778, \"#6ece58\"], [0.8888888888888888, \"#b5de2b\"], [1.0, \"#fde725\"]], \"type\": \"heatmapgl\"}], \"histogram\": [{\"marker\": {\"line\": {\"color\": \"white\", \"width\": 0.6}}, \"type\": \"histogram\"}], \"histogram2d\": [{\"colorbar\": {\"outlinewidth\": 1, \"tickcolor\": \"rgb(36,36,36)\", \"ticks\": \"outside\"}, \"colorscale\": [[0.0, \"#440154\"], [0.1111111111111111, \"#482878\"], [0.2222222222222222, \"#3e4989\"], [0.3333333333333333, \"#31688e\"], [0.4444444444444444, \"#26828e\"], [0.5555555555555556, \"#1f9e89\"], [0.6666666666666666, \"#35b779\"], [0.7777777777777778, \"#6ece58\"], [0.8888888888888888, \"#b5de2b\"], [1.0, \"#fde725\"]], \"type\": \"histogram2d\"}], \"histogram2dcontour\": [{\"colorbar\": {\"outlinewidth\": 1, \"tickcolor\": \"rgb(36,36,36)\", \"ticks\": \"outside\"}, \"colorscale\": [[0.0, \"#440154\"], [0.1111111111111111, \"#482878\"], [0.2222222222222222, \"#3e4989\"], [0.3333333333333333, \"#31688e\"], [0.4444444444444444, \"#26828e\"], [0.5555555555555556, \"#1f9e89\"], [0.6666666666666666, \"#35b779\"], [0.7777777777777778, \"#6ece58\"], [0.8888888888888888, \"#b5de2b\"], [1.0, \"#fde725\"]], \"type\": \"histogram2dcontour\"}], \"mesh3d\": [{\"colorbar\": {\"outlinewidth\": 1, \"tickcolor\": \"rgb(36,36,36)\", \"ticks\": \"outside\"}, \"type\": \"mesh3d\"}], \"parcoords\": [{\"line\": {\"colorbar\": {\"outlinewidth\": 1, \"tickcolor\": \"rgb(36,36,36)\", \"ticks\": \"outside\"}}, \"type\": \"parcoords\"}], \"pie\": [{\"automargin\": true, \"type\": \"pie\"}], \"scatter\": [{\"marker\": {\"colorbar\": {\"outlinewidth\": 1, \"tickcolor\": \"rgb(36,36,36)\", \"ticks\": \"outside\"}}, \"type\": \"scatter\"}], \"scatter3d\": [{\"line\": {\"colorbar\": {\"outlinewidth\": 1, \"tickcolor\": \"rgb(36,36,36)\", \"ticks\": \"outside\"}}, \"marker\": {\"colorbar\": {\"outlinewidth\": 1, \"tickcolor\": \"rgb(36,36,36)\", \"ticks\": \"outside\"}}, \"type\": \"scatter3d\"}], \"scattercarpet\": [{\"marker\": {\"colorbar\": {\"outlinewidth\": 1, \"tickcolor\": \"rgb(36,36,36)\", \"ticks\": \"outside\"}}, \"type\": \"scattercarpet\"}], \"scattergeo\": [{\"marker\": {\"colorbar\": {\"outlinewidth\": 1, \"tickcolor\": \"rgb(36,36,36)\", \"ticks\": \"outside\"}}, \"type\": \"scattergeo\"}], \"scattergl\": [{\"marker\": {\"colorbar\": {\"outlinewidth\": 1, \"tickcolor\": \"rgb(36,36,36)\", \"ticks\": \"outside\"}}, \"type\": \"scattergl\"}], \"scattermapbox\": [{\"marker\": {\"colorbar\": {\"outlinewidth\": 1, \"tickcolor\": \"rgb(36,36,36)\", \"ticks\": \"outside\"}}, \"type\": \"scattermapbox\"}], \"scatterpolar\": [{\"marker\": {\"colorbar\": {\"outlinewidth\": 1, \"tickcolor\": \"rgb(36,36,36)\", \"ticks\": \"outside\"}}, \"type\": \"scatterpolar\"}], \"scatterpolargl\": [{\"marker\": {\"colorbar\": {\"outlinewidth\": 1, \"tickcolor\": \"rgb(36,36,36)\", \"ticks\": \"outside\"}}, \"type\": \"scatterpolargl\"}], \"scatterternary\": [{\"marker\": {\"colorbar\": {\"outlinewidth\": 1, \"tickcolor\": \"rgb(36,36,36)\", \"ticks\": \"outside\"}}, \"type\": \"scatterternary\"}], \"surface\": [{\"colorbar\": {\"outlinewidth\": 1, \"tickcolor\": \"rgb(36,36,36)\", \"ticks\": \"outside\"}, \"colorscale\": [[0.0, \"#440154\"], [0.1111111111111111, \"#482878\"], [0.2222222222222222, \"#3e4989\"], [0.3333333333333333, \"#31688e\"], [0.4444444444444444, \"#26828e\"], [0.5555555555555556, \"#1f9e89\"], [0.6666666666666666, \"#35b779\"], [0.7777777777777778, \"#6ece58\"], [0.8888888888888888, \"#b5de2b\"], [1.0, \"#fde725\"]], \"type\": \"surface\"}], \"table\": [{\"cells\": {\"fill\": {\"color\": \"rgb(237,237,237)\"}, \"line\": {\"color\": \"white\"}}, \"header\": {\"fill\": {\"color\": \"rgb(217,217,217)\"}, \"line\": {\"color\": \"white\"}}, \"type\": \"table\"}]}, \"layout\": {\"annotationdefaults\": {\"arrowhead\": 0, \"arrowwidth\": 1}, \"autotypenumbers\": \"strict\", \"coloraxis\": {\"colorbar\": {\"outlinewidth\": 1, \"tickcolor\": \"rgb(36,36,36)\", \"ticks\": \"outside\"}}, \"colorscale\": {\"diverging\": [[0.0, \"rgb(103,0,31)\"], [0.1, \"rgb(178,24,43)\"], [0.2, \"rgb(214,96,77)\"], [0.3, \"rgb(244,165,130)\"], [0.4, \"rgb(253,219,199)\"], [0.5, \"rgb(247,247,247)\"], [0.6, \"rgb(209,229,240)\"], [0.7, \"rgb(146,197,222)\"], [0.8, \"rgb(67,147,195)\"], [0.9, \"rgb(33,102,172)\"], [1.0, \"rgb(5,48,97)\"]], \"sequential\": [[0.0, \"#440154\"], [0.1111111111111111, \"#482878\"], [0.2222222222222222, \"#3e4989\"], [0.3333333333333333, \"#31688e\"], [0.4444444444444444, \"#26828e\"], [0.5555555555555556, \"#1f9e89\"], [0.6666666666666666, \"#35b779\"], [0.7777777777777778, \"#6ece58\"], [0.8888888888888888, \"#b5de2b\"], [1.0, \"#fde725\"]], \"sequentialminus\": [[0.0, \"#440154\"], [0.1111111111111111, \"#482878\"], [0.2222222222222222, \"#3e4989\"], [0.3333333333333333, \"#31688e\"], [0.4444444444444444, \"#26828e\"], [0.5555555555555556, \"#1f9e89\"], [0.6666666666666666, \"#35b779\"], [0.7777777777777778, \"#6ece58\"], [0.8888888888888888, \"#b5de2b\"], [1.0, \"#fde725\"]]}, \"colorway\": [\"#1F77B4\", \"#FF7F0E\", \"#2CA02C\", \"#D62728\", \"#9467BD\", \"#8C564B\", \"#E377C2\", \"#7F7F7F\", \"#BCBD22\", \"#17BECF\"], \"font\": {\"color\": \"rgb(36,36,36)\"}, \"geo\": {\"bgcolor\": \"white\", \"lakecolor\": \"white\", \"landcolor\": \"white\", \"showlakes\": true, \"showland\": true, \"subunitcolor\": \"white\"}, \"hoverlabel\": {\"align\": \"left\"}, \"hovermode\": \"closest\", \"mapbox\": {\"style\": \"light\"}, \"paper_bgcolor\": \"white\", \"plot_bgcolor\": \"white\", \"polar\": {\"angularaxis\": {\"gridcolor\": \"rgb(232,232,232)\", \"linecolor\": \"rgb(36,36,36)\", \"showgrid\": false, \"showline\": true, \"ticks\": \"outside\"}, \"bgcolor\": \"white\", \"radialaxis\": {\"gridcolor\": \"rgb(232,232,232)\", \"linecolor\": \"rgb(36,36,36)\", \"showgrid\": false, \"showline\": true, \"ticks\": \"outside\"}}, \"scene\": {\"xaxis\": {\"backgroundcolor\": \"white\", \"gridcolor\": \"rgb(232,232,232)\", \"gridwidth\": 2, \"linecolor\": \"rgb(36,36,36)\", \"showbackground\": true, \"showgrid\": false, \"showline\": true, \"ticks\": \"outside\", \"zeroline\": false, \"zerolinecolor\": \"rgb(36,36,36)\"}, \"yaxis\": {\"backgroundcolor\": \"white\", \"gridcolor\": \"rgb(232,232,232)\", \"gridwidth\": 2, \"linecolor\": \"rgb(36,36,36)\", \"showbackground\": true, \"showgrid\": false, \"showline\": true, \"ticks\": \"outside\", \"zeroline\": false, \"zerolinecolor\": \"rgb(36,36,36)\"}, \"zaxis\": {\"backgroundcolor\": \"white\", \"gridcolor\": \"rgb(232,232,232)\", \"gridwidth\": 2, \"linecolor\": \"rgb(36,36,36)\", \"showbackground\": true, \"showgrid\": false, \"showline\": true, \"ticks\": \"outside\", \"zeroline\": false, \"zerolinecolor\": \"rgb(36,36,36)\"}}, \"shapedefaults\": {\"fillcolor\": \"black\", \"line\": {\"width\": 0}, \"opacity\": 0.3}, \"ternary\": {\"aaxis\": {\"gridcolor\": \"rgb(232,232,232)\", \"linecolor\": \"rgb(36,36,36)\", \"showgrid\": false, \"showline\": true, \"ticks\": \"outside\"}, \"baxis\": {\"gridcolor\": \"rgb(232,232,232)\", \"linecolor\": \"rgb(36,36,36)\", \"showgrid\": false, \"showline\": true, \"ticks\": \"outside\"}, \"bgcolor\": \"white\", \"caxis\": {\"gridcolor\": \"rgb(232,232,232)\", \"linecolor\": \"rgb(36,36,36)\", \"showgrid\": false, \"showline\": true, \"ticks\": \"outside\"}}, \"title\": {\"x\": 0.05}, \"xaxis\": {\"automargin\": true, \"gridcolor\": \"rgb(232,232,232)\", \"linecolor\": \"rgb(36,36,36)\", \"showgrid\": false, \"showline\": true, \"ticks\": \"outside\", \"title\": {\"standoff\": 15}, \"zeroline\": false, \"zerolinecolor\": \"rgb(36,36,36)\"}, \"yaxis\": {\"automargin\": true, \"gridcolor\": \"rgb(232,232,232)\", \"linecolor\": \"rgb(36,36,36)\", \"showgrid\": false, \"showline\": true, \"ticks\": \"outside\", \"title\": {\"standoff\": 15}, \"zeroline\": false, \"zerolinecolor\": \"rgb(36,36,36)\"}}}, \"title\": {\"font\": {\"color\": \"Black\", \"size\": 22}, \"text\": \"<b>Intertopic Distance Map\", \"x\": 0.5, \"xanchor\": \"center\", \"y\": 0.95, \"yanchor\": \"top\"}, \"width\": 650, \"xaxis\": {\"anchor\": \"y\", \"domain\": [0.0, 1.0], \"range\": [-6.829988884925842, 19.577977466583253], \"title\": {\"text\": \"\"}, \"visible\": false}, \"yaxis\": {\"anchor\": \"x\", \"domain\": [0.0, 1.0], \"range\": [-6.133937811851501, 13.573140144348145], \"title\": {\"text\": \"\"}, \"visible\": false}},                        {\"responsive\": true}                    ).then(function(){\n",
              "                            \n",
              "var gd = document.getElementById('cf114fdd-3261-4bb3-87da-c44bffa3d81f');\n",
              "var x = new MutationObserver(function (mutations, observer) {{\n",
              "        var display = window.getComputedStyle(gd).display;\n",
              "        if (!display || display === 'none') {{\n",
              "            console.log([gd, 'removed!']);\n",
              "            Plotly.purge(gd);\n",
              "            observer.disconnect();\n",
              "        }}\n",
              "}});\n",
              "\n",
              "// Listen for the removal of the full notebook cells\n",
              "var notebookContainer = gd.closest('#notebook-container');\n",
              "if (notebookContainer) {{\n",
              "    x.observe(notebookContainer, {childList: true});\n",
              "}}\n",
              "\n",
              "// Listen for the clearing of the current output cell\n",
              "var outputEl = gd.closest('.output');\n",
              "if (outputEl) {{\n",
              "    x.observe(outputEl, {childList: true});\n",
              "}}\n",
              "\n",
              "                        })                };                            </script>        </div>\n",
              "</body>\n",
              "</html>"
            ]
          },
          "metadata": {
            "tags": []
          }
        }
      ]
    },
    {
      "cell_type": "code",
      "metadata": {
        "id": "SZmZg9BrG5Vt",
        "colab": {
          "base_uri": "https://localhost:8080/",
          "height": 817
        },
        "outputId": "98ba9e61-f52b-4b1a-c1c3-7a6d5393df44"
      },
      "source": [
        "topic_model.visualize_heatmap()"
      ],
      "execution_count": null,
      "outputs": [
        {
          "output_type": "display_data",
          "data": {
            "text/html": [
              "<html>\n",
              "<head><meta charset=\"utf-8\" /></head>\n",
              "<body>\n",
              "    <div>            <script src=\"https://cdnjs.cloudflare.com/ajax/libs/mathjax/2.7.5/MathJax.js?config=TeX-AMS-MML_SVG\"></script><script type=\"text/javascript\">if (window.MathJax) {MathJax.Hub.Config({SVG: {font: \"STIX-Web\"}});}</script>                <script type=\"text/javascript\">window.PlotlyConfig = {MathJaxConfig: 'local'};</script>\n",
              "        <script src=\"https://cdn.plot.ly/plotly-latest.min.js\"></script>                <div id=\"61cacfae-999f-487d-98bb-1837cdbdf7bf\" class=\"plotly-graph-div\" style=\"height:800px; width:800px;\"></div>            <script type=\"text/javascript\">                                    window.PLOTLYENV=window.PLOTLYENV || {};                                    if (document.getElementById(\"61cacfae-999f-487d-98bb-1837cdbdf7bf\")) {                    Plotly.newPlot(                        \"61cacfae-999f-487d-98bb-1837cdbdf7bf\",                        [{\"coloraxis\": \"coloraxis\", \"hovertemplate\": \"x: %{x}<br>y: %{y}<br>Similarity Score: %{z}<extra></extra>\", \"name\": \"0\", \"type\": \"heatmap\", \"x\": [\"-1_gas_do_nfts\", \"0_art_artist_nft\", \"1_work_nfts_this\", \"2_sell_nfts_selling\", \"3_mint_mintable_delete\", \"4_tokens_crypto_blockchain\", \"5_much_money_nfts\", \"6_opensea_marketplace_nft\", \"7_copyrighttrademark_copyri...\", \"8_foundation_invite_creator\"], \"xaxis\": \"x\", \"y\": [\"-1_gas_do_nfts\", \"0_art_artist_nft\", \"1_work_nfts_this\", \"2_sell_nfts_selling\", \"3_mint_mintable_delete\", \"4_tokens_crypto_blockchain\", \"5_much_money_nfts\", \"6_opensea_marketplace_nft\", \"7_copyrighttrademark_copyri...\", \"8_foundation_invite_creator\"], \"yaxis\": \"y\", \"z\": [[1.0000000000000004, 0.6355542726529475, 0.7770612936149983, 0.6220890875392069, 0.41274318262192594, 0.4422986092396439, 0.6109646096360852, 0.6032784149155299, 0.6669798261610502, 0.4436451697506614], [0.6355542726529475, 1.0000000000000004, 0.6461606220531242, 0.5230393280451292, 0.3845904699055384, 0.34495752313795114, 0.3700560648136822, 0.5114452142951995, 0.5274341355839915, 0.4767886030224537], [0.7770612936149983, 0.6461606220531242, 1.0000000000000004, 0.5928892226475975, 0.36865668608243385, 0.4372282219979758, 0.566091717989399, 0.5413991382164061, 0.6031164239001973, 0.39551302979132863], [0.6220890875392069, 0.5230393280451292, 0.5928892226475975, 1.0000000000000002, 0.3058958119541767, 0.40967233658784874, 0.6468462661179281, 0.6162424805041338, 0.558775520793904, 0.41831900060323013], [0.41274318262192594, 0.3845904699055384, 0.36865668608243385, 0.3058958119541767, 0.9999999999999994, 0.5172667463501393, 0.3335213029334895, 0.3031569089167208, 0.3459070617922947, 0.3238821405993695], [0.4422986092396439, 0.34495752313795114, 0.4372282219979758, 0.40967233658784874, 0.5172667463501393, 1.0, 0.35844682198067224, 0.4500375691021966, 0.5628374021461371, 0.43919310068568174], [0.6109646096360852, 0.3700560648136822, 0.566091717989399, 0.6468462661179281, 0.3335213029334895, 0.35844682198067224, 0.9999999999999998, 0.43067945329410445, 0.4376576599627934, 0.2950132674473605], [0.6032784149155299, 0.5114452142951995, 0.5413991382164061, 0.6162424805041338, 0.3031569089167208, 0.4500375691021966, 0.43067945329410445, 1.0000000000000002, 0.6010452491791516, 0.5536924375930732], [0.6669798261610502, 0.5274341355839915, 0.6031164239001973, 0.558775520793904, 0.3459070617922947, 0.5628374021461371, 0.4376576599627934, 0.6010452491791516, 0.9999999999999996, 0.5095882719029925], [0.4436451697506614, 0.4767886030224537, 0.39551302979132863, 0.41831900060323013, 0.3238821405993695, 0.43919310068568174, 0.2950132674473605, 0.5536924375930732, 0.5095882719029925, 0.9999999999999998]]}],                        {\"coloraxis\": {\"colorbar\": {\"title\": {\"text\": \"Similarity Score\"}}, \"colorscale\": [[0.0, \"rgb(247,252,240)\"], [0.125, \"rgb(224,243,219)\"], [0.25, \"rgb(204,235,197)\"], [0.375, \"rgb(168,221,181)\"], [0.5, \"rgb(123,204,196)\"], [0.625, \"rgb(78,179,211)\"], [0.75, \"rgb(43,140,190)\"], [0.875, \"rgb(8,104,172)\"], [1.0, \"rgb(8,64,129)\"]]}, \"height\": 800, \"hoverlabel\": {\"bgcolor\": \"white\", \"font\": {\"family\": \"Rockwell\", \"size\": 16}}, \"legend\": {\"title\": {\"text\": \"Trend\"}}, \"margin\": {\"t\": 60}, \"showlegend\": true, \"template\": {\"data\": {\"bar\": [{\"error_x\": {\"color\": \"#2a3f5f\"}, \"error_y\": {\"color\": \"#2a3f5f\"}, \"marker\": {\"line\": {\"color\": \"#E5ECF6\", \"width\": 0.5}}, \"type\": \"bar\"}], \"barpolar\": [{\"marker\": {\"line\": {\"color\": \"#E5ECF6\", \"width\": 0.5}}, \"type\": \"barpolar\"}], \"carpet\": [{\"aaxis\": {\"endlinecolor\": \"#2a3f5f\", \"gridcolor\": \"white\", \"linecolor\": \"white\", \"minorgridcolor\": \"white\", \"startlinecolor\": \"#2a3f5f\"}, \"baxis\": {\"endlinecolor\": \"#2a3f5f\", \"gridcolor\": \"white\", \"linecolor\": \"white\", \"minorgridcolor\": \"white\", \"startlinecolor\": \"#2a3f5f\"}, \"type\": \"carpet\"}], \"choropleth\": [{\"colorbar\": {\"outlinewidth\": 0, \"ticks\": \"\"}, \"type\": \"choropleth\"}], \"contour\": [{\"colorbar\": {\"outlinewidth\": 0, \"ticks\": \"\"}, \"colorscale\": [[0.0, \"#0d0887\"], [0.1111111111111111, \"#46039f\"], [0.2222222222222222, \"#7201a8\"], [0.3333333333333333, \"#9c179e\"], [0.4444444444444444, \"#bd3786\"], [0.5555555555555556, \"#d8576b\"], [0.6666666666666666, \"#ed7953\"], [0.7777777777777778, \"#fb9f3a\"], [0.8888888888888888, \"#fdca26\"], [1.0, \"#f0f921\"]], \"type\": \"contour\"}], \"contourcarpet\": [{\"colorbar\": {\"outlinewidth\": 0, \"ticks\": \"\"}, \"type\": \"contourcarpet\"}], \"heatmap\": [{\"colorbar\": {\"outlinewidth\": 0, \"ticks\": \"\"}, \"colorscale\": [[0.0, \"#0d0887\"], [0.1111111111111111, \"#46039f\"], [0.2222222222222222, \"#7201a8\"], [0.3333333333333333, \"#9c179e\"], [0.4444444444444444, \"#bd3786\"], [0.5555555555555556, \"#d8576b\"], [0.6666666666666666, \"#ed7953\"], [0.7777777777777778, \"#fb9f3a\"], [0.8888888888888888, \"#fdca26\"], [1.0, \"#f0f921\"]], \"type\": \"heatmap\"}], \"heatmapgl\": [{\"colorbar\": {\"outlinewidth\": 0, \"ticks\": \"\"}, \"colorscale\": [[0.0, \"#0d0887\"], [0.1111111111111111, \"#46039f\"], [0.2222222222222222, \"#7201a8\"], [0.3333333333333333, \"#9c179e\"], [0.4444444444444444, \"#bd3786\"], [0.5555555555555556, \"#d8576b\"], [0.6666666666666666, \"#ed7953\"], [0.7777777777777778, \"#fb9f3a\"], [0.8888888888888888, \"#fdca26\"], [1.0, \"#f0f921\"]], \"type\": \"heatmapgl\"}], \"histogram\": [{\"marker\": {\"colorbar\": {\"outlinewidth\": 0, \"ticks\": \"\"}}, \"type\": \"histogram\"}], \"histogram2d\": [{\"colorbar\": {\"outlinewidth\": 0, \"ticks\": \"\"}, \"colorscale\": [[0.0, \"#0d0887\"], [0.1111111111111111, \"#46039f\"], [0.2222222222222222, \"#7201a8\"], [0.3333333333333333, \"#9c179e\"], [0.4444444444444444, \"#bd3786\"], [0.5555555555555556, \"#d8576b\"], [0.6666666666666666, \"#ed7953\"], [0.7777777777777778, \"#fb9f3a\"], [0.8888888888888888, \"#fdca26\"], [1.0, \"#f0f921\"]], \"type\": \"histogram2d\"}], \"histogram2dcontour\": [{\"colorbar\": {\"outlinewidth\": 0, \"ticks\": \"\"}, \"colorscale\": [[0.0, \"#0d0887\"], [0.1111111111111111, \"#46039f\"], [0.2222222222222222, \"#7201a8\"], [0.3333333333333333, \"#9c179e\"], [0.4444444444444444, \"#bd3786\"], [0.5555555555555556, \"#d8576b\"], [0.6666666666666666, \"#ed7953\"], [0.7777777777777778, \"#fb9f3a\"], [0.8888888888888888, \"#fdca26\"], [1.0, \"#f0f921\"]], \"type\": \"histogram2dcontour\"}], \"mesh3d\": [{\"colorbar\": {\"outlinewidth\": 0, \"ticks\": \"\"}, \"type\": \"mesh3d\"}], \"parcoords\": [{\"line\": {\"colorbar\": {\"outlinewidth\": 0, \"ticks\": \"\"}}, \"type\": \"parcoords\"}], \"pie\": [{\"automargin\": true, \"type\": \"pie\"}], \"scatter\": [{\"marker\": {\"colorbar\": {\"outlinewidth\": 0, \"ticks\": \"\"}}, \"type\": \"scatter\"}], \"scatter3d\": [{\"line\": {\"colorbar\": {\"outlinewidth\": 0, \"ticks\": \"\"}}, \"marker\": {\"colorbar\": {\"outlinewidth\": 0, \"ticks\": \"\"}}, \"type\": \"scatter3d\"}], \"scattercarpet\": [{\"marker\": {\"colorbar\": {\"outlinewidth\": 0, \"ticks\": \"\"}}, \"type\": \"scattercarpet\"}], \"scattergeo\": [{\"marker\": {\"colorbar\": {\"outlinewidth\": 0, \"ticks\": \"\"}}, \"type\": \"scattergeo\"}], \"scattergl\": [{\"marker\": {\"colorbar\": {\"outlinewidth\": 0, \"ticks\": \"\"}}, \"type\": \"scattergl\"}], \"scattermapbox\": [{\"marker\": {\"colorbar\": {\"outlinewidth\": 0, \"ticks\": \"\"}}, \"type\": \"scattermapbox\"}], \"scatterpolar\": [{\"marker\": {\"colorbar\": {\"outlinewidth\": 0, \"ticks\": \"\"}}, \"type\": \"scatterpolar\"}], \"scatterpolargl\": [{\"marker\": {\"colorbar\": {\"outlinewidth\": 0, \"ticks\": \"\"}}, \"type\": \"scatterpolargl\"}], \"scatterternary\": [{\"marker\": {\"colorbar\": {\"outlinewidth\": 0, \"ticks\": \"\"}}, \"type\": \"scatterternary\"}], \"surface\": [{\"colorbar\": {\"outlinewidth\": 0, \"ticks\": \"\"}, \"colorscale\": [[0.0, \"#0d0887\"], [0.1111111111111111, \"#46039f\"], [0.2222222222222222, \"#7201a8\"], [0.3333333333333333, \"#9c179e\"], [0.4444444444444444, \"#bd3786\"], [0.5555555555555556, \"#d8576b\"], [0.6666666666666666, \"#ed7953\"], [0.7777777777777778, \"#fb9f3a\"], [0.8888888888888888, \"#fdca26\"], [1.0, \"#f0f921\"]], \"type\": \"surface\"}], \"table\": [{\"cells\": {\"fill\": {\"color\": \"#EBF0F8\"}, \"line\": {\"color\": \"white\"}}, \"header\": {\"fill\": {\"color\": \"#C8D4E3\"}, \"line\": {\"color\": \"white\"}}, \"type\": \"table\"}]}, \"layout\": {\"annotationdefaults\": {\"arrowcolor\": \"#2a3f5f\", \"arrowhead\": 0, \"arrowwidth\": 1}, \"autotypenumbers\": \"strict\", \"coloraxis\": {\"colorbar\": {\"outlinewidth\": 0, \"ticks\": \"\"}}, \"colorscale\": {\"diverging\": [[0, \"#8e0152\"], [0.1, \"#c51b7d\"], [0.2, \"#de77ae\"], [0.3, \"#f1b6da\"], [0.4, \"#fde0ef\"], [0.5, \"#f7f7f7\"], [0.6, \"#e6f5d0\"], [0.7, \"#b8e186\"], [0.8, \"#7fbc41\"], [0.9, \"#4d9221\"], [1, \"#276419\"]], \"sequential\": [[0.0, \"#0d0887\"], [0.1111111111111111, \"#46039f\"], [0.2222222222222222, \"#7201a8\"], [0.3333333333333333, \"#9c179e\"], [0.4444444444444444, \"#bd3786\"], [0.5555555555555556, \"#d8576b\"], [0.6666666666666666, \"#ed7953\"], [0.7777777777777778, \"#fb9f3a\"], [0.8888888888888888, \"#fdca26\"], [1.0, \"#f0f921\"]], \"sequentialminus\": [[0.0, \"#0d0887\"], [0.1111111111111111, \"#46039f\"], [0.2222222222222222, \"#7201a8\"], [0.3333333333333333, \"#9c179e\"], [0.4444444444444444, \"#bd3786\"], [0.5555555555555556, \"#d8576b\"], [0.6666666666666666, \"#ed7953\"], [0.7777777777777778, \"#fb9f3a\"], [0.8888888888888888, \"#fdca26\"], [1.0, \"#f0f921\"]]}, \"colorway\": [\"#636efa\", \"#EF553B\", \"#00cc96\", \"#ab63fa\", \"#FFA15A\", \"#19d3f3\", \"#FF6692\", \"#B6E880\", \"#FF97FF\", \"#FECB52\"], \"font\": {\"color\": \"#2a3f5f\"}, \"geo\": {\"bgcolor\": \"white\", \"lakecolor\": \"white\", \"landcolor\": \"#E5ECF6\", \"showlakes\": true, \"showland\": true, \"subunitcolor\": \"white\"}, \"hoverlabel\": {\"align\": \"left\"}, \"hovermode\": \"closest\", \"mapbox\": {\"style\": \"light\"}, \"paper_bgcolor\": \"white\", \"plot_bgcolor\": \"#E5ECF6\", \"polar\": {\"angularaxis\": {\"gridcolor\": \"white\", \"linecolor\": \"white\", \"ticks\": \"\"}, \"bgcolor\": \"#E5ECF6\", \"radialaxis\": {\"gridcolor\": \"white\", \"linecolor\": \"white\", \"ticks\": \"\"}}, \"scene\": {\"xaxis\": {\"backgroundcolor\": \"#E5ECF6\", \"gridcolor\": \"white\", \"gridwidth\": 2, \"linecolor\": \"white\", \"showbackground\": true, \"ticks\": \"\", \"zerolinecolor\": \"white\"}, \"yaxis\": {\"backgroundcolor\": \"#E5ECF6\", \"gridcolor\": \"white\", \"gridwidth\": 2, \"linecolor\": \"white\", \"showbackground\": true, \"ticks\": \"\", \"zerolinecolor\": \"white\"}, \"zaxis\": {\"backgroundcolor\": \"#E5ECF6\", \"gridcolor\": \"white\", \"gridwidth\": 2, \"linecolor\": \"white\", \"showbackground\": true, \"ticks\": \"\", \"zerolinecolor\": \"white\"}}, \"shapedefaults\": {\"line\": {\"color\": \"#2a3f5f\"}}, \"ternary\": {\"aaxis\": {\"gridcolor\": \"white\", \"linecolor\": \"white\", \"ticks\": \"\"}, \"baxis\": {\"gridcolor\": \"white\", \"linecolor\": \"white\", \"ticks\": \"\"}, \"bgcolor\": \"#E5ECF6\", \"caxis\": {\"gridcolor\": \"white\", \"linecolor\": \"white\", \"ticks\": \"\"}}, \"title\": {\"x\": 0.05}, \"xaxis\": {\"automargin\": true, \"gridcolor\": \"white\", \"linecolor\": \"white\", \"ticks\": \"\", \"title\": {\"standoff\": 15}, \"zerolinecolor\": \"white\", \"zerolinewidth\": 2}, \"yaxis\": {\"automargin\": true, \"gridcolor\": \"white\", \"linecolor\": \"white\", \"ticks\": \"\", \"title\": {\"standoff\": 15}, \"zerolinecolor\": \"white\", \"zerolinewidth\": 2}}}, \"title\": {\"font\": {\"color\": \"Black\", \"size\": 22}, \"text\": \"<b>Similarity Matrix\", \"x\": 0.55, \"xanchor\": \"center\", \"y\": 0.95, \"yanchor\": \"top\"}, \"width\": 800, \"xaxis\": {\"anchor\": \"y\", \"constrain\": \"domain\", \"domain\": [0.0, 1.0], \"scaleanchor\": \"y\"}, \"yaxis\": {\"anchor\": \"x\", \"autorange\": \"reversed\", \"constrain\": \"domain\", \"domain\": [0.0, 1.0]}},                        {\"responsive\": true}                    ).then(function(){\n",
              "                            \n",
              "var gd = document.getElementById('61cacfae-999f-487d-98bb-1837cdbdf7bf');\n",
              "var x = new MutationObserver(function (mutations, observer) {{\n",
              "        var display = window.getComputedStyle(gd).display;\n",
              "        if (!display || display === 'none') {{\n",
              "            console.log([gd, 'removed!']);\n",
              "            Plotly.purge(gd);\n",
              "            observer.disconnect();\n",
              "        }}\n",
              "}});\n",
              "\n",
              "// Listen for the removal of the full notebook cells\n",
              "var notebookContainer = gd.closest('#notebook-container');\n",
              "if (notebookContainer) {{\n",
              "    x.observe(notebookContainer, {childList: true});\n",
              "}}\n",
              "\n",
              "// Listen for the clearing of the current output cell\n",
              "var outputEl = gd.closest('.output');\n",
              "if (outputEl) {{\n",
              "    x.observe(outputEl, {childList: true});\n",
              "}}\n",
              "\n",
              "                        })                };                            </script>        </div>\n",
              "</body>\n",
              "</html>"
            ]
          },
          "metadata": {
            "tags": []
          }
        }
      ]
    },
    {
      "cell_type": "code",
      "metadata": {
        "id": "iagobgBQHBC1",
        "colab": {
          "base_uri": "https://localhost:8080/",
          "height": 617
        },
        "outputId": "87756f0e-44d2-4310-e775-fee973cfd287"
      },
      "source": [
        "topic_model.visualize_hierarchy()"
      ],
      "execution_count": null,
      "outputs": [
        {
          "output_type": "display_data",
          "data": {
            "text/html": [
              "<html>\n",
              "<head><meta charset=\"utf-8\" /></head>\n",
              "<body>\n",
              "    <div>            <script src=\"https://cdnjs.cloudflare.com/ajax/libs/mathjax/2.7.5/MathJax.js?config=TeX-AMS-MML_SVG\"></script><script type=\"text/javascript\">if (window.MathJax) {MathJax.Hub.Config({SVG: {font: \"STIX-Web\"}});}</script>                <script type=\"text/javascript\">window.PlotlyConfig = {MathJaxConfig: 'local'};</script>\n",
              "        <script src=\"https://cdn.plot.ly/plotly-latest.min.js\"></script>                <div id=\"9ce69a5a-454b-43f1-bdbc-2e75c6229ed8\" class=\"plotly-graph-div\" style=\"height:600px; width:1000px;\"></div>            <script type=\"text/javascript\">                                    window.PLOTLYENV=window.PLOTLYENV || {};                                    if (document.getElementById(\"9ce69a5a-454b-43f1-bdbc-2e75c6229ed8\")) {                    Plotly.newPlot(                        \"9ce69a5a-454b-43f1-bdbc-2e75c6229ed8\",                        [{\"hoverinfo\": \"text\", \"marker\": {\"color\": \"rgb(61,153,112)\"}, \"mode\": \"lines\", \"type\": \"scatter\", \"x\": [0.0, 0.7526814097558223, 0.7526814097558223, 0.0], \"xaxis\": \"x\", \"y\": [-5.0, -5.0, -15.0, -15.0], \"yaxis\": \"y\"}, {\"hoverinfo\": \"text\", \"marker\": {\"color\": \"rgb(255,65,54)\"}, \"mode\": \"lines\", \"type\": \"scatter\", \"x\": [0.0, 0.5884726224042772, 0.5884726224042772, 0.0], \"xaxis\": \"x\", \"y\": [-35.0, -35.0, -45.0, -45.0], \"yaxis\": \"y\"}, {\"hoverinfo\": \"text\", \"marker\": {\"color\": \"rgb(255,65,54)\"}, \"mode\": \"lines\", \"type\": \"scatter\", \"x\": [0.0, 0.8059481379165035, 0.8059481379165035, 0.5884726224042772], \"xaxis\": \"x\", \"y\": [-25.0, -25.0, -40.0, -40.0], \"yaxis\": \"y\"}, {\"hoverinfo\": \"text\", \"marker\": {\"color\": \"rgb(35,205,205)\"}, \"mode\": \"lines\", \"type\": \"scatter\", \"x\": [0.0, 0.584273529103059, 0.584273529103059, 0.0], \"xaxis\": \"x\", \"y\": [-55.0, -55.0, -65.0, -65.0], \"yaxis\": \"y\"}, {\"hoverinfo\": \"text\", \"marker\": {\"color\": \"rgb(35,205,205)\"}, \"mode\": \"lines\", \"type\": \"scatter\", \"x\": [0.0, 0.33849024610078304, 0.33849024610078304, 0.0], \"xaxis\": \"x\", \"y\": [-85.0, -85.0, -95.0, -95.0], \"yaxis\": \"y\"}, {\"hoverinfo\": \"text\", \"marker\": {\"color\": \"rgb(35,205,205)\"}, \"mode\": \"lines\", \"type\": \"scatter\", \"x\": [0.0, 0.6675054915619053, 0.6675054915619053, 0.33849024610078304], \"xaxis\": \"x\", \"y\": [-75.0, -75.0, -90.0, -90.0], \"yaxis\": \"y\"}, {\"hoverinfo\": \"text\", \"marker\": {\"color\": \"rgb(35,205,205)\"}, \"mode\": \"lines\", \"type\": \"scatter\", \"x\": [0.584273529103059, 0.9337240383909995, 0.9337240383909995, 0.6675054915619053], \"xaxis\": \"x\", \"y\": [-60.0, -60.0, -82.5, -82.5], \"yaxis\": \"y\"}, {\"hoverinfo\": \"text\", \"marker\": {\"color\": \"rgb(0,116,217)\"}, \"mode\": \"lines\", \"type\": \"scatter\", \"x\": [0.8059481379165035, 1.0745574520669832, 1.0745574520669832, 0.9337240383909995], \"xaxis\": \"x\", \"y\": [-32.5, -32.5, -71.25, -71.25], \"yaxis\": \"y\"}, {\"hoverinfo\": \"text\", \"marker\": {\"color\": \"rgb(0,116,217)\"}, \"mode\": \"lines\", \"type\": \"scatter\", \"x\": [0.7526814097558223, 1.4374481387228824, 1.4374481387228824, 1.0745574520669832], \"xaxis\": \"x\", \"y\": [-10.0, -10.0, -51.875, -51.875], \"yaxis\": \"y\"}],                        {\"autosize\": false, \"height\": 600, \"hoverlabel\": {\"bgcolor\": \"white\", \"font\": {\"family\": \"Rockwell\", \"size\": 16}}, \"hovermode\": \"closest\", \"plot_bgcolor\": \"#ECEFF1\", \"showlegend\": false, \"template\": {\"data\": {\"bar\": [{\"error_x\": {\"color\": \"#2a3f5f\"}, \"error_y\": {\"color\": \"#2a3f5f\"}, \"marker\": {\"line\": {\"color\": \"white\", \"width\": 0.5}}, \"type\": \"bar\"}], \"barpolar\": [{\"marker\": {\"line\": {\"color\": \"white\", \"width\": 0.5}}, \"type\": \"barpolar\"}], \"carpet\": [{\"aaxis\": {\"endlinecolor\": \"#2a3f5f\", \"gridcolor\": \"#C8D4E3\", \"linecolor\": \"#C8D4E3\", \"minorgridcolor\": \"#C8D4E3\", \"startlinecolor\": \"#2a3f5f\"}, \"baxis\": {\"endlinecolor\": \"#2a3f5f\", \"gridcolor\": \"#C8D4E3\", \"linecolor\": \"#C8D4E3\", \"minorgridcolor\": \"#C8D4E3\", \"startlinecolor\": \"#2a3f5f\"}, \"type\": \"carpet\"}], \"choropleth\": [{\"colorbar\": {\"outlinewidth\": 0, \"ticks\": \"\"}, \"type\": \"choropleth\"}], \"contour\": [{\"colorbar\": {\"outlinewidth\": 0, \"ticks\": \"\"}, \"colorscale\": [[0.0, \"#0d0887\"], [0.1111111111111111, \"#46039f\"], [0.2222222222222222, \"#7201a8\"], [0.3333333333333333, \"#9c179e\"], [0.4444444444444444, \"#bd3786\"], [0.5555555555555556, \"#d8576b\"], [0.6666666666666666, \"#ed7953\"], [0.7777777777777778, \"#fb9f3a\"], [0.8888888888888888, \"#fdca26\"], [1.0, \"#f0f921\"]], \"type\": \"contour\"}], \"contourcarpet\": [{\"colorbar\": {\"outlinewidth\": 0, \"ticks\": \"\"}, \"type\": \"contourcarpet\"}], \"heatmap\": [{\"colorbar\": {\"outlinewidth\": 0, \"ticks\": \"\"}, \"colorscale\": [[0.0, \"#0d0887\"], [0.1111111111111111, \"#46039f\"], [0.2222222222222222, \"#7201a8\"], [0.3333333333333333, \"#9c179e\"], [0.4444444444444444, \"#bd3786\"], [0.5555555555555556, \"#d8576b\"], [0.6666666666666666, \"#ed7953\"], [0.7777777777777778, \"#fb9f3a\"], [0.8888888888888888, \"#fdca26\"], [1.0, \"#f0f921\"]], \"type\": \"heatmap\"}], \"heatmapgl\": [{\"colorbar\": {\"outlinewidth\": 0, \"ticks\": \"\"}, \"colorscale\": [[0.0, \"#0d0887\"], [0.1111111111111111, \"#46039f\"], [0.2222222222222222, \"#7201a8\"], [0.3333333333333333, \"#9c179e\"], [0.4444444444444444, \"#bd3786\"], [0.5555555555555556, \"#d8576b\"], [0.6666666666666666, \"#ed7953\"], [0.7777777777777778, \"#fb9f3a\"], [0.8888888888888888, \"#fdca26\"], [1.0, \"#f0f921\"]], \"type\": \"heatmapgl\"}], \"histogram\": [{\"marker\": {\"colorbar\": {\"outlinewidth\": 0, \"ticks\": \"\"}}, \"type\": \"histogram\"}], \"histogram2d\": [{\"colorbar\": {\"outlinewidth\": 0, \"ticks\": \"\"}, \"colorscale\": [[0.0, \"#0d0887\"], [0.1111111111111111, \"#46039f\"], [0.2222222222222222, \"#7201a8\"], [0.3333333333333333, \"#9c179e\"], [0.4444444444444444, \"#bd3786\"], [0.5555555555555556, \"#d8576b\"], [0.6666666666666666, \"#ed7953\"], [0.7777777777777778, \"#fb9f3a\"], [0.8888888888888888, \"#fdca26\"], [1.0, \"#f0f921\"]], \"type\": \"histogram2d\"}], \"histogram2dcontour\": [{\"colorbar\": {\"outlinewidth\": 0, \"ticks\": \"\"}, \"colorscale\": [[0.0, \"#0d0887\"], [0.1111111111111111, \"#46039f\"], [0.2222222222222222, \"#7201a8\"], [0.3333333333333333, \"#9c179e\"], [0.4444444444444444, \"#bd3786\"], [0.5555555555555556, \"#d8576b\"], [0.6666666666666666, \"#ed7953\"], [0.7777777777777778, \"#fb9f3a\"], [0.8888888888888888, \"#fdca26\"], [1.0, \"#f0f921\"]], \"type\": \"histogram2dcontour\"}], \"mesh3d\": [{\"colorbar\": {\"outlinewidth\": 0, \"ticks\": \"\"}, \"type\": \"mesh3d\"}], \"parcoords\": [{\"line\": {\"colorbar\": {\"outlinewidth\": 0, \"ticks\": \"\"}}, \"type\": \"parcoords\"}], \"pie\": [{\"automargin\": true, \"type\": \"pie\"}], \"scatter\": [{\"marker\": {\"colorbar\": {\"outlinewidth\": 0, \"ticks\": \"\"}}, \"type\": \"scatter\"}], \"scatter3d\": [{\"line\": {\"colorbar\": {\"outlinewidth\": 0, \"ticks\": \"\"}}, \"marker\": {\"colorbar\": {\"outlinewidth\": 0, \"ticks\": \"\"}}, \"type\": \"scatter3d\"}], \"scattercarpet\": [{\"marker\": {\"colorbar\": {\"outlinewidth\": 0, \"ticks\": \"\"}}, \"type\": \"scattercarpet\"}], \"scattergeo\": [{\"marker\": {\"colorbar\": {\"outlinewidth\": 0, \"ticks\": \"\"}}, \"type\": \"scattergeo\"}], \"scattergl\": [{\"marker\": {\"colorbar\": {\"outlinewidth\": 0, \"ticks\": \"\"}}, \"type\": \"scattergl\"}], \"scattermapbox\": [{\"marker\": {\"colorbar\": {\"outlinewidth\": 0, \"ticks\": \"\"}}, \"type\": \"scattermapbox\"}], \"scatterpolar\": [{\"marker\": {\"colorbar\": {\"outlinewidth\": 0, \"ticks\": \"\"}}, \"type\": \"scatterpolar\"}], \"scatterpolargl\": [{\"marker\": {\"colorbar\": {\"outlinewidth\": 0, \"ticks\": \"\"}}, \"type\": \"scatterpolargl\"}], \"scatterternary\": [{\"marker\": {\"colorbar\": {\"outlinewidth\": 0, \"ticks\": \"\"}}, \"type\": \"scatterternary\"}], \"surface\": [{\"colorbar\": {\"outlinewidth\": 0, \"ticks\": \"\"}, \"colorscale\": [[0.0, \"#0d0887\"], [0.1111111111111111, \"#46039f\"], [0.2222222222222222, \"#7201a8\"], [0.3333333333333333, \"#9c179e\"], [0.4444444444444444, \"#bd3786\"], [0.5555555555555556, \"#d8576b\"], [0.6666666666666666, \"#ed7953\"], [0.7777777777777778, \"#fb9f3a\"], [0.8888888888888888, \"#fdca26\"], [1.0, \"#f0f921\"]], \"type\": \"surface\"}], \"table\": [{\"cells\": {\"fill\": {\"color\": \"#EBF0F8\"}, \"line\": {\"color\": \"white\"}}, \"header\": {\"fill\": {\"color\": \"#C8D4E3\"}, \"line\": {\"color\": \"white\"}}, \"type\": \"table\"}]}, \"layout\": {\"annotationdefaults\": {\"arrowcolor\": \"#2a3f5f\", \"arrowhead\": 0, \"arrowwidth\": 1}, \"autotypenumbers\": \"strict\", \"coloraxis\": {\"colorbar\": {\"outlinewidth\": 0, \"ticks\": \"\"}}, \"colorscale\": {\"diverging\": [[0, \"#8e0152\"], [0.1, \"#c51b7d\"], [0.2, \"#de77ae\"], [0.3, \"#f1b6da\"], [0.4, \"#fde0ef\"], [0.5, \"#f7f7f7\"], [0.6, \"#e6f5d0\"], [0.7, \"#b8e186\"], [0.8, \"#7fbc41\"], [0.9, \"#4d9221\"], [1, \"#276419\"]], \"sequential\": [[0.0, \"#0d0887\"], [0.1111111111111111, \"#46039f\"], [0.2222222222222222, \"#7201a8\"], [0.3333333333333333, \"#9c179e\"], [0.4444444444444444, \"#bd3786\"], [0.5555555555555556, \"#d8576b\"], [0.6666666666666666, \"#ed7953\"], [0.7777777777777778, \"#fb9f3a\"], [0.8888888888888888, \"#fdca26\"], [1.0, \"#f0f921\"]], \"sequentialminus\": [[0.0, \"#0d0887\"], [0.1111111111111111, \"#46039f\"], [0.2222222222222222, \"#7201a8\"], [0.3333333333333333, \"#9c179e\"], [0.4444444444444444, \"#bd3786\"], [0.5555555555555556, \"#d8576b\"], [0.6666666666666666, \"#ed7953\"], [0.7777777777777778, \"#fb9f3a\"], [0.8888888888888888, \"#fdca26\"], [1.0, \"#f0f921\"]]}, \"colorway\": [\"#636efa\", \"#EF553B\", \"#00cc96\", \"#ab63fa\", \"#FFA15A\", \"#19d3f3\", \"#FF6692\", \"#B6E880\", \"#FF97FF\", \"#FECB52\"], \"font\": {\"color\": \"#2a3f5f\"}, \"geo\": {\"bgcolor\": \"white\", \"lakecolor\": \"white\", \"landcolor\": \"white\", \"showlakes\": true, \"showland\": true, \"subunitcolor\": \"#C8D4E3\"}, \"hoverlabel\": {\"align\": \"left\"}, \"hovermode\": \"closest\", \"mapbox\": {\"style\": \"light\"}, \"paper_bgcolor\": \"white\", \"plot_bgcolor\": \"white\", \"polar\": {\"angularaxis\": {\"gridcolor\": \"#EBF0F8\", \"linecolor\": \"#EBF0F8\", \"ticks\": \"\"}, \"bgcolor\": \"white\", \"radialaxis\": {\"gridcolor\": \"#EBF0F8\", \"linecolor\": \"#EBF0F8\", \"ticks\": \"\"}}, \"scene\": {\"xaxis\": {\"backgroundcolor\": \"white\", \"gridcolor\": \"#DFE8F3\", \"gridwidth\": 2, \"linecolor\": \"#EBF0F8\", \"showbackground\": true, \"ticks\": \"\", \"zerolinecolor\": \"#EBF0F8\"}, \"yaxis\": {\"backgroundcolor\": \"white\", \"gridcolor\": \"#DFE8F3\", \"gridwidth\": 2, \"linecolor\": \"#EBF0F8\", \"showbackground\": true, \"ticks\": \"\", \"zerolinecolor\": \"#EBF0F8\"}, \"zaxis\": {\"backgroundcolor\": \"white\", \"gridcolor\": \"#DFE8F3\", \"gridwidth\": 2, \"linecolor\": \"#EBF0F8\", \"showbackground\": true, \"ticks\": \"\", \"zerolinecolor\": \"#EBF0F8\"}}, \"shapedefaults\": {\"line\": {\"color\": \"#2a3f5f\"}}, \"ternary\": {\"aaxis\": {\"gridcolor\": \"#DFE8F3\", \"linecolor\": \"#A2B1C6\", \"ticks\": \"\"}, \"baxis\": {\"gridcolor\": \"#DFE8F3\", \"linecolor\": \"#A2B1C6\", \"ticks\": \"\"}, \"bgcolor\": \"white\", \"caxis\": {\"gridcolor\": \"#DFE8F3\", \"linecolor\": \"#A2B1C6\", \"ticks\": \"\"}}, \"title\": {\"x\": 0.05}, \"xaxis\": {\"automargin\": true, \"gridcolor\": \"#EBF0F8\", \"linecolor\": \"#EBF0F8\", \"ticks\": \"\", \"title\": {\"standoff\": 15}, \"zerolinecolor\": \"#EBF0F8\", \"zerolinewidth\": 2}, \"yaxis\": {\"automargin\": true, \"gridcolor\": \"#EBF0F8\", \"linecolor\": \"#EBF0F8\", \"ticks\": \"\", \"title\": {\"standoff\": 15}, \"zerolinecolor\": \"#EBF0F8\", \"zerolinewidth\": 2}}}, \"title\": {\"font\": {\"color\": \"Black\", \"size\": 22}, \"text\": \"<b>Hierarchical Clustering\", \"x\": 0.5, \"xanchor\": \"center\", \"y\": 0.95, \"yanchor\": \"top\"}, \"width\": 1000, \"xaxis\": {\"mirror\": \"allticks\", \"rangemode\": \"tozero\", \"showgrid\": false, \"showline\": true, \"showticklabels\": true, \"ticks\": \"outside\", \"type\": \"linear\", \"zeroline\": false}, \"yaxis\": {\"mirror\": \"allticks\", \"rangemode\": \"tozero\", \"showgrid\": false, \"showline\": true, \"showticklabels\": true, \"tickmode\": \"array\", \"ticks\": \"outside\", \"ticktext\": [\"3_mint_mintable_delete\", \"4_tokens_crypto_blockchain\", \"8_foundation_invite_creator\", \"6_opensea_marketplace_nft\", \"7_copyrighttrademark_copyri...\", \"2_sell_nfts_selling\", \"5_much_money_nfts\", \"0_art_artist_nft\", \"-1_gas_do_nfts\", \"1_work_nfts_this\"], \"tickvals\": [-5.0, -15.0, -25.0, -35.0, -45.0, -55.0, -65.0, -75.0, -85.0, -95.0], \"type\": \"linear\", \"zeroline\": false}},                        {\"responsive\": true}                    ).then(function(){\n",
              "                            \n",
              "var gd = document.getElementById('9ce69a5a-454b-43f1-bdbc-2e75c6229ed8');\n",
              "var x = new MutationObserver(function (mutations, observer) {{\n",
              "        var display = window.getComputedStyle(gd).display;\n",
              "        if (!display || display === 'none') {{\n",
              "            console.log([gd, 'removed!']);\n",
              "            Plotly.purge(gd);\n",
              "            observer.disconnect();\n",
              "        }}\n",
              "}});\n",
              "\n",
              "// Listen for the removal of the full notebook cells\n",
              "var notebookContainer = gd.closest('#notebook-container');\n",
              "if (notebookContainer) {{\n",
              "    x.observe(notebookContainer, {childList: true});\n",
              "}}\n",
              "\n",
              "// Listen for the clearing of the current output cell\n",
              "var outputEl = gd.closest('.output');\n",
              "if (outputEl) {{\n",
              "    x.observe(outputEl, {childList: true});\n",
              "}}\n",
              "\n",
              "                        })                };                            </script>        </div>\n",
              "</body>\n",
              "</html>"
            ]
          },
          "metadata": {
            "tags": []
          }
        }
      ]
    }
  ]
}