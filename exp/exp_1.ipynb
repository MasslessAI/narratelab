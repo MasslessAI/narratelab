{
  "nbformat": 4,
  "nbformat_minor": 0,
  "metadata": {
    "colab": {
      "name": "exp_1.ipynb",
      "provenance": [],
      "authorship_tag": "ABX9TyMY/mTk9C8JIdtkuSz7nj9J",
      "include_colab_link": true
    },
    "kernelspec": {
      "name": "python3",
      "display_name": "Python 3"
    },
    "language_info": {
      "name": "python"
    },
    "accelerator": "TPU"
  },
  "cells": [
    {
      "cell_type": "markdown",
      "metadata": {
        "id": "view-in-github",
        "colab_type": "text"
      },
      "source": [
        "<a href=\"https://colab.research.google.com/github/MasslessAI/narratelab/blob/master/exp/exp_1.ipynb\" target=\"_parent\"><img src=\"https://colab.research.google.com/assets/colab-badge.svg\" alt=\"Open In Colab\"/></a>"
      ]
    },
    {
      "cell_type": "markdown",
      "metadata": {
        "id": "hLraSPFiAspw"
      },
      "source": [
        "# Install Dependencies"
      ]
    },
    {
      "cell_type": "code",
      "metadata": {
        "colab": {
          "base_uri": "https://localhost:8080/"
        },
        "id": "4BkxwQbbIElv",
        "outputId": "5a5cdf65-1690-4572-aada-5a54b3b21bbb"
      },
      "source": [
        "from google.colab import drive\n",
        "\n",
        "drive.mount('gdrive', force_remount=True)\n",
        "\n",
        "root_dir = '/content/gdrive/'\n",
        "\n",
        "gdrive_path = root_dir + 'MyDrive/narratelab/exp_1'\n",
        "\n",
        "!pip install spacy keybert[spacy] sentence-transformers redditcleaner psaw pandas loguru bertopic[spacy] distinctipy colour\n",
        "# !python -m spacy download en_core_web_trf"
      ],
      "execution_count": 1,
      "outputs": [
        {
          "output_type": "stream",
          "text": [
            "Mounted at gdrive\n",
            "Requirement already satisfied: spacy in /usr/local/lib/python3.7/dist-packages (2.2.4)\n",
            "Requirement already satisfied: keybert[spacy] in /usr/local/lib/python3.7/dist-packages (0.4.0)\n",
            "\u001b[33m  WARNING: keybert 0.4.0 does not provide the extra 'spacy'\u001b[0m\n",
            "Requirement already satisfied: sentence-transformers in /usr/local/lib/python3.7/dist-packages (2.0.0)\n",
            "Requirement already satisfied: redditcleaner in /usr/local/lib/python3.7/dist-packages (1.1.2)\n",
            "Requirement already satisfied: psaw in /usr/local/lib/python3.7/dist-packages (0.1.0)\n",
            "Requirement already satisfied: pandas in /usr/local/lib/python3.7/dist-packages (1.1.5)\n",
            "Requirement already satisfied: loguru in /usr/local/lib/python3.7/dist-packages (0.5.3)\n",
            "Requirement already satisfied: bertopic[spacy] in /usr/local/lib/python3.7/dist-packages (0.8.1)\n",
            "Requirement already satisfied: distinctipy in /usr/local/lib/python3.7/dist-packages (1.1.5)\n",
            "Requirement already satisfied: colour in /usr/local/lib/python3.7/dist-packages (0.1.5)\n",
            "Requirement already satisfied: requests<3.0.0,>=2.13.0 in /usr/local/lib/python3.7/dist-packages (from spacy) (2.23.0)\n",
            "Requirement already satisfied: srsly<1.1.0,>=1.0.2 in /usr/local/lib/python3.7/dist-packages (from spacy) (1.0.5)\n",
            "Requirement already satisfied: setuptools in /usr/local/lib/python3.7/dist-packages (from spacy) (57.0.0)\n",
            "Requirement already satisfied: plac<1.2.0,>=0.9.6 in /usr/local/lib/python3.7/dist-packages (from spacy) (1.1.3)\n",
            "Requirement already satisfied: wasabi<1.1.0,>=0.4.0 in /usr/local/lib/python3.7/dist-packages (from spacy) (0.8.2)\n",
            "Requirement already satisfied: tqdm<5.0.0,>=4.38.0 in /usr/local/lib/python3.7/dist-packages (from spacy) (4.41.1)\n",
            "Requirement already satisfied: cymem<2.1.0,>=2.0.2 in /usr/local/lib/python3.7/dist-packages (from spacy) (2.0.5)\n",
            "Requirement already satisfied: catalogue<1.1.0,>=0.0.7 in /usr/local/lib/python3.7/dist-packages (from spacy) (1.0.0)\n",
            "Requirement already satisfied: numpy>=1.15.0 in /usr/local/lib/python3.7/dist-packages (from spacy) (1.19.5)\n",
            "Requirement already satisfied: preshed<3.1.0,>=3.0.2 in /usr/local/lib/python3.7/dist-packages (from spacy) (3.0.5)\n",
            "Requirement already satisfied: thinc==7.4.0 in /usr/local/lib/python3.7/dist-packages (from spacy) (7.4.0)\n",
            "Requirement already satisfied: blis<0.5.0,>=0.4.0 in /usr/local/lib/python3.7/dist-packages (from spacy) (0.4.1)\n",
            "Requirement already satisfied: murmurhash<1.1.0,>=0.28.0 in /usr/local/lib/python3.7/dist-packages (from spacy) (1.0.5)\n",
            "Requirement already satisfied: rich>=10.4.0 in /usr/local/lib/python3.7/dist-packages (from keybert[spacy]) (10.6.0)\n",
            "Requirement already satisfied: scikit-learn>=0.22.2 in /usr/local/lib/python3.7/dist-packages (from keybert[spacy]) (0.22.2.post1)\n",
            "Requirement already satisfied: scipy in /usr/local/lib/python3.7/dist-packages (from sentence-transformers) (1.4.1)\n",
            "Requirement already satisfied: sentencepiece in /usr/local/lib/python3.7/dist-packages (from sentence-transformers) (0.1.96)\n",
            "Requirement already satisfied: torchvision in /usr/local/lib/python3.7/dist-packages (from sentence-transformers) (0.10.0+cu102)\n",
            "Requirement already satisfied: nltk in /usr/local/lib/python3.7/dist-packages (from sentence-transformers) (3.2.5)\n",
            "Requirement already satisfied: transformers<5.0.0,>=4.6.0 in /usr/local/lib/python3.7/dist-packages (from sentence-transformers) (4.8.2)\n",
            "Requirement already satisfied: huggingface-hub in /usr/local/lib/python3.7/dist-packages (from sentence-transformers) (0.0.13)\n",
            "Requirement already satisfied: torch>=1.6.0 in /usr/local/lib/python3.7/dist-packages (from sentence-transformers) (1.9.0+cu102)\n",
            "Requirement already satisfied: Click in /usr/local/lib/python3.7/dist-packages (from psaw) (7.1.2)\n",
            "Requirement already satisfied: pytz>=2017.2 in /usr/local/lib/python3.7/dist-packages (from pandas) (2018.9)\n",
            "Requirement already satisfied: python-dateutil>=2.7.3 in /usr/local/lib/python3.7/dist-packages (from pandas) (2.8.1)\n",
            "Requirement already satisfied: umap-learn>=0.5.0 in /usr/local/lib/python3.7/dist-packages (from bertopic[spacy]) (0.5.1)\n",
            "Requirement already satisfied: hdbscan>=0.8.27 in /usr/local/lib/python3.7/dist-packages (from bertopic[spacy]) (0.8.27)\n",
            "Requirement already satisfied: plotly<4.14.3,>=4.7.0 in /usr/local/lib/python3.7/dist-packages (from bertopic[spacy]) (4.14.2)\n",
            "Requirement already satisfied: matplotlib in /usr/local/lib/python3.7/dist-packages (from distinctipy) (3.2.2)\n",
            "Requirement already satisfied: certifi>=2017.4.17 in /usr/local/lib/python3.7/dist-packages (from requests<3.0.0,>=2.13.0->spacy) (2021.5.30)\n",
            "Requirement already satisfied: chardet<4,>=3.0.2 in /usr/local/lib/python3.7/dist-packages (from requests<3.0.0,>=2.13.0->spacy) (3.0.4)\n",
            "Requirement already satisfied: urllib3!=1.25.0,!=1.25.1,<1.26,>=1.21.1 in /usr/local/lib/python3.7/dist-packages (from requests<3.0.0,>=2.13.0->spacy) (1.24.3)\n",
            "Requirement already satisfied: idna<3,>=2.5 in /usr/local/lib/python3.7/dist-packages (from requests<3.0.0,>=2.13.0->spacy) (2.10)\n",
            "Requirement already satisfied: importlib-metadata>=0.20; python_version < \"3.8\" in /usr/local/lib/python3.7/dist-packages (from catalogue<1.1.0,>=0.0.7->spacy) (4.6.0)\n",
            "Requirement already satisfied: colorama<0.5.0,>=0.4.0 in /usr/local/lib/python3.7/dist-packages (from rich>=10.4.0->keybert[spacy]) (0.4.4)\n",
            "Requirement already satisfied: typing-extensions<4.0.0,>=3.7.4; python_version < \"3.8\" in /usr/local/lib/python3.7/dist-packages (from rich>=10.4.0->keybert[spacy]) (3.7.4.3)\n",
            "Requirement already satisfied: commonmark<0.10.0,>=0.9.0 in /usr/local/lib/python3.7/dist-packages (from rich>=10.4.0->keybert[spacy]) (0.9.1)\n",
            "Requirement already satisfied: pygments<3.0.0,>=2.6.0 in /usr/local/lib/python3.7/dist-packages (from rich>=10.4.0->keybert[spacy]) (2.6.1)\n",
            "Requirement already satisfied: joblib>=0.11 in /usr/local/lib/python3.7/dist-packages (from scikit-learn>=0.22.2->keybert[spacy]) (1.0.1)\n",
            "Requirement already satisfied: pillow>=5.3.0 in /usr/local/lib/python3.7/dist-packages (from torchvision->sentence-transformers) (7.1.2)\n",
            "Requirement already satisfied: six in /usr/local/lib/python3.7/dist-packages (from nltk->sentence-transformers) (1.15.0)\n",
            "Requirement already satisfied: filelock in /usr/local/lib/python3.7/dist-packages (from transformers<5.0.0,>=4.6.0->sentence-transformers) (3.0.12)\n",
            "Requirement already satisfied: sacremoses in /usr/local/lib/python3.7/dist-packages (from transformers<5.0.0,>=4.6.0->sentence-transformers) (0.0.45)\n",
            "Requirement already satisfied: pyyaml in /usr/local/lib/python3.7/dist-packages (from transformers<5.0.0,>=4.6.0->sentence-transformers) (3.13)\n",
            "Requirement already satisfied: regex!=2019.12.17 in /usr/local/lib/python3.7/dist-packages (from transformers<5.0.0,>=4.6.0->sentence-transformers) (2019.12.20)\n",
            "Requirement already satisfied: tokenizers<0.11,>=0.10.1 in /usr/local/lib/python3.7/dist-packages (from transformers<5.0.0,>=4.6.0->sentence-transformers) (0.10.3)\n",
            "Requirement already satisfied: packaging in /usr/local/lib/python3.7/dist-packages (from transformers<5.0.0,>=4.6.0->sentence-transformers) (20.9)\n",
            "Requirement already satisfied: pynndescent>=0.5 in /usr/local/lib/python3.7/dist-packages (from umap-learn>=0.5.0->bertopic[spacy]) (0.5.4)\n",
            "Requirement already satisfied: numba>=0.49 in /usr/local/lib/python3.7/dist-packages (from umap-learn>=0.5.0->bertopic[spacy]) (0.51.2)\n",
            "Requirement already satisfied: cython>=0.27 in /usr/local/lib/python3.7/dist-packages (from hdbscan>=0.8.27->bertopic[spacy]) (0.29.23)\n",
            "Requirement already satisfied: retrying>=1.3.3 in /usr/local/lib/python3.7/dist-packages (from plotly<4.14.3,>=4.7.0->bertopic[spacy]) (1.3.3)\n",
            "Requirement already satisfied: cycler>=0.10 in /usr/local/lib/python3.7/dist-packages (from matplotlib->distinctipy) (0.10.0)\n",
            "Requirement already satisfied: pyparsing!=2.0.4,!=2.1.2,!=2.1.6,>=2.0.1 in /usr/local/lib/python3.7/dist-packages (from matplotlib->distinctipy) (2.4.7)\n",
            "Requirement already satisfied: kiwisolver>=1.0.1 in /usr/local/lib/python3.7/dist-packages (from matplotlib->distinctipy) (1.3.1)\n",
            "Requirement already satisfied: zipp>=0.5 in /usr/local/lib/python3.7/dist-packages (from importlib-metadata>=0.20; python_version < \"3.8\"->catalogue<1.1.0,>=0.0.7->spacy) (3.4.1)\n",
            "Requirement already satisfied: llvmlite>=0.30 in /usr/local/lib/python3.7/dist-packages (from pynndescent>=0.5->umap-learn>=0.5.0->bertopic[spacy]) (0.34.0)\n"
          ],
          "name": "stdout"
        }
      ]
    },
    {
      "cell_type": "markdown",
      "metadata": {
        "id": "oAB4Q2gbTqi7"
      },
      "source": [
        "# Scrap Reddit Data\n",
        "\n",
        "Using pushshift api to quickly search for submissions where title contains **question-indicative phrases/words**. Only retrieve submissions whose **num_comments > 1**, this filters out most of the ads.\n",
        "\n",
        "refer to [Content Ideas From Reddit](https://timothywangdev.github.io/knowledge/Content%20Marketing/content-ideas-from-reddit)"
      ]
    },
    {
      "cell_type": "code",
      "metadata": {
        "id": "e_xYE3OUW-6c"
      },
      "source": [
        "import datetime as dt\n",
        "from datetime import date, datetime\n",
        "from loguru import logger\n",
        "import pandas as pd\n",
        "from psaw import PushshiftAPI\n",
        "import time\n",
        "import os\n",
        "import redditcleaner\n",
        "import re\n",
        "import base64\n",
        "import IPython\n",
        "from distinctipy import distinctipy\n",
        "import random\n",
        "from colour import Color\n",
        "\n",
        "api = PushshiftAPI()\n",
        "\n",
        "QUESTION_WORDS = [\n",
        "  \"what\",\n",
        "  \"when\",\n",
        "  \"where\",\n",
        "  \"who\",\n",
        "  \"whom\",\n",
        "  \"which\",\n",
        "  \"whose\",\n",
        "  \"why\",\n",
        "  \"how\",\n",
        "  \"wonder\",\n",
        "  \"want\",\n",
        "  \"is anyone\",\n",
        "  \"does anyone\",\n",
        "  \"any tips\",\n",
        "  \"advice\",\n",
        "  \"suggestion\",\n",
        "  \"suggestions\",\n",
        "  \"suggest\",\n",
        "  \"ideas on\",\n",
        "  \"need help\",\n",
        "  \"needs help\",\n",
        "  \"need your help\",\n",
        "  \"serious help\",\n",
        "  \"please help\",\n",
        "  \"challenge\",\n",
        "  \"challenges\",\n",
        "  \"can't stand\",\n",
        "  \"struggle\",\n",
        "  \"struggling\",\n",
        "  \"can't figure out\",\n",
        "  \"help me\",\n",
        "  \"hardest part\",\n",
        "  \"would appreciate\",\n",
        "  \"would really appreciate\",\n",
        "  \"any guidance\",\n",
        "  \"no idea\",\n",
        "  \"confused with\",\n",
        "  \"new to\",\n",
        "  \"is there any way\"\n",
        "]"
      ],
      "execution_count": 2,
      "outputs": []
    },
    {
      "cell_type": "markdown",
      "metadata": {
        "id": "ecpCY3v4b4kH"
      },
      "source": [
        "# (Optional) Do some experiments on question words and psaw filters"
      ]
    },
    {
      "cell_type": "code",
      "metadata": {
        "colab": {
          "base_uri": "https://localhost:8080/",
          "height": 334
        },
        "id": "TiIVwi7Tb3HJ",
        "outputId": "c4f316b6-0295-4e75-8e9a-5402ea36ca5b"
      },
      "source": [
        "\n",
        "# do some exps on question words and psaw filters\n",
        "_QUESTION_WORDS=[\"ideas on\", \"struggle with\", \"suggestion\"]\n",
        "title_query = '|'.join(map(lambda x: '\"{}\"'.format(x), _QUESTION_WORDS))\n",
        "print(title_query)\n",
        "\n",
        "gen = list(\n",
        "        api.search_submissions(\n",
        "            title=title_query,\n",
        "            is_self=True,\n",
        "            is_original_content=True, \n",
        "            subreddit='content_marketing',\n",
        "            num_comments=\">1\",\n",
        "            filter=['title', 'selftext', 'author', 'permalink', 'num_comments', 'score', 'total_awards_received',\n",
        "                    'upvote_ratio'],\n",
        "            sort='asc', sort_type='created_utc', limit=500))\n",
        "\n",
        "titles = [item.d_['title'] for item in gen]\n",
        "\n",
        "# generate distinct hsl colors\n",
        "bg_color_list = distinctipy.get_colors(50)\n",
        "inverted_color_list = distinctipy.invert_colors(bg_color_list)\n",
        "text_color_list = [distinctipy.get_text_color(color) for color in bg_color_list]\n",
        "\n",
        "# convert colors to hex\n",
        "bg_color_list = [Color(rgb=color).hex for color in bg_color_list]\n",
        "inverted_color_list = [Color(rgb=color).hex for color in inverted_color_list]\n",
        "text_color_list = [Color(rgb=color).hex for color in text_color_list]\n",
        "\n",
        "def colored(word, color_idx=0):\n",
        "  color = bg_color_list[color_idx]\n",
        "  return '<span style=\"display: inline-block; font-weight: 600; font-size: 16px; border-radius: 15%; padding-left: 5px; padding-right: 5px; margin: 4px 2px; background-color: {}; color:{};\">{}</span>'.format(bg_color_list[color_idx], text_color_list[color_idx], word)\n",
        "  \n",
        "colored_titles = []\n",
        "for title in titles:\n",
        "  _title = title.lower()\n",
        "  for idx, question_word in enumerate(_QUESTION_WORDS):\n",
        "    _title = _title.replace(question_word, colored(question_word, color_idx = idx))\n",
        "  colored_titles.append('<li>' + _title + \"</li>\")\n",
        "\n",
        "IPython.display.HTML(\"<ol>\" +' '.join(colored_titles) + \"</ol>\")"
      ],
      "execution_count": 192,
      "outputs": [
        {
          "output_type": "stream",
          "text": [
            "\"ideas on\"|\"struggle with\"|\"suggestion\"\n"
          ],
          "name": "stdout"
        },
        {
          "output_type": "execute_result",
          "data": {
            "text/html": [
              "<ol><li>what do you <span style=\"display: inline-block; font-weight: 600; font-size: 16px; border-radius: 15%; padding-left: 5px; padding-right: 5px; margin: 4px 2px; background-color: #f0f; color:#fff;\">struggle with</span> most when writing and creating content for your business?</li> <li>any <span style=\"display: inline-block; font-weight: 600; font-size: 16px; border-radius: 15%; padding-left: 5px; padding-right: 5px; margin: 4px 2px; background-color: #0f0; color:#fff;\">ideas on</span> how to do content marketing on reddit ? without breaking the unspoken rules</li> <li>best free tools for improving writing content skills, please put your <span style=\"display: inline-block; font-weight: 600; font-size: 16px; border-radius: 15%; padding-left: 5px; padding-right: 5px; margin: 4px 2px; background-color: #007fff; color:#fff;\">suggestion</span>?</li> <li>as a busy entrepreneur do you <span style=\"display: inline-block; font-weight: 600; font-size: 16px; border-radius: 15%; padding-left: 5px; padding-right: 5px; margin: 4px 2px; background-color: #f0f; color:#fff;\">struggle with</span> losing weight?</li> <li>need email software <span style=\"display: inline-block; font-weight: 600; font-size: 16px; border-radius: 15%; padding-left: 5px; padding-right: 5px; margin: 4px 2px; background-color: #007fff; color:#fff;\">suggestion</span></li> <li>agency marketers (or anyone with a <span style=\"display: inline-block; font-weight: 600; font-size: 16px; border-radius: 15%; padding-left: 5px; padding-right: 5px; margin: 4px 2px; background-color: #007fff; color:#fff;\">suggestion</span>,) what small things are you doing to help clients during the pandemic?</li> <li>guys, what are the content marketing fields that you have the most <span style=\"display: inline-block; font-weight: 600; font-size: 16px; border-radius: 15%; padding-left: 5px; padding-right: 5px; margin: 4px 2px; background-color: #f0f; color:#fff;\">struggle with</span>?</li> <li>running out of <span style=\"display: inline-block; font-weight: 600; font-size: 16px; border-radius: 15%; padding-left: 5px; padding-right: 5px; margin: 4px 2px; background-color: #0f0; color:#fff;\">ideas on</span> covid 19 for internal communication</li> <li><span style=\"display: inline-block; font-weight: 600; font-size: 16px; border-radius: 15%; padding-left: 5px; padding-right: 5px; margin: 4px 2px; background-color: #007fff; color:#fff;\">suggestion</span> for a saas company's marketing strategy</li> <li>need some <span style=\"display: inline-block; font-weight: 600; font-size: 16px; border-radius: 15%; padding-left: 5px; padding-right: 5px; margin: 4px 2px; background-color: #0f0; color:#fff;\">ideas on</span> what to do with unboxing and review videos of the specific product i custom branded and sell</li></ol>"
            ],
            "text/plain": [
              "<IPython.core.display.HTML object>"
            ]
          },
          "metadata": {
            "tags": []
          },
          "execution_count": 192
        }
      ]
    },
    {
      "cell_type": "markdown",
      "metadata": {
        "id": "Ub4bxyAGWwhW"
      },
      "source": [
        "Only retrieve submissions that are text submissions, and filter out deleted submissions and submissions whose author is banned.\n",
        "\n",
        "We keep the following fields:\n",
        "\n",
        "* title\n",
        "* selftext\n",
        "* author\n",
        "* permalink\n",
        "* num_comments <font color='blue'>*</font>\n",
        "* score <font color='blue'>*</font>\n",
        "* upvote_ratio <font color='blue'>*</font>\n",
        "* total_awards_received <font color='blue'>*</font>\n",
        "\n",
        "<font color='blue'>*</font> *Used for future ranking purpose*"
      ]
    },
    {
      "cell_type": "code",
      "metadata": {
        "colab": {
          "base_uri": "https://localhost:8080/"
        },
        "id": "bd5wSUCcU7bx",
        "outputId": "9ee1effc-1c3e-48de-8129-9a1ba2fb0c65"
      },
      "source": [
        "start_epoch = int(dt.datetime(2019, 1, 1).timestamp())\n",
        "#end_epoch = int(dt.datetime(2020, 3, 1).timestamp())\n",
        "end_epoch = int(time.time())\n",
        "total = 0\n",
        "\n",
        "SUBREDDIT = 'nft'\n",
        "DATA_FILE_NAME = gdrive_path + '/reddit_submission_{}_{}_{}.tsv'.format(\n",
        "    SUBREDDIT, datetime.fromtimestamp(start_epoch).strftime(\"%Y_%m_%d\"),\n",
        "    datetime.fromtimestamp(end_epoch).strftime(\"%Y_%m_%d\"))\n",
        "\n",
        "title_query = '|'.join(map(lambda x: '\"{}\"'.format(x), QUESTION_WORDS))\n",
        "while True:\n",
        "    gen = list(\n",
        "        api.search_submissions(\n",
        "            after=start_epoch, \n",
        "            before=end_epoch,\n",
        "            title=title_query,\n",
        "            is_self=True,\n",
        "            is_original_content=True,\n",
        "            subreddit=SUBREDDIT,\n",
        "            num_comments=\">1\",\n",
        "            filter=['title', 'selftext', 'author', 'permalink', 'num_comments', 'score', 'total_awards_received',\n",
        "                    'upvote_ratio'],\n",
        "            sort='asc', \n",
        "            sort_type='created_utc', \n",
        "            limit=500))\n",
        "\n",
        "    if len(gen) == 0:\n",
        "        break\n",
        "\n",
        "    def submission_filter(submission):\n",
        "        if 'title' not in submission:\n",
        "            return False\n",
        "        if 'selftext' not in submission:\n",
        "            return False\n",
        "        if len(submission['selftext']) == 0:\n",
        "            # if submission is deleted, the psaw returns empty str\n",
        "            return False\n",
        "        if 'author' not in submission:\n",
        "            return False\n",
        "        if submission['author'] == \"[deleted]\":\n",
        "            return False\n",
        "        if any(submission['selftext'] == x for x in [\"[removed]\", \"[deleted]\"]):\n",
        "            return False\n",
        "        return True\n",
        "\n",
        "    def prepare_data(data):\n",
        "        # some of the fields may be missing\n",
        "        # must manually set an init value to avoid\n",
        "        # generating invalid csv\n",
        "        _data = {\n",
        "            'title': '',\n",
        "            'selftext': '',\n",
        "            'author': '',\n",
        "            'permalink': '',\n",
        "            'num_comments': 0,\n",
        "            'score': 0,\n",
        "            'total_awards_received': 0,\n",
        "            'upvote_ratio': 1.0,\n",
        "            'created_utc': None\n",
        "        }\n",
        "\n",
        "        for key in _data:\n",
        "            if key in data and data[key] is not None:\n",
        "                _data[key] = data[key]\n",
        "\n",
        "        return _data\n",
        "\n",
        "\n",
        "    items = map(prepare_data, [item.d_ for item in gen])\n",
        "\n",
        "    items = list(filter(submission_filter, items))\n",
        "\n",
        "    df = pd.DataFrame(items)\n",
        "\n",
        "    # clean data\n",
        "    def clean(text):\n",
        "        # remove reddit styles\n",
        "        text = redditcleaner.clean(\n",
        "            text, quote=False, bullet_point=False, link=False, strikethrough=False, spoiler=False, code=False,\n",
        "            superscript=False, table=False)\n",
        "\n",
        "        # refer to https://towardsdatascience.com/cleaning-text-data-with-python-b69b47b97b76\n",
        "        # Remove unicode characters\n",
        "        text = text.encode('ascii', 'ignore').decode()\n",
        "\n",
        "        # Remove Hashtags\n",
        "        text = re.sub(\"#\\S+\", \" \", text)\n",
        "\n",
        "        # Remove markdown links\n",
        "        text = re.sub(r\"\\[(.+)\\]\\(.+\\)\", r\"\\1\", text)\n",
        "\n",
        "        # Remove other urls\n",
        "        text = re.sub(r\"http\\S+\", \" \", text)\n",
        "\n",
        "        # remove text inside brackets\n",
        "        text = re.sub(\"\\(.*?\\)\",\" \", text)\n",
        "        text = re.sub(\"\\[.*?\\]\",\" \", text)\n",
        "\n",
        "        # remove quotes\n",
        "        # remove brackets\n",
        "        # remove semicolon\n",
        "        text = re.sub(r'[\\t()[\\]\\\"*:\\\\]',' ', text)\n",
        "\n",
        "        # remove non-ascii chars\n",
        "        text = re.sub(r\"[^\\x00-\\x7F]+\",' ', text)\n",
        "\n",
        "         # Replace the over spaces# if submission is deleted, the psaw returns NaN, must check if \n",
        "            # it's a valid string\n",
        "        text = re.sub('\\s{2,}', \" \", text)\n",
        "\n",
        "        return text\n",
        "\n",
        "    df['title'] = df['title'].map(clean)\n",
        "    df['selftext'] = df['selftext'].map(clean)\n",
        "\n",
        "    if not os.path.isfile(DATA_FILE_NAME):\n",
        "        df.to_csv(DATA_FILE_NAME, sep='\\t', header='column_names', index=False, quoting=3)\n",
        "    else:  # else it exists so append without writing the header\n",
        "        df.to_csv(DATA_FILE_NAME, sep='\\t', mode='a', header=False, index=False, quoting=3)\n",
        "\n",
        "    start_epoch = items[-1]['created_utc']\n",
        "    total += len(items)\n",
        "    logger.info('Added {} Total {} Last created_utc {}'.format(\n",
        "        len(items), total, date.fromtimestamp(start_epoch)))\n",
        "\n",
        "    time.sleep(3)"
      ],
      "execution_count": 7,
      "outputs": [
        {
          "output_type": "stream",
          "text": [
            "2021-07-15 03:46:24.496 | INFO     | __main__:<module>:125 - Added 317 Total 317 Last created_utc 2021-04-14\n",
            "2021-07-15 03:46:32.429 | INFO     | __main__:<module>:125 - Added 277 Total 594 Last created_utc 2021-05-15\n",
            "2021-07-15 03:46:38.281 | INFO     | __main__:<module>:125 - Added 273 Total 867 Last created_utc 2021-07-11\n",
            "2021-07-15 03:46:45.058 | INFO     | __main__:<module>:125 - Added 11 Total 878 Last created_utc 2021-07-14\n"
          ],
          "name": "stderr"
        }
      ]
    },
    {
      "cell_type": "markdown",
      "metadata": {
        "id": "lkJ_ER3vV6gQ"
      },
      "source": [
        "# Load Scrapped Reddit Data\n",
        "\n",
        "Load submissions, filter out ads, and classified them by wh-words\n",
        "\n",
        "From observation, some **submissions are ads**, which often contain the following symbols/phrases\n",
        "\n",
        "```\n",
        "'-', ':', ';' \n",
        "your business(es)\n",
        "help you\n",
        "case study\n",
        "ALL CAPITAL chars\n",
        "how i\n",
        "dollar symbol $ (e.g turn $100 into 100k)\n",
        "step-by-step\n",
        "here is how\n",
        "here's how\n",
        "part 1/2/3\n",
        "top [number] things\n",
        "[number] reasons\n",
        "ultimate guide\n",
        "cheat sheet\n",
        "cheatsheet\n",
        "infographic\n",
        "by [year]\n",
        "ama\n",
        "```\n",
        "\n",
        "<mark>TODO</mark> \n",
        " - [x] Add more ad-indicative phrases\n",
        " - [x] Use num_comments to filter ads"
      ]
    },
    {
      "cell_type": "code",
      "metadata": {
        "id": "1AjZF260X1Is",
        "colab": {
          "base_uri": "https://localhost:8080/"
        },
        "outputId": "53656b9e-40b9-41b9-ebd4-97d9f203283c"
      },
      "source": [
        "df = pd.read_csv(gdrive_path +\"/reddit_submission_nft_2019_01_01_2021_07_15.tsv\", sep='\\t', quoting=3)\n",
        "\n",
        "# data cleanup\n",
        "print('before clean-up # rows: {}'.format(len(df)))\n",
        "cleaned_rows = []\n",
        "\n",
        "AD_INDICATIVE_PHRASES = [\n",
        "  \"your business\", \n",
        "  \"your businesses\", \n",
        "  \"help you\", \n",
        "  \"case study\"\n",
        "  \"how i\",\n",
        "  \"$\",\n",
        "  \"step-by-step\",\n",
        "  \"here is how\",\n",
        "  \"here's how\",\n",
        "  \"part 1\",\n",
        "  \"part 2\",\n",
        "  \"part 3\",\n",
        "  \"ultimate guide\",\n",
        "  \"cheatsheet\",\n",
        "  \"infographic\",\n",
        "  \"ama\"\n",
        "]\n",
        "\n",
        "for index, row in df.iterrows():\n",
        "    row_title = row['title'].lower()\n",
        "    if not any(x in ['-', ':', ';'] for x in row_title) and not any(phrase in row_title for phrase in AD_INDICATIVE_PHRASES) and \"?\" in row_title:\n",
        "        '''\n",
        "        1. must contain '?'\n",
        "        2. can only contain alphanumeric, punctuations and space\n",
        "        3. should not contain '-', ':', ';' which indicates ads\n",
        "        '''\n",
        "        cleaned_rows.append(index)\n",
        "\n",
        "df = df[df.index.isin(cleaned_rows)].reset_index()\n",
        "print('after clean-up # rows: {}'.format(len(df)))\n",
        "\n",
        "print(df.head(5).to_markdown())"
      ],
      "execution_count": 10,
      "outputs": [
        {
          "output_type": "stream",
          "text": [
            "before clean-up # rows: 878\n",
            "after clean-up # rows: 516\n",
            "|    |   index | title                                                                                          | selftext                                                                                                                                                                                                                                                                                                                                                                                                                                                                                   | author       | permalink                                                                |   num_comments |   score |   total_awards_received |   upvote_ratio |   created_utc |\n",
            "|---:|--------:|:-----------------------------------------------------------------------------------------------|:-------------------------------------------------------------------------------------------------------------------------------------------------------------------------------------------------------------------------------------------------------------------------------------------------------------------------------------------------------------------------------------------------------------------------------------------------------------------------------------------|:-------------|:-------------------------------------------------------------------------|---------------:|--------:|------------------------:|---------------:|--------------:|\n",
            "|  0 |       0 | What happens to the originals after an NFT artwork is published?                               | Question in title, trying to understand the scene more, and how scarcity is impacted by original physical pieces that continue to exist.                                                                                                                                                                                                                                                                                                                                                   | j3rv4r       | /r/NFT/comments/j23u6c/what_happens_to_the_originals_after_an_nft/       |              4 |       1 |                       0 |              1 |    1601400330 |\n",
            "|  1 |       1 | Question about ownership/rights to images when it comes to NFTs?                               | Hi everybody! Im very new to learning about crypto art and wanted to see if anyone could explain to me how the ownership aspect of selling NFTs works. If I were to sell a 1/1 NFT on a website like Rarible and someone bought it, would I still be able to sell my art as prints or the original canvas painting etc and profit off of that legally? Or would they own all of the rights to the image? Very confused in regards to this so any clarification would be much appreciated ! | hungry4light | /r/NFT/comments/j4sgqx/question_about_ownershiprights_to_images_when_it/ |              3 |       1 |                       0 |              1 |    1601782806 |\n",
            "|  2 |       2 | How does copyright/trademark come into NFTs?                                                   | Simple question which gets more complicated. Can I make an NFT of something that is normally trademarked/ has copyrights? Say I make an art NFT, then use a Jackson pollock painting...are there implications down the line? Because I'm using a new wallet ect there so history, nothing linking to me ... What are your thoughts? are there rules already, or will shortly be etc?                                                                                                       | MoronicDroid | /r/NFT/comments/jddcsa/how_does_copyrighttrademark_come_into_nfts/       |              3 |       1 |                       0 |              1 |    1603013126 |\n",
            "|  3 |       6 | How to make income from NFTs?                                                                  | Is it possible to trade with NFTs or activily seachig for new ones, buying and reselling them? Is that profitable? And where to find best offers, or how to find which NFT is going to be worth a lot?                                                                                                                                                                                                                                                                                     | GingerManee  | /r/NFT/comments/k8t9cv/how_to_make_income_from_nfts/                     |              6 |       1 |                       0 |              1 |    1607386867 |\n",
            "|  4 |       7 | What is the cheapest platform with a reasonable amount of users where one can issue NFT's now? | Hello, I'm MB. A very nice and polite guy. What is the cheapest platform with a reasonable amount of users where one can issue NFT's now? Please don't say Tron. I don't like Justin. Otherwise interested in various options.                                                                                                                                                                                                                                                             | MountBlanc   | /r/NFT/comments/kcpscx/what_is_the_cheapest_platform_with_a_reasonable/  |             12 |       1 |                       0 |              1 |    1607917246 |\n"
          ],
          "name": "stdout"
        }
      ]
    },
    {
      "cell_type": "markdown",
      "metadata": {
        "id": "l5lzeN49cbAw"
      },
      "source": [
        "# Classified submissions by wh-words in title, extract keywords and aggregate stats"
      ]
    },
    {
      "cell_type": "code",
      "metadata": {
        "id": "eHRjLDsoXq9u",
        "colab": {
          "base_uri": "https://localhost:8080/"
        },
        "outputId": "10098ec0-cf40-40a4-a4dd-fb713da45b9b"
      },
      "source": [
        "import pprint\n",
        "from keybert import KeyBERT\n",
        "\n",
        "kw_model = KeyBERT()\n",
        "\n",
        "title_cat = []\n",
        "keywords = []\n",
        "for index, row in df.iterrows():\n",
        "    title_cat.append('NO_WH_WORD')\n",
        "    for wh_word in QUESTION_WORDS:\n",
        "        if wh_word in row['title'].lower():\n",
        "            title_cat[-1] = wh_word\n",
        "            break\n",
        "    doc_text = row['title'] + \" \" + row['selftext']\n",
        "    doc_keywords = kw_model.extract_keywords(doc_text)\n",
        "\n",
        "    keywords.append([keyword[0] for keyword in doc_keywords])\n",
        "\n",
        "df['title_cat'] = title_cat\n",
        "df['keywords'] = keywords\n",
        "\n",
        "cat_stats = {\n",
        "    'cat': QUESTION_WORDS,\n",
        "    'num_docs': [],\n",
        "    'total_score': [],\n",
        "    'total_comments': []\n",
        "}\n",
        "\n",
        "# print out number of docs per category\n",
        "for wh_word in QUESTION_WORDS:\n",
        "    _df = df[df['title_cat'] == wh_word]\n",
        "    cat_stats['num_docs'].append(len(_df))\n",
        "    cat_stats['total_score'].append(_df['score'].sum())\n",
        "    cat_stats['total_comments'].append(_df['num_comments'].sum())\n",
        "  \n",
        "cat_stats_df = pd.DataFrame(data=cat_stats)\n",
        "\n",
        "print(cat_stats_df.to_markdown())\n",
        "  "
      ],
      "execution_count": 12,
      "outputs": [
        {
          "output_type": "stream",
          "text": [
            "|    | cat                     |   num_docs |   total_score |   total_comments |\n",
            "|---:|:------------------------|-----------:|--------------:|-----------------:|\n",
            "|  0 | what                    |        168 |           224 |              773 |\n",
            "|  1 | when                    |         19 |            20 |               99 |\n",
            "|  2 | where                   |         30 |            45 |              180 |\n",
            "|  3 | who                     |         17 |            20 |               55 |\n",
            "|  4 | whom                    |          0 |             0 |                0 |\n",
            "|  5 | which                   |         36 |            41 |              196 |\n",
            "|  6 | whose                   |          0 |             0 |                0 |\n",
            "|  7 | why                     |         38 |            42 |              258 |\n",
            "|  8 | how                     |        173 |           202 |              883 |\n",
            "|  9 | wonder                  |          0 |             0 |                0 |\n",
            "| 10 | want                    |         14 |            14 |               71 |\n",
            "| 11 | is anyone               |          4 |             4 |               12 |\n",
            "| 12 | does anyone             |          3 |             3 |               36 |\n",
            "| 13 | any tips                |          1 |             1 |                2 |\n",
            "| 14 | advice                  |          4 |             4 |               15 |\n",
            "| 15 | suggestion              |          0 |             0 |                0 |\n",
            "| 16 | suggestions             |          0 |             0 |                0 |\n",
            "| 17 | suggest                 |          0 |             0 |                0 |\n",
            "| 18 | ideas on                |          0 |             0 |                0 |\n",
            "| 19 | need help               |          0 |             0 |                0 |\n",
            "| 20 | needs help              |          0 |             0 |                0 |\n",
            "| 21 | need your help          |          0 |             0 |                0 |\n",
            "| 22 | serious help            |          0 |             0 |                0 |\n",
            "| 23 | please help             |          1 |             1 |                2 |\n",
            "| 24 | challenge               |          0 |             0 |                0 |\n",
            "| 25 | challenges              |          0 |             0 |                0 |\n",
            "| 26 | can't stand             |          0 |             0 |                0 |\n",
            "| 27 | struggle                |          0 |             0 |                0 |\n",
            "| 28 | struggling              |          1 |             1 |                4 |\n",
            "| 29 | can't figure out        |          0 |             0 |                0 |\n",
            "| 30 | help me                 |          2 |             2 |                5 |\n",
            "| 31 | hardest part            |          0 |             0 |                0 |\n",
            "| 32 | would appreciate        |          0 |             0 |                0 |\n",
            "| 33 | would really appreciate |          0 |             0 |                0 |\n",
            "| 34 | any guidance            |          0 |             0 |                0 |\n",
            "| 35 | no idea                 |          0 |             0 |                0 |\n",
            "| 36 | confused with           |          0 |             0 |                0 |\n",
            "| 37 | new to                  |          3 |             3 |               15 |\n",
            "| 38 | is there any way        |          2 |             2 |                6 |\n"
          ],
          "name": "stdout"
        }
      ]
    },
    {
      "cell_type": "markdown",
      "metadata": {
        "id": "jn_p6EBAYPd0"
      },
      "source": [
        "# Pick a wh-word category"
      ]
    },
    {
      "cell_type": "code",
      "metadata": {
        "id": "Iyw8AKm-YRUv",
        "colab": {
          "base_uri": "https://localhost:8080/"
        },
        "outputId": "0579de45-52ad-454e-c867-f47ccc2cc709"
      },
      "source": [
        "df_selection = df[df['title_cat'] == 'how'].copy().reset_index()\n",
        "print(df_selection.head(10).to_markdown())"
      ],
      "execution_count": 14,
      "outputs": [
        {
          "output_type": "stream",
          "text": [
            "|    |   level_0 |   index | title                                                          | selftext                                                                                                                                                                                                                                                                                                                                                                                                                                                                | author               | permalink                                                               |   num_comments |   score |   total_awards_received |   upvote_ratio |   created_utc | title_cat   | keywords                                                  |\n",
            "|---:|----------:|--------:|:---------------------------------------------------------------|:------------------------------------------------------------------------------------------------------------------------------------------------------------------------------------------------------------------------------------------------------------------------------------------------------------------------------------------------------------------------------------------------------------------------------------------------------------------------|:---------------------|:------------------------------------------------------------------------|---------------:|--------:|------------------------:|---------------:|--------------:|:------------|:----------------------------------------------------------|\n",
            "|  0 |         2 |       2 | How does copyright/trademark come into NFTs?                   | Simple question which gets more complicated. Can I make an NFT of something that is normally trademarked/ has copyrights? Say I make an art NFT, then use a Jackson pollock painting...are there implications down the line? Because I'm using a new wallet ect there so history, nothing linking to me ... What are your thoughts? are there rules already, or will shortly be etc?                                                                                    | MoronicDroid         | /r/NFT/comments/jddcsa/how_does_copyrighttrademark_come_into_nfts/      |              3 |       1 |                       0 |            1   |    1603013126 | how         | ['nft', 'copyright', 'copyrights', 'nfts', 'trademarked'] |\n",
            "|  1 |         3 |       6 | How to make income from NFTs?                                  | Is it possible to trade with NFTs or activily seachig for new ones, buying and reselling them? Is that profitable? And where to find best offers, or how to find which NFT is going to be worth a lot?                                                                                                                                                                                                                                                                  | GingerManee          | /r/NFT/comments/k8t9cv/how_to_make_income_from_nfts/                    |              6 |       1 |                       0 |            1   |    1607386867 | how         | ['nfts', 'nft', 'income', 'profitable', 'worth']          |\n",
            "|  2 |         8 |      12 | How can a musician create an NFT for a song?                   | Im not a gamer but Im convinced that blockchain and NFTs are powerful tools for artists! How can musicians get their songs available as NFTs? TYIA, Im new to this sub.                                                                                                                                                                                                                                                                                                 | Bach_Bach_Bach       | /r/NFT/comments/kjp3rt/how_can_a_musician_create_an_nft_for_a_song/     |             14 |       1 |                       0 |            1   |    1608852824 | how         | ['nft', 'nfts', 'musicians', 'musician', 'gamer']         |\n",
            "|  3 |        18 |      31 | How is this NFT?                                               | What do you think about this guys? Should we all burn money and go for crypto? I think heeellll yeeeaaaahhh !!!                                                                                                                                                                                                                                                                                                                                                         | BroxDes              | /r/NFT/comments/l9agbs/how_is_this_nft/                                 |              2 |       0 |                       0 |            0.5 |    1612091981 | how         | ['crypto', 'yeeeaaaahhh', 'money', 'think', 'nft']        |\n",
            "|  4 |        19 |      32 | How will we display NFT Art in the future?                     | N00B here, Have been thinking about the future of NFT art for awhile now and was wondering if there is any company or anyone working on a way to display these at home. Some sort of digital picture frame where you can connect your Art wallet and display them say in your living room. I would love to connect to either discuss this idea or am just wondering if there is any progress in this space. Much love, ETH to the moon, Plinco                          | youngplinco          | /r/NFT/comments/l9gbrj/how_will_we_display_nft_art_in_the_future/       |             23 |       8 |                       0 |            0.9 |    1612112184 | how         | ['nft', 'art', 'display', 'future', 'digital']            |\n",
            "|  5 |        22 |      36 | How can I profit from NFTs?                                    | Ive only just discovered what NFTs are. If NFTs are truly the future, how can I benefit getting involved in them early and how can I stay ahead of the curve? Ive no knowledge in designing or any type of artistic creation. So I cant create anything artistic, unfortunately. For cryptocurrency, I dont have to be a technical whiz to be able to earn from crypto trading. What are the different ways that I can start doing to get into NFTs and invest in them? | sergeibagel          | /r/NFT/comments/lbawca/how_can_i_profit_from_nfts/                      |             28 |       5 |                       0 |            1   |    1612311850 | how         | ['nfts', 'crypto', 'cryptocurrency', 'create', 'earn']    |\n",
            "|  6 |        25 |      39 | How do you display your NFT art?                               | Print it out or use any screens or picture displays? Wanting to decorate my place with art but thinking NFT art would be better.                                                                                                                                                                                                                                                                                                                                        | advadm               | /r/NFT/comments/lcs0fj/how_do_you_display_your_nft_art/                 |              3 |       3 |                       0 |            1   |    1612477554 | how         | ['art', 'nft', 'decorate', 'display', 'displays']         |\n",
            "|  7 |        26 |      41 | How can track upcoming nft releases ?                          | Guys cant find nowhere to find upcoming dates for crypto collectibles ? Do you know any community or source ?                                                                                                                                                                                                                                                                                                                                                           | crypto-domain-seller | /r/NFT/comments/lg2fge/how_can_ı_track_upcoming_nft_releases/           |              2 |       1 |                       0 |            1   |    1612874089 | how         | ['crypto', 'nft', 'dates', 'collectibles', 'releases']    |\n",
            "|  8 |        30 |      45 | How to make NFT packs? Similiar to Pokemon packs.              | I would like to make packages with NFTs in them where people would buy packs and get 10 random collectibles, some rarer than others. Is there some place I can do this?                                                                                                                                                                                                                                                                                                 | NRFR22               | /r/NFT/comments/lh3c24/how_to_make_nft_packs_similiar_to_pokemon_packs/ |              4 |       1 |                       0 |            1   |    1612989787 | how         | ['packs', 'pokemon', 'collectibles', 'nfts', 'nft']       |\n",
            "|  9 |        32 |      49 | NFT one edition how to be sure the creator won't duplicate it? | Hi everyone, People creating NFT can claim their artwork is unique . But how to be sure they won't create an other token with the same artwork? For example, Transitory state on Rarible is listed 1 of 1 meaning it's unique. Let say I buy it of course the creator has the original artwork on his hard disk, so he can create a new NFT and list it again. He could do it as many times as he wants. What do you think? SRin1week                                   | superrichin1week     | /r/NFT/comments/li9xjz/nft_one_edition_how_to_be_sure_the_creator_wont/ |             10 |       1 |                       0 |            1   |    1613132342 | how         | ['nft', 'creator', 'unique', 'rarible', 'artwork']        |\n"
          ],
          "name": "stdout"
        }
      ]
    },
    {
      "cell_type": "markdown",
      "metadata": {
        "id": "bZ-0XcmFcrTx"
      },
      "source": [
        "# Topic Modeling with BERTopic"
      ]
    },
    {
      "cell_type": "code",
      "metadata": {
        "id": "ReLmnh9C_BD5",
        "colab": {
          "base_uri": "https://localhost:8080/"
        },
        "outputId": "7829c26c-c6ca-40a0-ced5-a9d193a6b3e8"
      },
      "source": [
        "from bertopic import BERTopic\n",
        "\n",
        "topic_model = BERTopic(n_gram_range=(1, 1), nr_topics='auto', calculate_probabilities=True, min_topic_size=5)\n",
        "topics, probabilities = topic_model.fit_transform(df_selection['title'])\n",
        "topic_info_df = topic_model.get_topic_info()\n",
        "print(topic_info_df.to_markdown())"
      ],
      "execution_count": 15,
      "outputs": [
        {
          "output_type": "stream",
          "text": [
            "/usr/local/lib/python3.7/dist-packages/numba/np/ufunc/parallel.py:363: NumbaWarning: \u001b[1mThe TBB threading layer requires TBB version 2019.5 or later i.e., TBB_INTERFACE_VERSION >= 11005. Found TBB_INTERFACE_VERSION = 9107. The TBB threading layer is disabled.\u001b[0m\n",
            "  warnings.warn(problem)\n"
          ],
          "name": "stderr"
        },
        {
          "output_type": "stream",
          "text": [
            "|    |   Topic |   Count | Name                                 |\n",
            "|---:|--------:|--------:|:-------------------------------------|\n",
            "|  0 |      -1 |      42 | -1_nfts_collectors_nft_my            |\n",
            "|  1 |       0 |      32 | 0_sell_nfts_buy_nft                  |\n",
            "|  2 |       1 |      25 | 1_art_artist_much_afford             |\n",
            "|  3 |       2 |      17 | 2_work_nfts_understanding_traction   |\n",
            "|  4 |       3 |      15 | 3_mint_mintable_minting_tokens       |\n",
            "|  5 |       4 |      11 | 4_item_make_packs_can                |\n",
            "|  6 |       5 |      10 | 5_copyright_nfts_ownership_copy      |\n",
            "|  7 |       6 |       7 | 6_foundation_upvoted_wallet_waitlist |\n",
            "|  8 |       7 |       7 | 7_crypto_rarible_gift_unlockable     |\n",
            "|  9 |       8 |       7 | 8_marketplace_opensea_build_launch   |\n"
          ],
          "name": "stdout"
        }
      ]
    },
    {
      "cell_type": "code",
      "metadata": {
        "colab": {
          "base_uri": "https://localhost:8080/"
        },
        "id": "I-7gh1pPFblc",
        "outputId": "0ff67372-76ff-428b-b644-3a6b22fdea47"
      },
      "source": [
        "from collections import defaultdict\n",
        "\n",
        "docs_by_topics = defaultdict(list)\n",
        "\n",
        "print(max(topics), min(topics))\n",
        "for index, topic in enumerate(topics):\n",
        "  docs_by_topics[topic].append({\n",
        "      'docIdx': index,\n",
        "      'prob': probabilities[index][topic],\n",
        "      'num_comments':df_selection['num_comments'][index],\n",
        "      'score': df_selection['score'][index],\n",
        "      'title': df_selection['title'][index],\n",
        "      'keywords': df_selection['keywords'][index]\n",
        "  })\n",
        "\n",
        "# sort doc by their topic prob\n",
        "for index, topic in enumerate(topics):\n",
        "  docs_by_topics[topic].sort(key=lambda x: x['prob'], reverse=True)\n"
      ],
      "execution_count": 18,
      "outputs": [
        {
          "output_type": "stream",
          "text": [
            "8 -1\n"
          ],
          "name": "stdout"
        }
      ]
    },
    {
      "cell_type": "code",
      "metadata": {
        "colab": {
          "base_uri": "https://localhost:8080/"
        },
        "id": "U6qlWIBQItoR",
        "outputId": "a27da628-d40c-4857-9460-294412fa9132"
      },
      "source": [
        "\n",
        "for idx, row in topic_info_df.iterrows():\n",
        "  print(row.to_frame().T)\n",
        "  topic_docs_df = pd.DataFrame(docs_by_topics[row['Topic']])\n",
        "  print(topic_docs_df.head(50).to_markdown())\n",
        "\n"
      ],
      "execution_count": 19,
      "outputs": [
        {
          "output_type": "stream",
          "text": [
            "  Topic Count                       Name\n",
            "0    -1    42  -1_nfts_collectors_nft_my\n",
            "|    |   docIdx |   prob |   num_comments |   score | title                                                                                            | keywords                                                      |\n",
            "|---:|---------:|-------:|---------------:|--------:|:-------------------------------------------------------------------------------------------------|:--------------------------------------------------------------|\n",
            "|  0 |       16 |      0 |              7 |       1 | How much are these Street Fighter NFTs worth?                                                    | ['cards', 'card', 'probability', 'fighter', 'worth']          |\n",
            "|  1 |       18 |      0 |              7 |       1 | How do I find my NFTs token ID and address?                                                      | ['nfts', 'id', 'token', 'address', 'thanks']                  |\n",
            "|  2 |       23 |      0 |              4 |       3 | How do i hunt for rare nfts thatll be of value in future?                                        | ['nfts', 'rare', 'buy', 'hunt', 'value']                      |\n",
            "|  3 |       25 |      0 |              6 |       1 | How scared are you of dying?                                                                     | ['lucky', 'miracles', 'dying', 'hell', 'scared']              |\n",
            "|  4 |       26 |      0 |             28 |       2 | How to invest in NFTs?                                                                           | ['nfts', 'nft', 'marketplaces', 'invest', 'market']           |\n",
            "|  5 |       30 |      0 |             10 |       0 | How good/bad should NFT be?                                                                      | ['nft', 'nfts', 'unemployed', 'job', 'talent']                |\n",
            "|  6 |       31 |      0 |              2 |       1 | How do I start?                                                                                  | ['start', 'minting', '3d', 'art', '18']                       |\n",
            "|  7 |       34 |      0 |              3 |       1 | How can an NFT be taken from our wallets?                                                        | ['nft', 'wallets', 'wallet', 'metamask', 'purchased']         |\n",
            "|  8 |       46 |      0 |              5 |       1 | How to connect a physical sculpture to an NFT?                                                   | ['sculpture', 'nft', 'connect', 'link', 'merge']              |\n",
            "|  9 |       59 |      0 |              2 |       1 | How much are the total OpenSea startup costs + How much ETH should I buy?                        | ['opensea', 'costs', 'startup', 'fees', 'fee']                |\n",
            "| 10 |       61 |      0 |              3 |       1 | How do you guys deal with people hating on you for doing NFTs?                                   | ['hating', 'hate', 'nfts', 'artists', 'everytime']            |\n",
            "| 11 |       68 |      0 |             10 |       1 | How have you done in the NFT world?                                                              | ['nft', 'world', 'view', 'poll']                              |\n",
            "| 12 |       69 |      0 |              2 |       1 | How to build an NFT project?                                                                     | ['nft', 'build', 'projects', 'create', 'skills']              |\n",
            "| 13 |       71 |      0 |             10 |       1 | Ideally...how much ETH do you have to purchase on Coinbase to get started on sites like opensea? | ['coinbase', 'opensea', 'purchase', 'sites', 'art']           |\n",
            "| 14 |       77 |      0 |              2 |       1 | How to give away NFTs?                                                                           | ['nfts', 'rarible', 'create', 'simple', 'want']               |\n",
            "| 15 |       80 |      0 |              2 |       1 | How do I turn my viral meme into an NFT?                                                         | ['nft', 'currencies', 'crypto', 'meme', 'hat']                |\n",
            "| 16 |       89 |      0 |              2 |       1 | How do nft pack drops work on Topps?                                                             | ['nft', 'topps', 'mlb', 'card', 'pack']                       |\n",
            "| 17 |       90 |      0 |              4 |       1 | Anybody here know how to get in on the topps MLB NFT drop tonight?                               | ['mlb', 'nft', 'nfts', 'topps', 'drop']                       |\n",
            "| 18 |       93 |      0 |              4 |       1 | How do projects like Chubbies set token metadata after selling the NFTs?                         | ['nfts', 'metadata', 'transaction', 'chubbies', 'token']      |\n",
            "| 19 |       95 |      0 |              5 |       1 | How do I manage my NFT collection?                                                               | ['nft', 'collection', 'collectors', 'platforms', 'manage']    |\n",
            "| 20 |       97 |      0 |              2 |       1 | How Do I Turn My Tweets/Images/Videos Into NFTs?                                                 | ['nfts', 'tweets', 'videos', 'digital', 'images']             |\n",
            "| 21 |      101 |      0 |              3 |       1 | How do I do it?                                                                                  | ['fancy', 'make', 'drawing', 'nfts', 'want']                  |\n",
            "| 22 |      102 |      0 |              3 |       1 | How do you guys buy NFTs?                                                                        | ['wallets', 'nfts', 'scamming', 'buy', 'peoples']             |\n",
            "| 23 |      103 |      0 |              2 |       1 | How to search transaction history of a particular NFT?                                           | ['nft', 'etherscan', 'search', 'transaction', 'bar']          |\n",
            "| 24 |      105 |      0 |              2 |       1 | New to NFTs. Any advice on how best to promote these? THANKS!                                    | ['nfts', 'promote', 'designs', 'suggestions', 'price']        |\n",
            "| 25 |      110 |      0 |              9 |       1 | HOW DO THESE PEOPLE UPLOAD 1000+ NFTs???                                                         | ['collections', '1000', 'minting', 'nfts', 'nft']             |\n",
            "| 26 |      111 |      0 |              3 |       1 | Collectors How do you show off your NFTs?                                                        | ['nfts', 'collectors', 'collection', 'display', 'game']       |\n",
            "| 27 |      112 |      0 |              7 |       1 | How to create/transfer an NFT without an exchange?                                               | ['crypto', 'cryptocurrency', 'bitcoin', 'nft', 'nfts']        |\n",
            "| 28 |      120 |      0 |              6 |       1 | How does a large file size work on an 8MB block?                                                 | ['size', '8mb', 'large', '720', 'stored']                     |\n",
            "| 29 |      121 |      0 |              2 |       1 | How do you find your collectors? And collectors how do you find your fav NFT?                    | ['collectors', 'nft', 'fav', 'help', 'business']              |\n",
            "| 30 |      122 |      0 |              8 |       1 | How to promote your NFTs??                                                                       | ['nfts', 'self', 'effort', 'hurdle', 'want']                  |\n",
            "| 31 |      124 |      0 |              2 |       1 | How to know he NFT technology?                                                                   | ['nft', 'technical', 'technology', 'know', 'thanks']          |\n",
            "| 32 |      134 |      0 |              2 |       1 | New NFT! Please tell me how I did?                                                               | ['nfts', 'nft', 'feedback', 'new', 'guys']                    |\n",
            "| 33 |      139 |      0 |              4 |       1 | How to invest??                                                                                  | ['nft', 'investing', 'invest', 'blockchain', 'art']           |\n",
            "| 34 |      145 |      0 |              2 |       1 | How they manage the 10000nft collection??                                                        | ['nft', '10000nft', 'collections', 'collection', 'metadata']  |\n",
            "| 35 |      148 |      0 |              2 |       1 | How do I run a NFT Airdrop?                                                                      | ['airdrop', 'nft', 'cards', 'addresses', 'gas']               |\n",
            "| 36 |      152 |      0 |              6 |       1 | How to get my NFT I bought?                                                                      | ['nft', 'nfts', 'wallet', 'metamask', 'opensea']              |\n",
            "| 37 |      154 |      0 |              2 |       1 | How come so many NFTs posted here have skulls in them?                                           | ['nfts', 'nft', 'skulls', 'art', 'subreddit']                 |\n",
            "| 38 |      157 |      0 |              9 |       2 | Can someone tell me how NFTs are valuable?                                                       | ['nft', 'nfts', 'valuable', 'lebron', 'video']                |\n",
            "| 39 |      163 |      0 |              3 |       1 | How does Voice Cloning tech work to empower Pizzap VoiceNFT? Created on Plian Blockchain         | ['pizzap', 'blockchain', 'voicenft', 'crosschain', 'cloning'] |\n",
            "| 40 |      168 |      0 |              5 |       1 | How cool would our gaming experience be if gaming companies made an NFT market ?!                | ['nft', 'gaming', 'games', 'trading', 'market']               |\n",
            "| 41 |      169 |      0 |              4 |       1 | How should one go about investing in the NFT space?                                              | ['nfts', 'nft', 'cryptopunks', 'investing', 'gems']           |\n",
            "  Topic Count                 Name\n",
            "1     0    32  0_sell_nfts_buy_nft\n",
            "|    |   docIdx |   prob |   num_comments |   score | title                                                                                                                                                                                                                | keywords                                                 |\n",
            "|---:|---------:|-------:|---------------:|--------:|:---------------------------------------------------------------------------------------------------------------------------------------------------------------------------------------------------------------------|:---------------------------------------------------------|\n",
            "|  0 |        5 |  1     |             28 |       5 | How can I profit from NFTs?                                                                                                                                                                                          | ['nfts', 'crypto', 'cryptocurrency', 'create', 'earn']   |\n",
            "|  1 |       41 |  1     |              4 |       1 | How difficult is it to make profitable NFTs?                                                                                                                                                                         | ['nfts', 'profitable', 'opensea', 'art', 'design']       |\n",
            "|  2 |       78 |  1     |              2 |       1 | HOW TO BUY A HOUSE via NFT?                                                                                                                                                                                          | ['selling', 'nft', 'supply', 'ownership', 'market']      |\n",
            "|  3 |      116 |  1     |              2 |       1 | How To Sell NFT ASAP?                                                                                                                                                                                                | ['nft', 'sell', 'valuable', 'art', 'money']              |\n",
            "|  4 |      137 |  1     |              4 |       1 | Can someone without a fanbase successfully sell an NFT? If so, how?                                                                                                                                                  | ['nft', 'fanbase', 'selling', 'sell', 'popular']         |\n",
            "|  5 |      143 |  1     |              2 |       1 | How to Sell a Domain via NFT?                                                                                                                                                                                        | ['nft', 'domain', 'sell', 'link', 'contract']            |\n",
            "|  6 |      146 |  1     |              4 |       1 | How are NFTs handling the price dip?                                                                                                                                                                                 | ['nfts', 'price', 'crypto', 'fluctuations', 'dip']       |\n",
            "|  7 |      156 |  1     |              2 |       1 | How do people pay crazy price for a NFT?                                                                                                                                                                             | ['nft', 'artists', 'art', 'artist', 'price']             |\n",
            "|  8 |      159 |  1     |              2 |       1 | How do I go about selling physical NFTs?                                                                                                                                                                             | ['nft', 'nfts', 'sell', 'selling', 'digital']            |\n",
            "|  9 |      167 |  1     |             16 |       1 | Tips on how to make money with NFTs?                                                                                                                                                                                 | ['nft', 'nfts', 'money', 'coinmarketcap', 'cryptopunks'] |\n",
            "| 10 |      126 |  0.809 |              2 |       1 | Can somone from Bangladesh sell NFT? If yes then how?                                                                                                                                                                | ['bangladesh', 'somone', 'sell', 'nft', 'yes']           |\n",
            "| 11 |       19 |  0.745 |              4 |       1 | How can I reduce fees for sending an NFT?                                                                                                                                                                            | ['nft', 'fees', 'costs', 'cost', 'prices']               |\n",
            "| 12 |       38 |  0.744 |              3 |       2 | How much success do you have buying and upselling others' NFTs?                                                                                                                                                      | ['nfts', 'buying', 'worth', 'upselling', 'worthwhile']   |\n",
            "| 13 |       96 |  0.744 |              2 |       1 | Just made my first sell, how to convert my ETH into dollars?                                                                                                                                                         | ['dollars', 'nft', 'sold', 'eth', 'sell']                |\n",
            "| 14 |       94 |  0.743 |              3 |       1 | Right today i was reading about Kevin Smith making his last movie as NFT, around the market many other famous people like Deadmau5 are making their own NFT, so how simple people can sell in front of those giants? | ['sell', 'selling', 'nft', 'market', 'invisible']        |\n",
            "| 15 |      165 |  0.739 |              9 |       1 | How much money have you made in the last month selling NFTs?                                                                                                                                                         | ['nfts', 'selling', 'money', 'price', 'question']        |\n",
            "| 16 |      151 |  0.731 |             17 |       2 | How to sell NFTs?                                                                                                                                                                                                    | ['nfts', 'selling', 'sell', 'bidding', 'price']          |\n",
            "| 17 |        1 |  0.722 |              6 |       1 | How to make income from NFTs?                                                                                                                                                                                        | ['nfts', 'nft', 'income', 'profitable', 'worth']         |\n",
            "| 18 |      141 |  0.673 |              5 |       1 | How do I sell an NFT?                                                                                                                                                                                                | ['nft', 'cryptocurrency', 'sell', 'buy', 'title']        |\n",
            "| 19 |       42 |  0.655 |             18 |       1 | How are your NFTs selling?                                                                                                                                                                                           | ['selling', 'nfts', 'sell', 'marketing', 'prices']       |\n",
            "| 20 |      127 |  0.638 |              2 |       1 | How does NFTs are sold on auctions held by Sothebys and Christies??                                                                                                                                                  | ['auctions', 'sothebys', 'nfts', 'sold', 'sell']         |\n",
            "| 21 |       39 |  0.626 |              4 |       1 | How do I get a sale for my NFT?                                                                                                                                                                                      | ['nft', 'sale', 'way', 'best']                           |\n",
            "| 22 |       49 |  0.616 |              7 |       1 | How would you launder money with an NFT?                                                                                                                                                                             | ['nft', 'money', 'cash', 'launder', 'laundering']        |\n",
            "| 23 |      129 |  0.591 |              4 |       1 | How to buy BEEPLE NFT ?                                                                                                                                                                                              | ['beeple', 'purchased', 'purchase', 'price', 'nft']      |\n",
            "| 24 |       79 |  0.586 |              2 |       1 | How much do you think a Jeezy Snowman NFT will sell for?                                                                                                                                                             | ['sells', 'sell', 'snowman', 'jeezy', 'nft']             |\n",
            "| 25 |      113 |  0.572 |              2 |       1 | How to buy NFT? And is AIRNFT LEGIT???                                                                                                                                                                               | ['nft', 'airnft', 'site', 'legit', 'buy']                |\n",
            "| 26 |       40 |  0.566 |              3 |       1 | How much is listing NFTs usually cost?                                                                                                                                                                               | ['nfts', 'prices', 'cost', 'usd', 'sale']                |\n",
            "| 27 |       98 |  0.548 |              7 |       1 | How are secondary sales not like MLM?                                                                                                                                                                                | ['royalties', 'sales', 'sells', 'mlm', 'secondary']      |\n",
            "| 28 |       36 |  0.541 |              4 |       2 | How to Sell a Video Game?                                                                                                                                                                                            | ['games', 'sell', 'game', 'upload', 'platforms']         |\n",
            "| 29 |        7 |  0.537 |              2 |       1 | How can track upcoming nft releases ?                                                                                                                                                                                | ['crypto', 'nft', 'dates', 'collectibles', 'releases']   |\n",
            "| 30 |       99 |  0.529 |              3 |       1 | How to buy NFTs with a cold storage?                                                                                                                                                                                 | ['storages', 'storage', 'cold', 'nfts', 'hot']           |\n",
            "| 31 |      100 |  0.47  |              2 |       1 | How do I listen to an NFT album?                                                                                                                                                                                     | ['nft', 'crypto', 'listen', 'album', 'fiat']             |\n",
            "  Topic Count                      Name\n",
            "2     1    25  1_art_artist_much_afford\n",
            "|    |   docIdx |   prob |   num_comments |   score | title                                                                                                                                                                                            | keywords                                                        |\n",
            "|---:|---------:|-------:|---------------:|--------:|:-------------------------------------------------------------------------------------------------------------------------------------------------------------------------------------------------|:----------------------------------------------------------------|\n",
            "|  0 |        4 |      0 |             23 |       8 | How will we display NFT Art in the future?                                                                                                                                                       | ['nft', 'art', 'display', 'future', 'digital']                  |\n",
            "|  1 |        6 |      0 |              3 |       3 | How do you display your NFT art?                                                                                                                                                                 | ['art', 'nft', 'decorate', 'display', 'displays']               |\n",
            "|  2 |       13 |      0 |              4 |       1 | How to be an NFT artist?                                                                                                                                                                         | ['nft', 'artist', 'course', 'thanks', 'official']               |\n",
            "|  3 |       14 |      0 |              2 |       1 | How to create the art for NFTs?                                                                                                                                                                  | ['nfts', 'create', 'art', 'make', 'gifs']                       |\n",
            "|  4 |       21 |      0 |              2 |       1 | How do I get started on creating digital art NFTs?                                                                                                                                               | ['creating', 'nfts', 'create', 'art', 'digital']                |\n",
            "|  5 |       22 |      0 |              4 |       3 | How do NFT's work as an artist ?                                                                                                                                                                 | ['nft', 'creator', 'artist', 'cryptos', 'artists']              |\n",
            "|  6 |       24 |      0 |              9 |       0 | How much commission is fair for selling NFT art for my friend?                                                                                                                                   | ['nft', 'nfts', 'selling', 'artwork', 'art']                    |\n",
            "|  7 |       29 |      0 |              8 |       3 | How much do you think it's gonna be Beeple's EVERYDAYS?                                                                                                                                          | ['beeple', '5000', 'estimate', 'auctioned', 'everydays']        |\n",
            "|  8 |       37 |      0 |              2 |       1 | How to Sell Art with NFT?                                                                                                                                                                        | ['nft', 'art', 'artist', 'sell', 'work']                        |\n",
            "|  9 |       48 |      0 |              2 |       1 | How do smalltime artists afford to make NFTs?                                                                                                                                                    | ['nft', 'nfts', 'price', 'fees', 'fee']                         |\n",
            "| 10 |       52 |      0 |             10 |       1 | how to promote your NFT art?                                                                                                                                                                     | ['nft', 'nfts', 'art', 'promote', 'artist']                     |\n",
            "| 11 |       66 |      0 |              2 |       1 | Want to link my photos to NFTs and sell them. How?                                                                                                                                               | ['nfts', 'nft', 'crypto', 'link', 'sell']                       |\n",
            "| 12 |       72 |      0 |              4 |       1 | How does WAX compare to other NFT projects?                                                                                                                                                      | ['wax', 'nft', 'compares', 'compare', 'projects']               |\n",
            "| 13 |       86 |      0 |              2 |       1 | A long time ago I had a tweet go viral after it was featured on Jimmy Kimmels Mean Tweets. How do I go about turning that tweet into an NFT and putting it up for auction?                       | ['tweet', 'tweets', 'tweeted', 'twitter', 'nft']                |\n",
            "| 14 |      117 |      0 |              3 |       1 | How much can NFT Art be worth?                                                                                                                                                                   | ['nft', 'nfts', 'artwork', 'art', 'artist']                     |\n",
            "| 15 |      119 |      0 |              3 |       1 | How are NFTs a good deal for anyone but the artist?                                                                                                                                              | ['nft', 'nfts', 'worth', 'money', 'beanie']                     |\n",
            "| 16 |      123 |      0 |              3 |       1 | How to turn physical artworks to nft?                                                                                                                                                            | ['nfts', 'nft', 'paintings', 'artworks', 'painter']             |\n",
            "| 17 |      128 |      0 |              2 |       1 | Help! How do I get my artwork to the homepage of Opensea?                                                                                                                                        | ['artwork', 'opensea', 'illustrations', 'homepage', 'uploaded'] |\n",
            "| 18 |      132 |      0 |              5 |       1 | How much money can you make as an artist selling an NFT if you're not super well known?                                                                                                          | ['nft', 'artist', 'selling', 'sell', 'money']                   |\n",
            "| 19 |      140 |      0 |              4 |       1 | does anyone know how to generate 2d characters like the cyberpunks? because I wanna do it with my own designs but I can't afford to spend all my hours re arranging every mask, hair, body etc.. | ['cyberpunks', 'generate', 'characters', '2d', 'designs']       |\n",
            "| 20 |      147 |      0 |             15 |       1 | I have some ideas, but how do I know if they are original?                                                                                                                                       | ['replicating', 'created', 'exists', 'ideas', 'items']          |\n",
            "| 21 |      155 |      0 |              2 |       1 | How do I make a gif nft using AtomicHub?                                                                                                                                                         | ['gif', 'atomichub', 'video', 'mp4', 'nft']                     |\n",
            "| 22 |      160 |      0 |              3 |       1 | Guys I'm a photographer how can I get into NFT??!                                                                                                                                                | ['photographers', 'photographer', 'nft', 'pictures', 'getting'] |\n",
            "| 23 |      170 |      0 |              2 |       1 | How do you get your art noticed on massive platforms like opensea or just getting it noticed generally?                                                                                          | ['artwork', 'art', 'marketplace', 'marketing', 'platforms']     |\n",
            "| 24 |      172 |      0 |              7 |       1 | DISCUSSION How much will the famous Salvador Dali pieces that were sold on the Genesis Auction that launched the Binance NFT Marketplace be worth in the future?                                 | ['auction', 'sale', 'dali', 'valuation', 'binance']             |\n",
            "  Topic Count                                Name\n",
            "3     2    17  2_work_nfts_understanding_traction\n",
            "|    |   docIdx |   prob |   num_comments |   score | title                                                                       | keywords                                                |\n",
            "|---:|---------:|-------:|---------------:|--------:|:----------------------------------------------------------------------------|:--------------------------------------------------------|\n",
            "|  0 |        3 |  1     |              2 |       0 | How is this NFT?                                                            | ['crypto', 'yeeeaaaahhh', 'money', 'think', 'nft']      |\n",
            "|  1 |       17 |  1     |              8 |       1 | Can someone explain how NFTs work for non functional, reproducible content? | ['nft', 'nfts', 'infinitely', 'reproducible', 'linked'] |\n",
            "|  2 |       76 |  1     |              3 |       1 | Question for the pros How does hatchable NFTs work?                         | ['nfts', 'nft', 'hatchable', 'egg', 'hatch']            |\n",
            "|  3 |       84 |  1     |              2 |       1 | How do NFTs accrue value over time?                                         | ['nft', 'nfts', 'value', 'flipped', 'accrue']           |\n",
            "|  4 |      133 |  1     |             11 |       1 | How are dynamic NFTs being displayed?                                       | ['nfts', 'dynamic', '3d', 'animations', 'async']        |\n",
            "|  5 |      149 |  1     |              2 |       1 | Is my understanding on how NFT values change, inaccurate ?                  | ['nft', 'nfts', 'currencies', 'coins', 'changes']       |\n",
            "|  6 |      142 |  0.578 |              2 |       1 | How does staking NFT's work? Any info appreciated!                          | ['nft', 'staking', 'eth', 'dollars', 'worth']           |\n",
            "|  7 |       27 |  0.491 |              2 |       1 | How would making a textbook as an NFT work?                                 | ['nft', 'textbook', 'copyrights', 'royalties', 'book']  |\n",
            "|  8 |       55 |  0.491 |              8 |       1 | How might this work?                                                        | ['nft', 'ideas', 'resale', 'practical', 'create']       |\n",
            "|  9 |       60 |  0.491 |              8 |       1 | How hard can NFTs be to Understand?                                         | ['nft', 'nfts', 'experty', 'explaining', 'hard']        |\n",
            "| 10 |      144 |  0.412 |              2 |       1 | How does the Void look and sound like?                                      | ['void', 'sound', 'opensea', 'chant', 'file']           |\n",
            "| 11 |      104 |  0.384 |              2 |       1 | How do you say NFT?                                                         | ['pronounce', 'nft', 'say', 'way', 'vote']              |\n",
            "| 12 |       10 |  0.272 |             11 |       1 | How are NFT's displayed?                                                    | ['nft', 'displayed', 'display', 'blockchain', 'image']  |\n",
            "| 13 |      109 |  0.256 |              3 |       1 | How do the sandbox NFTs work?                                               | ['sandbox', 'nft', 'nfts', 'land', 'wallet']            |\n",
            "| 14 |       20 |  0.251 |              5 |       1 | How do I value a NFT?                                                       | ['nft', 'value', 'sold', 'pranksy', 'aftermarket']      |\n",
            "| 15 |       82 |  0.126 |              5 |       1 | How do I get more traction on my NFTs?                                      | ['nfts', 'site', 'traction', 'collectors', 'im']        |\n",
            "| 16 |       11 |  0.115 |              9 |       1 | How to get started with NFTs?                                               | ['nfts', 'beginner', 'started', 'help', 'appreciated']  |\n",
            "  Topic Count                            Name\n",
            "4     3    15  3_mint_mintable_minting_tokens\n",
            "|    |   docIdx |   prob |   num_comments |   score | title                                                                                                         | keywords                                                  |\n",
            "|---:|---------:|-------:|---------------:|--------:|:--------------------------------------------------------------------------------------------------------------|:----------------------------------------------------------|\n",
            "|  0 |       54 |  1     |              4 |       1 | How do I mint 1000 NFTs at once?                                                                              | ['upload', 'bulk', 'nfts', 'nft', '1000']                 |\n",
            "|  1 |       63 |  1     |              7 |       1 | Can someone explain how topshot can mint nfts for so cheap?                                                   | ['mint', 'topshot', 'packs', 'nfts', 'cheap']             |\n",
            "|  2 |       74 |  1     |              5 |       1 | How to mint a few thousand unique NFTs and distribute it to an audience without breaking a bank?              | ['nfts', 'minting', 'distribute', 'thousand', 'mint']     |\n",
            "|  3 |      118 |  1     |              2 |       1 | I got a 1/1 edition NFT commission, trying to figure out how to actally mint it and deliver it to the client? | ['mint', 'edition', 'nft', 'gemini', 'editions']          |\n",
            "|  4 |      131 |  1     |              2 |       1 | How to share my mintable url?                                                                                 | ['mintable', 'minted', 'nfts', 'nft', 'share']            |\n",
            "|  5 |      108 |  0.767 |              4 |       1 | How do I make my tokens downloadable on Mintable?                                                             | ['mintable', 'minted', 'tokens', 'downloadable', 'make']  |\n",
            "|  6 |       50 |  0.627 |              2 |       1 | Gasless Mint how to sell my item?                                                                             | ['mintable', 'minting', 'minted', 'mint', 'sell']         |\n",
            "|  7 |       33 |  0.613 |              2 |       1 | How to check the gas price for minting an NFT?                                                                | ['minting', 'nft', 'mint', 'gas', 'check']                |\n",
            "|  8 |      114 |  0.601 |              2 |       1 | How to mint randomized NFT drops?                                                                             | ['nft', 'nfts', 'randomized', 'cards', 'drops']           |\n",
            "|  9 |       15 |  0.589 |              6 |       1 | How expensive is the minting process on rarible?                                                              | ['minting', 'mint', 'rarible', 'artwork', 'expensive']    |\n",
            "| 10 |       91 |  0.586 |              5 |       1 | How do I mint an NFT but keep the content private?                                                            | ['draft', 'mint', 'private', 'manuscript', 'nft']         |\n",
            "| 11 |      150 |  0.36  |              2 |       1 | HOW TO CREATE NON FUNGIBLE TOKENS?                                                                            | ['blockchain', 'crypto', 'bitcoins', 'bitcoin', 'tokens'] |\n",
            "| 12 |       75 |  0.352 |              8 |       1 | Purchasing an NFT from mintable, how high should the gas limit be?                                            | ['gas', 'mintable', 'nft', 'limit', 'price']              |\n",
            "| 13 |       57 |  0.222 |              2 |       1 | How can NFT change if it is already minted on the blockchain?                                                 | ['nft', 'minted', 'blockchain', 'mint', 'hash']           |\n",
            "| 14 |       81 |  0.184 |              4 |       1 | How to know about the gas fee? I don't understand ETH GAS STATION                                             | ['gwei', 'gas', 'price', 'fee', 'eth']                    |\n",
            "  Topic Count                   Name\n",
            "5     4    11  4_item_make_packs_can\n",
            "|    |   docIdx |   prob |   num_comments |   score | title                                                                                                                                                          | keywords                                            |\n",
            "|---:|---------:|-------:|---------------:|--------:|:---------------------------------------------------------------------------------------------------------------------------------------------------------------|:----------------------------------------------------|\n",
            "|  0 |        8 |  1     |              4 |       1 | How to make NFT packs? Similiar to Pokemon packs.                                                                                                              | ['packs', 'pokemon', 'collectibles', 'nfts', 'nft'] |\n",
            "|  1 |       58 |  1     |              7 |       1 | Can someone show me how to create a NFT for a physical item?                                                                                                   | ['nft', 'teapots', 'teapot', 'minting', 'create']   |\n",
            "|  2 |      130 |  1     |              2 |       1 | How can I make a nft out of a game?                                                                                                                            | ['game', 'nft', 'fees', 'small', 'python']          |\n",
            "|  3 |      158 |  1     |              3 |       1 | I am guitar player how can i make nft?                                                                                                                         | ['nft', 'guitar', 'audio', 'material', 'make']      |\n",
            "|  4 |      161 |  1     |              2 |       1 | How can NFTs make it to console gaming?                                                                                                                        | ['nfts', 'gaming', 'games', 'game', 'worlds']       |\n",
            "|  5 |        2 |  0.618 |             14 |       1 | How can a musician create an NFT for a song?                                                                                                                   | ['nft', 'nfts', 'musicians', 'musician', 'gamer']   |\n",
            "|  6 |       62 |  0.562 |              2 |       1 | How do I create a blind pack system?                                                                                                                           | ['gifs', 'gif', 'collectibles', 'pack', 'create']   |\n",
            "|  7 |       64 |  0.416 |              3 |       1 | Does anyone know of a way to put an NFT on display in your home? Like a hardware wallet/digital picture frame to show off your favorite NFTs? Is this a thing? | ['nft', 'nfts', 'display', 'hardware', 'laptop']    |\n",
            "|  8 |      164 |  0.413 |             16 |       1 | How do you link an NFT to a physical item?                                                                                                                     | ['nft', 'chain', 'item', 'link', 'verification']    |\n",
            "|  9 |       35 |  0.396 |             10 |       1 | How to move an NFT?                                                                                                                                            | ['nfts', 'nft', 'wallets', 'wallet', 'bitski']      |\n",
            "| 10 |       70 |  0.385 |              6 |       1 | How would you go about linking an NFT to a physical item?                                                                                                      | ['nft', 'linking', 'item', 'physical', 'piece']     |\n",
            "  Topic Count                             Name\n",
            "6     5    10  5_copyright_nfts_ownership_copy\n",
            "|    |   docIdx |   prob |   num_comments |   score | title                                                                                                                                                                                                                                                     | keywords                                                    |\n",
            "|---:|---------:|-------:|---------------:|--------:|:----------------------------------------------------------------------------------------------------------------------------------------------------------------------------------------------------------------------------------------------------------|:------------------------------------------------------------|\n",
            "|  0 |        0 |      0 |              3 |       1 | How does copyright/trademark come into NFTs?                                                                                                                                                                                                              | ['nft', 'copyright', 'copyrights', 'nfts', 'trademarked']   |\n",
            "|  1 |        9 |      0 |             10 |       1 | NFT one edition how to be sure the creator won't duplicate it?                                                                                                                                                                                            | ['nft', 'creator', 'unique', 'rarible', 'artwork']          |\n",
            "|  2 |       12 |      0 |             21 |       1 | How does copyright work with respect to NFT?                                                                                                                                                                                                              | ['copyright', 'nft', 'minted', 'creator', 'photoshop']      |\n",
            "|  3 |       44 |      0 |              9 |       1 | How can NFTs stop people from buying art and sharing it for free on the internet via Warez/Torrent/Usenet? It's unclear to me how the NFT mechanism solves this, it's not like people don't buy albums with money before uploading them to The Pirate Bay | ['nft', 'nfts', 'ebay', 'torrent', 'pirate']                |\n",
            "|  4 |       45 |      0 |              2 |       1 | How NFT Certificate Connects to the Digital Art Piece?                                                                                                                                                                                                    | ['nft', 'certificate', 'relates', 'connects', 'link']       |\n",
            "|  5 |       47 |      0 |              7 |       1 | How can people enforce legal ownership? If it is possible via NFT?                                                                                                                                                                                        | ['ownership', 'nft', 'buyer', 'legal', 'royalty']           |\n",
            "|  6 |       56 |      0 |             14 |       1 | How can NFTs be authenticated?                                                                                                                                                                                                                            | ['nfts', 'nft', 'ip', 'authenticated', 'crypto']            |\n",
            "|  7 |       88 |      0 |              2 |       1 | How do IP rights translate to NFTs?                                                                                                                                                                                                                       | ['nfts', 'nft', 'copyrighted', 'google', 'ip']              |\n",
            "|  8 |      106 |      0 |              5 |       1 | How come copyright doesn't replace certificates for nft's?                                                                                                                                                                                                | ['copyrights', 'copyright', 'certificates', 'nft', 'doesn'] |\n",
            "|  9 |      162 |      0 |              6 |       1 | How can we know if a NFT is original or a NFT from a copy, since anyone can registrate?                                                                                                                                                                   | ['nft', 'nfts', 'original', 'created', 'creator']           |\n",
            "  Topic Count                                  Name\n",
            "7     6     7  6_foundation_upvoted_wallet_waitlist\n",
            "|    |   docIdx |   prob |   num_comments |   score | title                                                                                                              | keywords                                                             |\n",
            "|---:|---------:|-------:|---------------:|--------:|:-------------------------------------------------------------------------------------------------------------------|:---------------------------------------------------------------------|\n",
            "|  0 |       32 |      0 |              4 |       5 | How to get accepted as a creator in Foundation?                                                                    | ['foundation', 'creator', 'artworks', 'invited', 'accepted']         |\n",
            "|  1 |       67 |      0 |              4 |       1 | How do I respond to Environmentalists?                                                                             | ['environmentalists', 'nfts', 'environmental', 'comments', 'mining'] |\n",
            "|  2 |       83 |      0 |              3 |       1 | How can I change my foundation wallet?                                                                             | ['wallet', 'change', 'foundation', 'money', 'scammed']               |\n",
            "|  3 |      107 |      0 |             12 |       1 | How hard is it to get upvoted in Foundation's Community Upvote?                                                    | ['upvoted', 'upvote', 'foundation', 'accepted', 'signed']            |\n",
            "|  4 |      115 |      0 |              2 |       1 | How to get invited as creator on Foundation?                                                                       | ['creator', 'foundation', 'invited', 'instagram', 'profile']         |\n",
            "|  5 |      153 |      0 |              2 |       1 | How long is Foundation waitlist?                                                                                   | ['waitlist', 'foundation', 'wait', 'campaign', 'profile']            |\n",
            "|  6 |      166 |      0 |              2 |       1 | Looking for insight until how long I can expect to wait after applying to NiftyGateway to hear anything from them? | ['niftygateway', 'nft', 'exploring', 'started', 'insight']           |\n",
            "  Topic Count                              Name\n",
            "8     7     7  7_crypto_rarible_gift_unlockable\n",
            "|    |   docIdx |   prob |   num_comments |   score | title                                                                                          | keywords                                                            |\n",
            "|---:|---------:|-------:|---------------:|--------:|:-----------------------------------------------------------------------------------------------|:--------------------------------------------------------------------|\n",
            "|  0 |       28 |      0 |              6 |       5 | How a non digital artist and that is not in crypto yet, could benefit from NFTs golden moment? | ['crypto', 'nfts', 'artist', 'creations', 'digital']                |\n",
            "|  1 |       51 |      0 |              3 |       1 | How to use unlockable content on Rarible?                                                      | ['rarible', 'unlockable', 'digital', 'thumbnail', 'dropbox']        |\n",
            "|  2 |       53 |      0 |              4 |       1 | How to cancel a bid on Rarible?                                                                | ['rarible', 'bid', 'cancel', 'nft', 'help']                         |\n",
            "|  3 |       65 |      0 |              9 |       1 | future sustainability of crypto How can adoption be driven ?                                   | ['crypto', 'blockchain', 'blockchains', 'future', 'sustainability'] |\n",
            "|  4 |       73 |      0 |              2 |       1 | How to give a gift related to crypto? NFT?                                                     | ['crypto', 'nft', 'gift', 'coinbase', 'cashed']                     |\n",
            "|  5 |       85 |      0 |              3 |       1 | How long does it take to get verified on rarible?                                              | ['verified', 'rarible', 'verification', 'emailed', 'received']      |\n",
            "|  6 |      136 |      0 |              6 |       1 | How do you think the crypto crash will affect the NFT space?                                   | ['crypto', 'predictions', 'nft', 'crash', 'affect']                 |\n",
            "  Topic Count                                Name\n",
            "9     8     7  8_marketplace_opensea_build_launch\n",
            "|    |   docIdx |   prob |   num_comments |   score | title                                               | keywords                                           |\n",
            "|---:|---------:|-------:|---------------:|--------:|:----------------------------------------------------|:---------------------------------------------------|\n",
            "|  0 |       43 |      0 |              2 |       1 | How to sell NFT from Nifty Gateway to OpenSea?      | ['opensea', 'nft', 'opened', 'linked', 'nifty']    |\n",
            "|  1 |       87 |      0 |              3 |       1 | How does one start an NFT marketplace like opensea? | ['nft', 'nfts', 'opensea', 'start', 'marketplace'] |\n",
            "|  2 |       92 |      0 |              4 |       1 | How do I get traffic to my Opensea NFT collection?  | ['opensea', 'nft', 'traffic', 'selling', 'online'] |\n",
            "|  3 |      125 |      0 |              4 |       1 | Anyone know how to create an NFT and market it?     | ['nfts', 'nft', 'create', 'pizzas', 'crypto']      |\n",
            "|  4 |      135 |      0 |              5 |       1 | How to Build an NFT Marketplace?                    | ['nft', 'marketplace', 'build', 'start', 'cost']   |\n",
            "|  5 |      138 |      0 |              2 |       1 | How to Build an NFT Marketplace?                    | ['nft', 'marketplace', 'build', 'start', 'cost']   |\n",
            "|  6 |      171 |      0 |              2 |       1 | How to launch NFT project on your own website?      | ['nft', 'nfts', 'website', 'launch', 'site']       |\n"
          ],
          "name": "stdout"
        }
      ]
    },
    {
      "cell_type": "code",
      "metadata": {
        "colab": {
          "base_uri": "https://localhost:8080/",
          "height": 467
        },
        "id": "w-n1lFO3Canc",
        "outputId": "42ab0e2e-317b-40bc-b5a0-699f70a3b83d"
      },
      "source": [
        "topics_over_time = topic_model.topics_over_time(df_selection['title'], topics, df_selection['created_utc'], nr_bins=20)\n",
        "topic_model.visualize_topics_over_time(topics_over_time, top_n_topics=10)"
      ],
      "execution_count": 20,
      "outputs": [
        {
          "output_type": "display_data",
          "data": {
            "text/html": [
              "<html>\n",
              "<head><meta charset=\"utf-8\" /></head>\n",
              "<body>\n",
              "    <div>            <script src=\"https://cdnjs.cloudflare.com/ajax/libs/mathjax/2.7.5/MathJax.js?config=TeX-AMS-MML_SVG\"></script><script type=\"text/javascript\">if (window.MathJax) {MathJax.Hub.Config({SVG: {font: \"STIX-Web\"}});}</script>                <script type=\"text/javascript\">window.PlotlyConfig = {MathJaxConfig: 'local'};</script>\n",
              "        <script src=\"https://cdn.plot.ly/plotly-latest.min.js\"></script>                <div id=\"362e8a88-bff9-4c0d-98d0-c5742064ad13\" class=\"plotly-graph-div\" style=\"height:450px; width:1250px;\"></div>            <script type=\"text/javascript\">                                    window.PLOTLYENV=window.PLOTLYENV || {};                                    if (document.getElementById(\"362e8a88-bff9-4c0d-98d0-c5742064ad13\")) {                    Plotly.newPlot(                        \"362e8a88-bff9-4c0d-98d0-c5742064ad13\",                        [{\"hoverinfo\": \"text\", \"hovertext\": [\"<b>Topic 5</b><br>Words: copyrighttrademark, nfts, copyright, authenticated, bay\", \"<b>Topic 5</b><br>Words: duplicate, respect, copyright, creator, be\", \"<b>Topic 5</b><br>Words: pirate, albums, wareztorrentusenet, sharing, bay\", \"<b>Topic 5</b><br>Words: authenticated, can, nfts, copyright, copy\", \"<b>Topic 5</b><br>Words: ip, rights, nfts, copyright, connects\", \"<b>Topic 5</b><br>Words: doesnt, certificates, replace, copyright, nfts\", \"<b>Topic 5</b><br>Words: copy, registrate, original, nft, copyright\"], \"marker\": {\"color\": \"#E69F00\"}, \"mode\": \"lines\", \"name\": \"5_copyright_nfts_ownership_copy\", \"type\": \"scatter\", \"x\": [1602990220.365, 1612175380.0, 1614465943.5, 1616756507.0, 1617901788.75, 1619047070.5, 1624773479.25], \"y\": [1, 2, 3, 1, 1, 1, 1]}, {\"hoverinfo\": \"text\", \"hovertext\": [\"<b>Topic 0</b><br>Words: income, make, nfts, sell, nft\", \"<b>Topic 0</b><br>Words: track, profit, nfts, nft, sell\", \"<b>Topic 0</b><br>Words: fees, reduce, nft, sell, nfts\", \"<b>Topic 0</b><br>Words: nfts, sell, sale, difficult, profitable\", \"<b>Topic 0</b><br>Words: snowman, think, will, buy, sell\", \"<b>Topic 0</b><br>Words: sell, buy, sales, kevin, smith\", \"<b>Topic 0</b><br>Words: sell, airnft, somone, sothebys, bangladesh\", \"<b>Topic 0</b><br>Words: sell, fanbase, without, nft, nfts\", \"<b>Topic 0</b><br>Words: handling, dip, domain, price, sell\", \"<b>Topic 0</b><br>Words: pay, price, selling, sell, nfts\", \"<b>Topic 0</b><br>Words: money, selling, make, much, nfts\"], \"marker\": {\"color\": \"#56B4E9\"}, \"mode\": \"lines\", \"name\": \"0_sell_nfts_buy_nft\", \"type\": \"scatter\", \"x\": [1606448971.25, 1612175380.0, 1613320661.75, 1614465943.5, 1617901788.75, 1619047070.5, 1620192352.25, 1621337634.0, 1622482915.75, 1623628197.5, 1624773479.25], \"y\": [1, 2, 1, 7, 2, 5, 5, 2, 2, 3, 2]}, {\"hoverinfo\": \"text\", \"hovertext\": [\"<b>Topic 4</b><br>Words: can, nft, item, make, packs\", \"<b>Topic 4</b><br>Words: pokemon, make, nft, item, can\", \"<b>Topic 4</b><br>Words: move, nft, item, packs, thing\", \"<b>Topic 4</b><br>Words: item, show, frame, hardware, picture\", \"<b>Topic 4</b><br>Words: game, can, nft, item, packs\", \"<b>Topic 4</b><br>Words: guitar, player, can, nft, item\", \"<b>Topic 4</b><br>Words: console, item, link, gaming, nfts\"], \"marker\": {\"color\": \"#009E73\"}, \"mode\": \"lines\", \"name\": \"4_item_make_packs_can\", \"type\": \"scatter\", \"x\": [1608739534.75, 1612175380.0, 1614465943.5, 1616756507.0, 1621337634.0, 1623628197.5, 1624773479.25], \"y\": [1, 1, 1, 4, 1, 1, 2]}, {\"hoverinfo\": \"text\", \"hovertext\": [\"<b>Topic 1</b><br>Words: display, future, art, nft, artist\", \"<b>Topic 1</b><br>Words: display, art, artist, much, be\", \"<b>Topic 1</b><br>Words: art, artist, creating, fair, commission\", \"<b>Topic 1</b><br>Words: artists, afford, art, make, sell\", \"<b>Topic 1</b><br>Words: promote, art, artist, much, afford\", \"<b>Topic 1</b><br>Words: photos, wax, link, projects, sell\", \"<b>Topic 1</b><br>Words: tweet, up, ago, kimmels, jimmy\", \"<b>Topic 1</b><br>Words: artworks, homepage, help, artwork, art\", \"<b>Topic 1</b><br>Words: artist, my, youre, etc, every\", \"<b>Topic 1</b><br>Words: some, ideas, original, they, have\", \"<b>Topic 1</b><br>Words: gif, atomichub, nft, art, artist\", \"<b>Topic 1</b><br>Words: art, auction, salvador, genesis, dali\"], \"marker\": {\"color\": \"#F0E442\"}, \"mode\": \"lines\", \"name\": \"1_art_artist_much_afford\", \"type\": \"scatter\", \"x\": [1611030098.25, 1612175380.0, 1613320661.75, 1614465943.5, 1615611225.25, 1616756507.0, 1617901788.75, 1620192352.25, 1621337634.0, 1622482915.75, 1623628197.5, 1624773479.25], \"y\": [1, 1, 6, 2, 1, 2, 1, 4, 2, 1, 1, 3]}, {\"hoverinfo\": \"text\", \"hovertext\": [\"<b>Topic 2</b><br>Words: nft, work, nfts, understanding, void\", \"<b>Topic 2</b><br>Words: started, nfts, work, value, traction\", \"<b>Topic 2</b><br>Words: work, functional, reproducible, textbook, explain\", \"<b>Topic 2</b><br>Words: work, might, pros, understand, hard\", \"<b>Topic 2</b><br>Words: more, traction, nfts, work, staking\", \"<b>Topic 2</b><br>Words: sandbox, work, nfts, nft, does\", \"<b>Topic 2</b><br>Words: dynamic, nfts, value, pros, traction\", \"<b>Topic 2</b><br>Words: work, staking, inaccurate, values, understanding\"], \"marker\": {\"color\": \"#D55E00\"}, \"mode\": \"lines\", \"name\": \"2_work_nfts_understanding_traction\", \"type\": \"scatter\", \"x\": [1611030098.25, 1612175380.0, 1613320661.75, 1616756507.0, 1617901788.75, 1619047070.5, 1621337634.0, 1622482915.75], \"y\": [1, 2, 3, 3, 2, 2, 1, 3]}, {\"hoverinfo\": \"text\", \"hovertext\": [\"<b>Topic 3</b><br>Words: expensive, minting, rarible, mint, mintable\", \"<b>Topic 3</b><br>Words: gasless, check, minting, mint, gas\", \"<b>Topic 3</b><br>Words: 1000, mint, nfts, mintable, tokens\", \"<b>Topic 3</b><br>Words: mint, mintable, thousand, cheap, bank\", \"<b>Topic 3</b><br>Words: gas, fee, mint, mintable, tokens\", \"<b>Topic 3</b><br>Words: private, downloadable, mint, tokens, mintable\", \"<b>Topic 3</b><br>Words: mint, client, randomized, commission, drops\", \"<b>Topic 3</b><br>Words: share, mintable, mint, minting, tokens\", \"<b>Topic 3</b><br>Words: tokens, mint, mintable, minting, minted\"], \"marker\": {\"color\": \"#0072B2\"}, \"mode\": \"lines\", \"name\": \"3_mint_mintable_minting_tokens\", \"type\": \"scatter\", \"x\": [1613320661.75, 1614465943.5, 1615611225.25, 1616756507.0, 1617901788.75, 1619047070.5, 1620192352.25, 1621337634.0, 1622482915.75], \"y\": [1, 2, 1, 4, 1, 2, 2, 1, 1]}, {\"hoverinfo\": \"text\", \"hovertext\": [\"<b>Topic 6</b><br>Words: accepted, foundation, upvoted, wallet, waitlist\", \"<b>Topic 6</b><br>Words: environmentalists, foundation, waitlist, upvoted, foundations\", \"<b>Topic 6</b><br>Words: wallet, foundation, change, waitlist, upvoted\", \"<b>Topic 6</b><br>Words: upvoted, foundations, upvote, community, foundation\", \"<b>Topic 6</b><br>Words: invited, foundation, upvoted, waitlist, foundations\", \"<b>Topic 6</b><br>Words: waitlist, foundation, upvoted, wallet, foundations\", \"<b>Topic 6</b><br>Words: wait, until, foundation, community, foundations\"], \"marker\": {\"color\": \"#CC79A7\"}, \"mode\": \"lines\", \"name\": \"6_foundation_upvoted_wallet_waitlist\", \"type\": \"scatter\", \"x\": [1613320661.75, 1616756507.0, 1617901788.75, 1619047070.5, 1620192352.25, 1623628197.5, 1624773479.25], \"y\": [1, 1, 1, 1, 1, 1, 1]}, {\"hoverinfo\": \"text\", \"hovertext\": [\"<b>Topic 7</b><br>Words: crypto, could, benefit, golden, digital\", \"<b>Topic 7</b><br>Words: unlockable, rarible, crypto, benefit, gift\", \"<b>Topic 7</b><br>Words: cancel, bid, rarible, crypto, unlockable\", \"<b>Topic 7</b><br>Words: crypto, gift, sustainability, give, future\", \"<b>Topic 7</b><br>Words: verified, rarible, crypto, unlockable, benefit\", \"<b>Topic 7</b><br>Words: crypto, will, rarible, nft, unlockable\"], \"marker\": {\"color\": \"#E69F00\"}, \"mode\": \"lines\", \"name\": \"7_crypto_rarible_gift_unlockable\", \"type\": \"scatter\", \"x\": [1613320661.75, 1614465943.5, 1615611225.25, 1616756507.0, 1617901788.75, 1621337634.0], \"y\": [1, 1, 1, 2, 1, 1]}, {\"hoverinfo\": \"text\", \"hovertext\": [\"<b>Topic 8</b><br>Words: gateway, nifty, opensea, marketplace, nft\", \"<b>Topic 8</b><br>Words: marketplace, start, opensea, nft, build\", \"<b>Topic 8</b><br>Words: opensea, marketplace, nft, website, nifty\", \"<b>Topic 8</b><br>Words: market, create, marketplace, opensea, nft\", \"<b>Topic 8</b><br>Words: build, marketplace, nft, opensea, launch\", \"<b>Topic 8</b><br>Words: launch, website, marketplace, opensea, build\"], \"marker\": {\"color\": \"#56B4E9\"}, \"mode\": \"lines\", \"name\": \"8_marketplace_opensea_build_launch\", \"type\": \"scatter\", \"x\": [1614465943.5, 1617901788.75, 1619047070.5, 1620192352.25, 1621337634.0, 1624773479.25], \"y\": [1, 1, 1, 1, 2, 1]}],                        {\"height\": 450, \"hoverlabel\": {\"bgcolor\": \"white\", \"font\": {\"family\": \"Rockwell\", \"size\": 16}}, \"legend\": {\"title\": {\"text\": \"<b>Global Topic Representation\"}}, \"template\": {\"data\": {\"bar\": [{\"error_x\": {\"color\": \"rgb(36,36,36)\"}, \"error_y\": {\"color\": \"rgb(36,36,36)\"}, \"marker\": {\"line\": {\"color\": \"white\", \"width\": 0.5}}, \"type\": \"bar\"}], \"barpolar\": [{\"marker\": {\"line\": {\"color\": \"white\", \"width\": 0.5}}, \"type\": \"barpolar\"}], \"carpet\": [{\"aaxis\": {\"endlinecolor\": \"rgb(36,36,36)\", \"gridcolor\": \"white\", \"linecolor\": \"white\", \"minorgridcolor\": \"white\", \"startlinecolor\": \"rgb(36,36,36)\"}, \"baxis\": {\"endlinecolor\": \"rgb(36,36,36)\", \"gridcolor\": \"white\", \"linecolor\": \"white\", \"minorgridcolor\": \"white\", \"startlinecolor\": \"rgb(36,36,36)\"}, \"type\": \"carpet\"}], \"choropleth\": [{\"colorbar\": {\"outlinewidth\": 1, \"tickcolor\": \"rgb(36,36,36)\", \"ticks\": \"outside\"}, \"type\": \"choropleth\"}], \"contour\": [{\"colorbar\": {\"outlinewidth\": 1, \"tickcolor\": \"rgb(36,36,36)\", \"ticks\": \"outside\"}, \"colorscale\": [[0.0, \"#440154\"], [0.1111111111111111, \"#482878\"], [0.2222222222222222, \"#3e4989\"], [0.3333333333333333, \"#31688e\"], [0.4444444444444444, \"#26828e\"], [0.5555555555555556, \"#1f9e89\"], [0.6666666666666666, \"#35b779\"], [0.7777777777777778, \"#6ece58\"], [0.8888888888888888, \"#b5de2b\"], [1.0, \"#fde725\"]], \"type\": \"contour\"}], \"contourcarpet\": [{\"colorbar\": {\"outlinewidth\": 1, \"tickcolor\": \"rgb(36,36,36)\", \"ticks\": \"outside\"}, \"type\": \"contourcarpet\"}], \"heatmap\": [{\"colorbar\": {\"outlinewidth\": 1, \"tickcolor\": \"rgb(36,36,36)\", \"ticks\": \"outside\"}, \"colorscale\": [[0.0, \"#440154\"], [0.1111111111111111, \"#482878\"], [0.2222222222222222, \"#3e4989\"], [0.3333333333333333, \"#31688e\"], [0.4444444444444444, \"#26828e\"], [0.5555555555555556, \"#1f9e89\"], [0.6666666666666666, \"#35b779\"], [0.7777777777777778, \"#6ece58\"], [0.8888888888888888, \"#b5de2b\"], [1.0, \"#fde725\"]], \"type\": \"heatmap\"}], \"heatmapgl\": [{\"colorbar\": {\"outlinewidth\": 1, \"tickcolor\": \"rgb(36,36,36)\", \"ticks\": \"outside\"}, \"colorscale\": [[0.0, \"#440154\"], [0.1111111111111111, \"#482878\"], [0.2222222222222222, \"#3e4989\"], [0.3333333333333333, \"#31688e\"], [0.4444444444444444, \"#26828e\"], [0.5555555555555556, \"#1f9e89\"], [0.6666666666666666, \"#35b779\"], [0.7777777777777778, \"#6ece58\"], [0.8888888888888888, \"#b5de2b\"], [1.0, \"#fde725\"]], \"type\": \"heatmapgl\"}], \"histogram\": [{\"marker\": {\"line\": {\"color\": \"white\", \"width\": 0.6}}, \"type\": \"histogram\"}], \"histogram2d\": [{\"colorbar\": {\"outlinewidth\": 1, \"tickcolor\": \"rgb(36,36,36)\", \"ticks\": \"outside\"}, \"colorscale\": [[0.0, \"#440154\"], [0.1111111111111111, \"#482878\"], [0.2222222222222222, \"#3e4989\"], [0.3333333333333333, \"#31688e\"], [0.4444444444444444, \"#26828e\"], [0.5555555555555556, \"#1f9e89\"], [0.6666666666666666, \"#35b779\"], [0.7777777777777778, \"#6ece58\"], [0.8888888888888888, \"#b5de2b\"], [1.0, \"#fde725\"]], \"type\": \"histogram2d\"}], \"histogram2dcontour\": [{\"colorbar\": {\"outlinewidth\": 1, \"tickcolor\": \"rgb(36,36,36)\", \"ticks\": \"outside\"}, \"colorscale\": [[0.0, \"#440154\"], [0.1111111111111111, \"#482878\"], [0.2222222222222222, \"#3e4989\"], [0.3333333333333333, \"#31688e\"], [0.4444444444444444, \"#26828e\"], [0.5555555555555556, \"#1f9e89\"], [0.6666666666666666, \"#35b779\"], [0.7777777777777778, \"#6ece58\"], [0.8888888888888888, \"#b5de2b\"], [1.0, \"#fde725\"]], \"type\": \"histogram2dcontour\"}], \"mesh3d\": [{\"colorbar\": {\"outlinewidth\": 1, \"tickcolor\": \"rgb(36,36,36)\", \"ticks\": \"outside\"}, \"type\": \"mesh3d\"}], \"parcoords\": [{\"line\": {\"colorbar\": {\"outlinewidth\": 1, \"tickcolor\": \"rgb(36,36,36)\", \"ticks\": \"outside\"}}, \"type\": \"parcoords\"}], \"pie\": [{\"automargin\": true, \"type\": \"pie\"}], \"scatter\": [{\"marker\": {\"colorbar\": {\"outlinewidth\": 1, \"tickcolor\": \"rgb(36,36,36)\", \"ticks\": \"outside\"}}, \"type\": \"scatter\"}], \"scatter3d\": [{\"line\": {\"colorbar\": {\"outlinewidth\": 1, \"tickcolor\": \"rgb(36,36,36)\", \"ticks\": \"outside\"}}, \"marker\": {\"colorbar\": {\"outlinewidth\": 1, \"tickcolor\": \"rgb(36,36,36)\", \"ticks\": \"outside\"}}, \"type\": \"scatter3d\"}], \"scattercarpet\": [{\"marker\": {\"colorbar\": {\"outlinewidth\": 1, \"tickcolor\": \"rgb(36,36,36)\", \"ticks\": \"outside\"}}, \"type\": \"scattercarpet\"}], \"scattergeo\": [{\"marker\": {\"colorbar\": {\"outlinewidth\": 1, \"tickcolor\": \"rgb(36,36,36)\", \"ticks\": \"outside\"}}, \"type\": \"scattergeo\"}], \"scattergl\": [{\"marker\": {\"colorbar\": {\"outlinewidth\": 1, \"tickcolor\": \"rgb(36,36,36)\", \"ticks\": \"outside\"}}, \"type\": \"scattergl\"}], \"scattermapbox\": [{\"marker\": {\"colorbar\": {\"outlinewidth\": 1, \"tickcolor\": \"rgb(36,36,36)\", \"ticks\": \"outside\"}}, \"type\": \"scattermapbox\"}], \"scatterpolar\": [{\"marker\": {\"colorbar\": {\"outlinewidth\": 1, \"tickcolor\": \"rgb(36,36,36)\", \"ticks\": \"outside\"}}, \"type\": \"scatterpolar\"}], \"scatterpolargl\": [{\"marker\": {\"colorbar\": {\"outlinewidth\": 1, \"tickcolor\": \"rgb(36,36,36)\", \"ticks\": \"outside\"}}, \"type\": \"scatterpolargl\"}], \"scatterternary\": [{\"marker\": {\"colorbar\": {\"outlinewidth\": 1, \"tickcolor\": \"rgb(36,36,36)\", \"ticks\": \"outside\"}}, \"type\": \"scatterternary\"}], \"surface\": [{\"colorbar\": {\"outlinewidth\": 1, \"tickcolor\": \"rgb(36,36,36)\", \"ticks\": \"outside\"}, \"colorscale\": [[0.0, \"#440154\"], [0.1111111111111111, \"#482878\"], [0.2222222222222222, \"#3e4989\"], [0.3333333333333333, \"#31688e\"], [0.4444444444444444, \"#26828e\"], [0.5555555555555556, \"#1f9e89\"], [0.6666666666666666, \"#35b779\"], [0.7777777777777778, \"#6ece58\"], [0.8888888888888888, \"#b5de2b\"], [1.0, \"#fde725\"]], \"type\": \"surface\"}], \"table\": [{\"cells\": {\"fill\": {\"color\": \"rgb(237,237,237)\"}, \"line\": {\"color\": \"white\"}}, \"header\": {\"fill\": {\"color\": \"rgb(217,217,217)\"}, \"line\": {\"color\": \"white\"}}, \"type\": \"table\"}]}, \"layout\": {\"annotationdefaults\": {\"arrowhead\": 0, \"arrowwidth\": 1}, \"autotypenumbers\": \"strict\", \"coloraxis\": {\"colorbar\": {\"outlinewidth\": 1, \"tickcolor\": \"rgb(36,36,36)\", \"ticks\": \"outside\"}}, \"colorscale\": {\"diverging\": [[0.0, \"rgb(103,0,31)\"], [0.1, \"rgb(178,24,43)\"], [0.2, \"rgb(214,96,77)\"], [0.3, \"rgb(244,165,130)\"], [0.4, \"rgb(253,219,199)\"], [0.5, \"rgb(247,247,247)\"], [0.6, \"rgb(209,229,240)\"], [0.7, \"rgb(146,197,222)\"], [0.8, \"rgb(67,147,195)\"], [0.9, \"rgb(33,102,172)\"], [1.0, \"rgb(5,48,97)\"]], \"sequential\": [[0.0, \"#440154\"], [0.1111111111111111, \"#482878\"], [0.2222222222222222, \"#3e4989\"], [0.3333333333333333, \"#31688e\"], [0.4444444444444444, \"#26828e\"], [0.5555555555555556, \"#1f9e89\"], [0.6666666666666666, \"#35b779\"], [0.7777777777777778, \"#6ece58\"], [0.8888888888888888, \"#b5de2b\"], [1.0, \"#fde725\"]], \"sequentialminus\": [[0.0, \"#440154\"], [0.1111111111111111, \"#482878\"], [0.2222222222222222, \"#3e4989\"], [0.3333333333333333, \"#31688e\"], [0.4444444444444444, \"#26828e\"], [0.5555555555555556, \"#1f9e89\"], [0.6666666666666666, \"#35b779\"], [0.7777777777777778, \"#6ece58\"], [0.8888888888888888, \"#b5de2b\"], [1.0, \"#fde725\"]]}, \"colorway\": [\"#1F77B4\", \"#FF7F0E\", \"#2CA02C\", \"#D62728\", \"#9467BD\", \"#8C564B\", \"#E377C2\", \"#7F7F7F\", \"#BCBD22\", \"#17BECF\"], \"font\": {\"color\": \"rgb(36,36,36)\"}, \"geo\": {\"bgcolor\": \"white\", \"lakecolor\": \"white\", \"landcolor\": \"white\", \"showlakes\": true, \"showland\": true, \"subunitcolor\": \"white\"}, \"hoverlabel\": {\"align\": \"left\"}, \"hovermode\": \"closest\", \"mapbox\": {\"style\": \"light\"}, \"paper_bgcolor\": \"white\", \"plot_bgcolor\": \"white\", \"polar\": {\"angularaxis\": {\"gridcolor\": \"rgb(232,232,232)\", \"linecolor\": \"rgb(36,36,36)\", \"showgrid\": false, \"showline\": true, \"ticks\": \"outside\"}, \"bgcolor\": \"white\", \"radialaxis\": {\"gridcolor\": \"rgb(232,232,232)\", \"linecolor\": \"rgb(36,36,36)\", \"showgrid\": false, \"showline\": true, \"ticks\": \"outside\"}}, \"scene\": {\"xaxis\": {\"backgroundcolor\": \"white\", \"gridcolor\": \"rgb(232,232,232)\", \"gridwidth\": 2, \"linecolor\": \"rgb(36,36,36)\", \"showbackground\": true, \"showgrid\": false, \"showline\": true, \"ticks\": \"outside\", \"zeroline\": false, \"zerolinecolor\": \"rgb(36,36,36)\"}, \"yaxis\": {\"backgroundcolor\": \"white\", \"gridcolor\": \"rgb(232,232,232)\", \"gridwidth\": 2, \"linecolor\": \"rgb(36,36,36)\", \"showbackground\": true, \"showgrid\": false, \"showline\": true, \"ticks\": \"outside\", \"zeroline\": false, \"zerolinecolor\": \"rgb(36,36,36)\"}, \"zaxis\": {\"backgroundcolor\": \"white\", \"gridcolor\": \"rgb(232,232,232)\", \"gridwidth\": 2, \"linecolor\": \"rgb(36,36,36)\", \"showbackground\": true, \"showgrid\": false, \"showline\": true, \"ticks\": \"outside\", \"zeroline\": false, \"zerolinecolor\": \"rgb(36,36,36)\"}}, \"shapedefaults\": {\"fillcolor\": \"black\", \"line\": {\"width\": 0}, \"opacity\": 0.3}, \"ternary\": {\"aaxis\": {\"gridcolor\": \"rgb(232,232,232)\", \"linecolor\": \"rgb(36,36,36)\", \"showgrid\": false, \"showline\": true, \"ticks\": \"outside\"}, \"baxis\": {\"gridcolor\": \"rgb(232,232,232)\", \"linecolor\": \"rgb(36,36,36)\", \"showgrid\": false, \"showline\": true, \"ticks\": \"outside\"}, \"bgcolor\": \"white\", \"caxis\": {\"gridcolor\": \"rgb(232,232,232)\", \"linecolor\": \"rgb(36,36,36)\", \"showgrid\": false, \"showline\": true, \"ticks\": \"outside\"}}, \"title\": {\"x\": 0.05}, \"xaxis\": {\"automargin\": true, \"gridcolor\": \"rgb(232,232,232)\", \"linecolor\": \"rgb(36,36,36)\", \"showgrid\": false, \"showline\": true, \"ticks\": \"outside\", \"title\": {\"standoff\": 15}, \"zeroline\": false, \"zerolinecolor\": \"rgb(36,36,36)\"}, \"yaxis\": {\"automargin\": true, \"gridcolor\": \"rgb(232,232,232)\", \"linecolor\": \"rgb(36,36,36)\", \"showgrid\": false, \"showline\": true, \"ticks\": \"outside\", \"title\": {\"standoff\": 15}, \"zeroline\": false, \"zerolinecolor\": \"rgb(36,36,36)\"}}}, \"title\": {\"font\": {\"color\": \"Black\", \"size\": 22}, \"text\": \"<b>Topics over Time\", \"x\": 0.4, \"xanchor\": \"center\", \"y\": 0.95, \"yanchor\": \"top\"}, \"width\": 1250, \"xaxis\": {\"showgrid\": true}, \"yaxis\": {\"showgrid\": true, \"title\": {\"text\": \"Frequency\"}}},                        {\"responsive\": true}                    ).then(function(){\n",
              "                            \n",
              "var gd = document.getElementById('362e8a88-bff9-4c0d-98d0-c5742064ad13');\n",
              "var x = new MutationObserver(function (mutations, observer) {{\n",
              "        var display = window.getComputedStyle(gd).display;\n",
              "        if (!display || display === 'none') {{\n",
              "            console.log([gd, 'removed!']);\n",
              "            Plotly.purge(gd);\n",
              "            observer.disconnect();\n",
              "        }}\n",
              "}});\n",
              "\n",
              "// Listen for the removal of the full notebook cells\n",
              "var notebookContainer = gd.closest('#notebook-container');\n",
              "if (notebookContainer) {{\n",
              "    x.observe(notebookContainer, {childList: true});\n",
              "}}\n",
              "\n",
              "// Listen for the clearing of the current output cell\n",
              "var outputEl = gd.closest('.output');\n",
              "if (outputEl) {{\n",
              "    x.observe(outputEl, {childList: true});\n",
              "}}\n",
              "\n",
              "                        })                };                            </script>        </div>\n",
              "</body>\n",
              "</html>"
            ]
          },
          "metadata": {
            "tags": []
          }
        }
      ]
    },
    {
      "cell_type": "code",
      "metadata": {
        "id": "QiPjaXEeMys-",
        "colab": {
          "base_uri": "https://localhost:8080/",
          "height": 667
        },
        "outputId": "10f21869-4653-45d8-9c9c-94c7c4b0f108"
      },
      "source": [
        "topic_model.visualize_topics()"
      ],
      "execution_count": 21,
      "outputs": [
        {
          "output_type": "display_data",
          "data": {
            "text/html": [
              "<html>\n",
              "<head><meta charset=\"utf-8\" /></head>\n",
              "<body>\n",
              "    <div>            <script src=\"https://cdnjs.cloudflare.com/ajax/libs/mathjax/2.7.5/MathJax.js?config=TeX-AMS-MML_SVG\"></script><script type=\"text/javascript\">if (window.MathJax) {MathJax.Hub.Config({SVG: {font: \"STIX-Web\"}});}</script>                <script type=\"text/javascript\">window.PlotlyConfig = {MathJaxConfig: 'local'};</script>\n",
              "        <script src=\"https://cdn.plot.ly/plotly-latest.min.js\"></script>                <div id=\"9ec00ce6-5f52-47bc-998c-9188c5775863\" class=\"plotly-graph-div\" style=\"height:650px; width:650px;\"></div>            <script type=\"text/javascript\">                                    window.PLOTLYENV=window.PLOTLYENV || {};                                    if (document.getElementById(\"9ec00ce6-5f52-47bc-998c-9188c5775863\")) {                    Plotly.newPlot(                        \"9ec00ce6-5f52-47bc-998c-9188c5775863\",                        [{\"customdata\": [[12.924379348754883, 9.617932319641113, 0, \"sell | nfts | buy | nft | money\", 32], [12.678990364074707, 9.063725471496582, 1, \"art | artist | much | afford | auction\", 25], [2.3142476081848145, 17.288911819458008, 2, \"work | nfts | understanding | traction | sound\", 17], [2.5924670696258545, 17.01071548461914, 3, \"mint | mintable | minting | tokens | gasless\", 15], [21.465240478515625, 15.4201078414917, 4, \"item | make | packs | can | pokemon\", 11], [13.694262504577637, 9.21664047241211, 5, \"copyright | nfts | ownership | copy | duplicate\", 10], [11.330917358398438, 8.460862159729004, 6, \"foundation | upvoted | wallet | waitlist | foundations\", 7], [11.896583557128906, 8.673638343811035, 7, \"crypto | rarible | gift | unlockable | benefit\", 7], [21.159263610839844, 15.725436210632324, 8, \"marketplace | opensea | build | launch | website\", 7]], \"hovertemplate\": \"<b>Topic %{customdata[2]}</b><br>Words: %{customdata[3]}<br>Size: %{customdata[4]}\", \"legendgroup\": \"\", \"marker\": {\"color\": \"#B0BEC5\", \"line\": {\"color\": \"DarkSlateGrey\", \"width\": 2}, \"size\": [32, 25, 17, 15, 11, 10, 7, 7, 7], \"sizemode\": \"area\", \"sizeref\": 0.02, \"symbol\": \"circle\"}, \"mode\": \"markers\", \"name\": \"\", \"orientation\": \"v\", \"showlegend\": false, \"type\": \"scatter\", \"x\": [12.924379348754883, 12.678990364074707, 2.3142476081848145, 2.5924670696258545, 21.465240478515625, 13.694262504577637, 11.330917358398438, 11.896583557128906, 21.159263610839844], \"xaxis\": \"x\", \"y\": [9.617932319641113, 9.063725471496582, 17.288911819458008, 17.01071548461914, 15.4201078414917, 9.21664047241211, 8.460862159729004, 8.673638343811035, 15.725436210632324], \"yaxis\": \"y\"}],                        {\"annotations\": [{\"showarrow\": false, \"text\": \"D1\", \"x\": 1.9671104669570922, \"y\": 13.53699071407318, \"yshift\": 10}, {\"showarrow\": false, \"text\": \"D2\", \"x\": 13.32606850862503, \"xshift\": 10, \"y\": 19.88224859237671}], \"height\": 650, \"hoverlabel\": {\"bgcolor\": \"white\", \"font\": {\"family\": \"Rockwell\", \"size\": 16}}, \"legend\": {\"itemsizing\": \"constant\", \"tracegroupgap\": 0}, \"margin\": {\"t\": 60}, \"shapes\": [{\"line\": {\"color\": \"#CFD8DC\", \"width\": 2}, \"type\": \"line\", \"x0\": 13.32606850862503, \"x1\": 13.32606850862503, \"y0\": 7.1917328357696535, \"y1\": 19.88224859237671}, {\"line\": {\"color\": \"#9E9E9E\", \"width\": 2}, \"type\": \"line\", \"x0\": 1.9671104669570922, \"x1\": 24.685026550292967, \"y0\": 13.53699071407318, \"y1\": 13.53699071407318}], \"sliders\": [{\"active\": 0, \"pad\": {\"t\": 50}, \"steps\": [{\"args\": [{\"marker.color\": [[\"red\", \"#B0BEC5\", \"#B0BEC5\", \"#B0BEC5\", \"#B0BEC5\", \"#B0BEC5\", \"#B0BEC5\", \"#B0BEC5\", \"#B0BEC5\"]]}], \"label\": \"Topic 0\", \"method\": \"update\"}, {\"args\": [{\"marker.color\": [[\"#B0BEC5\", \"red\", \"#B0BEC5\", \"#B0BEC5\", \"#B0BEC5\", \"#B0BEC5\", \"#B0BEC5\", \"#B0BEC5\", \"#B0BEC5\"]]}], \"label\": \"Topic 1\", \"method\": \"update\"}, {\"args\": [{\"marker.color\": [[\"#B0BEC5\", \"#B0BEC5\", \"red\", \"#B0BEC5\", \"#B0BEC5\", \"#B0BEC5\", \"#B0BEC5\", \"#B0BEC5\", \"#B0BEC5\"]]}], \"label\": \"Topic 2\", \"method\": \"update\"}, {\"args\": [{\"marker.color\": [[\"#B0BEC5\", \"#B0BEC5\", \"#B0BEC5\", \"red\", \"#B0BEC5\", \"#B0BEC5\", \"#B0BEC5\", \"#B0BEC5\", \"#B0BEC5\"]]}], \"label\": \"Topic 3\", \"method\": \"update\"}, {\"args\": [{\"marker.color\": [[\"#B0BEC5\", \"#B0BEC5\", \"#B0BEC5\", \"#B0BEC5\", \"red\", \"#B0BEC5\", \"#B0BEC5\", \"#B0BEC5\", \"#B0BEC5\"]]}], \"label\": \"Topic 4\", \"method\": \"update\"}, {\"args\": [{\"marker.color\": [[\"#B0BEC5\", \"#B0BEC5\", \"#B0BEC5\", \"#B0BEC5\", \"#B0BEC5\", \"red\", \"#B0BEC5\", \"#B0BEC5\", \"#B0BEC5\"]]}], \"label\": \"Topic 5\", \"method\": \"update\"}, {\"args\": [{\"marker.color\": [[\"#B0BEC5\", \"#B0BEC5\", \"#B0BEC5\", \"#B0BEC5\", \"#B0BEC5\", \"#B0BEC5\", \"red\", \"#B0BEC5\", \"#B0BEC5\"]]}], \"label\": \"Topic 6\", \"method\": \"update\"}, {\"args\": [{\"marker.color\": [[\"#B0BEC5\", \"#B0BEC5\", \"#B0BEC5\", \"#B0BEC5\", \"#B0BEC5\", \"#B0BEC5\", \"#B0BEC5\", \"red\", \"#B0BEC5\"]]}], \"label\": \"Topic 7\", \"method\": \"update\"}, {\"args\": [{\"marker.color\": [[\"#B0BEC5\", \"#B0BEC5\", \"#B0BEC5\", \"#B0BEC5\", \"#B0BEC5\", \"#B0BEC5\", \"#B0BEC5\", \"#B0BEC5\", \"red\"]]}], \"label\": \"Topic 8\", \"method\": \"update\"}]}], \"template\": {\"data\": {\"bar\": [{\"error_x\": {\"color\": \"rgb(36,36,36)\"}, \"error_y\": {\"color\": \"rgb(36,36,36)\"}, \"marker\": {\"line\": {\"color\": \"white\", \"width\": 0.5}}, \"type\": \"bar\"}], \"barpolar\": [{\"marker\": {\"line\": {\"color\": \"white\", \"width\": 0.5}}, \"type\": \"barpolar\"}], \"carpet\": [{\"aaxis\": {\"endlinecolor\": \"rgb(36,36,36)\", \"gridcolor\": \"white\", \"linecolor\": \"white\", \"minorgridcolor\": \"white\", \"startlinecolor\": \"rgb(36,36,36)\"}, \"baxis\": {\"endlinecolor\": \"rgb(36,36,36)\", \"gridcolor\": \"white\", \"linecolor\": \"white\", \"minorgridcolor\": \"white\", \"startlinecolor\": \"rgb(36,36,36)\"}, \"type\": \"carpet\"}], \"choropleth\": [{\"colorbar\": {\"outlinewidth\": 1, \"tickcolor\": \"rgb(36,36,36)\", \"ticks\": \"outside\"}, \"type\": \"choropleth\"}], \"contour\": [{\"colorbar\": {\"outlinewidth\": 1, \"tickcolor\": \"rgb(36,36,36)\", \"ticks\": \"outside\"}, \"colorscale\": [[0.0, \"#440154\"], [0.1111111111111111, \"#482878\"], [0.2222222222222222, \"#3e4989\"], [0.3333333333333333, \"#31688e\"], [0.4444444444444444, \"#26828e\"], [0.5555555555555556, \"#1f9e89\"], [0.6666666666666666, \"#35b779\"], [0.7777777777777778, \"#6ece58\"], [0.8888888888888888, \"#b5de2b\"], [1.0, \"#fde725\"]], \"type\": \"contour\"}], \"contourcarpet\": [{\"colorbar\": {\"outlinewidth\": 1, \"tickcolor\": \"rgb(36,36,36)\", \"ticks\": \"outside\"}, \"type\": \"contourcarpet\"}], \"heatmap\": [{\"colorbar\": {\"outlinewidth\": 1, \"tickcolor\": \"rgb(36,36,36)\", \"ticks\": \"outside\"}, \"colorscale\": [[0.0, \"#440154\"], [0.1111111111111111, \"#482878\"], [0.2222222222222222, \"#3e4989\"], [0.3333333333333333, \"#31688e\"], [0.4444444444444444, \"#26828e\"], [0.5555555555555556, \"#1f9e89\"], [0.6666666666666666, \"#35b779\"], [0.7777777777777778, \"#6ece58\"], [0.8888888888888888, \"#b5de2b\"], [1.0, \"#fde725\"]], \"type\": \"heatmap\"}], \"heatmapgl\": [{\"colorbar\": {\"outlinewidth\": 1, \"tickcolor\": \"rgb(36,36,36)\", \"ticks\": \"outside\"}, \"colorscale\": [[0.0, \"#440154\"], [0.1111111111111111, \"#482878\"], [0.2222222222222222, \"#3e4989\"], [0.3333333333333333, \"#31688e\"], [0.4444444444444444, \"#26828e\"], [0.5555555555555556, \"#1f9e89\"], [0.6666666666666666, \"#35b779\"], [0.7777777777777778, \"#6ece58\"], [0.8888888888888888, \"#b5de2b\"], [1.0, \"#fde725\"]], \"type\": \"heatmapgl\"}], \"histogram\": [{\"marker\": {\"line\": {\"color\": \"white\", \"width\": 0.6}}, \"type\": \"histogram\"}], \"histogram2d\": [{\"colorbar\": {\"outlinewidth\": 1, \"tickcolor\": \"rgb(36,36,36)\", \"ticks\": \"outside\"}, \"colorscale\": [[0.0, \"#440154\"], [0.1111111111111111, \"#482878\"], [0.2222222222222222, \"#3e4989\"], [0.3333333333333333, \"#31688e\"], [0.4444444444444444, \"#26828e\"], [0.5555555555555556, \"#1f9e89\"], [0.6666666666666666, \"#35b779\"], [0.7777777777777778, \"#6ece58\"], [0.8888888888888888, \"#b5de2b\"], [1.0, \"#fde725\"]], \"type\": \"histogram2d\"}], \"histogram2dcontour\": [{\"colorbar\": {\"outlinewidth\": 1, \"tickcolor\": \"rgb(36,36,36)\", \"ticks\": \"outside\"}, \"colorscale\": [[0.0, \"#440154\"], [0.1111111111111111, \"#482878\"], [0.2222222222222222, \"#3e4989\"], [0.3333333333333333, \"#31688e\"], [0.4444444444444444, \"#26828e\"], [0.5555555555555556, \"#1f9e89\"], [0.6666666666666666, \"#35b779\"], [0.7777777777777778, \"#6ece58\"], [0.8888888888888888, \"#b5de2b\"], [1.0, \"#fde725\"]], \"type\": \"histogram2dcontour\"}], \"mesh3d\": [{\"colorbar\": {\"outlinewidth\": 1, \"tickcolor\": \"rgb(36,36,36)\", \"ticks\": \"outside\"}, \"type\": \"mesh3d\"}], \"parcoords\": [{\"line\": {\"colorbar\": {\"outlinewidth\": 1, \"tickcolor\": \"rgb(36,36,36)\", \"ticks\": \"outside\"}}, \"type\": \"parcoords\"}], \"pie\": [{\"automargin\": true, \"type\": \"pie\"}], \"scatter\": [{\"marker\": {\"colorbar\": {\"outlinewidth\": 1, \"tickcolor\": \"rgb(36,36,36)\", \"ticks\": \"outside\"}}, \"type\": \"scatter\"}], \"scatter3d\": [{\"line\": {\"colorbar\": {\"outlinewidth\": 1, \"tickcolor\": \"rgb(36,36,36)\", \"ticks\": \"outside\"}}, \"marker\": {\"colorbar\": {\"outlinewidth\": 1, \"tickcolor\": \"rgb(36,36,36)\", \"ticks\": \"outside\"}}, \"type\": \"scatter3d\"}], \"scattercarpet\": [{\"marker\": {\"colorbar\": {\"outlinewidth\": 1, \"tickcolor\": \"rgb(36,36,36)\", \"ticks\": \"outside\"}}, \"type\": \"scattercarpet\"}], \"scattergeo\": [{\"marker\": {\"colorbar\": {\"outlinewidth\": 1, \"tickcolor\": \"rgb(36,36,36)\", \"ticks\": \"outside\"}}, \"type\": \"scattergeo\"}], \"scattergl\": [{\"marker\": {\"colorbar\": {\"outlinewidth\": 1, \"tickcolor\": \"rgb(36,36,36)\", \"ticks\": \"outside\"}}, \"type\": \"scattergl\"}], \"scattermapbox\": [{\"marker\": {\"colorbar\": {\"outlinewidth\": 1, \"tickcolor\": \"rgb(36,36,36)\", \"ticks\": \"outside\"}}, \"type\": \"scattermapbox\"}], \"scatterpolar\": [{\"marker\": {\"colorbar\": {\"outlinewidth\": 1, \"tickcolor\": \"rgb(36,36,36)\", \"ticks\": \"outside\"}}, \"type\": \"scatterpolar\"}], \"scatterpolargl\": [{\"marker\": {\"colorbar\": {\"outlinewidth\": 1, \"tickcolor\": \"rgb(36,36,36)\", \"ticks\": \"outside\"}}, \"type\": \"scatterpolargl\"}], \"scatterternary\": [{\"marker\": {\"colorbar\": {\"outlinewidth\": 1, \"tickcolor\": \"rgb(36,36,36)\", \"ticks\": \"outside\"}}, \"type\": \"scatterternary\"}], \"surface\": [{\"colorbar\": {\"outlinewidth\": 1, \"tickcolor\": \"rgb(36,36,36)\", \"ticks\": \"outside\"}, \"colorscale\": [[0.0, \"#440154\"], [0.1111111111111111, \"#482878\"], [0.2222222222222222, \"#3e4989\"], [0.3333333333333333, \"#31688e\"], [0.4444444444444444, \"#26828e\"], [0.5555555555555556, \"#1f9e89\"], [0.6666666666666666, \"#35b779\"], [0.7777777777777778, \"#6ece58\"], [0.8888888888888888, \"#b5de2b\"], [1.0, \"#fde725\"]], \"type\": \"surface\"}], \"table\": [{\"cells\": {\"fill\": {\"color\": \"rgb(237,237,237)\"}, \"line\": {\"color\": \"white\"}}, \"header\": {\"fill\": {\"color\": \"rgb(217,217,217)\"}, \"line\": {\"color\": \"white\"}}, \"type\": \"table\"}]}, \"layout\": {\"annotationdefaults\": {\"arrowhead\": 0, \"arrowwidth\": 1}, \"autotypenumbers\": \"strict\", \"coloraxis\": {\"colorbar\": {\"outlinewidth\": 1, \"tickcolor\": \"rgb(36,36,36)\", \"ticks\": \"outside\"}}, \"colorscale\": {\"diverging\": [[0.0, \"rgb(103,0,31)\"], [0.1, \"rgb(178,24,43)\"], [0.2, \"rgb(214,96,77)\"], [0.3, \"rgb(244,165,130)\"], [0.4, \"rgb(253,219,199)\"], [0.5, \"rgb(247,247,247)\"], [0.6, \"rgb(209,229,240)\"], [0.7, \"rgb(146,197,222)\"], [0.8, \"rgb(67,147,195)\"], [0.9, \"rgb(33,102,172)\"], [1.0, \"rgb(5,48,97)\"]], \"sequential\": [[0.0, \"#440154\"], [0.1111111111111111, \"#482878\"], [0.2222222222222222, \"#3e4989\"], [0.3333333333333333, \"#31688e\"], [0.4444444444444444, \"#26828e\"], [0.5555555555555556, \"#1f9e89\"], [0.6666666666666666, \"#35b779\"], [0.7777777777777778, \"#6ece58\"], [0.8888888888888888, \"#b5de2b\"], [1.0, \"#fde725\"]], \"sequentialminus\": [[0.0, \"#440154\"], [0.1111111111111111, \"#482878\"], [0.2222222222222222, \"#3e4989\"], [0.3333333333333333, \"#31688e\"], [0.4444444444444444, \"#26828e\"], [0.5555555555555556, \"#1f9e89\"], [0.6666666666666666, \"#35b779\"], [0.7777777777777778, \"#6ece58\"], [0.8888888888888888, \"#b5de2b\"], [1.0, \"#fde725\"]]}, \"colorway\": [\"#1F77B4\", \"#FF7F0E\", \"#2CA02C\", \"#D62728\", \"#9467BD\", \"#8C564B\", \"#E377C2\", \"#7F7F7F\", \"#BCBD22\", \"#17BECF\"], \"font\": {\"color\": \"rgb(36,36,36)\"}, \"geo\": {\"bgcolor\": \"white\", \"lakecolor\": \"white\", \"landcolor\": \"white\", \"showlakes\": true, \"showland\": true, \"subunitcolor\": \"white\"}, \"hoverlabel\": {\"align\": \"left\"}, \"hovermode\": \"closest\", \"mapbox\": {\"style\": \"light\"}, \"paper_bgcolor\": \"white\", \"plot_bgcolor\": \"white\", \"polar\": {\"angularaxis\": {\"gridcolor\": \"rgb(232,232,232)\", \"linecolor\": \"rgb(36,36,36)\", \"showgrid\": false, \"showline\": true, \"ticks\": \"outside\"}, \"bgcolor\": \"white\", \"radialaxis\": {\"gridcolor\": \"rgb(232,232,232)\", \"linecolor\": \"rgb(36,36,36)\", \"showgrid\": false, \"showline\": true, \"ticks\": \"outside\"}}, \"scene\": {\"xaxis\": {\"backgroundcolor\": \"white\", \"gridcolor\": \"rgb(232,232,232)\", \"gridwidth\": 2, \"linecolor\": \"rgb(36,36,36)\", \"showbackground\": true, \"showgrid\": false, \"showline\": true, \"ticks\": \"outside\", \"zeroline\": false, \"zerolinecolor\": \"rgb(36,36,36)\"}, \"yaxis\": {\"backgroundcolor\": \"white\", \"gridcolor\": \"rgb(232,232,232)\", \"gridwidth\": 2, \"linecolor\": \"rgb(36,36,36)\", \"showbackground\": true, \"showgrid\": false, \"showline\": true, \"ticks\": \"outside\", \"zeroline\": false, \"zerolinecolor\": \"rgb(36,36,36)\"}, \"zaxis\": {\"backgroundcolor\": \"white\", \"gridcolor\": \"rgb(232,232,232)\", \"gridwidth\": 2, \"linecolor\": \"rgb(36,36,36)\", \"showbackground\": true, \"showgrid\": false, \"showline\": true, \"ticks\": \"outside\", \"zeroline\": false, \"zerolinecolor\": \"rgb(36,36,36)\"}}, \"shapedefaults\": {\"fillcolor\": \"black\", \"line\": {\"width\": 0}, \"opacity\": 0.3}, \"ternary\": {\"aaxis\": {\"gridcolor\": \"rgb(232,232,232)\", \"linecolor\": \"rgb(36,36,36)\", \"showgrid\": false, \"showline\": true, \"ticks\": \"outside\"}, \"baxis\": {\"gridcolor\": \"rgb(232,232,232)\", \"linecolor\": \"rgb(36,36,36)\", \"showgrid\": false, \"showline\": true, \"ticks\": \"outside\"}, \"bgcolor\": \"white\", \"caxis\": {\"gridcolor\": \"rgb(232,232,232)\", \"linecolor\": \"rgb(36,36,36)\", \"showgrid\": false, \"showline\": true, \"ticks\": \"outside\"}}, \"title\": {\"x\": 0.05}, \"xaxis\": {\"automargin\": true, \"gridcolor\": \"rgb(232,232,232)\", \"linecolor\": \"rgb(36,36,36)\", \"showgrid\": false, \"showline\": true, \"ticks\": \"outside\", \"title\": {\"standoff\": 15}, \"zeroline\": false, \"zerolinecolor\": \"rgb(36,36,36)\"}, \"yaxis\": {\"automargin\": true, \"gridcolor\": \"rgb(232,232,232)\", \"linecolor\": \"rgb(36,36,36)\", \"showgrid\": false, \"showline\": true, \"ticks\": \"outside\", \"title\": {\"standoff\": 15}, \"zeroline\": false, \"zerolinecolor\": \"rgb(36,36,36)\"}}}, \"title\": {\"font\": {\"color\": \"Black\", \"size\": 22}, \"text\": \"<b>Intertopic Distance Map\", \"x\": 0.5, \"xanchor\": \"center\", \"y\": 0.95, \"yanchor\": \"top\"}, \"width\": 650, \"xaxis\": {\"anchor\": \"y\", \"domain\": [0.0, 1.0], \"range\": [1.9671104669570922, 24.685026550292967], \"title\": {\"text\": \"\"}, \"visible\": false}, \"yaxis\": {\"anchor\": \"x\", \"domain\": [0.0, 1.0], \"range\": [7.1917328357696535, 19.88224859237671], \"title\": {\"text\": \"\"}, \"visible\": false}},                        {\"responsive\": true}                    ).then(function(){\n",
              "                            \n",
              "var gd = document.getElementById('9ec00ce6-5f52-47bc-998c-9188c5775863');\n",
              "var x = new MutationObserver(function (mutations, observer) {{\n",
              "        var display = window.getComputedStyle(gd).display;\n",
              "        if (!display || display === 'none') {{\n",
              "            console.log([gd, 'removed!']);\n",
              "            Plotly.purge(gd);\n",
              "            observer.disconnect();\n",
              "        }}\n",
              "}});\n",
              "\n",
              "// Listen for the removal of the full notebook cells\n",
              "var notebookContainer = gd.closest('#notebook-container');\n",
              "if (notebookContainer) {{\n",
              "    x.observe(notebookContainer, {childList: true});\n",
              "}}\n",
              "\n",
              "// Listen for the clearing of the current output cell\n",
              "var outputEl = gd.closest('.output');\n",
              "if (outputEl) {{\n",
              "    x.observe(outputEl, {childList: true});\n",
              "}}\n",
              "\n",
              "                        })                };                            </script>        </div>\n",
              "</body>\n",
              "</html>"
            ]
          },
          "metadata": {
            "tags": []
          }
        }
      ]
    },
    {
      "cell_type": "code",
      "metadata": {
        "id": "SZmZg9BrG5Vt",
        "colab": {
          "base_uri": "https://localhost:8080/",
          "height": 817
        },
        "outputId": "4de4d46a-b289-486e-e247-16c16210f346"
      },
      "source": [
        "topic_model.visualize_heatmap()"
      ],
      "execution_count": 22,
      "outputs": [
        {
          "output_type": "display_data",
          "data": {
            "text/html": [
              "<html>\n",
              "<head><meta charset=\"utf-8\" /></head>\n",
              "<body>\n",
              "    <div>            <script src=\"https://cdnjs.cloudflare.com/ajax/libs/mathjax/2.7.5/MathJax.js?config=TeX-AMS-MML_SVG\"></script><script type=\"text/javascript\">if (window.MathJax) {MathJax.Hub.Config({SVG: {font: \"STIX-Web\"}});}</script>                <script type=\"text/javascript\">window.PlotlyConfig = {MathJaxConfig: 'local'};</script>\n",
              "        <script src=\"https://cdn.plot.ly/plotly-latest.min.js\"></script>                <div id=\"13052034-4a79-412f-8fb4-ca7903bcfd31\" class=\"plotly-graph-div\" style=\"height:800px; width:800px;\"></div>            <script type=\"text/javascript\">                                    window.PLOTLYENV=window.PLOTLYENV || {};                                    if (document.getElementById(\"13052034-4a79-412f-8fb4-ca7903bcfd31\")) {                    Plotly.newPlot(                        \"13052034-4a79-412f-8fb4-ca7903bcfd31\",                        [{\"coloraxis\": \"coloraxis\", \"hovertemplate\": \"x: %{x}<br>y: %{y}<br>Similarity Score: %{z}<extra></extra>\", \"name\": \"0\", \"type\": \"heatmap\", \"x\": [\"-1_nfts_collectors_nft\", \"0_sell_nfts_buy\", \"1_art_artist_much\", \"2_work_nfts_understanding\", \"3_mint_mintable_minting\", \"4_item_make_packs\", \"5_copyright_nfts_ownership\", \"6_foundation_upvoted_wallet\", \"7_crypto_rarible_gift\", \"8_marketplace_opensea_build\"], \"xaxis\": \"x\", \"y\": [\"-1_nfts_collectors_nft\", \"0_sell_nfts_buy\", \"1_art_artist_much\", \"2_work_nfts_understanding\", \"3_mint_mintable_minting\", \"4_item_make_packs\", \"5_copyright_nfts_ownership\", \"6_foundation_upvoted_wallet\", \"7_crypto_rarible_gift\", \"8_marketplace_opensea_build\"], \"yaxis\": \"y\", \"z\": [[0.9999999999999996, 0.7273709942908628, 0.5640257212883898, 0.7119988376592596, 0.42703108834669035, 0.6681734647478255, 0.5697854018947953, 0.5062080665788687, 0.5850322731808187, 0.6448722349834581], [0.7273709942908628, 1.0000000000000004, 0.7521162483397208, 0.5644828924699714, 0.41264740554121293, 0.6237926012791868, 0.5196191405223995, 0.44252631572313494, 0.5161022397847955, 0.6410398836889827], [0.5640257212883898, 0.7521162483397208, 1.0, 0.4738244206984885, 0.41773558591438237, 0.6718342974918449, 0.4464428819476117, 0.42128597982277727, 0.5457108956451036, 0.5424920687643096], [0.7119988376592596, 0.5644828924699714, 0.4738244206984885, 0.9999999999999998, 0.3259568013129787, 0.6042595760675656, 0.424757166368282, 0.5136140648526687, 0.5197539730764928, 0.5167203589421746], [0.42703108834669035, 0.41264740554121293, 0.41773558591438237, 0.3259568013129787, 1.0000000000000002, 0.49891031630161, 0.3271128713327185, 0.33460257344530075, 0.4190316128592919, 0.3044165709866376], [0.6681734647478255, 0.6237926012791868, 0.6718342974918449, 0.6042595760675656, 0.49891031630161, 1.0000000000000004, 0.44980451520482595, 0.4928148579212048, 0.6082043032773521, 0.4941068485225129], [0.5697854018947953, 0.5196191405223995, 0.4464428819476117, 0.424757166368282, 0.3271128713327185, 0.44980451520482595, 1.0, 0.4857264013650307, 0.5590077048507245, 0.45826511839981116], [0.5062080665788687, 0.44252631572313494, 0.42128597982277727, 0.5136140648526687, 0.33460257344530075, 0.4928148579212048, 0.4857264013650307, 0.9999999999999998, 0.5308793437516895, 0.569730306758413], [0.5850322731808187, 0.5161022397847955, 0.5457108956451036, 0.5197539730764928, 0.4190316128592919, 0.6082043032773521, 0.5590077048507245, 0.5308793437516895, 1.0000000000000004, 0.5011937320287787], [0.6448722349834581, 0.6410398836889827, 0.5424920687643096, 0.5167203589421746, 0.3044165709866376, 0.4941068485225129, 0.45826511839981116, 0.569730306758413, 0.5011937320287787, 0.9999999999999993]]}],                        {\"coloraxis\": {\"colorbar\": {\"title\": {\"text\": \"Similarity Score\"}}, \"colorscale\": [[0.0, \"rgb(247,252,240)\"], [0.125, \"rgb(224,243,219)\"], [0.25, \"rgb(204,235,197)\"], [0.375, \"rgb(168,221,181)\"], [0.5, \"rgb(123,204,196)\"], [0.625, \"rgb(78,179,211)\"], [0.75, \"rgb(43,140,190)\"], [0.875, \"rgb(8,104,172)\"], [1.0, \"rgb(8,64,129)\"]]}, \"height\": 800, \"hoverlabel\": {\"bgcolor\": \"white\", \"font\": {\"family\": \"Rockwell\", \"size\": 16}}, \"legend\": {\"title\": {\"text\": \"Trend\"}}, \"margin\": {\"t\": 60}, \"showlegend\": true, \"template\": {\"data\": {\"bar\": [{\"error_x\": {\"color\": \"#2a3f5f\"}, \"error_y\": {\"color\": \"#2a3f5f\"}, \"marker\": {\"line\": {\"color\": \"#E5ECF6\", \"width\": 0.5}}, \"type\": \"bar\"}], \"barpolar\": [{\"marker\": {\"line\": {\"color\": \"#E5ECF6\", \"width\": 0.5}}, \"type\": \"barpolar\"}], \"carpet\": [{\"aaxis\": {\"endlinecolor\": \"#2a3f5f\", \"gridcolor\": \"white\", \"linecolor\": \"white\", \"minorgridcolor\": \"white\", \"startlinecolor\": \"#2a3f5f\"}, \"baxis\": {\"endlinecolor\": \"#2a3f5f\", \"gridcolor\": \"white\", \"linecolor\": \"white\", \"minorgridcolor\": \"white\", \"startlinecolor\": \"#2a3f5f\"}, \"type\": \"carpet\"}], \"choropleth\": [{\"colorbar\": {\"outlinewidth\": 0, \"ticks\": \"\"}, \"type\": \"choropleth\"}], \"contour\": [{\"colorbar\": {\"outlinewidth\": 0, \"ticks\": \"\"}, \"colorscale\": [[0.0, \"#0d0887\"], [0.1111111111111111, \"#46039f\"], [0.2222222222222222, \"#7201a8\"], [0.3333333333333333, \"#9c179e\"], [0.4444444444444444, \"#bd3786\"], [0.5555555555555556, \"#d8576b\"], [0.6666666666666666, \"#ed7953\"], [0.7777777777777778, \"#fb9f3a\"], [0.8888888888888888, \"#fdca26\"], [1.0, \"#f0f921\"]], \"type\": \"contour\"}], \"contourcarpet\": [{\"colorbar\": {\"outlinewidth\": 0, \"ticks\": \"\"}, \"type\": \"contourcarpet\"}], \"heatmap\": [{\"colorbar\": {\"outlinewidth\": 0, \"ticks\": \"\"}, \"colorscale\": [[0.0, \"#0d0887\"], [0.1111111111111111, \"#46039f\"], [0.2222222222222222, \"#7201a8\"], [0.3333333333333333, \"#9c179e\"], [0.4444444444444444, \"#bd3786\"], [0.5555555555555556, \"#d8576b\"], [0.6666666666666666, \"#ed7953\"], [0.7777777777777778, \"#fb9f3a\"], [0.8888888888888888, \"#fdca26\"], [1.0, \"#f0f921\"]], \"type\": \"heatmap\"}], \"heatmapgl\": [{\"colorbar\": {\"outlinewidth\": 0, \"ticks\": \"\"}, \"colorscale\": [[0.0, \"#0d0887\"], [0.1111111111111111, \"#46039f\"], [0.2222222222222222, \"#7201a8\"], [0.3333333333333333, \"#9c179e\"], [0.4444444444444444, \"#bd3786\"], [0.5555555555555556, \"#d8576b\"], [0.6666666666666666, \"#ed7953\"], [0.7777777777777778, \"#fb9f3a\"], [0.8888888888888888, \"#fdca26\"], [1.0, \"#f0f921\"]], \"type\": \"heatmapgl\"}], \"histogram\": [{\"marker\": {\"colorbar\": {\"outlinewidth\": 0, \"ticks\": \"\"}}, \"type\": \"histogram\"}], \"histogram2d\": [{\"colorbar\": {\"outlinewidth\": 0, \"ticks\": \"\"}, \"colorscale\": [[0.0, \"#0d0887\"], [0.1111111111111111, \"#46039f\"], [0.2222222222222222, \"#7201a8\"], [0.3333333333333333, \"#9c179e\"], [0.4444444444444444, \"#bd3786\"], [0.5555555555555556, \"#d8576b\"], [0.6666666666666666, \"#ed7953\"], [0.7777777777777778, \"#fb9f3a\"], [0.8888888888888888, \"#fdca26\"], [1.0, \"#f0f921\"]], \"type\": \"histogram2d\"}], \"histogram2dcontour\": [{\"colorbar\": {\"outlinewidth\": 0, \"ticks\": \"\"}, \"colorscale\": [[0.0, \"#0d0887\"], [0.1111111111111111, \"#46039f\"], [0.2222222222222222, \"#7201a8\"], [0.3333333333333333, \"#9c179e\"], [0.4444444444444444, \"#bd3786\"], [0.5555555555555556, \"#d8576b\"], [0.6666666666666666, \"#ed7953\"], [0.7777777777777778, \"#fb9f3a\"], [0.8888888888888888, \"#fdca26\"], [1.0, \"#f0f921\"]], \"type\": \"histogram2dcontour\"}], \"mesh3d\": [{\"colorbar\": {\"outlinewidth\": 0, \"ticks\": \"\"}, \"type\": \"mesh3d\"}], \"parcoords\": [{\"line\": {\"colorbar\": {\"outlinewidth\": 0, \"ticks\": \"\"}}, \"type\": \"parcoords\"}], \"pie\": [{\"automargin\": true, \"type\": \"pie\"}], \"scatter\": [{\"marker\": {\"colorbar\": {\"outlinewidth\": 0, \"ticks\": \"\"}}, \"type\": \"scatter\"}], \"scatter3d\": [{\"line\": {\"colorbar\": {\"outlinewidth\": 0, \"ticks\": \"\"}}, \"marker\": {\"colorbar\": {\"outlinewidth\": 0, \"ticks\": \"\"}}, \"type\": \"scatter3d\"}], \"scattercarpet\": [{\"marker\": {\"colorbar\": {\"outlinewidth\": 0, \"ticks\": \"\"}}, \"type\": \"scattercarpet\"}], \"scattergeo\": [{\"marker\": {\"colorbar\": {\"outlinewidth\": 0, \"ticks\": \"\"}}, \"type\": \"scattergeo\"}], \"scattergl\": [{\"marker\": {\"colorbar\": {\"outlinewidth\": 0, \"ticks\": \"\"}}, \"type\": \"scattergl\"}], \"scattermapbox\": [{\"marker\": {\"colorbar\": {\"outlinewidth\": 0, \"ticks\": \"\"}}, \"type\": \"scattermapbox\"}], \"scatterpolar\": [{\"marker\": {\"colorbar\": {\"outlinewidth\": 0, \"ticks\": \"\"}}, \"type\": \"scatterpolar\"}], \"scatterpolargl\": [{\"marker\": {\"colorbar\": {\"outlinewidth\": 0, \"ticks\": \"\"}}, \"type\": \"scatterpolargl\"}], \"scatterternary\": [{\"marker\": {\"colorbar\": {\"outlinewidth\": 0, \"ticks\": \"\"}}, \"type\": \"scatterternary\"}], \"surface\": [{\"colorbar\": {\"outlinewidth\": 0, \"ticks\": \"\"}, \"colorscale\": [[0.0, \"#0d0887\"], [0.1111111111111111, \"#46039f\"], [0.2222222222222222, \"#7201a8\"], [0.3333333333333333, \"#9c179e\"], [0.4444444444444444, \"#bd3786\"], [0.5555555555555556, \"#d8576b\"], [0.6666666666666666, \"#ed7953\"], [0.7777777777777778, \"#fb9f3a\"], [0.8888888888888888, \"#fdca26\"], [1.0, \"#f0f921\"]], \"type\": \"surface\"}], \"table\": [{\"cells\": {\"fill\": {\"color\": \"#EBF0F8\"}, \"line\": {\"color\": \"white\"}}, \"header\": {\"fill\": {\"color\": \"#C8D4E3\"}, \"line\": {\"color\": \"white\"}}, \"type\": \"table\"}]}, \"layout\": {\"annotationdefaults\": {\"arrowcolor\": \"#2a3f5f\", \"arrowhead\": 0, \"arrowwidth\": 1}, \"autotypenumbers\": \"strict\", \"coloraxis\": {\"colorbar\": {\"outlinewidth\": 0, \"ticks\": \"\"}}, \"colorscale\": {\"diverging\": [[0, \"#8e0152\"], [0.1, \"#c51b7d\"], [0.2, \"#de77ae\"], [0.3, \"#f1b6da\"], [0.4, \"#fde0ef\"], [0.5, \"#f7f7f7\"], [0.6, \"#e6f5d0\"], [0.7, \"#b8e186\"], [0.8, \"#7fbc41\"], [0.9, \"#4d9221\"], [1, \"#276419\"]], \"sequential\": [[0.0, \"#0d0887\"], [0.1111111111111111, \"#46039f\"], [0.2222222222222222, \"#7201a8\"], [0.3333333333333333, \"#9c179e\"], [0.4444444444444444, \"#bd3786\"], [0.5555555555555556, \"#d8576b\"], [0.6666666666666666, \"#ed7953\"], [0.7777777777777778, \"#fb9f3a\"], [0.8888888888888888, \"#fdca26\"], [1.0, \"#f0f921\"]], \"sequentialminus\": [[0.0, \"#0d0887\"], [0.1111111111111111, \"#46039f\"], [0.2222222222222222, \"#7201a8\"], [0.3333333333333333, \"#9c179e\"], [0.4444444444444444, \"#bd3786\"], [0.5555555555555556, \"#d8576b\"], [0.6666666666666666, \"#ed7953\"], [0.7777777777777778, \"#fb9f3a\"], [0.8888888888888888, \"#fdca26\"], [1.0, \"#f0f921\"]]}, \"colorway\": [\"#636efa\", \"#EF553B\", \"#00cc96\", \"#ab63fa\", \"#FFA15A\", \"#19d3f3\", \"#FF6692\", \"#B6E880\", \"#FF97FF\", \"#FECB52\"], \"font\": {\"color\": \"#2a3f5f\"}, \"geo\": {\"bgcolor\": \"white\", \"lakecolor\": \"white\", \"landcolor\": \"#E5ECF6\", \"showlakes\": true, \"showland\": true, \"subunitcolor\": \"white\"}, \"hoverlabel\": {\"align\": \"left\"}, \"hovermode\": \"closest\", \"mapbox\": {\"style\": \"light\"}, \"paper_bgcolor\": \"white\", \"plot_bgcolor\": \"#E5ECF6\", \"polar\": {\"angularaxis\": {\"gridcolor\": \"white\", \"linecolor\": \"white\", \"ticks\": \"\"}, \"bgcolor\": \"#E5ECF6\", \"radialaxis\": {\"gridcolor\": \"white\", \"linecolor\": \"white\", \"ticks\": \"\"}}, \"scene\": {\"xaxis\": {\"backgroundcolor\": \"#E5ECF6\", \"gridcolor\": \"white\", \"gridwidth\": 2, \"linecolor\": \"white\", \"showbackground\": true, \"ticks\": \"\", \"zerolinecolor\": \"white\"}, \"yaxis\": {\"backgroundcolor\": \"#E5ECF6\", \"gridcolor\": \"white\", \"gridwidth\": 2, \"linecolor\": \"white\", \"showbackground\": true, \"ticks\": \"\", \"zerolinecolor\": \"white\"}, \"zaxis\": {\"backgroundcolor\": \"#E5ECF6\", \"gridcolor\": \"white\", \"gridwidth\": 2, \"linecolor\": \"white\", \"showbackground\": true, \"ticks\": \"\", \"zerolinecolor\": \"white\"}}, \"shapedefaults\": {\"line\": {\"color\": \"#2a3f5f\"}}, \"ternary\": {\"aaxis\": {\"gridcolor\": \"white\", \"linecolor\": \"white\", \"ticks\": \"\"}, \"baxis\": {\"gridcolor\": \"white\", \"linecolor\": \"white\", \"ticks\": \"\"}, \"bgcolor\": \"#E5ECF6\", \"caxis\": {\"gridcolor\": \"white\", \"linecolor\": \"white\", \"ticks\": \"\"}}, \"title\": {\"x\": 0.05}, \"xaxis\": {\"automargin\": true, \"gridcolor\": \"white\", \"linecolor\": \"white\", \"ticks\": \"\", \"title\": {\"standoff\": 15}, \"zerolinecolor\": \"white\", \"zerolinewidth\": 2}, \"yaxis\": {\"automargin\": true, \"gridcolor\": \"white\", \"linecolor\": \"white\", \"ticks\": \"\", \"title\": {\"standoff\": 15}, \"zerolinecolor\": \"white\", \"zerolinewidth\": 2}}}, \"title\": {\"font\": {\"color\": \"Black\", \"size\": 22}, \"text\": \"<b>Similarity Matrix\", \"x\": 0.55, \"xanchor\": \"center\", \"y\": 0.95, \"yanchor\": \"top\"}, \"width\": 800, \"xaxis\": {\"anchor\": \"y\", \"constrain\": \"domain\", \"domain\": [0.0, 1.0], \"scaleanchor\": \"y\"}, \"yaxis\": {\"anchor\": \"x\", \"autorange\": \"reversed\", \"constrain\": \"domain\", \"domain\": [0.0, 1.0]}},                        {\"responsive\": true}                    ).then(function(){\n",
              "                            \n",
              "var gd = document.getElementById('13052034-4a79-412f-8fb4-ca7903bcfd31');\n",
              "var x = new MutationObserver(function (mutations, observer) {{\n",
              "        var display = window.getComputedStyle(gd).display;\n",
              "        if (!display || display === 'none') {{\n",
              "            console.log([gd, 'removed!']);\n",
              "            Plotly.purge(gd);\n",
              "            observer.disconnect();\n",
              "        }}\n",
              "}});\n",
              "\n",
              "// Listen for the removal of the full notebook cells\n",
              "var notebookContainer = gd.closest('#notebook-container');\n",
              "if (notebookContainer) {{\n",
              "    x.observe(notebookContainer, {childList: true});\n",
              "}}\n",
              "\n",
              "// Listen for the clearing of the current output cell\n",
              "var outputEl = gd.closest('.output');\n",
              "if (outputEl) {{\n",
              "    x.observe(outputEl, {childList: true});\n",
              "}}\n",
              "\n",
              "                        })                };                            </script>        </div>\n",
              "</body>\n",
              "</html>"
            ]
          },
          "metadata": {
            "tags": []
          }
        }
      ]
    },
    {
      "cell_type": "code",
      "metadata": {
        "id": "iagobgBQHBC1",
        "colab": {
          "base_uri": "https://localhost:8080/",
          "height": 617
        },
        "outputId": "93991245-7430-4e62-b62a-4e972e2a5563"
      },
      "source": [
        "topic_model.visualize_hierarchy()"
      ],
      "execution_count": 23,
      "outputs": [
        {
          "output_type": "display_data",
          "data": {
            "text/html": [
              "<html>\n",
              "<head><meta charset=\"utf-8\" /></head>\n",
              "<body>\n",
              "    <div>            <script src=\"https://cdnjs.cloudflare.com/ajax/libs/mathjax/2.7.5/MathJax.js?config=TeX-AMS-MML_SVG\"></script><script type=\"text/javascript\">if (window.MathJax) {MathJax.Hub.Config({SVG: {font: \"STIX-Web\"}});}</script>                <script type=\"text/javascript\">window.PlotlyConfig = {MathJaxConfig: 'local'};</script>\n",
              "        <script src=\"https://cdn.plot.ly/plotly-latest.min.js\"></script>                <div id=\"0a1f51a8-6dca-4bc8-8319-4f77f8e4451a\" class=\"plotly-graph-div\" style=\"height:600px; width:1000px;\"></div>            <script type=\"text/javascript\">                                    window.PLOTLYENV=window.PLOTLYENV || {};                                    if (document.getElementById(\"0a1f51a8-6dca-4bc8-8319-4f77f8e4451a\")) {                    Plotly.newPlot(                        \"0a1f51a8-6dca-4bc8-8319-4f77f8e4451a\",                        [{\"hoverinfo\": \"text\", \"marker\": {\"color\": \"rgb(61,153,112)\"}, \"mode\": \"lines\", \"type\": \"scatter\", \"x\": [0.0, 0.506587940771925, 0.506587940771925, 0.0], \"xaxis\": \"x\", \"y\": [-15.0, -15.0, -25.0, -25.0], \"yaxis\": \"y\"}, {\"hoverinfo\": \"text\", \"marker\": {\"color\": \"rgb(61,153,112)\"}, \"mode\": \"lines\", \"type\": \"scatter\", \"x\": [0.0, 0.42014461862731095, 0.42014461862731095, 0.0], \"xaxis\": \"x\", \"y\": [-45.0, -45.0, -55.0, -55.0], \"yaxis\": \"y\"}, {\"hoverinfo\": \"text\", \"marker\": {\"color\": \"rgb(61,153,112)\"}, \"mode\": \"lines\", \"type\": \"scatter\", \"x\": [0.0, 0.5938167359217568, 0.5938167359217568, 0.42014461862731095], \"xaxis\": \"x\", \"y\": [-35.0, -35.0, -50.0, -50.0], \"yaxis\": \"y\"}, {\"hoverinfo\": \"text\", \"marker\": {\"color\": \"rgb(61,153,112)\"}, \"mode\": \"lines\", \"type\": \"scatter\", \"x\": [0.506587940771925, 0.800054053253738, 0.800054053253738, 0.5938167359217568], \"xaxis\": \"x\", \"y\": [-20.0, -20.0, -42.5, -42.5], \"yaxis\": \"y\"}, {\"hoverinfo\": \"text\", \"marker\": {\"color\": \"rgb(255,65,54)\"}, \"mode\": \"lines\", \"type\": \"scatter\", \"x\": [0.0, 0.6674526037439613, 0.6674526037439613, 0.0], \"xaxis\": \"x\", \"y\": [-65.0, -65.0, -75.0, -75.0], \"yaxis\": \"y\"}, {\"hoverinfo\": \"text\", \"marker\": {\"color\": \"rgb(255,65,54)\"}, \"mode\": \"lines\", \"type\": \"scatter\", \"x\": [0.0, 0.6679432556432966, 0.6679432556432966, 0.0], \"xaxis\": \"x\", \"y\": [-85.0, -85.0, -95.0, -95.0], \"yaxis\": \"y\"}, {\"hoverinfo\": \"text\", \"marker\": {\"color\": \"rgb(255,65,54)\"}, \"mode\": \"lines\", \"type\": \"scatter\", \"x\": [0.6674526037439613, 0.8250109608541913, 0.8250109608541913, 0.6679432556432966], \"xaxis\": \"x\", \"y\": [-70.0, -70.0, -90.0, -90.0], \"yaxis\": \"y\"}, {\"hoverinfo\": \"text\", \"marker\": {\"color\": \"rgb(0,116,217)\"}, \"mode\": \"lines\", \"type\": \"scatter\", \"x\": [0.800054053253738, 1.0494706597980519, 1.0494706597980519, 0.8250109608541913], \"xaxis\": \"x\", \"y\": [-31.25, -31.25, -80.0, -80.0], \"yaxis\": \"y\"}, {\"hoverinfo\": \"text\", \"marker\": {\"color\": \"rgb(0,116,217)\"}, \"mode\": \"lines\", \"type\": \"scatter\", \"x\": [0.0, 1.2142764681364864, 1.2142764681364864, 1.0494706597980519], \"xaxis\": \"x\", \"y\": [-5.0, -5.0, -55.625, -55.625], \"yaxis\": \"y\"}],                        {\"autosize\": false, \"height\": 600, \"hoverlabel\": {\"bgcolor\": \"white\", \"font\": {\"family\": \"Rockwell\", \"size\": 16}}, \"hovermode\": \"closest\", \"plot_bgcolor\": \"#ECEFF1\", \"showlegend\": false, \"template\": {\"data\": {\"bar\": [{\"error_x\": {\"color\": \"#2a3f5f\"}, \"error_y\": {\"color\": \"#2a3f5f\"}, \"marker\": {\"line\": {\"color\": \"white\", \"width\": 0.5}}, \"type\": \"bar\"}], \"barpolar\": [{\"marker\": {\"line\": {\"color\": \"white\", \"width\": 0.5}}, \"type\": \"barpolar\"}], \"carpet\": [{\"aaxis\": {\"endlinecolor\": \"#2a3f5f\", \"gridcolor\": \"#C8D4E3\", \"linecolor\": \"#C8D4E3\", \"minorgridcolor\": \"#C8D4E3\", \"startlinecolor\": \"#2a3f5f\"}, \"baxis\": {\"endlinecolor\": \"#2a3f5f\", \"gridcolor\": \"#C8D4E3\", \"linecolor\": \"#C8D4E3\", \"minorgridcolor\": \"#C8D4E3\", \"startlinecolor\": \"#2a3f5f\"}, \"type\": \"carpet\"}], \"choropleth\": [{\"colorbar\": {\"outlinewidth\": 0, \"ticks\": \"\"}, \"type\": \"choropleth\"}], \"contour\": [{\"colorbar\": {\"outlinewidth\": 0, \"ticks\": \"\"}, \"colorscale\": [[0.0, \"#0d0887\"], [0.1111111111111111, \"#46039f\"], [0.2222222222222222, \"#7201a8\"], [0.3333333333333333, \"#9c179e\"], [0.4444444444444444, \"#bd3786\"], [0.5555555555555556, \"#d8576b\"], [0.6666666666666666, \"#ed7953\"], [0.7777777777777778, \"#fb9f3a\"], [0.8888888888888888, \"#fdca26\"], [1.0, \"#f0f921\"]], \"type\": \"contour\"}], \"contourcarpet\": [{\"colorbar\": {\"outlinewidth\": 0, \"ticks\": \"\"}, \"type\": \"contourcarpet\"}], \"heatmap\": [{\"colorbar\": {\"outlinewidth\": 0, \"ticks\": \"\"}, \"colorscale\": [[0.0, \"#0d0887\"], [0.1111111111111111, \"#46039f\"], [0.2222222222222222, \"#7201a8\"], [0.3333333333333333, \"#9c179e\"], [0.4444444444444444, \"#bd3786\"], [0.5555555555555556, \"#d8576b\"], [0.6666666666666666, \"#ed7953\"], [0.7777777777777778, \"#fb9f3a\"], [0.8888888888888888, \"#fdca26\"], [1.0, \"#f0f921\"]], \"type\": \"heatmap\"}], \"heatmapgl\": [{\"colorbar\": {\"outlinewidth\": 0, \"ticks\": \"\"}, \"colorscale\": [[0.0, \"#0d0887\"], [0.1111111111111111, \"#46039f\"], [0.2222222222222222, \"#7201a8\"], [0.3333333333333333, \"#9c179e\"], [0.4444444444444444, \"#bd3786\"], [0.5555555555555556, \"#d8576b\"], [0.6666666666666666, \"#ed7953\"], [0.7777777777777778, \"#fb9f3a\"], [0.8888888888888888, \"#fdca26\"], [1.0, \"#f0f921\"]], \"type\": \"heatmapgl\"}], \"histogram\": [{\"marker\": {\"colorbar\": {\"outlinewidth\": 0, \"ticks\": \"\"}}, \"type\": \"histogram\"}], \"histogram2d\": [{\"colorbar\": {\"outlinewidth\": 0, \"ticks\": \"\"}, \"colorscale\": [[0.0, \"#0d0887\"], [0.1111111111111111, \"#46039f\"], [0.2222222222222222, \"#7201a8\"], [0.3333333333333333, \"#9c179e\"], [0.4444444444444444, \"#bd3786\"], [0.5555555555555556, \"#d8576b\"], [0.6666666666666666, \"#ed7953\"], [0.7777777777777778, \"#fb9f3a\"], [0.8888888888888888, \"#fdca26\"], [1.0, \"#f0f921\"]], \"type\": \"histogram2d\"}], \"histogram2dcontour\": [{\"colorbar\": {\"outlinewidth\": 0, \"ticks\": \"\"}, \"colorscale\": [[0.0, \"#0d0887\"], [0.1111111111111111, \"#46039f\"], [0.2222222222222222, \"#7201a8\"], [0.3333333333333333, \"#9c179e\"], [0.4444444444444444, \"#bd3786\"], [0.5555555555555556, \"#d8576b\"], [0.6666666666666666, \"#ed7953\"], [0.7777777777777778, \"#fb9f3a\"], [0.8888888888888888, \"#fdca26\"], [1.0, \"#f0f921\"]], \"type\": \"histogram2dcontour\"}], \"mesh3d\": [{\"colorbar\": {\"outlinewidth\": 0, \"ticks\": \"\"}, \"type\": \"mesh3d\"}], \"parcoords\": [{\"line\": {\"colorbar\": {\"outlinewidth\": 0, \"ticks\": \"\"}}, \"type\": \"parcoords\"}], \"pie\": [{\"automargin\": true, \"type\": \"pie\"}], \"scatter\": [{\"marker\": {\"colorbar\": {\"outlinewidth\": 0, \"ticks\": \"\"}}, \"type\": \"scatter\"}], \"scatter3d\": [{\"line\": {\"colorbar\": {\"outlinewidth\": 0, \"ticks\": \"\"}}, \"marker\": {\"colorbar\": {\"outlinewidth\": 0, \"ticks\": \"\"}}, \"type\": \"scatter3d\"}], \"scattercarpet\": [{\"marker\": {\"colorbar\": {\"outlinewidth\": 0, \"ticks\": \"\"}}, \"type\": \"scattercarpet\"}], \"scattergeo\": [{\"marker\": {\"colorbar\": {\"outlinewidth\": 0, \"ticks\": \"\"}}, \"type\": \"scattergeo\"}], \"scattergl\": [{\"marker\": {\"colorbar\": {\"outlinewidth\": 0, \"ticks\": \"\"}}, \"type\": \"scattergl\"}], \"scattermapbox\": [{\"marker\": {\"colorbar\": {\"outlinewidth\": 0, \"ticks\": \"\"}}, \"type\": \"scattermapbox\"}], \"scatterpolar\": [{\"marker\": {\"colorbar\": {\"outlinewidth\": 0, \"ticks\": \"\"}}, \"type\": \"scatterpolar\"}], \"scatterpolargl\": [{\"marker\": {\"colorbar\": {\"outlinewidth\": 0, \"ticks\": \"\"}}, \"type\": \"scatterpolargl\"}], \"scatterternary\": [{\"marker\": {\"colorbar\": {\"outlinewidth\": 0, \"ticks\": \"\"}}, \"type\": \"scatterternary\"}], \"surface\": [{\"colorbar\": {\"outlinewidth\": 0, \"ticks\": \"\"}, \"colorscale\": [[0.0, \"#0d0887\"], [0.1111111111111111, \"#46039f\"], [0.2222222222222222, \"#7201a8\"], [0.3333333333333333, \"#9c179e\"], [0.4444444444444444, \"#bd3786\"], [0.5555555555555556, \"#d8576b\"], [0.6666666666666666, \"#ed7953\"], [0.7777777777777778, \"#fb9f3a\"], [0.8888888888888888, \"#fdca26\"], [1.0, \"#f0f921\"]], \"type\": \"surface\"}], \"table\": [{\"cells\": {\"fill\": {\"color\": \"#EBF0F8\"}, \"line\": {\"color\": \"white\"}}, \"header\": {\"fill\": {\"color\": \"#C8D4E3\"}, \"line\": {\"color\": \"white\"}}, \"type\": \"table\"}]}, \"layout\": {\"annotationdefaults\": {\"arrowcolor\": \"#2a3f5f\", \"arrowhead\": 0, \"arrowwidth\": 1}, \"autotypenumbers\": \"strict\", \"coloraxis\": {\"colorbar\": {\"outlinewidth\": 0, \"ticks\": \"\"}}, \"colorscale\": {\"diverging\": [[0, \"#8e0152\"], [0.1, \"#c51b7d\"], [0.2, \"#de77ae\"], [0.3, \"#f1b6da\"], [0.4, \"#fde0ef\"], [0.5, \"#f7f7f7\"], [0.6, \"#e6f5d0\"], [0.7, \"#b8e186\"], [0.8, \"#7fbc41\"], [0.9, \"#4d9221\"], [1, \"#276419\"]], \"sequential\": [[0.0, \"#0d0887\"], [0.1111111111111111, \"#46039f\"], [0.2222222222222222, \"#7201a8\"], [0.3333333333333333, \"#9c179e\"], [0.4444444444444444, \"#bd3786\"], [0.5555555555555556, \"#d8576b\"], [0.6666666666666666, \"#ed7953\"], [0.7777777777777778, \"#fb9f3a\"], [0.8888888888888888, \"#fdca26\"], [1.0, \"#f0f921\"]], \"sequentialminus\": [[0.0, \"#0d0887\"], [0.1111111111111111, \"#46039f\"], [0.2222222222222222, \"#7201a8\"], [0.3333333333333333, \"#9c179e\"], [0.4444444444444444, \"#bd3786\"], [0.5555555555555556, \"#d8576b\"], [0.6666666666666666, \"#ed7953\"], [0.7777777777777778, \"#fb9f3a\"], [0.8888888888888888, \"#fdca26\"], [1.0, \"#f0f921\"]]}, \"colorway\": [\"#636efa\", \"#EF553B\", \"#00cc96\", \"#ab63fa\", \"#FFA15A\", \"#19d3f3\", \"#FF6692\", \"#B6E880\", \"#FF97FF\", \"#FECB52\"], \"font\": {\"color\": \"#2a3f5f\"}, \"geo\": {\"bgcolor\": \"white\", \"lakecolor\": \"white\", \"landcolor\": \"white\", \"showlakes\": true, \"showland\": true, \"subunitcolor\": \"#C8D4E3\"}, \"hoverlabel\": {\"align\": \"left\"}, \"hovermode\": \"closest\", \"mapbox\": {\"style\": \"light\"}, \"paper_bgcolor\": \"white\", \"plot_bgcolor\": \"white\", \"polar\": {\"angularaxis\": {\"gridcolor\": \"#EBF0F8\", \"linecolor\": \"#EBF0F8\", \"ticks\": \"\"}, \"bgcolor\": \"white\", \"radialaxis\": {\"gridcolor\": \"#EBF0F8\", \"linecolor\": \"#EBF0F8\", \"ticks\": \"\"}}, \"scene\": {\"xaxis\": {\"backgroundcolor\": \"white\", \"gridcolor\": \"#DFE8F3\", \"gridwidth\": 2, \"linecolor\": \"#EBF0F8\", \"showbackground\": true, \"ticks\": \"\", \"zerolinecolor\": \"#EBF0F8\"}, \"yaxis\": {\"backgroundcolor\": \"white\", \"gridcolor\": \"#DFE8F3\", \"gridwidth\": 2, \"linecolor\": \"#EBF0F8\", \"showbackground\": true, \"ticks\": \"\", \"zerolinecolor\": \"#EBF0F8\"}, \"zaxis\": {\"backgroundcolor\": \"white\", \"gridcolor\": \"#DFE8F3\", \"gridwidth\": 2, \"linecolor\": \"#EBF0F8\", \"showbackground\": true, \"ticks\": \"\", \"zerolinecolor\": \"#EBF0F8\"}}, \"shapedefaults\": {\"line\": {\"color\": \"#2a3f5f\"}}, \"ternary\": {\"aaxis\": {\"gridcolor\": \"#DFE8F3\", \"linecolor\": \"#A2B1C6\", \"ticks\": \"\"}, \"baxis\": {\"gridcolor\": \"#DFE8F3\", \"linecolor\": \"#A2B1C6\", \"ticks\": \"\"}, \"bgcolor\": \"white\", \"caxis\": {\"gridcolor\": \"#DFE8F3\", \"linecolor\": \"#A2B1C6\", \"ticks\": \"\"}}, \"title\": {\"x\": 0.05}, \"xaxis\": {\"automargin\": true, \"gridcolor\": \"#EBF0F8\", \"linecolor\": \"#EBF0F8\", \"ticks\": \"\", \"title\": {\"standoff\": 15}, \"zerolinecolor\": \"#EBF0F8\", \"zerolinewidth\": 2}, \"yaxis\": {\"automargin\": true, \"gridcolor\": \"#EBF0F8\", \"linecolor\": \"#EBF0F8\", \"ticks\": \"\", \"title\": {\"standoff\": 15}, \"zerolinecolor\": \"#EBF0F8\", \"zerolinewidth\": 2}}}, \"title\": {\"font\": {\"color\": \"Black\", \"size\": 22}, \"text\": \"<b>Hierarchical Clustering\", \"x\": 0.5, \"xanchor\": \"center\", \"y\": 0.95, \"yanchor\": \"top\"}, \"width\": 1000, \"xaxis\": {\"mirror\": \"allticks\", \"rangemode\": \"tozero\", \"showgrid\": false, \"showline\": true, \"showticklabels\": true, \"ticks\": \"outside\", \"type\": \"linear\", \"zeroline\": false}, \"yaxis\": {\"mirror\": \"allticks\", \"rangemode\": \"tozero\", \"showgrid\": false, \"showline\": true, \"showticklabels\": true, \"tickmode\": \"array\", \"ticks\": \"outside\", \"ticktext\": [\"3_mint_mintable_minting\", \"-1_nfts_collectors_nft\", \"2_work_nfts_understanding\", \"4_item_make_packs\", \"0_sell_nfts_buy\", \"1_art_artist_much\", \"5_copyright_nfts_ownership\", \"7_crypto_rarible_gift\", \"6_foundation_upvoted_wallet\", \"8_marketplace_opensea_build\"], \"tickvals\": [-5.0, -15.0, -25.0, -35.0, -45.0, -55.0, -65.0, -75.0, -85.0, -95.0], \"type\": \"linear\", \"zeroline\": false}},                        {\"responsive\": true}                    ).then(function(){\n",
              "                            \n",
              "var gd = document.getElementById('0a1f51a8-6dca-4bc8-8319-4f77f8e4451a');\n",
              "var x = new MutationObserver(function (mutations, observer) {{\n",
              "        var display = window.getComputedStyle(gd).display;\n",
              "        if (!display || display === 'none') {{\n",
              "            console.log([gd, 'removed!']);\n",
              "            Plotly.purge(gd);\n",
              "            observer.disconnect();\n",
              "        }}\n",
              "}});\n",
              "\n",
              "// Listen for the removal of the full notebook cells\n",
              "var notebookContainer = gd.closest('#notebook-container');\n",
              "if (notebookContainer) {{\n",
              "    x.observe(notebookContainer, {childList: true});\n",
              "}}\n",
              "\n",
              "// Listen for the clearing of the current output cell\n",
              "var outputEl = gd.closest('.output');\n",
              "if (outputEl) {{\n",
              "    x.observe(outputEl, {childList: true});\n",
              "}}\n",
              "\n",
              "                        })                };                            </script>        </div>\n",
              "</body>\n",
              "</html>"
            ]
          },
          "metadata": {
            "tags": []
          }
        }
      ]
    }
  ]
}