{
  "nbformat": 4,
  "nbformat_minor": 0,
  "metadata": {
    "accelerator": "GPU",
    "colab": {
      "name": "exp_1.ipynb",
      "provenance": [],
      "collapsed_sections": [],
      "authorship_tag": "ABX9TyMcIeWimlqUFg0h78IkKnK4",
      "include_colab_link": true
    },
    "kernelspec": {
      "display_name": "Python 3",
      "name": "python3"
    },
    "language_info": {
      "name": "python"
    }
  },
  "cells": [
    {
      "cell_type": "markdown",
      "metadata": {
        "id": "view-in-github",
        "colab_type": "text"
      },
      "source": [
        "<a href=\"https://colab.research.google.com/github/MasslessAI/narratelab/blob/master/exp/exp_1.ipynb\" target=\"_parent\"><img src=\"https://colab.research.google.com/assets/colab-badge.svg\" alt=\"Open In Colab\"/></a>"
      ]
    },
    {
      "cell_type": "markdown",
      "metadata": {
        "id": "hLraSPFiAspw"
      },
      "source": [
        "# Install Dependencies"
      ]
    },
    {
      "cell_type": "code",
      "metadata": {
        "colab": {
          "base_uri": "https://localhost:8080/"
        },
        "id": "4BkxwQbbIElv",
        "outputId": "d646bf26-b5c6-468e-9853-a42ba8ac045f"
      },
      "source": [
        "from google.colab import drive\n",
        "\n",
        "drive.mount('gdrive', force_remount=True)\n",
        "\n",
        "root_dir = '/content/gdrive/'\n",
        "\n",
        "gdrive_path = root_dir + 'MyDrive/narratelab/exp_1'\n",
        "\n",
        "!pip install --upgrade --user numpy\n",
        "!pip install spacy==3.1.0 sentence-transformers redditcleaner psaw pandas loguru distinctipy colour tqdm praw asyncpraw rake-spacy hdbscan\n",
        "!python -m spacy download en_core_web_trf\n",
        "!python -m spacy download en_core_web_sm"
      ],
      "execution_count": 1,
      "outputs": [
        {
          "output_type": "stream",
          "text": [
            "Mounted at gdrive\n",
            "Requirement already satisfied: spacy==3.1.0 in /usr/local/lib/python3.7/dist-packages (3.1.0)\n",
            "Requirement already satisfied: sentence-transformers in /usr/local/lib/python3.7/dist-packages (2.0.0)\n",
            "Requirement already satisfied: redditcleaner in /usr/local/lib/python3.7/dist-packages (1.1.2)\n",
            "Requirement already satisfied: psaw in /usr/local/lib/python3.7/dist-packages (0.1.0)\n",
            "Requirement already satisfied: pandas in /usr/local/lib/python3.7/dist-packages (1.1.5)\n",
            "Requirement already satisfied: loguru in /usr/local/lib/python3.7/dist-packages (0.5.3)\n",
            "Requirement already satisfied: distinctipy in /usr/local/lib/python3.7/dist-packages (1.1.5)\n",
            "Requirement already satisfied: colour in /usr/local/lib/python3.7/dist-packages (0.1.5)\n",
            "Requirement already satisfied: tqdm in /usr/local/lib/python3.7/dist-packages (4.41.1)\n",
            "Requirement already satisfied: praw in /usr/local/lib/python3.7/dist-packages (7.4.0)\n",
            "Requirement already satisfied: asyncpraw in /usr/local/lib/python3.7/dist-packages (7.4.0)\n",
            "Requirement already satisfied: rake-spacy in /usr/local/lib/python3.7/dist-packages (0.3.1)\n",
            "Requirement already satisfied: preshed<3.1.0,>=3.0.2 in /usr/local/lib/python3.7/dist-packages (from spacy==3.1.0) (3.0.5)\n",
            "Requirement already satisfied: blis<0.8.0,>=0.4.0 in /usr/local/lib/python3.7/dist-packages (from spacy==3.1.0) (0.4.1)\n",
            "Requirement already satisfied: thinc<8.1.0,>=8.0.7 in /usr/local/lib/python3.7/dist-packages (from spacy==3.1.0) (8.0.8)\n",
            "Requirement already satisfied: catalogue<2.1.0,>=2.0.4 in /usr/local/lib/python3.7/dist-packages (from spacy==3.1.0) (2.0.4)\n",
            "Requirement already satisfied: numpy>=1.15.0 in /root/.local/lib/python3.7/site-packages (from spacy==3.1.0) (1.21.1)\n",
            "Requirement already satisfied: spacy-legacy<3.1.0,>=3.0.7 in /usr/local/lib/python3.7/dist-packages (from spacy==3.1.0) (3.0.8)\n",
            "Requirement already satisfied: srsly<3.0.0,>=2.4.1 in /usr/local/lib/python3.7/dist-packages (from spacy==3.1.0) (2.4.1)\n",
            "Requirement already satisfied: setuptools in /usr/local/lib/python3.7/dist-packages (from spacy==3.1.0) (57.2.0)\n",
            "Requirement already satisfied: cymem<2.1.0,>=2.0.2 in /usr/local/lib/python3.7/dist-packages (from spacy==3.1.0) (2.0.5)\n",
            "Requirement already satisfied: pathy>=0.3.5 in /usr/local/lib/python3.7/dist-packages (from spacy==3.1.0) (0.6.0)\n",
            "Requirement already satisfied: typing-extensions<4.0.0.0,>=3.7.4 in /usr/local/lib/python3.7/dist-packages (from spacy==3.1.0) (3.7.4.3)\n",
            "Requirement already satisfied: packaging>=20.0 in /usr/local/lib/python3.7/dist-packages (from spacy==3.1.0) (21.0)\n",
            "Requirement already satisfied: pydantic!=1.8,!=1.8.1,<1.9.0,>=1.7.4 in /usr/local/lib/python3.7/dist-packages (from spacy==3.1.0) (1.8.2)\n",
            "Requirement already satisfied: jinja2 in /usr/local/lib/python3.7/dist-packages (from spacy==3.1.0) (2.11.3)\n",
            "Requirement already satisfied: wasabi<1.1.0,>=0.8.1 in /usr/local/lib/python3.7/dist-packages (from spacy==3.1.0) (0.8.2)\n",
            "Requirement already satisfied: requests<3.0.0,>=2.13.0 in /usr/local/lib/python3.7/dist-packages (from spacy==3.1.0) (2.23.0)\n",
            "Requirement already satisfied: typer<0.4.0,>=0.3.0 in /usr/local/lib/python3.7/dist-packages (from spacy==3.1.0) (0.3.2)\n",
            "Requirement already satisfied: murmurhash<1.1.0,>=0.28.0 in /usr/local/lib/python3.7/dist-packages (from spacy==3.1.0) (1.0.5)\n",
            "Requirement already satisfied: zipp>=0.5 in /usr/local/lib/python3.7/dist-packages (from catalogue<2.1.0,>=2.0.4->spacy==3.1.0) (3.5.0)\n",
            "Requirement already satisfied: pyparsing>=2.0.2 in /usr/local/lib/python3.7/dist-packages (from packaging>=20.0->spacy==3.1.0) (2.4.7)\n",
            "Requirement already satisfied: smart-open<6.0.0,>=5.0.0 in /usr/local/lib/python3.7/dist-packages (from pathy>=0.3.5->spacy==3.1.0) (5.1.0)\n",
            "Requirement already satisfied: chardet<4,>=3.0.2 in /usr/local/lib/python3.7/dist-packages (from requests<3.0.0,>=2.13.0->spacy==3.1.0) (3.0.4)\n",
            "Requirement already satisfied: urllib3!=1.25.0,!=1.25.1,<1.26,>=1.21.1 in /usr/local/lib/python3.7/dist-packages (from requests<3.0.0,>=2.13.0->spacy==3.1.0) (1.24.3)\n",
            "Requirement already satisfied: certifi>=2017.4.17 in /usr/local/lib/python3.7/dist-packages (from requests<3.0.0,>=2.13.0->spacy==3.1.0) (2021.5.30)\n",
            "Requirement already satisfied: idna<3,>=2.5 in /usr/local/lib/python3.7/dist-packages (from requests<3.0.0,>=2.13.0->spacy==3.1.0) (2.10)\n",
            "Requirement already satisfied: click<7.2.0,>=7.1.1 in /usr/local/lib/python3.7/dist-packages (from typer<0.4.0,>=0.3.0->spacy==3.1.0) (7.1.2)\n",
            "Requirement already satisfied: torch>=1.6.0 in /usr/local/lib/python3.7/dist-packages (from sentence-transformers) (1.9.0+cu102)\n",
            "Requirement already satisfied: scikit-learn in /usr/local/lib/python3.7/dist-packages (from sentence-transformers) (0.22.2.post1)\n",
            "Requirement already satisfied: sentencepiece in /usr/local/lib/python3.7/dist-packages (from sentence-transformers) (0.1.96)\n",
            "Requirement already satisfied: nltk in /usr/local/lib/python3.7/dist-packages (from sentence-transformers) (3.2.5)\n",
            "Requirement already satisfied: torchvision in /usr/local/lib/python3.7/dist-packages (from sentence-transformers) (0.10.0+cu102)\n",
            "Requirement already satisfied: huggingface-hub in /usr/local/lib/python3.7/dist-packages (from sentence-transformers) (0.0.8)\n",
            "Requirement already satisfied: scipy in /usr/local/lib/python3.7/dist-packages (from sentence-transformers) (1.4.1)\n",
            "Requirement already satisfied: transformers<5.0.0,>=4.6.0 in /usr/local/lib/python3.7/dist-packages (from sentence-transformers) (4.6.1)\n",
            "Requirement already satisfied: filelock in /usr/local/lib/python3.7/dist-packages (from transformers<5.0.0,>=4.6.0->sentence-transformers) (3.0.12)\n",
            "Requirement already satisfied: sacremoses in /usr/local/lib/python3.7/dist-packages (from transformers<5.0.0,>=4.6.0->sentence-transformers) (0.0.45)\n",
            "Requirement already satisfied: importlib-metadata in /usr/local/lib/python3.7/dist-packages (from transformers<5.0.0,>=4.6.0->sentence-transformers) (4.6.1)\n",
            "Requirement already satisfied: regex!=2019.12.17 in /usr/local/lib/python3.7/dist-packages (from transformers<5.0.0,>=4.6.0->sentence-transformers) (2019.12.20)\n",
            "Requirement already satisfied: tokenizers<0.11,>=0.10.1 in /usr/local/lib/python3.7/dist-packages (from transformers<5.0.0,>=4.6.0->sentence-transformers) (0.10.3)\n",
            "Requirement already satisfied: pytz>=2017.2 in /usr/local/lib/python3.7/dist-packages (from pandas) (2018.9)\n",
            "Requirement already satisfied: python-dateutil>=2.7.3 in /usr/local/lib/python3.7/dist-packages (from pandas) (2.8.1)\n",
            "Requirement already satisfied: six>=1.5 in /usr/local/lib/python3.7/dist-packages (from python-dateutil>=2.7.3->pandas) (1.15.0)\n",
            "Requirement already satisfied: matplotlib in /usr/local/lib/python3.7/dist-packages (from distinctipy) (3.2.2)\n",
            "Requirement already satisfied: update-checker>=0.18 in /usr/local/lib/python3.7/dist-packages (from praw) (0.18.0)\n",
            "Requirement already satisfied: websocket-client>=0.54.0 in /usr/local/lib/python3.7/dist-packages (from praw) (1.1.1)\n",
            "Requirement already satisfied: prawcore<3,>=2.1 in /usr/local/lib/python3.7/dist-packages (from praw) (2.3.0)\n",
            "Requirement already satisfied: asyncprawcore<3,>=2.1 in /usr/local/lib/python3.7/dist-packages (from asyncpraw) (2.3.0)\n",
            "Requirement already satisfied: asyncio-extras<=1.3.2 in /usr/local/lib/python3.7/dist-packages (from asyncpraw) (1.3.2)\n",
            "Requirement already satisfied: aiosqlite<=0.17.0 in /usr/local/lib/python3.7/dist-packages (from asyncpraw) (0.17.0)\n",
            "Requirement already satisfied: aiofiles<=0.6.0 in /usr/local/lib/python3.7/dist-packages (from asyncpraw) (0.6.0)\n",
            "Requirement already satisfied: async-generator>=1.3 in /usr/local/lib/python3.7/dist-packages (from asyncio-extras<=1.3.2->asyncpraw) (1.10)\n",
            "Requirement already satisfied: aiohttp in /usr/local/lib/python3.7/dist-packages (from asyncprawcore<3,>=2.1->asyncpraw) (3.7.4.post0)\n",
            "Requirement already satisfied: yarl in /usr/local/lib/python3.7/dist-packages (from asyncprawcore<3,>=2.1->asyncpraw) (1.6.3)\n",
            "Requirement already satisfied: multidict<7.0,>=4.5 in /usr/local/lib/python3.7/dist-packages (from aiohttp->asyncprawcore<3,>=2.1->asyncpraw) (5.1.0)\n",
            "Requirement already satisfied: async-timeout<4.0,>=3.0 in /usr/local/lib/python3.7/dist-packages (from aiohttp->asyncprawcore<3,>=2.1->asyncpraw) (3.0.1)\n",
            "Requirement already satisfied: attrs>=17.3.0 in /usr/local/lib/python3.7/dist-packages (from aiohttp->asyncprawcore<3,>=2.1->asyncpraw) (21.2.0)\n",
            "Requirement already satisfied: MarkupSafe>=0.23 in /usr/local/lib/python3.7/dist-packages (from jinja2->spacy==3.1.0) (2.0.1)\n",
            "Requirement already satisfied: cycler>=0.10 in /usr/local/lib/python3.7/dist-packages (from matplotlib->distinctipy) (0.10.0)\n",
            "Requirement already satisfied: kiwisolver>=1.0.1 in /usr/local/lib/python3.7/dist-packages (from matplotlib->distinctipy) (1.3.1)\n",
            "Requirement already satisfied: joblib in /usr/local/lib/python3.7/dist-packages (from sacremoses->transformers<5.0.0,>=4.6.0->sentence-transformers) (1.0.1)\n",
            "Requirement already satisfied: pillow>=5.3.0 in /usr/local/lib/python3.7/dist-packages (from torchvision->sentence-transformers) (7.1.2)\n",
            "2021-08-09 21:45:04.874143: I tensorflow/stream_executor/platform/default/dso_loader.cc:53] Successfully opened dynamic library libcudart.so.11.0\n",
            "Collecting en-core-web-trf==3.1.0\n",
            "  Downloading https://github.com/explosion/spacy-models/releases/download/en_core_web_trf-3.1.0/en_core_web_trf-3.1.0-py3-none-any.whl (460.2 MB)\n",
            "\u001b[K     |████████████████████████████████| 460.2 MB 8.5 kB/s \n",
            "\u001b[?25hRequirement already satisfied: spacy<3.2.0,>=3.1.0 in /usr/local/lib/python3.7/dist-packages (from en-core-web-trf==3.1.0) (3.1.0)\n",
            "Requirement already satisfied: spacy-transformers<1.1.0,>=1.0.3 in /usr/local/lib/python3.7/dist-packages (from en-core-web-trf==3.1.0) (1.0.3)\n",
            "Requirement already satisfied: pathy>=0.3.5 in /usr/local/lib/python3.7/dist-packages (from spacy<3.2.0,>=3.1.0->en-core-web-trf==3.1.0) (0.6.0)\n",
            "Requirement already satisfied: blis<0.8.0,>=0.4.0 in /usr/local/lib/python3.7/dist-packages (from spacy<3.2.0,>=3.1.0->en-core-web-trf==3.1.0) (0.4.1)\n",
            "Requirement already satisfied: typer<0.4.0,>=0.3.0 in /usr/local/lib/python3.7/dist-packages (from spacy<3.2.0,>=3.1.0->en-core-web-trf==3.1.0) (0.3.2)\n",
            "Requirement already satisfied: tqdm<5.0.0,>=4.38.0 in /usr/local/lib/python3.7/dist-packages (from spacy<3.2.0,>=3.1.0->en-core-web-trf==3.1.0) (4.41.1)\n",
            "Requirement already satisfied: srsly<3.0.0,>=2.4.1 in /usr/local/lib/python3.7/dist-packages (from spacy<3.2.0,>=3.1.0->en-core-web-trf==3.1.0) (2.4.1)\n",
            "Requirement already satisfied: spacy-legacy<3.1.0,>=3.0.7 in /usr/local/lib/python3.7/dist-packages (from spacy<3.2.0,>=3.1.0->en-core-web-trf==3.1.0) (3.0.8)\n",
            "Requirement already satisfied: preshed<3.1.0,>=3.0.2 in /usr/local/lib/python3.7/dist-packages (from spacy<3.2.0,>=3.1.0->en-core-web-trf==3.1.0) (3.0.5)\n",
            "Requirement already satisfied: wasabi<1.1.0,>=0.8.1 in /usr/local/lib/python3.7/dist-packages (from spacy<3.2.0,>=3.1.0->en-core-web-trf==3.1.0) (0.8.2)\n",
            "Requirement already satisfied: packaging>=20.0 in /usr/local/lib/python3.7/dist-packages (from spacy<3.2.0,>=3.1.0->en-core-web-trf==3.1.0) (21.0)\n",
            "Requirement already satisfied: typing-extensions<4.0.0.0,>=3.7.4 in /usr/local/lib/python3.7/dist-packages (from spacy<3.2.0,>=3.1.0->en-core-web-trf==3.1.0) (3.7.4.3)\n",
            "Requirement already satisfied: thinc<8.1.0,>=8.0.7 in /usr/local/lib/python3.7/dist-packages (from spacy<3.2.0,>=3.1.0->en-core-web-trf==3.1.0) (8.0.8)\n",
            "Requirement already satisfied: catalogue<2.1.0,>=2.0.4 in /usr/local/lib/python3.7/dist-packages (from spacy<3.2.0,>=3.1.0->en-core-web-trf==3.1.0) (2.0.4)\n",
            "Requirement already satisfied: setuptools in /usr/local/lib/python3.7/dist-packages (from spacy<3.2.0,>=3.1.0->en-core-web-trf==3.1.0) (57.2.0)\n",
            "Requirement already satisfied: murmurhash<1.1.0,>=0.28.0 in /usr/local/lib/python3.7/dist-packages (from spacy<3.2.0,>=3.1.0->en-core-web-trf==3.1.0) (1.0.5)\n",
            "Requirement already satisfied: numpy>=1.15.0 in /root/.local/lib/python3.7/site-packages (from spacy<3.2.0,>=3.1.0->en-core-web-trf==3.1.0) (1.21.1)\n",
            "Requirement already satisfied: pydantic!=1.8,!=1.8.1,<1.9.0,>=1.7.4 in /usr/local/lib/python3.7/dist-packages (from spacy<3.2.0,>=3.1.0->en-core-web-trf==3.1.0) (1.8.2)\n",
            "Requirement already satisfied: cymem<2.1.0,>=2.0.2 in /usr/local/lib/python3.7/dist-packages (from spacy<3.2.0,>=3.1.0->en-core-web-trf==3.1.0) (2.0.5)\n",
            "Requirement already satisfied: jinja2 in /usr/local/lib/python3.7/dist-packages (from spacy<3.2.0,>=3.1.0->en-core-web-trf==3.1.0) (2.11.3)\n",
            "Requirement already satisfied: requests<3.0.0,>=2.13.0 in /usr/local/lib/python3.7/dist-packages (from spacy<3.2.0,>=3.1.0->en-core-web-trf==3.1.0) (2.23.0)\n",
            "Requirement already satisfied: zipp>=0.5 in /usr/local/lib/python3.7/dist-packages (from catalogue<2.1.0,>=2.0.4->spacy<3.2.0,>=3.1.0->en-core-web-trf==3.1.0) (3.5.0)\n",
            "Requirement already satisfied: pyparsing>=2.0.2 in /usr/local/lib/python3.7/dist-packages (from packaging>=20.0->spacy<3.2.0,>=3.1.0->en-core-web-trf==3.1.0) (2.4.7)\n",
            "Requirement already satisfied: smart-open<6.0.0,>=5.0.0 in /usr/local/lib/python3.7/dist-packages (from pathy>=0.3.5->spacy<3.2.0,>=3.1.0->en-core-web-trf==3.1.0) (5.1.0)\n",
            "Requirement already satisfied: urllib3!=1.25.0,!=1.25.1,<1.26,>=1.21.1 in /usr/local/lib/python3.7/dist-packages (from requests<3.0.0,>=2.13.0->spacy<3.2.0,>=3.1.0->en-core-web-trf==3.1.0) (1.24.3)\n",
            "Requirement already satisfied: certifi>=2017.4.17 in /usr/local/lib/python3.7/dist-packages (from requests<3.0.0,>=2.13.0->spacy<3.2.0,>=3.1.0->en-core-web-trf==3.1.0) (2021.5.30)\n",
            "Requirement already satisfied: idna<3,>=2.5 in /usr/local/lib/python3.7/dist-packages (from requests<3.0.0,>=2.13.0->spacy<3.2.0,>=3.1.0->en-core-web-trf==3.1.0) (2.10)\n",
            "Requirement already satisfied: chardet<4,>=3.0.2 in /usr/local/lib/python3.7/dist-packages (from requests<3.0.0,>=2.13.0->spacy<3.2.0,>=3.1.0->en-core-web-trf==3.1.0) (3.0.4)\n",
            "Requirement already satisfied: transformers<4.7.0,>=3.4.0 in /usr/local/lib/python3.7/dist-packages (from spacy-transformers<1.1.0,>=1.0.3->en-core-web-trf==3.1.0) (4.6.1)\n",
            "Requirement already satisfied: torch>=1.5.0 in /usr/local/lib/python3.7/dist-packages (from spacy-transformers<1.1.0,>=1.0.3->en-core-web-trf==3.1.0) (1.9.0+cu102)\n",
            "Requirement already satisfied: spacy-alignments<1.0.0,>=0.7.2 in /usr/local/lib/python3.7/dist-packages (from spacy-transformers<1.1.0,>=1.0.3->en-core-web-trf==3.1.0) (0.8.3)\n",
            "Requirement already satisfied: tokenizers<0.11,>=0.10.1 in /usr/local/lib/python3.7/dist-packages (from transformers<4.7.0,>=3.4.0->spacy-transformers<1.1.0,>=1.0.3->en-core-web-trf==3.1.0) (0.10.3)\n",
            "Requirement already satisfied: importlib-metadata in /usr/local/lib/python3.7/dist-packages (from transformers<4.7.0,>=3.4.0->spacy-transformers<1.1.0,>=1.0.3->en-core-web-trf==3.1.0) (4.6.1)\n",
            "Requirement already satisfied: regex!=2019.12.17 in /usr/local/lib/python3.7/dist-packages (from transformers<4.7.0,>=3.4.0->spacy-transformers<1.1.0,>=1.0.3->en-core-web-trf==3.1.0) (2019.12.20)\n",
            "Requirement already satisfied: huggingface-hub==0.0.8 in /usr/local/lib/python3.7/dist-packages (from transformers<4.7.0,>=3.4.0->spacy-transformers<1.1.0,>=1.0.3->en-core-web-trf==3.1.0) (0.0.8)\n",
            "Requirement already satisfied: filelock in /usr/local/lib/python3.7/dist-packages (from transformers<4.7.0,>=3.4.0->spacy-transformers<1.1.0,>=1.0.3->en-core-web-trf==3.1.0) (3.0.12)\n",
            "Requirement already satisfied: sacremoses in /usr/local/lib/python3.7/dist-packages (from transformers<4.7.0,>=3.4.0->spacy-transformers<1.1.0,>=1.0.3->en-core-web-trf==3.1.0) (0.0.45)\n",
            "Requirement already satisfied: click<7.2.0,>=7.1.1 in /usr/local/lib/python3.7/dist-packages (from typer<0.4.0,>=0.3.0->spacy<3.2.0,>=3.1.0->en-core-web-trf==3.1.0) (7.1.2)\n",
            "Requirement already satisfied: MarkupSafe>=0.23 in /usr/local/lib/python3.7/dist-packages (from jinja2->spacy<3.2.0,>=3.1.0->en-core-web-trf==3.1.0) (2.0.1)\n",
            "Requirement already satisfied: joblib in /usr/local/lib/python3.7/dist-packages (from sacremoses->transformers<4.7.0,>=3.4.0->spacy-transformers<1.1.0,>=1.0.3->en-core-web-trf==3.1.0) (1.0.1)\n",
            "Requirement already satisfied: six in /usr/local/lib/python3.7/dist-packages (from sacremoses->transformers<4.7.0,>=3.4.0->spacy-transformers<1.1.0,>=1.0.3->en-core-web-trf==3.1.0) (1.15.0)\n",
            "\u001b[38;5;2m✔ Download and installation successful\u001b[0m\n",
            "You can now load the package via spacy.load('en_core_web_trf')\n",
            "2021-08-09 21:45:42.383677: I tensorflow/stream_executor/platform/default/dso_loader.cc:53] Successfully opened dynamic library libcudart.so.11.0\n",
            "Collecting en-core-web-sm==3.1.0\n",
            "  Downloading https://github.com/explosion/spacy-models/releases/download/en_core_web_sm-3.1.0/en_core_web_sm-3.1.0-py3-none-any.whl (13.6 MB)\n",
            "\u001b[K     |████████████████████████████████| 13.6 MB 168 kB/s \n",
            "\u001b[?25hRequirement already satisfied: spacy<3.2.0,>=3.1.0 in /usr/local/lib/python3.7/dist-packages (from en-core-web-sm==3.1.0) (3.1.0)\n",
            "Requirement already satisfied: typing-extensions<4.0.0.0,>=3.7.4 in /usr/local/lib/python3.7/dist-packages (from spacy<3.2.0,>=3.1.0->en-core-web-sm==3.1.0) (3.7.4.3)\n",
            "Requirement already satisfied: pydantic!=1.8,!=1.8.1,<1.9.0,>=1.7.4 in /usr/local/lib/python3.7/dist-packages (from spacy<3.2.0,>=3.1.0->en-core-web-sm==3.1.0) (1.8.2)\n",
            "Requirement already satisfied: jinja2 in /usr/local/lib/python3.7/dist-packages (from spacy<3.2.0,>=3.1.0->en-core-web-sm==3.1.0) (2.11.3)\n",
            "Requirement already satisfied: blis<0.8.0,>=0.4.0 in /usr/local/lib/python3.7/dist-packages (from spacy<3.2.0,>=3.1.0->en-core-web-sm==3.1.0) (0.4.1)\n",
            "Requirement already satisfied: setuptools in /usr/local/lib/python3.7/dist-packages (from spacy<3.2.0,>=3.1.0->en-core-web-sm==3.1.0) (57.2.0)\n",
            "Requirement already satisfied: cymem<2.1.0,>=2.0.2 in /usr/local/lib/python3.7/dist-packages (from spacy<3.2.0,>=3.1.0->en-core-web-sm==3.1.0) (2.0.5)\n",
            "Requirement already satisfied: thinc<8.1.0,>=8.0.7 in /usr/local/lib/python3.7/dist-packages (from spacy<3.2.0,>=3.1.0->en-core-web-sm==3.1.0) (8.0.8)\n",
            "Requirement already satisfied: pathy>=0.3.5 in /usr/local/lib/python3.7/dist-packages (from spacy<3.2.0,>=3.1.0->en-core-web-sm==3.1.0) (0.6.0)\n",
            "Requirement already satisfied: requests<3.0.0,>=2.13.0 in /usr/local/lib/python3.7/dist-packages (from spacy<3.2.0,>=3.1.0->en-core-web-sm==3.1.0) (2.23.0)\n",
            "Requirement already satisfied: numpy>=1.15.0 in /root/.local/lib/python3.7/site-packages (from spacy<3.2.0,>=3.1.0->en-core-web-sm==3.1.0) (1.21.1)\n",
            "Requirement already satisfied: wasabi<1.1.0,>=0.8.1 in /usr/local/lib/python3.7/dist-packages (from spacy<3.2.0,>=3.1.0->en-core-web-sm==3.1.0) (0.8.2)\n",
            "Requirement already satisfied: preshed<3.1.0,>=3.0.2 in /usr/local/lib/python3.7/dist-packages (from spacy<3.2.0,>=3.1.0->en-core-web-sm==3.1.0) (3.0.5)\n",
            "Requirement already satisfied: catalogue<2.1.0,>=2.0.4 in /usr/local/lib/python3.7/dist-packages (from spacy<3.2.0,>=3.1.0->en-core-web-sm==3.1.0) (2.0.4)\n",
            "Requirement already satisfied: spacy-legacy<3.1.0,>=3.0.7 in /usr/local/lib/python3.7/dist-packages (from spacy<3.2.0,>=3.1.0->en-core-web-sm==3.1.0) (3.0.8)\n",
            "Requirement already satisfied: tqdm<5.0.0,>=4.38.0 in /usr/local/lib/python3.7/dist-packages (from spacy<3.2.0,>=3.1.0->en-core-web-sm==3.1.0) (4.41.1)\n",
            "Requirement already satisfied: packaging>=20.0 in /usr/local/lib/python3.7/dist-packages (from spacy<3.2.0,>=3.1.0->en-core-web-sm==3.1.0) (21.0)\n",
            "Requirement already satisfied: murmurhash<1.1.0,>=0.28.0 in /usr/local/lib/python3.7/dist-packages (from spacy<3.2.0,>=3.1.0->en-core-web-sm==3.1.0) (1.0.5)\n",
            "Requirement already satisfied: srsly<3.0.0,>=2.4.1 in /usr/local/lib/python3.7/dist-packages (from spacy<3.2.0,>=3.1.0->en-core-web-sm==3.1.0) (2.4.1)\n",
            "Requirement already satisfied: typer<0.4.0,>=0.3.0 in /usr/local/lib/python3.7/dist-packages (from spacy<3.2.0,>=3.1.0->en-core-web-sm==3.1.0) (0.3.2)\n",
            "Requirement already satisfied: zipp>=0.5 in /usr/local/lib/python3.7/dist-packages (from catalogue<2.1.0,>=2.0.4->spacy<3.2.0,>=3.1.0->en-core-web-sm==3.1.0) (3.5.0)\n",
            "Requirement already satisfied: pyparsing>=2.0.2 in /usr/local/lib/python3.7/dist-packages (from packaging>=20.0->spacy<3.2.0,>=3.1.0->en-core-web-sm==3.1.0) (2.4.7)\n",
            "Requirement already satisfied: smart-open<6.0.0,>=5.0.0 in /usr/local/lib/python3.7/dist-packages (from pathy>=0.3.5->spacy<3.2.0,>=3.1.0->en-core-web-sm==3.1.0) (5.1.0)\n",
            "Requirement already satisfied: chardet<4,>=3.0.2 in /usr/local/lib/python3.7/dist-packages (from requests<3.0.0,>=2.13.0->spacy<3.2.0,>=3.1.0->en-core-web-sm==3.1.0) (3.0.4)\n",
            "Requirement already satisfied: certifi>=2017.4.17 in /usr/local/lib/python3.7/dist-packages (from requests<3.0.0,>=2.13.0->spacy<3.2.0,>=3.1.0->en-core-web-sm==3.1.0) (2021.5.30)\n",
            "Requirement already satisfied: urllib3!=1.25.0,!=1.25.1,<1.26,>=1.21.1 in /usr/local/lib/python3.7/dist-packages (from requests<3.0.0,>=2.13.0->spacy<3.2.0,>=3.1.0->en-core-web-sm==3.1.0) (1.24.3)\n",
            "Requirement already satisfied: idna<3,>=2.5 in /usr/local/lib/python3.7/dist-packages (from requests<3.0.0,>=2.13.0->spacy<3.2.0,>=3.1.0->en-core-web-sm==3.1.0) (2.10)\n",
            "Requirement already satisfied: click<7.2.0,>=7.1.1 in /usr/local/lib/python3.7/dist-packages (from typer<0.4.0,>=0.3.0->spacy<3.2.0,>=3.1.0->en-core-web-sm==3.1.0) (7.1.2)\n",
            "Requirement already satisfied: MarkupSafe>=0.23 in /usr/local/lib/python3.7/dist-packages (from jinja2->spacy<3.2.0,>=3.1.0->en-core-web-sm==3.1.0) (2.0.1)\n",
            "\u001b[38;5;2m✔ Download and installation successful\u001b[0m\n",
            "You can now load the package via spacy.load('en_core_web_sm')\n"
          ],
          "name": "stdout"
        }
      ]
    },
    {
      "cell_type": "code",
      "metadata": {
        "id": "wTrXSLnJKQSJ"
      },
      "source": [
        "import os\n",
        "path = \"/content\" # /content is pretty much the root. you can choose other path in your colab workspace\n",
        "os.chdir(path)"
      ],
      "execution_count": 2,
      "outputs": []
    },
    {
      "cell_type": "code",
      "metadata": {
        "colab": {
          "base_uri": "https://localhost:8080/"
        },
        "id": "q_CTzfw2w-Ok",
        "outputId": "b7c16c2d-20d5-44c6-808b-04ee5a473c14"
      },
      "source": [
        "# 1. Download the repo and set it as the current directory\n",
        "!pip uninstall bertopic --yes\n",
        "!rm -fr BERTopic\n",
        "!git clone https://github.com/MasslessAI/BERTopic.git\n",
        "%cd BERTopic\n",
        "\n",
        "# 2. install the project/module\n",
        "!python setup.py install\n",
        "\n",
        "# 3. Add the project directory to the path\n",
        "import os, sys\n",
        "sys.path.append(os.getcwd())\n",
        "\n",
        "%cd .."
      ],
      "execution_count": 3,
      "outputs": [
        {
          "output_type": "stream",
          "text": [
            "Found existing installation: bertopic 0.8.1\n",
            "Uninstalling bertopic-0.8.1:\n",
            "  Successfully uninstalled bertopic-0.8.1\n",
            "Cloning into 'BERTopic'...\n",
            "remote: Enumerating objects: 1125, done.\u001b[K\n",
            "remote: Counting objects: 100% (174/174), done.\u001b[K\n",
            "remote: Compressing objects: 100% (103/103), done.\u001b[K\n",
            "remote: Total 1125 (delta 111), reused 77 (delta 71), pack-reused 951\u001b[K\n",
            "Receiving objects: 100% (1125/1125), 7.02 MiB | 14.54 MiB/s, done.\n",
            "Resolving deltas: 100% (604/604), done.\n",
            "/content/BERTopic\n",
            "running install\n",
            "running bdist_egg\n",
            "running egg_info\n",
            "creating bertopic.egg-info\n",
            "writing bertopic.egg-info/PKG-INFO\n",
            "writing dependency_links to bertopic.egg-info/dependency_links.txt\n",
            "writing requirements to bertopic.egg-info/requires.txt\n",
            "writing top-level names to bertopic.egg-info/top_level.txt\n",
            "writing manifest file 'bertopic.egg-info/SOURCES.txt'\n",
            "adding license file 'LICENSE'\n",
            "writing manifest file 'bertopic.egg-info/SOURCES.txt'\n",
            "installing library code to build/bdist.linux-x86_64/egg\n",
            "running install_lib\n",
            "running build_py\n",
            "creating build\n",
            "creating build/lib\n",
            "creating build/lib/bertopic\n",
            "copying bertopic/_ctfidf.py -> build/lib/bertopic\n",
            "copying bertopic/_bertopic.py -> build/lib/bertopic\n",
            "copying bertopic/_mmr.py -> build/lib/bertopic\n",
            "copying bertopic/__init__.py -> build/lib/bertopic\n",
            "copying bertopic/_utils.py -> build/lib/bertopic\n",
            "creating build/lib/tests\n",
            "copying tests/conftest.py -> build/lib/tests\n",
            "copying tests/test_other.py -> build/lib/tests\n",
            "copying tests/test_models.py -> build/lib/tests\n",
            "copying tests/test_bertopic.py -> build/lib/tests\n",
            "copying tests/__init__.py -> build/lib/tests\n",
            "copying tests/test_topic_representation.py -> build/lib/tests\n",
            "copying tests/test_utils.py -> build/lib/tests\n",
            "creating build/lib/bertopic/backend\n",
            "copying bertopic/backend/_word_doc.py -> build/lib/bertopic/backend\n",
            "copying bertopic/backend/_spacy.py -> build/lib/bertopic/backend\n",
            "copying bertopic/backend/_gensim.py -> build/lib/bertopic/backend\n",
            "copying bertopic/backend/__init__.py -> build/lib/bertopic/backend\n",
            "copying bertopic/backend/_utils.py -> build/lib/bertopic/backend\n",
            "copying bertopic/backend/_base.py -> build/lib/bertopic/backend\n",
            "copying bertopic/backend/_use.py -> build/lib/bertopic/backend\n",
            "copying bertopic/backend/_sentencetransformers.py -> build/lib/bertopic/backend\n",
            "copying bertopic/backend/_flair.py -> build/lib/bertopic/backend\n",
            "creating build/lib/bertopic/plotting\n",
            "copying bertopic/plotting/_hierarchy.py -> build/lib/bertopic/plotting\n",
            "copying bertopic/plotting/_term_rank.py -> build/lib/bertopic/plotting\n",
            "copying bertopic/plotting/_distribution.py -> build/lib/bertopic/plotting\n",
            "copying bertopic/plotting/_topics_per_class.py -> build/lib/bertopic/plotting\n",
            "copying bertopic/plotting/_topics_over_time.py -> build/lib/bertopic/plotting\n",
            "copying bertopic/plotting/_barchart.py -> build/lib/bertopic/plotting\n",
            "copying bertopic/plotting/_topics.py -> build/lib/bertopic/plotting\n",
            "copying bertopic/plotting/_heatmap.py -> build/lib/bertopic/plotting\n",
            "copying bertopic/plotting/__init__.py -> build/lib/bertopic/plotting\n",
            "creating build/bdist.linux-x86_64\n",
            "creating build/bdist.linux-x86_64/egg\n",
            "creating build/bdist.linux-x86_64/egg/bertopic\n",
            "copying build/lib/bertopic/_ctfidf.py -> build/bdist.linux-x86_64/egg/bertopic\n",
            "copying build/lib/bertopic/_bertopic.py -> build/bdist.linux-x86_64/egg/bertopic\n",
            "copying build/lib/bertopic/_mmr.py -> build/bdist.linux-x86_64/egg/bertopic\n",
            "creating build/bdist.linux-x86_64/egg/bertopic/backend\n",
            "copying build/lib/bertopic/backend/_word_doc.py -> build/bdist.linux-x86_64/egg/bertopic/backend\n",
            "copying build/lib/bertopic/backend/_spacy.py -> build/bdist.linux-x86_64/egg/bertopic/backend\n",
            "copying build/lib/bertopic/backend/_gensim.py -> build/bdist.linux-x86_64/egg/bertopic/backend\n",
            "copying build/lib/bertopic/backend/__init__.py -> build/bdist.linux-x86_64/egg/bertopic/backend\n",
            "copying build/lib/bertopic/backend/_utils.py -> build/bdist.linux-x86_64/egg/bertopic/backend\n",
            "copying build/lib/bertopic/backend/_base.py -> build/bdist.linux-x86_64/egg/bertopic/backend\n",
            "copying build/lib/bertopic/backend/_use.py -> build/bdist.linux-x86_64/egg/bertopic/backend\n",
            "copying build/lib/bertopic/backend/_sentencetransformers.py -> build/bdist.linux-x86_64/egg/bertopic/backend\n",
            "copying build/lib/bertopic/backend/_flair.py -> build/bdist.linux-x86_64/egg/bertopic/backend\n",
            "creating build/bdist.linux-x86_64/egg/bertopic/plotting\n",
            "copying build/lib/bertopic/plotting/_hierarchy.py -> build/bdist.linux-x86_64/egg/bertopic/plotting\n",
            "copying build/lib/bertopic/plotting/_term_rank.py -> build/bdist.linux-x86_64/egg/bertopic/plotting\n",
            "copying build/lib/bertopic/plotting/_distribution.py -> build/bdist.linux-x86_64/egg/bertopic/plotting\n",
            "copying build/lib/bertopic/plotting/_topics_per_class.py -> build/bdist.linux-x86_64/egg/bertopic/plotting\n",
            "copying build/lib/bertopic/plotting/_topics_over_time.py -> build/bdist.linux-x86_64/egg/bertopic/plotting\n",
            "copying build/lib/bertopic/plotting/_barchart.py -> build/bdist.linux-x86_64/egg/bertopic/plotting\n",
            "copying build/lib/bertopic/plotting/_topics.py -> build/bdist.linux-x86_64/egg/bertopic/plotting\n",
            "copying build/lib/bertopic/plotting/_heatmap.py -> build/bdist.linux-x86_64/egg/bertopic/plotting\n",
            "copying build/lib/bertopic/plotting/__init__.py -> build/bdist.linux-x86_64/egg/bertopic/plotting\n",
            "copying build/lib/bertopic/__init__.py -> build/bdist.linux-x86_64/egg/bertopic\n",
            "copying build/lib/bertopic/_utils.py -> build/bdist.linux-x86_64/egg/bertopic\n",
            "creating build/bdist.linux-x86_64/egg/tests\n",
            "copying build/lib/tests/conftest.py -> build/bdist.linux-x86_64/egg/tests\n",
            "copying build/lib/tests/test_other.py -> build/bdist.linux-x86_64/egg/tests\n",
            "copying build/lib/tests/test_models.py -> build/bdist.linux-x86_64/egg/tests\n",
            "copying build/lib/tests/test_bertopic.py -> build/bdist.linux-x86_64/egg/tests\n",
            "copying build/lib/tests/__init__.py -> build/bdist.linux-x86_64/egg/tests\n",
            "copying build/lib/tests/test_topic_representation.py -> build/bdist.linux-x86_64/egg/tests\n",
            "copying build/lib/tests/test_utils.py -> build/bdist.linux-x86_64/egg/tests\n",
            "byte-compiling build/bdist.linux-x86_64/egg/bertopic/_ctfidf.py to _ctfidf.cpython-37.pyc\n",
            "byte-compiling build/bdist.linux-x86_64/egg/bertopic/_bertopic.py to _bertopic.cpython-37.pyc\n",
            "byte-compiling build/bdist.linux-x86_64/egg/bertopic/_mmr.py to _mmr.cpython-37.pyc\n",
            "byte-compiling build/bdist.linux-x86_64/egg/bertopic/backend/_word_doc.py to _word_doc.cpython-37.pyc\n",
            "byte-compiling build/bdist.linux-x86_64/egg/bertopic/backend/_spacy.py to _spacy.cpython-37.pyc\n",
            "byte-compiling build/bdist.linux-x86_64/egg/bertopic/backend/_gensim.py to _gensim.cpython-37.pyc\n",
            "byte-compiling build/bdist.linux-x86_64/egg/bertopic/backend/__init__.py to __init__.cpython-37.pyc\n",
            "byte-compiling build/bdist.linux-x86_64/egg/bertopic/backend/_utils.py to _utils.cpython-37.pyc\n",
            "byte-compiling build/bdist.linux-x86_64/egg/bertopic/backend/_base.py to _base.cpython-37.pyc\n",
            "byte-compiling build/bdist.linux-x86_64/egg/bertopic/backend/_use.py to _use.cpython-37.pyc\n",
            "byte-compiling build/bdist.linux-x86_64/egg/bertopic/backend/_sentencetransformers.py to _sentencetransformers.cpython-37.pyc\n",
            "byte-compiling build/bdist.linux-x86_64/egg/bertopic/backend/_flair.py to _flair.cpython-37.pyc\n",
            "byte-compiling build/bdist.linux-x86_64/egg/bertopic/plotting/_hierarchy.py to _hierarchy.cpython-37.pyc\n",
            "byte-compiling build/bdist.linux-x86_64/egg/bertopic/plotting/_term_rank.py to _term_rank.cpython-37.pyc\n",
            "byte-compiling build/bdist.linux-x86_64/egg/bertopic/plotting/_distribution.py to _distribution.cpython-37.pyc\n",
            "byte-compiling build/bdist.linux-x86_64/egg/bertopic/plotting/_topics_per_class.py to _topics_per_class.cpython-37.pyc\n",
            "byte-compiling build/bdist.linux-x86_64/egg/bertopic/plotting/_topics_over_time.py to _topics_over_time.cpython-37.pyc\n",
            "byte-compiling build/bdist.linux-x86_64/egg/bertopic/plotting/_barchart.py to _barchart.cpython-37.pyc\n",
            "byte-compiling build/bdist.linux-x86_64/egg/bertopic/plotting/_topics.py to _topics.cpython-37.pyc\n",
            "byte-compiling build/bdist.linux-x86_64/egg/bertopic/plotting/_heatmap.py to _heatmap.cpython-37.pyc\n",
            "byte-compiling build/bdist.linux-x86_64/egg/bertopic/plotting/__init__.py to __init__.cpython-37.pyc\n",
            "byte-compiling build/bdist.linux-x86_64/egg/bertopic/__init__.py to __init__.cpython-37.pyc\n",
            "byte-compiling build/bdist.linux-x86_64/egg/bertopic/_utils.py to _utils.cpython-37.pyc\n",
            "byte-compiling build/bdist.linux-x86_64/egg/tests/conftest.py to conftest.cpython-37.pyc\n",
            "byte-compiling build/bdist.linux-x86_64/egg/tests/test_other.py to test_other.cpython-37.pyc\n",
            "byte-compiling build/bdist.linux-x86_64/egg/tests/test_models.py to test_models.cpython-37.pyc\n",
            "byte-compiling build/bdist.linux-x86_64/egg/tests/test_bertopic.py to test_bertopic.cpython-37.pyc\n",
            "byte-compiling build/bdist.linux-x86_64/egg/tests/__init__.py to __init__.cpython-37.pyc\n",
            "byte-compiling build/bdist.linux-x86_64/egg/tests/test_topic_representation.py to test_topic_representation.cpython-37.pyc\n",
            "byte-compiling build/bdist.linux-x86_64/egg/tests/test_utils.py to test_utils.cpython-37.pyc\n",
            "creating build/bdist.linux-x86_64/egg/EGG-INFO\n",
            "copying bertopic.egg-info/PKG-INFO -> build/bdist.linux-x86_64/egg/EGG-INFO\n",
            "copying bertopic.egg-info/SOURCES.txt -> build/bdist.linux-x86_64/egg/EGG-INFO\n",
            "copying bertopic.egg-info/dependency_links.txt -> build/bdist.linux-x86_64/egg/EGG-INFO\n",
            "copying bertopic.egg-info/requires.txt -> build/bdist.linux-x86_64/egg/EGG-INFO\n",
            "copying bertopic.egg-info/top_level.txt -> build/bdist.linux-x86_64/egg/EGG-INFO\n",
            "zip_safe flag not set; analyzing archive contents...\n",
            "creating dist\n",
            "creating 'dist/bertopic-0.8.1-py3.7.egg' and adding 'build/bdist.linux-x86_64/egg' to it\n",
            "removing 'build/bdist.linux-x86_64/egg' (and everything under it)\n",
            "Processing bertopic-0.8.1-py3.7.egg\n",
            "Copying bertopic-0.8.1-py3.7.egg to /usr/local/lib/python3.7/dist-packages\n",
            "Adding bertopic 0.8.1 to easy-install.pth file\n",
            "\n",
            "Installed /usr/local/lib/python3.7/dist-packages/bertopic-0.8.1-py3.7.egg\n",
            "Processing dependencies for bertopic==0.8.1\n",
            "Searching for plotly==4.14.2\n",
            "Best match: plotly 4.14.2\n",
            "Processing plotly-4.14.2-py3.7.egg\n",
            "plotly 4.14.2 is already the active version in easy-install.pth\n",
            "\n",
            "Using /usr/local/lib/python3.7/dist-packages/plotly-4.14.2-py3.7.egg\n",
            "Searching for sentence-transformers==2.0.0\n",
            "Best match: sentence-transformers 2.0.0\n",
            "Adding sentence-transformers 2.0.0 to easy-install.pth file\n",
            "\n",
            "Using /usr/local/lib/python3.7/dist-packages\n",
            "Searching for tqdm==4.41.1\n",
            "Best match: tqdm 4.41.1\n",
            "Adding tqdm 4.41.1 to easy-install.pth file\n",
            "Installing tqdm script to /usr/local/bin\n",
            "\n",
            "Using /usr/local/lib/python3.7/dist-packages\n",
            "Searching for scikit-learn==0.22.2.post1\n",
            "Best match: scikit-learn 0.22.2.post1\n",
            "Adding scikit-learn 0.22.2.post1 to easy-install.pth file\n",
            "\n",
            "Using /usr/local/lib/python3.7/dist-packages\n",
            "Searching for pandas==1.1.5\n",
            "Best match: pandas 1.1.5\n",
            "Adding pandas 1.1.5 to easy-install.pth file\n",
            "\n",
            "Using /usr/local/lib/python3.7/dist-packages\n",
            "Searching for umap-learn==0.5.1\n",
            "Best match: umap-learn 0.5.1\n",
            "Processing umap_learn-0.5.1-py3.7.egg\n",
            "umap-learn 0.5.1 is already the active version in easy-install.pth\n",
            "\n",
            "Using /usr/local/lib/python3.7/dist-packages/umap_learn-0.5.1-py3.7.egg\n",
            "Searching for hdbscan==0.8.27\n",
            "Best match: hdbscan 0.8.27\n",
            "Processing hdbscan-0.8.27-py3.7-linux-x86_64.egg\n",
            "hdbscan 0.8.27 is already the active version in easy-install.pth\n",
            "\n",
            "Using /usr/local/lib/python3.7/dist-packages/hdbscan-0.8.27-py3.7-linux-x86_64.egg\n",
            "Searching for numpy==1.21.1\n",
            "Best match: numpy 1.21.1\n",
            "Processing numpy-1.21.1-py3.7-linux-x86_64.egg\n",
            "numpy 1.21.1 is already the active version in easy-install.pth\n",
            "Installing f2py script to /usr/local/bin\n",
            "Installing f2py3 script to /usr/local/bin\n",
            "Installing f2py3.7 script to /usr/local/bin\n",
            "\n",
            "Using /usr/local/lib/python3.7/dist-packages/numpy-1.21.1-py3.7-linux-x86_64.egg\n",
            "Searching for six==1.15.0\n",
            "Best match: six 1.15.0\n",
            "Adding six 1.15.0 to easy-install.pth file\n",
            "\n",
            "Using /usr/local/lib/python3.7/dist-packages\n",
            "Searching for retrying==1.3.3\n",
            "Best match: retrying 1.3.3\n",
            "Adding retrying 1.3.3 to easy-install.pth file\n",
            "\n",
            "Using /usr/local/lib/python3.7/dist-packages\n",
            "Searching for transformers==4.6.1\n",
            "Best match: transformers 4.6.1\n",
            "Adding transformers 4.6.1 to easy-install.pth file\n",
            "Installing transformers-cli script to /usr/local/bin\n",
            "\n",
            "Using /usr/local/lib/python3.7/dist-packages\n",
            "Searching for scipy==1.4.1\n",
            "Best match: scipy 1.4.1\n",
            "Adding scipy 1.4.1 to easy-install.pth file\n",
            "\n",
            "Using /usr/local/lib/python3.7/dist-packages\n",
            "Searching for nltk==3.2.5\n",
            "Best match: nltk 3.2.5\n",
            "Adding nltk 3.2.5 to easy-install.pth file\n",
            "\n",
            "Using /usr/local/lib/python3.7/dist-packages\n",
            "Searching for sentencepiece==0.1.96\n",
            "Best match: sentencepiece 0.1.96\n",
            "Adding sentencepiece 0.1.96 to easy-install.pth file\n",
            "\n",
            "Using /usr/local/lib/python3.7/dist-packages\n",
            "Searching for torch==1.9.0+cu102\n",
            "Best match: torch 1.9.0+cu102\n",
            "Adding torch 1.9.0+cu102 to easy-install.pth file\n",
            "Installing convert-caffe2-to-onnx script to /usr/local/bin\n",
            "Installing convert-onnx-to-caffe2 script to /usr/local/bin\n",
            "\n",
            "Using /usr/local/lib/python3.7/dist-packages\n",
            "Searching for huggingface-hub==0.0.8\n",
            "Best match: huggingface-hub 0.0.8\n",
            "Adding huggingface-hub 0.0.8 to easy-install.pth file\n",
            "Installing huggingface-cli script to /usr/local/bin\n",
            "\n",
            "Using /usr/local/lib/python3.7/dist-packages\n",
            "Searching for torchvision==0.10.0+cu102\n",
            "Best match: torchvision 0.10.0+cu102\n",
            "Adding torchvision 0.10.0+cu102 to easy-install.pth file\n",
            "\n",
            "Using /usr/local/lib/python3.7/dist-packages\n",
            "Searching for joblib==1.0.1\n",
            "Best match: joblib 1.0.1\n",
            "Adding joblib 1.0.1 to easy-install.pth file\n",
            "\n",
            "Using /usr/local/lib/python3.7/dist-packages\n",
            "Searching for pytz==2018.9\n",
            "Best match: pytz 2018.9\n",
            "Adding pytz 2018.9 to easy-install.pth file\n",
            "\n",
            "Using /usr/local/lib/python3.7/dist-packages\n",
            "Searching for python-dateutil==2.8.1\n",
            "Best match: python-dateutil 2.8.1\n",
            "Adding python-dateutil 2.8.1 to easy-install.pth file\n",
            "\n",
            "Using /usr/local/lib/python3.7/dist-packages\n",
            "Searching for pynndescent==0.5.4\n",
            "Best match: pynndescent 0.5.4\n",
            "Processing pynndescent-0.5.4-py3.7.egg\n",
            "pynndescent 0.5.4 is already the active version in easy-install.pth\n",
            "\n",
            "Using /usr/local/lib/python3.7/dist-packages/pynndescent-0.5.4-py3.7.egg\n",
            "Searching for numba==0.51.2\n",
            "Best match: numba 0.51.2\n",
            "Adding numba 0.51.2 to easy-install.pth file\n",
            "\n",
            "Using /usr/local/lib/python3.7/dist-packages\n",
            "Searching for Cython==0.29.23\n",
            "Best match: Cython 0.29.23\n",
            "Adding Cython 0.29.23 to easy-install.pth file\n",
            "Installing cygdb script to /usr/local/bin\n",
            "Installing cython script to /usr/local/bin\n",
            "Installing cythonize script to /usr/local/bin\n",
            "\n",
            "Using /usr/local/lib/python3.7/dist-packages\n",
            "Searching for packaging==21.0\n",
            "Best match: packaging 21.0\n",
            "Adding packaging 21.0 to easy-install.pth file\n",
            "\n",
            "Using /usr/local/lib/python3.7/dist-packages\n",
            "Searching for tokenizers==0.10.3\n",
            "Best match: tokenizers 0.10.3\n",
            "Adding tokenizers 0.10.3 to easy-install.pth file\n",
            "\n",
            "Using /usr/local/lib/python3.7/dist-packages\n",
            "Searching for importlib-metadata==4.6.1\n",
            "Best match: importlib-metadata 4.6.1\n",
            "Adding importlib-metadata 4.6.1 to easy-install.pth file\n",
            "\n",
            "Using /usr/local/lib/python3.7/dist-packages\n",
            "Searching for sacremoses==0.0.45\n",
            "Best match: sacremoses 0.0.45\n",
            "Adding sacremoses 0.0.45 to easy-install.pth file\n",
            "Installing sacremoses script to /usr/local/bin\n",
            "\n",
            "Using /usr/local/lib/python3.7/dist-packages\n",
            "Searching for filelock==3.0.12\n",
            "Best match: filelock 3.0.12\n",
            "Adding filelock 3.0.12 to easy-install.pth file\n",
            "\n",
            "Using /usr/local/lib/python3.7/dist-packages\n",
            "Searching for requests==2.23.0\n",
            "Best match: requests 2.23.0\n",
            "Adding requests 2.23.0 to easy-install.pth file\n",
            "\n",
            "Using /usr/local/lib/python3.7/dist-packages\n",
            "Searching for regex==2019.12.20\n",
            "Best match: regex 2019.12.20\n",
            "Adding regex 2019.12.20 to easy-install.pth file\n",
            "\n",
            "Using /usr/local/lib/python3.7/dist-packages\n",
            "Searching for typing-extensions==3.7.4.3\n",
            "Best match: typing-extensions 3.7.4.3\n",
            "Adding typing-extensions 3.7.4.3 to easy-install.pth file\n",
            "\n",
            "Using /usr/local/lib/python3.7/dist-packages\n",
            "Searching for Pillow==7.1.2\n",
            "Best match: Pillow 7.1.2\n",
            "Adding Pillow 7.1.2 to easy-install.pth file\n",
            "\n",
            "Using /usr/local/lib/python3.7/dist-packages\n",
            "Searching for llvmlite==0.34.0\n",
            "Best match: llvmlite 0.34.0\n",
            "Adding llvmlite 0.34.0 to easy-install.pth file\n",
            "\n",
            "Using /usr/local/lib/python3.7/dist-packages\n",
            "Searching for setuptools==57.2.0\n",
            "Best match: setuptools 57.2.0\n",
            "Adding setuptools 57.2.0 to easy-install.pth file\n",
            "\n",
            "Using /usr/local/lib/python3.7/dist-packages\n",
            "Searching for pyparsing==2.4.7\n",
            "Best match: pyparsing 2.4.7\n",
            "Adding pyparsing 2.4.7 to easy-install.pth file\n",
            "\n",
            "Using /usr/local/lib/python3.7/dist-packages\n",
            "Searching for zipp==3.5.0\n",
            "Best match: zipp 3.5.0\n",
            "Adding zipp 3.5.0 to easy-install.pth file\n",
            "\n",
            "Using /usr/local/lib/python3.7/dist-packages\n",
            "Searching for click==7.1.2\n",
            "Best match: click 7.1.2\n",
            "Adding click 7.1.2 to easy-install.pth file\n",
            "\n",
            "Using /usr/local/lib/python3.7/dist-packages\n",
            "Searching for chardet==3.0.4\n",
            "Best match: chardet 3.0.4\n",
            "Adding chardet 3.0.4 to easy-install.pth file\n",
            "Installing chardetect script to /usr/local/bin\n",
            "\n",
            "Using /usr/local/lib/python3.7/dist-packages\n",
            "Searching for idna==2.10\n",
            "Best match: idna 2.10\n",
            "Adding idna 2.10 to easy-install.pth file\n",
            "\n",
            "Using /usr/local/lib/python3.7/dist-packages\n",
            "Searching for urllib3==1.24.3\n",
            "Best match: urllib3 1.24.3\n",
            "Adding urllib3 1.24.3 to easy-install.pth file\n",
            "\n",
            "Using /usr/local/lib/python3.7/dist-packages\n",
            "Searching for certifi==2021.5.30\n",
            "Best match: certifi 2021.5.30\n",
            "Adding certifi 2021.5.30 to easy-install.pth file\n",
            "\n",
            "Using /usr/local/lib/python3.7/dist-packages\n",
            "Finished processing dependencies for bertopic==0.8.1\n",
            "/content\n"
          ],
          "name": "stdout"
        }
      ]
    },
    {
      "cell_type": "markdown",
      "metadata": {
        "id": "oAB4Q2gbTqi7"
      },
      "source": [
        "# Scrap Reddit Data\n",
        "\n",
        "Using pushshift api to quickly search for submissions where title contains **question-indicative phrases/words**. Only retrieve submissions whose **num_comments > 1**, this filters out most of the ads.\n",
        "\n",
        "refer to [Content Ideas From Reddit](https://timothywangdev.github.io/knowledge/Content%20Marketing/content-ideas-from-reddit)"
      ]
    },
    {
      "cell_type": "code",
      "metadata": {
        "id": "e_xYE3OUW-6c"
      },
      "source": [
        "import datetime as dt\n",
        "from datetime import date, datetime\n",
        "from loguru import logger\n",
        "import pandas as pd\n",
        "from psaw import PushshiftAPI\n",
        "import time\n",
        "import os\n",
        "import redditcleaner\n",
        "import re\n",
        "import base64\n",
        "import IPython\n",
        "from distinctipy import distinctipy\n",
        "import random\n",
        "from colour import Color\n",
        "import praw\n",
        "import pprint\n",
        "# import asyncpraw\n",
        "\n",
        "\n",
        "r = praw.Reddit(\n",
        "  client_id=\"_tkKH5nva25sWQ\",\n",
        "  client_secret=\"cGMI8KyRQlopBTx7vGAEbgCDF6RzwQ\",\n",
        "  user_agent=\"analysis\",\n",
        "  check_for_async=False\n",
        ")\n",
        "\n",
        "\n",
        "api = PushshiftAPI(r)\n",
        "\n",
        "QUESTION_WORDS = [\n",
        "  \"what\",\n",
        "  \"when\",\n",
        "  \"where\",\n",
        "  \"who\",\n",
        "  \"whom\",\n",
        "  \"which\",\n",
        "  \"whose\",\n",
        "  \"why\",\n",
        "  \"how\",\n",
        "  \"wonder\",\n",
        "  \"want\",\n",
        "  \"is anyone\",\n",
        "  \"does anyone\",\n",
        "  \"any tips\",\n",
        "  \"advice\",\n",
        "  \"suggestion\",\n",
        "  \"suggestions\",\n",
        "  \"suggest\",\n",
        "  \"ideas on\",\n",
        "  \"need help\",\n",
        "  \"needs help\",\n",
        "  \"need your help\",\n",
        "  \"serious help\",\n",
        "  \"please help\",\n",
        "  \"challenge\",\n",
        "  \"challenges\",\n",
        "  \"can't stand\",\n",
        "  \"struggle\",\n",
        "  \"struggling\",\n",
        "  \"can't figure out\",\n",
        "  \"help me\",\n",
        "  \"hardest part\",\n",
        "  \"would appreciate\",\n",
        "  \"would really appreciate\",\n",
        "  \"any guidance\",\n",
        "  \"no idea\",\n",
        "  \"confused with\",\n",
        "  \"new to\",\n",
        "  \"is there any way\"\n",
        "]"
      ],
      "execution_count": 4,
      "outputs": []
    },
    {
      "cell_type": "markdown",
      "metadata": {
        "id": "ecpCY3v4b4kH"
      },
      "source": [
        "# (Optional) Do some experiments on question words and psaw filters"
      ]
    },
    {
      "cell_type": "code",
      "metadata": {
        "colab": {
          "base_uri": "https://localhost:8080/",
          "height": 387
        },
        "id": "TiIVwi7Tb3HJ",
        "outputId": "6bccafb7-2333-4156-a536-802d8bf19e84"
      },
      "source": [
        "\n",
        "# do some exps on question words and psaw filters\n",
        "_QUESTION_WORDS=[\"ideas on\", \"struggle with\", \"suggestion\"]\n",
        "title_query = '|'.join(map(lambda x: '\"{}\"'.format(x), _QUESTION_WORDS))\n",
        "print(title_query)\n",
        "\n",
        "gen = list(\n",
        "        api.search_submissions(\n",
        "            title=title_query,\n",
        "            is_self=True,\n",
        "            is_original_content=True, \n",
        "            subreddit='content_marketing',\n",
        "            num_comments=\">1\",\n",
        "            filter=['title', 'selftext', 'author', 'permalink', 'num_comments', 'score', 'total_awards_received',\n",
        "                    'upvote_ratio'],\n",
        "            sort='asc', sort_type='created_utc', limit=500))\n",
        "\n",
        "titles = [itemfor item in gen]\n",
        "print(titles)\n",
        "\n",
        "# generate distinct hsl colors\n",
        "bg_color_list = distinctipy.get_colors(50)\n",
        "inverted_color_list = distinctipy.invert_colors(bg_color_list)\n",
        "text_color_list = [distinctipy.get_text_color(color) for color in bg_color_list]\n",
        "\n",
        "# convert colors to hex\n",
        "bg_color_list = [Color(rgb=color).hex for color in bg_color_list]\n",
        "inverted_color_list = [Color(rgb=color).hex for color in inverted_color_list]\n",
        "text_color_list = [Color(rgb=color).hex for color in text_color_list]\n",
        "\n",
        "def colored(word, color_idx=0):\n",
        "  color = bg_color_list[color_idx]\n",
        "  return '<span style=\"display: inline-block; font-weight: 600; font-size: 16px; border-radius: 15%; padding-left: 5px; padding-right: 5px; margin: 4px 2px; background-color: {}; color:{};\">{}</span>'.format(bg_color_list[color_idx], text_color_list[color_idx], word)\n",
        "  \n",
        "colored_titles = []\n",
        "for title in titles:\n",
        "  _title = title.lower()\n",
        "  for idx, question_word in enumerate(_QUESTION_WORDS):\n",
        "    _title = _title.replace(question_word, colored(question_word, color_idx = idx))\n",
        "  colored_titles.append('<li>' + _title + \"</li>\")\n",
        "\n",
        "IPython.display.HTML(\"<ol>\" +' '.join(colored_titles) + \"</ol>\")"
      ],
      "execution_count": null,
      "outputs": [
        {
          "output_type": "stream",
          "text": [
            "\"ideas on\"|\"struggle with\"|\"suggestion\"\n",
            "submission(author='aaronmarsden', created_utc=1516890417, num_comments=8, permalink='/r/content_marketing/comments/7swe37/what_do_you_struggle_with_most_when_writing_and/', score=3, selftext='I\\'ve been writing online for over 2 years. \\n\\nBut when I first started, **I had no fucking idea what I was doing.** Everything was foreign to me.\\n\\n*\"How do I write enjoyable blog posts? How do I find my voice? How do I brainstorm topics? How do I conduct research?\"*\\n\\nI hated not having answers, feeling lost. And that\\'s why I want to help you. \\n\\nSo, what do you struggle with? \\n\\nI\\'ll do my best to answer anything you have for me. Consider this my introduction to the Content Marketing subreddit. :)', title='What do you struggle with most when writing and creating content for your business?', created=1516890417.0, d_={'author': 'aaronmarsden', 'created_utc': 1516890417, 'num_comments': 8, 'permalink': '/r/content_marketing/comments/7swe37/what_do_you_struggle_with_most_when_writing_and/', 'score': 3, 'selftext': 'I\\'ve been writing online for over 2 years. \\n\\nBut when I first started, **I had no fucking idea what I was doing.** Everything was foreign to me.\\n\\n*\"How do I write enjoyable blog posts? How do I find my voice? How do I brainstorm topics? How do I conduct research?\"*\\n\\nI hated not having answers, feeling lost. And that\\'s why I want to help you. \\n\\nSo, what do you struggle with? \\n\\nI\\'ll do my best to answer anything you have for me. Consider this my introduction to the Content Marketing subreddit. :)', 'title': 'What do you struggle with most when writing and creating content for your business?', 'created': 1516890417.0})\n",
            "['What do you struggle with most when writing and creating content for your business?', 'Any ideas on how to do content marketing on Reddit ? without breaking the unspoken rules', 'Best free tools for improving writing content skills, please put your suggestion?', 'As a busy entrepreneur do you struggle with losing weight?', 'Need Email Software Suggestion', 'Agency marketers (or anyone with a suggestion,) what small things are you doing to help clients during the pandemic?', 'Guys, what are the content marketing fields that you have the most struggle with?', 'Running out of ideas on covid 19 for internal communication', \"Suggestion for a SaaS Company's Marketing Strategy\", 'Need some ideas on what to do with unboxing and review videos of the specific product I custom branded and sell']\n"
          ],
          "name": "stdout"
        },
        {
          "output_type": "execute_result",
          "data": {
            "text/html": [
              "<ol><li>what do you <span style=\"display: inline-block; font-weight: 600; font-size: 16px; border-radius: 15%; padding-left: 5px; padding-right: 5px; margin: 4px 2px; background-color: #f0f; color:#fff;\">struggle with</span> most when writing and creating content for your business?</li> <li>any <span style=\"display: inline-block; font-weight: 600; font-size: 16px; border-radius: 15%; padding-left: 5px; padding-right: 5px; margin: 4px 2px; background-color: #0f0; color:#fff;\">ideas on</span> how to do content marketing on reddit ? without breaking the unspoken rules</li> <li>best free tools for improving writing content skills, please put your <span style=\"display: inline-block; font-weight: 600; font-size: 16px; border-radius: 15%; padding-left: 5px; padding-right: 5px; margin: 4px 2px; background-color: #007fff; color:#fff;\">suggestion</span>?</li> <li>as a busy entrepreneur do you <span style=\"display: inline-block; font-weight: 600; font-size: 16px; border-radius: 15%; padding-left: 5px; padding-right: 5px; margin: 4px 2px; background-color: #f0f; color:#fff;\">struggle with</span> losing weight?</li> <li>need email software <span style=\"display: inline-block; font-weight: 600; font-size: 16px; border-radius: 15%; padding-left: 5px; padding-right: 5px; margin: 4px 2px; background-color: #007fff; color:#fff;\">suggestion</span></li> <li>agency marketers (or anyone with a <span style=\"display: inline-block; font-weight: 600; font-size: 16px; border-radius: 15%; padding-left: 5px; padding-right: 5px; margin: 4px 2px; background-color: #007fff; color:#fff;\">suggestion</span>,) what small things are you doing to help clients during the pandemic?</li> <li>guys, what are the content marketing fields that you have the most <span style=\"display: inline-block; font-weight: 600; font-size: 16px; border-radius: 15%; padding-left: 5px; padding-right: 5px; margin: 4px 2px; background-color: #f0f; color:#fff;\">struggle with</span>?</li> <li>running out of <span style=\"display: inline-block; font-weight: 600; font-size: 16px; border-radius: 15%; padding-left: 5px; padding-right: 5px; margin: 4px 2px; background-color: #0f0; color:#fff;\">ideas on</span> covid 19 for internal communication</li> <li><span style=\"display: inline-block; font-weight: 600; font-size: 16px; border-radius: 15%; padding-left: 5px; padding-right: 5px; margin: 4px 2px; background-color: #007fff; color:#fff;\">suggestion</span> for a saas company's marketing strategy</li> <li>need some <span style=\"display: inline-block; font-weight: 600; font-size: 16px; border-radius: 15%; padding-left: 5px; padding-right: 5px; margin: 4px 2px; background-color: #0f0; color:#fff;\">ideas on</span> what to do with unboxing and review videos of the specific product i custom branded and sell</li></ol>"
            ],
            "text/plain": [
              "<IPython.core.display.HTML object>"
            ]
          },
          "metadata": {
            "tags": []
          },
          "execution_count": 6
        }
      ]
    },
    {
      "cell_type": "markdown",
      "metadata": {
        "id": "Ub4bxyAGWwhW"
      },
      "source": [
        "Only retrieve submissions that are text submissions, and filter out deleted submissions and submissions whose author is banned.\n",
        "\n",
        "We keep the following fields:\n",
        "\n",
        "* title\n",
        "* selftext\n",
        "* author\n",
        "* permalink\n",
        "* num_comments <font color='blue'>*</font>\n",
        "* score <font color='blue'>*</font>\n",
        "* upvote_ratio <font color='blue'>*</font>\n",
        "* total_awards_received <font color='blue'>*</font>\n",
        "\n",
        "<font color='blue'>*</font> *Used for future ranking purpose*\n",
        "\n",
        "<mark>TODO</mark> \n",
        " - [ ] Use praw to get latest metadata (pushshift only updates data in for the first 24hr)\n"
      ]
    },
    {
      "cell_type": "code",
      "metadata": {
        "colab": {
          "base_uri": "https://localhost:8080/"
        },
        "id": "bd5wSUCcU7bx",
        "outputId": "d01a35a2-597a-4e4e-ce79-c4cff3b1d111"
      },
      "source": [
        "start_epoch = int(dt.datetime(2018, 1, 1).timestamp())\n",
        "#end_epoch = int(dt.datetime(2020, 3, 1).timestamp())\n",
        "end_epoch = int(time.time())\n",
        "total = 0\n",
        "\n",
        "SUBREDDIT = 'startups'\n",
        "DATA_FILE_NAME = gdrive_path + '/reddit_submission_{}_{}_{}.tsv'.format(\n",
        "    SUBREDDIT, datetime.fromtimestamp(start_epoch).strftime(\"%Y_%m_%d\"),\n",
        "    datetime.fromtimestamp(end_epoch).strftime(\"%Y_%m_%d\"))\n",
        "\n",
        "title_query = '|'.join(map(lambda x: '\"{}\"'.format(x), QUESTION_WORDS))\n",
        "while True:\n",
        "    gen = list(\n",
        "        api.search_submissions(\n",
        "            after=start_epoch, \n",
        "            before=end_epoch,\n",
        "            title=title_query,\n",
        "            is_self=True,\n",
        "            is_original_content=True,\n",
        "            subreddit=SUBREDDIT,\n",
        "            # note the num_comments is only updated for the first 24hr\n",
        "            # may need to use praw to get latest meta data\n",
        "            num_comments=\">1\",\n",
        "            filter=['title', 'selftext', 'author', 'permalink', 'num_comments', 'score', 'total_awards_received',\n",
        "                    'upvote_ratio'],\n",
        "            sort='asc', \n",
        "            sort_type='created_utc', \n",
        "            limit=500))\n",
        "\n",
        "    if len(gen) == 0:\n",
        "        break\n",
        "\n",
        "    def submission_filter(submission):\n",
        "        if 'title' not in submission:\n",
        "            return False\n",
        "        if 'selftext' not in submission:\n",
        "            return False\n",
        "        if len(submission['selftext']) == 0:\n",
        "            # if submission is deleted, the psaw returns empty str\n",
        "            return False\n",
        "        if 'author' not in submission:\n",
        "            return False\n",
        "        if submission['author'] == \"[deleted]\":\n",
        "            return False\n",
        "        if any(submission['selftext'] == x for x in [\"[removed]\", \"[deleted]\"]):\n",
        "            return False\n",
        "        return True\n",
        "\n",
        "    def prepare_data(data):\n",
        "        # some of the fields may be missing\n",
        "        # must manually set an init value to avoid\n",
        "        # generating invalid csv\n",
        "        _data = {\n",
        "            'title': '',\n",
        "            'selftext': '',\n",
        "            'author': '',\n",
        "            'permalink': '',\n",
        "            'num_comments': 0,\n",
        "            'score': 0,\n",
        "            'total_awards_received': 0,\n",
        "            'upvote_ratio': 1.0,\n",
        "            'created_utc': None\n",
        "        }\n",
        "\n",
        "        for key in _data:\n",
        "            if key in data and data[key] is not None:\n",
        "                _data[key] = data[key]\n",
        "\n",
        "        return _data\n",
        "\n",
        "    \n",
        "    items = []\n",
        "    keys = ['title', 'selftext', 'author', 'permalink', 'num_comments', 'score', 'total_awards_received', 'upvote_ratio', 'created_utc']\n",
        "    for _item in gen:\n",
        "      items.append({\n",
        "        'title': _item.title,\n",
        "        'selftext': _item.selftext,\n",
        "        'author': _item.author,\n",
        "        'permalink': _item.permalink,\n",
        "        'num_comments': _item.num_comments,\n",
        "        'score': _item.score,\n",
        "        #'total_awards_received': _item.total_awards_received,\n",
        "        'upvote_ratio': _item.upvote_ratio,\n",
        "        'created_utc': _item.created_utc\n",
        "      })\n",
        "\n",
        "    items = map(prepare_data, items)\n",
        "    # items = map(prepare_data, [item.d_ for item in gen])\n",
        "\n",
        "    items = list(filter(submission_filter, items))\n",
        "    df = pd.DataFrame(items)\n",
        "\n",
        "    # clean data\n",
        "    def clean(text):\n",
        "        text = text.lower()\n",
        "        # remove reddit styles\n",
        "        text = redditcleaner.clean(\n",
        "            text, quote=False, bullet_point=False, link=False, strikethrough=False, spoiler=False, code=False,\n",
        "            superscript=False, table=False)\n",
        "\n",
        "        # refer to https://towardsdatascience.com/cleaning-text-data-with-python-b69b47b97b76\n",
        "        # Remove unicode characters\n",
        "        text = text.encode('ascii', 'ignore').decode()\n",
        "\n",
        "        # Remove Hashtags\n",
        "        text = re.sub(\"#\\S+\", \" \", text)\n",
        "\n",
        "        # Remove markdown links\n",
        "        text = re.sub(r\"\\[(.+)\\]\\(.+\\)\", r\"\\1\", text)\n",
        "\n",
        "        # Remove other urls\n",
        "        text = re.sub(r\"http\\S+\", \" \", text)\n",
        "\n",
        "        # remove text inside brackets\n",
        "        text = re.sub(\"\\(.*?\\)\",\" \", text)\n",
        "        text = re.sub(\"\\[.*?\\]\",\" \", text)\n",
        "\n",
        "        # remove quotes\n",
        "        # remove brackets\n",
        "        # remove semicolon\n",
        "        text = re.sub(r'[\\t()[\\]\\\"*:\\\\]',' ', text)\n",
        "\n",
        "        # remove non-ascii chars\n",
        "        text = re.sub(r\"[^\\x00-\\x7F]+\",' ', text)\n",
        "\n",
        "         # Replace the over spaces# if submission is deleted, the psaw returns NaN, must check if \n",
        "            # it's a valid string\n",
        "        text = re.sub('\\s{2,}', \" \", text)\n",
        "\n",
        "        return text\n",
        "\n",
        "    if len(df) > 0:\n",
        "      df['title'] = df['title'].map(clean)\n",
        "      df['selftext'] = df['selftext'].map(clean)\n",
        "\n",
        "      if not os.path.isfile(DATA_FILE_NAME):\n",
        "          df.to_csv(DATA_FILE_NAME, sep='\\t', header='column_names', index=False, quoting=3)\n",
        "      else:  # else it exists so append without writing the header\n",
        "          df.to_csv(DATA_FILE_NAME, sep='\\t', mode='a', header=False, index=False, quoting=3)\n",
        "\n",
        "      start_epoch = int(items[-1]['created_utc'])\n",
        "      total += len(items)\n",
        "\n",
        "      logger.info('Added {} Total {} Last created_utc {}'.format(\n",
        "        len(items), total, date.fromtimestamp(start_epoch)))\n",
        "\n",
        "      time.sleep(3)\n",
        "    else:\n",
        "      break"
      ],
      "execution_count": null,
      "outputs": [
        {
          "output_type": "stream",
          "text": [
            "/usr/local/lib/python3.7/dist-packages/psaw/PushshiftAPI.py:192: UserWarning: Got non 200 code 502\n",
            "  warnings.warn(\"Got non 200 code %s\" % response.status_code)\n",
            "/usr/local/lib/python3.7/dist-packages/psaw/PushshiftAPI.py:180: UserWarning: Unable to connect to pushshift.io. Retrying after backoff.\n",
            "  warnings.warn(\"Unable to connect to pushshift.io. Retrying after backoff.\")\n",
            "2021-08-04 21:24:30.930 | INFO     | __main__:<module>:145 - Added 272 Total 272 Last created_utc 2018-04-10\n",
            "2021-08-04 21:25:12.735 | INFO     | __main__:<module>:145 - Added 265 Total 537 Last created_utc 2018-07-15\n",
            "2021-08-04 21:25:34.089 | INFO     | __main__:<module>:145 - Added 220 Total 757 Last created_utc 2018-10-16\n",
            "2021-08-04 21:25:56.174 | INFO     | __main__:<module>:145 - Added 148 Total 905 Last created_utc 2018-12-13\n",
            "2021-08-04 21:26:28.683 | INFO     | __main__:<module>:145 - Added 140 Total 1045 Last created_utc 2019-02-02\n",
            "2021-08-04 21:26:43.861 | INFO     | __main__:<module>:145 - Added 158 Total 1203 Last created_utc 2019-03-24\n",
            "2021-08-04 21:27:02.533 | INFO     | __main__:<module>:145 - Added 156 Total 1359 Last created_utc 2019-05-10\n",
            "2021-08-04 21:27:26.247 | INFO     | __main__:<module>:145 - Added 177 Total 1536 Last created_utc 2019-07-08\n",
            "2021-08-04 21:27:53.950 | INFO     | __main__:<module>:145 - Added 185 Total 1721 Last created_utc 2019-08-29\n",
            "2021-08-04 21:28:14.459 | INFO     | __main__:<module>:145 - Added 206 Total 1927 Last created_utc 2019-10-19\n",
            "2021-08-04 21:28:32.799 | INFO     | __main__:<module>:145 - Added 203 Total 2130 Last created_utc 2019-12-10\n",
            "2021-08-04 21:29:22.262 | INFO     | __main__:<module>:145 - Added 186 Total 2316 Last created_utc 2020-01-30\n",
            "2021-08-04 21:29:41.933 | INFO     | __main__:<module>:145 - Added 164 Total 2480 Last created_utc 2020-03-05\n",
            "2021-08-04 21:30:23.051 | INFO     | __main__:<module>:145 - Added 176 Total 2656 Last created_utc 2020-04-14\n",
            "2021-08-04 21:31:18.511 | INFO     | __main__:<module>:145 - Added 174 Total 2830 Last created_utc 2020-05-16\n",
            "2021-08-04 21:32:15.663 | INFO     | __main__:<module>:145 - Added 212 Total 3042 Last created_utc 2020-06-18\n",
            "2021-08-04 21:33:10.288 | INFO     | __main__:<module>:145 - Added 190 Total 3232 Last created_utc 2020-07-18\n",
            "2021-08-04 21:34:05.077 | INFO     | __main__:<module>:145 - Added 155 Total 3387 Last created_utc 2020-08-12\n",
            "2021-08-04 21:35:26.481 | INFO     | __main__:<module>:145 - Added 162 Total 3549 Last created_utc 2020-09-03\n",
            "2021-08-04 21:35:43.406 | INFO     | __main__:<module>:145 - Added 157 Total 3706 Last created_utc 2020-10-03\n",
            "2021-08-04 21:35:59.715 | INFO     | __main__:<module>:145 - Added 172 Total 3878 Last created_utc 2020-11-01\n",
            "2021-08-04 21:36:11.108 | INFO     | __main__:<module>:145 - Added 174 Total 4052 Last created_utc 2020-11-28\n",
            "2021-08-04 21:36:25.437 | INFO     | __main__:<module>:145 - Added 167 Total 4219 Last created_utc 2020-12-27\n",
            "2021-08-04 21:36:39.149 | INFO     | __main__:<module>:145 - Added 135 Total 4354 Last created_utc 2021-01-30\n",
            "2021-08-04 21:36:53.307 | INFO     | __main__:<module>:145 - Added 132 Total 4486 Last created_utc 2021-03-11\n",
            "2021-08-04 21:37:12.874 | INFO     | __main__:<module>:145 - Added 165 Total 4651 Last created_utc 2021-04-29\n",
            "2021-08-04 21:37:35.221 | INFO     | __main__:<module>:145 - Added 122 Total 4773 Last created_utc 2021-06-02\n",
            "2021-08-04 21:37:45.575 | INFO     | __main__:<module>:145 - Added 131 Total 4904 Last created_utc 2021-07-05\n",
            "2021-08-04 21:37:57.114 | INFO     | __main__:<module>:145 - Added 109 Total 5013 Last created_utc 2021-08-03\n"
          ],
          "name": "stderr"
        }
      ]
    },
    {
      "cell_type": "markdown",
      "metadata": {
        "id": "lkJ_ER3vV6gQ"
      },
      "source": [
        "# Load Scrapped Reddit Data\n",
        "\n",
        "Load submissions, filter out ads, and classified them by wh-words\n",
        "\n",
        "From observation, some **submissions are ads**, which often contain the following symbols/phrases\n",
        "\n",
        "```\n",
        "'-', ':', ';' \n",
        "your business(es)\n",
        "help you\n",
        "case study\n",
        "ALL CAPITAL chars\n",
        "how i\n",
        "dollar symbol $ (e.g turn $100 into 100k)\n",
        "step-by-step\n",
        "here is how\n",
        "here's how\n",
        "part 1/2/3\n",
        "top [number] things\n",
        "[number] reasons\n",
        "ultimate guide\n",
        "cheat sheet\n",
        "cheatsheet\n",
        "infographic\n",
        "by [year]\n",
        "ama\n",
        "```\n",
        "\n",
        "<mark>TODO</mark> \n",
        " - [x] Add more ad-indicative phrases\n",
        " - [x] Use num_comments to filter ads"
      ]
    },
    {
      "cell_type": "code",
      "metadata": {
        "colab": {
          "base_uri": "https://localhost:8080/"
        },
        "id": "1AjZF260X1Is",
        "outputId": "65e1dea0-03ad-450a-faf0-711bcac2d5e7"
      },
      "source": [
        "df = pd.read_csv(gdrive_path +\"/reddit_submission_startups_2018_01_01_2021_08_04.tsv\", sep='\\t', quoting=3)\n",
        "\n",
        "# data cleanup\n",
        "print('before clean-up # rows: {}'.format(len(df)))\n",
        "cleaned_rows = []\n",
        "\n",
        "AD_INDICATIVE_PHRASES = [\n",
        "  \"your business\", \n",
        "  \"your businesses\", \n",
        "  \"help you\", \n",
        "  \"case study\"\n",
        "  \"how i\",\n",
        "  \"$\",\n",
        "  \"step-by-step\",\n",
        "  \"here is how\",\n",
        "  \"here's how\",\n",
        "  \"part 1\",\n",
        "  \"part 2\",\n",
        "  \"part 3\",\n",
        "  \"ultimate guide\",\n",
        "  \"cheatsheet\",\n",
        "  \"infographic\",\n",
        "  \"ama\"\n",
        "]\n",
        "\n",
        "for index, row in df.iterrows():\n",
        "    row_title = row['title'].lower()\n",
        "    if not any(x in ['-', ':', ';'] for x in row_title) and not any(phrase in row_title for phrase in AD_INDICATIVE_PHRASES) and \"?\" in row_title:\n",
        "        '''\n",
        "        1. must contain '?'\n",
        "        2. can only contain alphanumeric, punctuations and space\n",
        "        3. should not contain '-', ':', ';' which indicates ads\n",
        "        '''\n",
        "        cleaned_rows.append(index)\n",
        "\n",
        "df = df[df.index.isin(cleaned_rows)].reset_index()\n",
        "print('after clean-up # rows: {}'.format(len(df)))\n",
        "\n",
        "print(df.head(5).to_markdown())"
      ],
      "execution_count": 5,
      "outputs": [
        {
          "output_type": "stream",
          "text": [
            "before clean-up # rows: 5013\n",
            "after clean-up # rows: 2889\n",
            "|    |   index | title                                                                      | selftext                                                                                                                                                                                                                                                                                                                                                                                                                                                                                                                                                                                                                                                                                                                                                                                                                                                                                                                                                           | author         | permalink                                                                      |   num_comments |   score |   total_awards_received |   upvote_ratio |   created_utc |\n",
            "|---:|--------:|:---------------------------------------------------------------------------|:-------------------------------------------------------------------------------------------------------------------------------------------------------------------------------------------------------------------------------------------------------------------------------------------------------------------------------------------------------------------------------------------------------------------------------------------------------------------------------------------------------------------------------------------------------------------------------------------------------------------------------------------------------------------------------------------------------------------------------------------------------------------------------------------------------------------------------------------------------------------------------------------------------------------------------------------------------------------|:---------------|:-------------------------------------------------------------------------------|---------------:|--------:|------------------------:|---------------:|--------------:|\n",
            "|  0 |       0 | i have a great app idea but have no coding experience... where do i start? | ive had an idea for an app for quite some time that i genuinely believe is a good one. im 16yo and i aspire to become a full time entrepreneur one day.. i just dont know where to start. ive been reading a plethora of books over the past couple months covering startups, marketing etc but im still hung on what to do. im a pretty impatient person and would hate to have to wait until im 18 to start an operational business. i came up with this idea for a deca project; however, i cant compete with my idea because i just moved schools and the new one doesnt offer the deca club. nonetheless, i think its a good app idea and want to pursue it with a mobile app. again, i have no coding experience but i do have a comfortable amount of money to start. any advice?                                                                                                                                                                           | hunterlewis    | /r/startups/comments/7ncwio/i_have_a_great_in_my_opinion_app_idea_but_have_no/ |             14 |       0 |                       0 |           0.46 |   1.51478e+09 |\n",
            "|  1 |       1 | how can we improve the world via creative, compassionate new ventures?     | how can we make the world a better place via creative, compassionate new ventures? how can we... improve fair trade on the consumer or producer side? strengthen and expand non-profits or charities? educate or help the working conditions of labor ? improve the ecological sustainability and environmental impact of supply chains? expand access and convenience of healthy foods and diets? improve democracy at the organization or government level? educate people through non-traditional means, or expand access to education? if you're already part of an organization focusing on these things, tell us about it!                                                                                                                                                                                                                                                                                                                                   | nan            | /r/startups/comments/7njy6j/how_can_we_improve_the_world_via_creative/         |             18 |       5 |                       0 |           0.7  |   1.51487e+09 |\n",
            "|  2 |       3 | which growth hacks went successful for your startup ?                      | hello all, i have been researching about which hacks go best for startups and which did not. so for that i thought i should ask entrepreneurs or startup founders about what or which growth hack went successful for them? let`s say for acquisition, you have tried a new social-media and channel and it worked for you. so i not only want to know about what the hack was but i also want to know how and why it worked for you. i would appreciate if you also mention at what stage your startup was before applying that hack.                                                                                                                                                                                                                                                                                                                                                                                                                             | ArsalanSheikh  | /r/startups/comments/7o22rh/which_growth_hacks_went_successful_for_your/       |             17 |      18 |                       0 |           0.84 |   1.51506e+09 |\n",
            "|  3 |       4 | where to base a virtual office?                                            | i've been contracting as a software developer for 6 months with great success. so far i've had 3 clients, all local to me and have come through referrals from friends and family. for 2018, i've decided to ramp up the business and look to employ some staff, essentially becoming a full-service agency for startups. at this point in time i am running the business from home in the uk. i live around 2 hours outside of london. i'm looking for a virtual office to give me a more professional looking address for the time being. the company which i plan to use offer virtual offices in multiple locations. i am torn whether to get an address local to where i am or whether to take one up in london. predominantly i see most of my business coming from london, so it seems to make more sense to base the address there. are there any downsides to doing so? edit thanks for all the feedback. it sounds like london-based is the way forward! | creativeintent | /r/startups/comments/7o3k9d/where_to_base_a_virtual_office/                    |              9 |      18 |                       0 |           0.84 |   1.51508e+09 |\n",
            "|  4 |       5 | how much more validation do i need?                                        | i'm making a product for a certain niche. i fake sold one item just put up a landing page with mock ups of the product that looked real. and with the first 30 clicks on facebook i sold one item. basically just didn't charge the card just wanted to see if this niche would buy. should i go ahead and end up ordering an moq of the product or should i run a kickstarter and run more ads to the kickstarter? before i order the moq or do the kickstarter i want to get some samples from the 3 manufacturers i've been talking with though. should i run a kickstarter? run more ads to further validate the product? or stop running ads and work on towards a launch date either on kickstarter or elsewhere?                                                                                                                                                                                                                                            | b420k          | /r/startups/comments/7o8hmz/how_much_more_validation_do_i_need/                |             10 |       1 |                       0 |           0.57 |   1.51512e+09 |\n"
          ],
          "name": "stdout"
        }
      ]
    },
    {
      "cell_type": "markdown",
      "metadata": {
        "id": "lLsjc_nROCgd"
      },
      "source": [
        "# (Optional) Tokenization Tunning"
      ]
    },
    {
      "cell_type": "code",
      "metadata": {
        "id": "LYpZCSge3H2z"
      },
      "source": [
        "import spacy\n",
        "\n",
        "spacy.require_gpu()\n",
        "nlp = spacy.load(\"en_core_web_trf\")"
      ],
      "execution_count": null,
      "outputs": []
    },
    {
      "cell_type": "code",
      "metadata": {
        "colab": {
          "base_uri": "https://localhost:8080/"
        },
        "id": "bdQ6O7RL3Wiz",
        "outputId": "b6c42add-51c9-4ed1-b286-73fdf2f190e2"
      },
      "source": [
        "#nlp.add_pipe(\"merge_noun_chunks\")\n",
        "# nlp.add_pipe(\"merge_entities\")"
      ],
      "execution_count": null,
      "outputs": [
        {
          "output_type": "execute_result",
          "data": {
            "text/plain": [
              "<function spacy.pipeline.functions.merge_noun_chunks>"
            ]
          },
          "metadata": {
            "tags": []
          },
          "execution_count": 110
        }
      ]
    },
    {
      "cell_type": "code",
      "metadata": {
        "colab": {
          "base_uri": "https://localhost:8080/"
        },
        "id": "g-RLB3OhOB7v",
        "outputId": "4006a16c-4767-45c2-f668-0a2a2e09718c"
      },
      "source": [
        "from spacy.matcher import Matcher\n",
        "from spacy import displacy\n",
        "from rake_spacy import Rake\n",
        "\n",
        "idx = 5\n",
        "text = df['title'][idx] + ' ' + df['selftext'][idx]\n",
        "\n",
        "text = \"what would the general lee of the north be?  \"\n",
        "doc = nlp(text)\n",
        "\n",
        "for token in doc:\n",
        "  print(token, token.pos_)\n",
        "\n",
        "# merge entities and noun phrases (without DET)\n",
        "def valid_start_pos(doc, span):\n",
        "  start = span.start\n",
        "  while start < span.end:\n",
        "    if doc[start].pos_ not in ['DET', 'PRON']:\n",
        "      break\n",
        "    start += 1\n",
        "  return start\n",
        "\n",
        "# remove prefix tokens that are either DET or PRON\n",
        "# remove spans with less than 2 tokens\n",
        "# remove spans with 0 tokens after removing prefix\n",
        "noun_phrase_spans = list(filter(lambda x: x.start < x.end, [doc[valid_start_pos(doc, np_span):np_span.end] for np_span in doc.noun_chunks if np_span.end-np_span.start > 1]))\n",
        "entities_spans = list(filter(lambda x: x.start < x.end, [doc[valid_start_pos(doc, ent_span):ent_span.end] for ent_span in doc.ents if ent_span.end-ent_span.start > 1]))\n",
        "\n",
        "spans = spacy.util.filter_spans(noun_phrase_spans+entities_spans)\n",
        "with doc.retokenize() as retokenizer:\n",
        "  for span in spans:\n",
        "    retokenizer.merge(span)\n",
        "\n",
        "print('\\n\\n')\n",
        "for token in doc:\n",
        "  print(token, token.pos_, token.is_stop)\n",
        "\n",
        "print('\\n\\n')\n",
        "print(' '.join(['_'.join(token.lemma_.split())for token in doc if not token.is_stop]))\n",
        "\n",
        "\n",
        "# displacy_image = displacy.render(nlp(text2), jupyter = True, style = 'ent')\n"
      ],
      "execution_count": null,
      "outputs": [
        {
          "output_type": "stream",
          "text": [
            "what PRON\n",
            "would AUX\n",
            "the DET\n",
            "general ADJ\n",
            "lee NOUN\n",
            "of ADP\n",
            "the DET\n",
            "north NOUN\n",
            "be VERB\n",
            "? PUNCT\n",
            "  SPACE\n",
            "\n",
            "\n",
            "\n",
            "what PRON True\n",
            "would AUX True\n",
            "the DET True\n",
            "general lee NOUN False\n",
            "of ADP True\n",
            "the DET True\n",
            "north NOUN False\n",
            "be VERB True\n",
            "? PUNCT False\n",
            "  SPACE False\n",
            "\n",
            "\n",
            "\n",
            "general_lee north ? \n"
          ],
          "name": "stdout"
        }
      ]
    },
    {
      "cell_type": "markdown",
      "metadata": {
        "id": "l5lzeN49cbAw"
      },
      "source": [
        "# Classified submissions by wh-words in title, extract keywords and aggregate stats"
      ]
    },
    {
      "cell_type": "code",
      "metadata": {
        "colab": {
          "base_uri": "https://localhost:8080/"
        },
        "id": "yvt27v0KK9v2",
        "outputId": "c7ae7c29-69b1-438f-c8a8-0cf0855380dd"
      },
      "source": [
        "!pip install sacremoses"
      ],
      "execution_count": null,
      "outputs": [
        {
          "output_type": "stream",
          "text": [
            "Requirement already satisfied: sacremoses in /usr/local/lib/python3.7/dist-packages/sacremoses-0.0.45-py3.7.egg (0.0.45)\n",
            "Requirement already satisfied: click in /usr/local/lib/python3.7/dist-packages (from sacremoses) (7.1.2)\n",
            "Requirement already satisfied: joblib in /usr/local/lib/python3.7/dist-packages (from sacremoses) (1.0.1)\n",
            "Requirement already satisfied: regex in /usr/local/lib/python3.7/dist-packages (from sacremoses) (2019.12.20)\n",
            "Requirement already satisfied: six in /usr/local/lib/python3.7/dist-packages (from sacremoses) (1.15.0)\n",
            "Requirement already satisfied: tqdm in /usr/local/lib/python3.7/dist-packages (from sacremoses) (4.41.1)\n"
          ],
          "name": "stdout"
        }
      ]
    },
    {
      "cell_type": "code",
      "metadata": {
        "colab": {
          "base_uri": "https://localhost:8080/"
        },
        "id": "eHRjLDsoXq9u",
        "outputId": "3f97260f-eefc-45e5-9c21-d75736e44743"
      },
      "source": [
        "import pprint\n",
        "import spacy\n",
        "from tqdm import tqdm \n",
        "from rake_spacy import Rake\n",
        "\n",
        "spacy.require_gpu()\n",
        "nlp = spacy.load(\"en_core_web_trf\")\n",
        "#kw_model = KeyBERT(model='paraphrase-MiniLM-L6-v2')\n",
        "rake = Rake(nlp=nlp)\n",
        "\n",
        "title_cat = []\n",
        "keywords = []\n",
        "lemmatized_combined_text = []\n",
        "\n",
        "df['combined_text'] = df['title'] +' '+ df['selftext']\n",
        "#docs = list(nlp.pipe(df['combined_text']))\n",
        "for index, row in tqdm(df.iterrows(), position=0, leave=True, total=len(df)):\n",
        "    title_cat.append('NO_WH_WORD')  \n",
        "    for wh_word in QUESTION_WORDS:\n",
        "        if wh_word in row['title'].lower():\n",
        "            title_cat[-1] = wh_word\n",
        "            break\n",
        "\n",
        "df['title_cat'] = title_cat\n",
        "#df['keywords'] = keywords\n",
        "\n",
        "cat_stats = {\n",
        "    'cat': QUESTION_WORDS,\n",
        "    'num_docs': [],\n",
        "    'total_score': [],\n",
        "    'total_comments': []\n",
        "}\n",
        "\n",
        "# print out number of docs per category\n",
        "for wh_word in QUESTION_WORDS:\n",
        "    _df = df[df['title_cat'] == wh_word]\n",
        "    cat_stats['num_docs'].append(len(_df))\n",
        "    cat_stats['total_score'].append(_df['score'].sum())\n",
        "    cat_stats['total_comments'].append(_df['num_comments'].sum())\n",
        "  \n",
        "cat_stats_df = pd.DataFrame(data=cat_stats)\n",
        "\n",
        "print('\\n', cat_stats_df.to_markdown())\n",
        "  "
      ],
      "execution_count": 6,
      "outputs": [
        {
          "output_type": "stream",
          "text": [
            "100%|██████████| 2889/2889 [00:00<00:00, 9580.00it/s]"
          ],
          "name": "stderr"
        },
        {
          "output_type": "stream",
          "text": [
            "\n",
            " |    | cat                     |   num_docs |   total_score |   total_comments |\n",
            "|---:|:------------------------|-----------:|--------------:|-----------------:|\n",
            "|  0 | what                    |        846 |         18855 |            19007 |\n",
            "|  1 | when                    |        155 |          2706 |             2514 |\n",
            "|  2 | where                   |        162 |          2672 |             3244 |\n",
            "|  3 | who                     |         66 |          1496 |             1556 |\n",
            "|  4 | whom                    |          0 |             0 |                0 |\n",
            "|  5 | which                   |         66 |           687 |              982 |\n",
            "|  6 | whose                   |          0 |             0 |                0 |\n",
            "|  7 | why                     |         66 |          2166 |             2534 |\n",
            "|  8 | how                     |       1351 |         24993 |            25411 |\n",
            "|  9 | wonder                  |          1 |            10 |                4 |\n",
            "| 10 | want                    |         29 |           658 |              772 |\n",
            "| 11 | is anyone               |          1 |            28 |               30 |\n",
            "| 12 | does anyone             |         20 |           264 |              242 |\n",
            "| 13 | any tips                |          7 |           226 |              101 |\n",
            "| 14 | advice                  |         79 |          1031 |             1149 |\n",
            "| 15 | suggestion              |         12 |            89 |              164 |\n",
            "| 16 | suggestions             |          0 |             0 |                0 |\n",
            "| 17 | suggest                 |          4 |            26 |               50 |\n",
            "| 18 | ideas on                |          0 |             0 |                0 |\n",
            "| 19 | need help               |          1 |             1 |                4 |\n",
            "| 20 | needs help              |          0 |             0 |                0 |\n",
            "| 21 | need your help          |          0 |             0 |                0 |\n",
            "| 22 | serious help            |          0 |             0 |                0 |\n",
            "| 23 | please help             |          1 |             2 |               15 |\n",
            "| 24 | challenge               |          4 |            10 |               37 |\n",
            "| 25 | challenges              |          0 |             0 |                0 |\n",
            "| 26 | can't stand             |          0 |             0 |                0 |\n",
            "| 27 | struggle                |          0 |             0 |                0 |\n",
            "| 28 | struggling              |          1 |            68 |               36 |\n",
            "| 29 | can't figure out        |          0 |             0 |                0 |\n",
            "| 30 | help me                 |          5 |            17 |               65 |\n",
            "| 31 | hardest part            |          0 |             0 |                0 |\n",
            "| 32 | would appreciate        |          0 |             0 |                0 |\n",
            "| 33 | would really appreciate |          0 |             0 |                0 |\n",
            "| 34 | any guidance            |          0 |             0 |                0 |\n",
            "| 35 | no idea                 |          0 |             0 |                0 |\n",
            "| 36 | confused with           |          0 |             0 |                0 |\n",
            "| 37 | new to                  |          2 |             6 |               32 |\n",
            "| 38 | is there any way        |          1 |             5 |                6 |\n"
          ],
          "name": "stdout"
        },
        {
          "output_type": "stream",
          "text": [
            "\n"
          ],
          "name": "stderr"
        }
      ]
    },
    {
      "cell_type": "markdown",
      "metadata": {
        "id": "jn_p6EBAYPd0"
      },
      "source": [
        "# Pick a wh-word category"
      ]
    },
    {
      "cell_type": "code",
      "metadata": {
        "colab": {
          "base_uri": "https://localhost:8080/"
        },
        "id": "Iyw8AKm-YRUv",
        "outputId": "376858d2-08c7-404c-b8eb-b0502c192d66"
      },
      "source": [
        "# df_selection = df[df['title_cat'] == \"what\"].copy().reset_index()\n",
        "df_selection = df.copy().reset_index()\n",
        "print(df_selection.head(10).to_markdown())"
      ],
      "execution_count": 10,
      "outputs": [
        {
          "output_type": "stream",
          "text": [
            "|    |   level_0 |   index | title                                                                                                        | selftext                                                                                                                                                                                                                                                                                                                                                                                                                                                                                                                                                                                                                                                                                                                                                                                                                                                                                                                                                                                                        | author         | permalink                                                                      |   num_comments |   score |   total_awards_received |   upvote_ratio |   created_utc | combined_text                                                                                                                                                                                                                                                                                                                                                                                                                                                                                                                                                                                                                                                                                                                                                                                                                                                                                                                                                                                                                                                                            | title_cat   |\n",
            "|---:|----------:|--------:|:-------------------------------------------------------------------------------------------------------------|:----------------------------------------------------------------------------------------------------------------------------------------------------------------------------------------------------------------------------------------------------------------------------------------------------------------------------------------------------------------------------------------------------------------------------------------------------------------------------------------------------------------------------------------------------------------------------------------------------------------------------------------------------------------------------------------------------------------------------------------------------------------------------------------------------------------------------------------------------------------------------------------------------------------------------------------------------------------------------------------------------------------|:---------------|:-------------------------------------------------------------------------------|---------------:|--------:|------------------------:|---------------:|--------------:|:-----------------------------------------------------------------------------------------------------------------------------------------------------------------------------------------------------------------------------------------------------------------------------------------------------------------------------------------------------------------------------------------------------------------------------------------------------------------------------------------------------------------------------------------------------------------------------------------------------------------------------------------------------------------------------------------------------------------------------------------------------------------------------------------------------------------------------------------------------------------------------------------------------------------------------------------------------------------------------------------------------------------------------------------------------------------------------------------|:------------|\n",
            "|  0 |         0 |       0 | i have a great app idea but have no coding experience... where do i start?                                   | ive had an idea for an app for quite some time that i genuinely believe is a good one. im 16yo and i aspire to become a full time entrepreneur one day.. i just dont know where to start. ive been reading a plethora of books over the past couple months covering startups, marketing etc but im still hung on what to do. im a pretty impatient person and would hate to have to wait until im 18 to start an operational business. i came up with this idea for a deca project; however, i cant compete with my idea because i just moved schools and the new one doesnt offer the deca club. nonetheless, i think its a good app idea and want to pursue it with a mobile app. again, i have no coding experience but i do have a comfortable amount of money to start. any advice?                                                                                                                                                                                                                        | hunterlewis    | /r/startups/comments/7ncwio/i_have_a_great_in_my_opinion_app_idea_but_have_no/ |             14 |       0 |                       0 |           0.46 |   1.51478e+09 | i have a great app idea but have no coding experience... where do i start? ive had an idea for an app for quite some time that i genuinely believe is a good one. im 16yo and i aspire to become a full time entrepreneur one day.. i just dont know where to start. ive been reading a plethora of books over the past couple months covering startups, marketing etc but im still hung on what to do. im a pretty impatient person and would hate to have to wait until im 18 to start an operational business. i came up with this idea for a deca project; however, i cant compete with my idea because i just moved schools and the new one doesnt offer the deca club. nonetheless, i think its a good app idea and want to pursue it with a mobile app. again, i have no coding experience but i do have a comfortable amount of money to start. any advice?                                                                                                                                                                                                                      | where       |\n",
            "|  1 |         1 |       1 | how can we improve the world via creative, compassionate new ventures?                                       | how can we make the world a better place via creative, compassionate new ventures? how can we... improve fair trade on the consumer or producer side? strengthen and expand non-profits or charities? educate or help the working conditions of labor ? improve the ecological sustainability and environmental impact of supply chains? expand access and convenience of healthy foods and diets? improve democracy at the organization or government level? educate people through non-traditional means, or expand access to education? if you're already part of an organization focusing on these things, tell us about it!                                                                                                                                                                                                                                                                                                                                                                                | nan            | /r/startups/comments/7njy6j/how_can_we_improve_the_world_via_creative/         |             18 |       5 |                       0 |           0.7  |   1.51487e+09 | how can we improve the world via creative, compassionate new ventures? how can we make the world a better place via creative, compassionate new ventures? how can we... improve fair trade on the consumer or producer side? strengthen and expand non-profits or charities? educate or help the working conditions of labor ? improve the ecological sustainability and environmental impact of supply chains? expand access and convenience of healthy foods and diets? improve democracy at the organization or government level? educate people through non-traditional means, or expand access to education? if you're already part of an organization focusing on these things, tell us about it!                                                                                                                                                                                                                                                                                                                                                                                  | how         |\n",
            "|  2 |         2 |       3 | which growth hacks went successful for your startup ?                                                        | hello all, i have been researching about which hacks go best for startups and which did not. so for that i thought i should ask entrepreneurs or startup founders about what or which growth hack went successful for them? let`s say for acquisition, you have tried a new social-media and channel and it worked for you. so i not only want to know about what the hack was but i also want to know how and why it worked for you. i would appreciate if you also mention at what stage your startup was before applying that hack.                                                                                                                                                                                                                                                                                                                                                                                                                                                                          | ArsalanSheikh  | /r/startups/comments/7o22rh/which_growth_hacks_went_successful_for_your/       |             17 |      18 |                       0 |           0.84 |   1.51506e+09 | which growth hacks went successful for your startup ? hello all, i have been researching about which hacks go best for startups and which did not. so for that i thought i should ask entrepreneurs or startup founders about what or which growth hack went successful for them? let`s say for acquisition, you have tried a new social-media and channel and it worked for you. so i not only want to know about what the hack was but i also want to know how and why it worked for you. i would appreciate if you also mention at what stage your startup was before applying that hack.                                                                                                                                                                                                                                                                                                                                                                                                                                                                                             | which       |\n",
            "|  3 |         3 |       4 | where to base a virtual office?                                                                              | i've been contracting as a software developer for 6 months with great success. so far i've had 3 clients, all local to me and have come through referrals from friends and family. for 2018, i've decided to ramp up the business and look to employ some staff, essentially becoming a full-service agency for startups. at this point in time i am running the business from home in the uk. i live around 2 hours outside of london. i'm looking for a virtual office to give me a more professional looking address for the time being. the company which i plan to use offer virtual offices in multiple locations. i am torn whether to get an address local to where i am or whether to take one up in london. predominantly i see most of my business coming from london, so it seems to make more sense to base the address there. are there any downsides to doing so? edit thanks for all the feedback. it sounds like london-based is the way forward!                                              | creativeintent | /r/startups/comments/7o3k9d/where_to_base_a_virtual_office/                    |              9 |      18 |                       0 |           0.84 |   1.51508e+09 | where to base a virtual office? i've been contracting as a software developer for 6 months with great success. so far i've had 3 clients, all local to me and have come through referrals from friends and family. for 2018, i've decided to ramp up the business and look to employ some staff, essentially becoming a full-service agency for startups. at this point in time i am running the business from home in the uk. i live around 2 hours outside of london. i'm looking for a virtual office to give me a more professional looking address for the time being. the company which i plan to use offer virtual offices in multiple locations. i am torn whether to get an address local to where i am or whether to take one up in london. predominantly i see most of my business coming from london, so it seems to make more sense to base the address there. are there any downsides to doing so? edit thanks for all the feedback. it sounds like london-based is the way forward!                                                                                       | where       |\n",
            "|  4 |         4 |       5 | how much more validation do i need?                                                                          | i'm making a product for a certain niche. i fake sold one item just put up a landing page with mock ups of the product that looked real. and with the first 30 clicks on facebook i sold one item. basically just didn't charge the card just wanted to see if this niche would buy. should i go ahead and end up ordering an moq of the product or should i run a kickstarter and run more ads to the kickstarter? before i order the moq or do the kickstarter i want to get some samples from the 3 manufacturers i've been talking with though. should i run a kickstarter? run more ads to further validate the product? or stop running ads and work on towards a launch date either on kickstarter or elsewhere?                                                                                                                                                                                                                                                                                         | b420k          | /r/startups/comments/7o8hmz/how_much_more_validation_do_i_need/                |             10 |       1 |                       0 |           0.57 |   1.51512e+09 | how much more validation do i need? i'm making a product for a certain niche. i fake sold one item just put up a landing page with mock ups of the product that looked real. and with the first 30 clicks on facebook i sold one item. basically just didn't charge the card just wanted to see if this niche would buy. should i go ahead and end up ordering an moq of the product or should i run a kickstarter and run more ads to the kickstarter? before i order the moq or do the kickstarter i want to get some samples from the 3 manufacturers i've been talking with though. should i run a kickstarter? run more ads to further validate the product? or stop running ads and work on towards a launch date either on kickstarter or elsewhere?                                                                                                                                                                                                                                                                                                                              | how         |\n",
            "|  5 |         5 |      10 | how to structure llc's and dba's to maintain anonymity/legal protection?                                     | id like to start a small business where i buy and sell land. i plan to buy the land from private sellers then turn around and sell them to other entities, either business or private individuals. i need to make sure my buying arm is totally separated from the selling arm to make sure none of the land owners have any idea what i am planning to do with the land once i have bought it. while i dont think ill be needing to be worried about getting sued constantly, i know i should have at the very least an llc in place to protect myself. however, i have read that dbas can be sued as if they were sole proprietor entities. ive also heard that places like wyoming have built in llc protections. i am located in minnesota. the question is, do i keep everything in minnesota to keep it simple? or perhaps make 1 llc in wy and have it own a separate llc in mn? any reason to not do a wy llc, such as foreign business fees or whatever its called when you file out of state? thanks! | Primal_mode    | /r/startups/comments/7otowr/how_to_structure_llcs_and_dbas_to_maintain/        |              5 |       2 |                       0 |           0.63 |   1.51536e+09 | how to structure llc's and dba's to maintain anonymity/legal protection? id like to start a small business where i buy and sell land. i plan to buy the land from private sellers then turn around and sell them to other entities, either business or private individuals. i need to make sure my buying arm is totally separated from the selling arm to make sure none of the land owners have any idea what i am planning to do with the land once i have bought it. while i dont think ill be needing to be worried about getting sued constantly, i know i should have at the very least an llc in place to protect myself. however, i have read that dbas can be sued as if they were sole proprietor entities. ive also heard that places like wyoming have built in llc protections. i am located in minnesota. the question is, do i keep everything in minnesota to keep it simple? or perhaps make 1 llc in wy and have it own a separate llc in mn? any reason to not do a wy llc, such as foreign business fees or whatever its called when you file out of state? thanks! | how         |\n",
            "|  6 |         6 |      11 | people who have published an app, what is something you wish you had known or done early on to be succesful? | hi everyone, my partner and i are preparing to publish an app by the end of the month. its kinda like a social network. we are really excited and been working hard on it for a while. that being said, we are nervous about it as well, what if noone uses it, which is our ultimate fear. we feel our product is pretty in demand and thing it will be well built.. but you never really know... people who have launched an app, or something similar.. what is something you had done or wish you had known? basically we are just asking for advice, and just want to pick the brains of the expierenced people. wether its a logistics thing, a philosphy thing.. anything. would love to hear stories of peoples expierences as well! thanks so much!                                                                                                                                                                                                                                                    | Skippertech    | /r/startups/comments/7ow291/people_who_have_published_an_app_what_is/          |             58 |     107 |                       0 |           0.96 |   1.51539e+09 | people who have published an app, what is something you wish you had known or done early on to be succesful? hi everyone, my partner and i are preparing to publish an app by the end of the month. its kinda like a social network. we are really excited and been working hard on it for a while. that being said, we are nervous about it as well, what if noone uses it, which is our ultimate fear. we feel our product is pretty in demand and thing it will be well built.. but you never really know... people who have launched an app, or something similar.. what is something you had done or wish you had known? basically we are just asking for advice, and just want to pick the brains of the expierenced people. wether its a logistics thing, a philosphy thing.. anything. would love to hear stories of peoples expierences as well! thanks so much!                                                                                                                                                                                                                | what        |\n",
            "|  7 |         7 |      12 | how to handle deposits on future service?                                                                    | i'm working on a service product that targets high net worth individuals. it will take a couple of years to get operational, but there are limited customer slots available and we'd like to get some early traction - deposits on future services would go a long way on the funding front. the question is do we put all the deposits in escrow and make them refundable? we're talking about $100k deposits and only about 500 slots. some have recommended making the deposits non-refundable, but i'm not sure about that. any thoughts?                                                                                                                                                                                                                                                                                                                                                                                                                                                                   | houstonspace   | /r/startups/comments/7ow38n/how_to_handle_deposits_on_future_service/          |              7 |       2 |                       0 |           0.67 |   1.51539e+09 | how to handle deposits on future service? i'm working on a service product that targets high net worth individuals. it will take a couple of years to get operational, but there are limited customer slots available and we'd like to get some early traction - deposits on future services would go a long way on the funding front. the question is do we put all the deposits in escrow and make them refundable? we're talking about $100k deposits and only about 500 slots. some have recommended making the deposits non-refundable, but i'm not sure about that. any thoughts?                                                                                                                                                                                                                                                                                                                                                                                                                                                                                                  | how         |\n",
            "|  8 |         8 |      13 | when do i execute options?                                                                                   | hi all, received varying answers and wanted to turn to you all. i recently joined a startup, 4 year vested equity with a 1 year cliff as i understand that's a standard for most startups. i recently crossed the 1 year mark - do i need to purchase/execute on my options right now? or is this something i can do if/when we gets acquired/ipo? also, following with that, do i need to continually act on my options every month following? edit thank you all for advice! really cleared things up for me.                                                                                                                                                                                                                                                                                                                                                                                                                                                                                                 | nasaboy        | /r/startups/comments/7p01nj/when_do_i_execute_options/                         |              7 |       9 |                       0 |           0.99 |   1.51543e+09 | when do i execute options? hi all, received varying answers and wanted to turn to you all. i recently joined a startup, 4 year vested equity with a 1 year cliff as i understand that's a standard for most startups. i recently crossed the 1 year mark - do i need to purchase/execute on my options right now? or is this something i can do if/when we gets acquired/ipo? also, following with that, do i need to continually act on my options every month following? edit thank you all for advice! really cleared things up for me.                                                                                                                                                                                                                                                                                                                                                                                                                                                                                                                                               | when        |\n",
            "|  9 |         9 |      14 | which is best for me? s, c, llc?                                                                             | sorry if this question has been asked a million times. i have received different advice from numerous articles, my tax advisor, and fellow startup friends. i'm a bit overwhelmed. here's my situation - solo founder based in ca, creating a web app. - hoping to bootstrap as much as possible, currently paying from savings when i need help with certain things - hope to sell one day - about to launch mvp, unsure if it will be profitable at this point but feedback has been positive - willing to give some equity to those who may join me in the future - plan on working from home for the time being, not sure an office is necessary based on what i've read, an llc seems like the way to go, but i wanted to get all of your informed opinions. thank you.                                                                                                                                                                                                                                    | MatttDam0n     | /r/startups/comments/7p2gcm/which_is_best_for_me_s_c_llc/                      |             13 |       7 |                       0 |           0.82 |   1.51545e+09 | which is best for me? s, c, llc? sorry if this question has been asked a million times. i have received different advice from numerous articles, my tax advisor, and fellow startup friends. i'm a bit overwhelmed. here's my situation - solo founder based in ca, creating a web app. - hoping to bootstrap as much as possible, currently paying from savings when i need help with certain things - hope to sell one day - about to launch mvp, unsure if it will be profitable at this point but feedback has been positive - willing to give some equity to those who may join me in the future - plan on working from home for the time being, not sure an office is necessary based on what i've read, an llc seems like the way to go, but i wanted to get all of your informed opinions. thank you.                                                                                                                                                                                                                                                                            | which       |\n"
          ],
          "name": "stdout"
        }
      ]
    },
    {
      "cell_type": "markdown",
      "metadata": {
        "id": "1tFA-rV5My36"
      },
      "source": [
        "# Keywords Analysis"
      ]
    },
    {
      "cell_type": "code",
      "metadata": {
        "colab": {
          "base_uri": "https://localhost:8080/",
          "height": 555
        },
        "id": "uTYKbdKRMyjz",
        "outputId": "8b82336f-b18c-4ef9-be03-7dff55cb97ab"
      },
      "source": [
        "from gensim.corpora import Dictionary\n",
        "from collections import defaultdict\n",
        "\n",
        "# Create a id2word dictionary\n",
        "_dict = Dictionary(df_selection['keywords'])\n",
        "print('dict size (unfiltered) {}'.format(len(_dict)))\n",
        "\n",
        "\n",
        "# Filtering Extremes\n",
        "_dict.filter_extremes(no_below=2, no_above=.99)\n",
        "_dict.compactify()\n",
        "print('dict size {}'.format(len(_dict)))\n",
        "\n",
        "keywords_stats = defaultdict(lambda: {\n",
        "    'token': '',\n",
        "    'num_comments': 0,\n",
        "    'score': 0,\n",
        "    'doc_freq': 0,\n",
        "    'docs': []\n",
        "})\n",
        "\n",
        "token2doc = defaultdict(list)\n",
        "for idx, row in df_selection.iterrows():\n",
        "    for token in row['keywords']:\n",
        "        # ignore tokens not in dict\n",
        "        if token not in _dict.token2id: continue\n",
        "        token2doc[token].append(idx)\n",
        "        keywords_stats[token]['num_comments'] += row['num_comments']\n",
        "        keywords_stats[token]['score'] += row['score']\n",
        "\n",
        "for token, id in _dict.token2id.items():\n",
        "    keywords_stats[token]['token']=token\n",
        "    keywords_stats[token]['doc_freq'] = _dict.dfs[id]\n",
        "    keywords_stats[token]['docs'] = token2doc[token]\n",
        "\n",
        "keywords_stats_df = pd.DataFrame(list(keywords_stats.values()))\n",
        "\n",
        "# sort by num_comments\n",
        "keywords_stats_df =keywords_stats_df.sort_values(by=['num_comments'], ascending=False)\n",
        "\n",
        "print(keywords_stats_df[['token', 'num_comments', 'score', 'doc_freq']].head(50).to_markdown())"
      ],
      "execution_count": 8,
      "outputs": [
        {
          "output_type": "error",
          "ename": "KeyError",
          "evalue": "ignored",
          "traceback": [
            "\u001b[0;31m---------------------------------------------------------------------------\u001b[0m",
            "\u001b[0;31mKeyError\u001b[0m                                  Traceback (most recent call last)",
            "\u001b[0;32m/usr/local/lib/python3.7/dist-packages/pandas/core/indexes/base.py\u001b[0m in \u001b[0;36mget_loc\u001b[0;34m(self, key, method, tolerance)\u001b[0m\n\u001b[1;32m   2897\u001b[0m             \u001b[0;32mtry\u001b[0m\u001b[0;34m:\u001b[0m\u001b[0;34m\u001b[0m\u001b[0;34m\u001b[0m\u001b[0m\n\u001b[0;32m-> 2898\u001b[0;31m                 \u001b[0;32mreturn\u001b[0m \u001b[0mself\u001b[0m\u001b[0;34m.\u001b[0m\u001b[0m_engine\u001b[0m\u001b[0;34m.\u001b[0m\u001b[0mget_loc\u001b[0m\u001b[0;34m(\u001b[0m\u001b[0mcasted_key\u001b[0m\u001b[0;34m)\u001b[0m\u001b[0;34m\u001b[0m\u001b[0;34m\u001b[0m\u001b[0m\n\u001b[0m\u001b[1;32m   2899\u001b[0m             \u001b[0;32mexcept\u001b[0m \u001b[0mKeyError\u001b[0m \u001b[0;32mas\u001b[0m \u001b[0merr\u001b[0m\u001b[0;34m:\u001b[0m\u001b[0;34m\u001b[0m\u001b[0;34m\u001b[0m\u001b[0m\n",
            "\u001b[0;32mpandas/_libs/index.pyx\u001b[0m in \u001b[0;36mpandas._libs.index.IndexEngine.get_loc\u001b[0;34m()\u001b[0m\n",
            "\u001b[0;32mpandas/_libs/index.pyx\u001b[0m in \u001b[0;36mpandas._libs.index.IndexEngine.get_loc\u001b[0;34m()\u001b[0m\n",
            "\u001b[0;32mpandas/_libs/hashtable_class_helper.pxi\u001b[0m in \u001b[0;36mpandas._libs.hashtable.PyObjectHashTable.get_item\u001b[0;34m()\u001b[0m\n",
            "\u001b[0;32mpandas/_libs/hashtable_class_helper.pxi\u001b[0m in \u001b[0;36mpandas._libs.hashtable.PyObjectHashTable.get_item\u001b[0;34m()\u001b[0m\n",
            "\u001b[0;31mKeyError\u001b[0m: 'keywords'",
            "\nThe above exception was the direct cause of the following exception:\n",
            "\u001b[0;31mKeyError\u001b[0m                                  Traceback (most recent call last)",
            "\u001b[0;32m<ipython-input-8-42b003dcb21f>\u001b[0m in \u001b[0;36m<module>\u001b[0;34m()\u001b[0m\n\u001b[1;32m      3\u001b[0m \u001b[0;34m\u001b[0m\u001b[0m\n\u001b[1;32m      4\u001b[0m \u001b[0;31m# Create a id2word dictionary\u001b[0m\u001b[0;34m\u001b[0m\u001b[0;34m\u001b[0m\u001b[0;34m\u001b[0m\u001b[0m\n\u001b[0;32m----> 5\u001b[0;31m \u001b[0m_dict\u001b[0m \u001b[0;34m=\u001b[0m \u001b[0mDictionary\u001b[0m\u001b[0;34m(\u001b[0m\u001b[0mdf_selection\u001b[0m\u001b[0;34m[\u001b[0m\u001b[0;34m'keywords'\u001b[0m\u001b[0;34m]\u001b[0m\u001b[0;34m)\u001b[0m\u001b[0;34m\u001b[0m\u001b[0;34m\u001b[0m\u001b[0m\n\u001b[0m\u001b[1;32m      6\u001b[0m \u001b[0mprint\u001b[0m\u001b[0;34m(\u001b[0m\u001b[0;34m'dict size (unfiltered) {}'\u001b[0m\u001b[0;34m.\u001b[0m\u001b[0mformat\u001b[0m\u001b[0;34m(\u001b[0m\u001b[0mlen\u001b[0m\u001b[0;34m(\u001b[0m\u001b[0m_dict\u001b[0m\u001b[0;34m)\u001b[0m\u001b[0;34m)\u001b[0m\u001b[0;34m)\u001b[0m\u001b[0;34m\u001b[0m\u001b[0;34m\u001b[0m\u001b[0m\n\u001b[1;32m      7\u001b[0m \u001b[0;34m\u001b[0m\u001b[0m\n",
            "\u001b[0;32m/usr/local/lib/python3.7/dist-packages/pandas/core/frame.py\u001b[0m in \u001b[0;36m__getitem__\u001b[0;34m(self, key)\u001b[0m\n\u001b[1;32m   2904\u001b[0m             \u001b[0;32mif\u001b[0m \u001b[0mself\u001b[0m\u001b[0;34m.\u001b[0m\u001b[0mcolumns\u001b[0m\u001b[0;34m.\u001b[0m\u001b[0mnlevels\u001b[0m \u001b[0;34m>\u001b[0m \u001b[0;36m1\u001b[0m\u001b[0;34m:\u001b[0m\u001b[0;34m\u001b[0m\u001b[0;34m\u001b[0m\u001b[0m\n\u001b[1;32m   2905\u001b[0m                 \u001b[0;32mreturn\u001b[0m \u001b[0mself\u001b[0m\u001b[0;34m.\u001b[0m\u001b[0m_getitem_multilevel\u001b[0m\u001b[0;34m(\u001b[0m\u001b[0mkey\u001b[0m\u001b[0;34m)\u001b[0m\u001b[0;34m\u001b[0m\u001b[0;34m\u001b[0m\u001b[0m\n\u001b[0;32m-> 2906\u001b[0;31m             \u001b[0mindexer\u001b[0m \u001b[0;34m=\u001b[0m \u001b[0mself\u001b[0m\u001b[0;34m.\u001b[0m\u001b[0mcolumns\u001b[0m\u001b[0;34m.\u001b[0m\u001b[0mget_loc\u001b[0m\u001b[0;34m(\u001b[0m\u001b[0mkey\u001b[0m\u001b[0;34m)\u001b[0m\u001b[0;34m\u001b[0m\u001b[0;34m\u001b[0m\u001b[0m\n\u001b[0m\u001b[1;32m   2907\u001b[0m             \u001b[0;32mif\u001b[0m \u001b[0mis_integer\u001b[0m\u001b[0;34m(\u001b[0m\u001b[0mindexer\u001b[0m\u001b[0;34m)\u001b[0m\u001b[0;34m:\u001b[0m\u001b[0;34m\u001b[0m\u001b[0;34m\u001b[0m\u001b[0m\n\u001b[1;32m   2908\u001b[0m                 \u001b[0mindexer\u001b[0m \u001b[0;34m=\u001b[0m \u001b[0;34m[\u001b[0m\u001b[0mindexer\u001b[0m\u001b[0;34m]\u001b[0m\u001b[0;34m\u001b[0m\u001b[0;34m\u001b[0m\u001b[0m\n",
            "\u001b[0;32m/usr/local/lib/python3.7/dist-packages/pandas/core/indexes/base.py\u001b[0m in \u001b[0;36mget_loc\u001b[0;34m(self, key, method, tolerance)\u001b[0m\n\u001b[1;32m   2898\u001b[0m                 \u001b[0;32mreturn\u001b[0m \u001b[0mself\u001b[0m\u001b[0;34m.\u001b[0m\u001b[0m_engine\u001b[0m\u001b[0;34m.\u001b[0m\u001b[0mget_loc\u001b[0m\u001b[0;34m(\u001b[0m\u001b[0mcasted_key\u001b[0m\u001b[0;34m)\u001b[0m\u001b[0;34m\u001b[0m\u001b[0;34m\u001b[0m\u001b[0m\n\u001b[1;32m   2899\u001b[0m             \u001b[0;32mexcept\u001b[0m \u001b[0mKeyError\u001b[0m \u001b[0;32mas\u001b[0m \u001b[0merr\u001b[0m\u001b[0;34m:\u001b[0m\u001b[0;34m\u001b[0m\u001b[0;34m\u001b[0m\u001b[0m\n\u001b[0;32m-> 2900\u001b[0;31m                 \u001b[0;32mraise\u001b[0m \u001b[0mKeyError\u001b[0m\u001b[0;34m(\u001b[0m\u001b[0mkey\u001b[0m\u001b[0;34m)\u001b[0m \u001b[0;32mfrom\u001b[0m \u001b[0merr\u001b[0m\u001b[0;34m\u001b[0m\u001b[0;34m\u001b[0m\u001b[0m\n\u001b[0m\u001b[1;32m   2901\u001b[0m \u001b[0;34m\u001b[0m\u001b[0m\n\u001b[1;32m   2902\u001b[0m         \u001b[0;32mif\u001b[0m \u001b[0mtolerance\u001b[0m \u001b[0;32mis\u001b[0m \u001b[0;32mnot\u001b[0m \u001b[0;32mNone\u001b[0m\u001b[0;34m:\u001b[0m\u001b[0;34m\u001b[0m\u001b[0;34m\u001b[0m\u001b[0m\n",
            "\u001b[0;31mKeyError\u001b[0m: 'keywords'"
          ]
        }
      ]
    },
    {
      "cell_type": "markdown",
      "metadata": {
        "id": "bZ-0XcmFcrTx"
      },
      "source": [
        "# Topic Modeling with BERTopic"
      ]
    },
    {
      "cell_type": "code",
      "metadata": {
        "colab": {
          "base_uri": "https://localhost:8080/",
          "height": 438
        },
        "id": "e-zNiSAeN84c",
        "outputId": "ea52aeeb-043c-4227-a95c-167ae2596c2b"
      },
      "source": [
        "!pip install --upgrade --user numpy\n",
        "!pip install hdbscan"
      ],
      "execution_count": 11,
      "outputs": [
        {
          "output_type": "stream",
          "text": [
            "Requirement already satisfied: numpy in /usr/local/lib/python3.7/dist-packages (1.19.5)\n",
            "Collecting numpy\n",
            "  Downloading numpy-1.21.1-cp37-cp37m-manylinux_2_12_x86_64.manylinux2010_x86_64.whl (15.7 MB)\n",
            "\u001b[K     |████████████████████████████████| 15.7 MB 128 kB/s \n",
            "\u001b[?25hInstalling collected packages: numpy\n",
            "\u001b[33m  WARNING: The scripts f2py, f2py3 and f2py3.7 are installed in '/root/.local/bin' which is not on PATH.\n",
            "  Consider adding this directory to PATH or, if you prefer to suppress this warning, use --no-warn-script-location.\u001b[0m\n",
            "\u001b[31mERROR: pip's dependency resolver does not currently take into account all the packages that are installed. This behaviour is the source of the following dependency conflicts.\n",
            "tensorflow 2.5.0 requires numpy~=1.19.2, but you have numpy 1.21.1 which is incompatible.\n",
            "datascience 0.10.6 requires folium==0.2.1, but you have folium 0.8.3 which is incompatible.\n",
            "albumentations 0.1.12 requires imgaug<0.2.7,>=0.2.5, but you have imgaug 0.2.9 which is incompatible.\n",
            "bertopic 0.8.1 requires plotly<4.14.3,>=4.7.0, but you have plotly 4.4.1 which is incompatible.\u001b[0m\n",
            "Successfully installed numpy-1.21.1\n"
          ],
          "name": "stdout"
        },
        {
          "output_type": "display_data",
          "data": {
            "application/vnd.colab-display-data+json": {
              "pip_warning": {
                "packages": [
                  "numpy"
                ]
              }
            }
          },
          "metadata": {
            "tags": []
          }
        },
        {
          "output_type": "stream",
          "text": [
            "Requirement already satisfied: hdbscan in /usr/local/lib/python3.7/dist-packages/hdbscan-0.8.27-py3.7-linux-x86_64.egg (0.8.27)\n",
            "Requirement already satisfied: cython>=0.27 in /usr/local/lib/python3.7/dist-packages (from hdbscan) (0.29.23)\n",
            "Requirement already satisfied: numpy>=1.16 in /root/.local/lib/python3.7/site-packages (from hdbscan) (1.21.1)\n",
            "Requirement already satisfied: scipy>=1.0 in /usr/local/lib/python3.7/dist-packages (from hdbscan) (1.4.1)\n",
            "Requirement already satisfied: scikit-learn>=0.20 in /usr/local/lib/python3.7/dist-packages (from hdbscan) (0.22.2.post1)\n",
            "Requirement already satisfied: joblib>=1.0 in /usr/local/lib/python3.7/dist-packages (from hdbscan) (1.0.1)\n",
            "Requirement already satisfied: six in /usr/local/lib/python3.7/dist-packages (from hdbscan) (1.15.0)\n"
          ],
          "name": "stdout"
        }
      ]
    },
    {
      "cell_type": "code",
      "metadata": {
        "id": "pX_64rBYVK3N"
      },
      "source": [
        "import sys\n",
        "sys.path.insert(0,'/content/BERTopic')"
      ],
      "execution_count": 8,
      "outputs": []
    },
    {
      "cell_type": "code",
      "metadata": {
        "colab": {
          "base_uri": "https://localhost:8080/"
        },
        "id": "ReLmnh9C_BD5",
        "outputId": "edefd93c-fb63-4764-c74d-1ef6e80b95d8"
      },
      "source": [
        "from bertopic import BERTopic\n",
        "from sklearn.feature_extraction.text import CountVectorizer\n",
        "from sentence_transformers import SentenceTransformer\n",
        "from bertopic.backend import BaseEmbedder\n",
        "\n",
        "sentence_model = SentenceTransformer(\"paraphrase-MiniLM-L6-v2\")\n",
        "\n",
        "# we must use BaseEmbedder as base class, otherwise BERTopic will use default \n",
        "# SentenceTransformer(\"paraphrase-MiniLM-L6-v2\")\n",
        "class CustomSentenceModel(BaseEmbedder):\n",
        "  def __init__(self, embedding_model):\n",
        "    super().__init__()\n",
        "    self.embedding_model = embedding_model\n",
        "  \n",
        "  def embed(self, documents, verbose):\n",
        "    embeddings = self.encode(documents, show_progress_bar=verbose)\n",
        "    return embeddings\n",
        "\n",
        "  def encode(self,documents,show_progress_bar = False):\n",
        "        # need to split phrases into individual words in order to use general\n",
        "        # sentence embedding models\n",
        "        documents = list(map(lambda doc: re.sub('_', ' ', doc), documents))\n",
        "        embeddings = self.embedding_model.encode(documents, show_progress_bar=show_progress_bar)\n",
        "        return embeddings\n",
        "\n",
        "def preprocess_text(documents_by_cluster):\n",
        "  print('using own process...')\n",
        "  processed_documents_by_cluster = []\n",
        "  for document in documents_by_cluster:\n",
        "    docs = list(nlp.pipe(document.split('\\t')))\n",
        "    processed_doc = []\n",
        "    for doc in docs:\n",
        "       # merge entities and noun phrases (without DET)\n",
        "      def valid_start_pos(doc, span):\n",
        "        start = span.start\n",
        "        while start < span.end:\n",
        "          if doc[start].pos_ not in ['DET', 'PRON']:\n",
        "            break\n",
        "          start += 1\n",
        "        return start\n",
        "\n",
        "      # remove prefix tokens that are either DET or PRON\n",
        "      # remove spans with less than 2 tokens\n",
        "      # remove spans with 0 tokens after removing prefix\n",
        "      noun_phrase_spans = list(filter(lambda x: x.start < x.end, [doc[valid_start_pos(doc, np_span):np_span.end] for np_span in doc.noun_chunks if np_span.end-np_span.start > 1]))\n",
        "      entities_spans = list(filter(lambda x: x.start < x.end, [doc[valid_start_pos(doc, ent_span):ent_span.end] for ent_span in doc.ents if ent_span.end-ent_span.start > 1]))\n",
        "\n",
        "      spans = spacy.util.filter_spans(noun_phrase_spans+entities_spans)\n",
        "      with doc.retokenize() as retokenizer:\n",
        "        for span in spans:\n",
        "          retokenizer.merge(span)\n",
        "      \n",
        "      processed_text = ' '.join(['_'.join(token.lemma_.split(' ')) for token in doc if not token.is_stop])\n",
        "      processed_doc.append(processed_text)\n",
        "    processed_documents_by_cluster.append('\\t'.join(processed_doc))\n",
        "  return processed_documents_by_cluster\n",
        "\n",
        "_docs = df_selection['combined_text']\n",
        "\n",
        "vectorizer = CountVectorizer(ngram_range=(1,2), max_df=0.95)\n",
        "\n",
        "topic_model = BERTopic(preprocess_text=preprocess_text, vectorizer_model=vectorizer, embedding_model=CustomSentenceModel(sentence_model), nr_topics=\"auto\", calculate_probabilities=True, min_topic_size=5)\n",
        "\n",
        "print(len(_docs))\n",
        "topics, probabilities = topic_model.fit_transform(_docs)\n",
        "#topics, probabilities = topic_model.fit_transform(df_selection['lemmatized_combined_text'])\n",
        "topic_info_df = topic_model.get_topic_info()\n",
        "topic_tokens = [[token[0] for token in topic_model.get_topic(topic=row['Topic'])] for idx, row in topic_info_df.iterrows()]\n",
        "topic_info_df['Tokens']=topic_tokens\n",
        "print(topic_info_df[['Topic', 'Count', 'Tokens']].to_markdown())"
      ],
      "execution_count": 17,
      "outputs": [
        {
          "output_type": "stream",
          "text": [
            "2889\n"
          ],
          "name": "stdout"
        },
        {
          "output_type": "stream",
          "text": [
            "2021-08-09 22:18:56,264 - BERTopic - Transformed documents to Embeddings\n",
            "2021-08-09 22:19:12,831 - BERTopic - Reduced dimensionality with UMAP\n",
            "2021-08-09 22:19:14,188 - BERTopic - Clustered UMAP embeddings with HDBSCAN\n"
          ],
          "name": "stderr"
        },
        {
          "output_type": "stream",
          "text": [
            "using own process...\n",
            "using own process...\n"
          ],
          "name": "stdout"
        },
        {
          "output_type": "stream",
          "text": [
            "2021-08-09 22:21:21,944 - BERTopic - Reduced number of topics from 103 to 62\n"
          ],
          "name": "stderr"
        },
        {
          "output_type": "stream",
          "text": [
            "|    |   Topic |   Count | Tokens                                                                                                                                                                                                                                                                 |\n",
            "|---:|--------:|--------:|:-----------------------------------------------------------------------------------------------------------------------------------------------------------------------------------------------------------------------------------------------------------------------|\n",
            "|  0 |      -1 |    1240 | ['startup', 'company', 'start', 'idea', 'try', 'business', 'ask', 'founder', 'create', 'user']                                                                                                                                                                         |\n",
            "|  1 |       0 |     243 | ['startup', 'start', 'business', 'ask', 'hire', 'founder', 'get', 'company', 'job', 'start business']                                                                                                                                                                  |\n",
            "|  2 |       1 |     154 | ['idea', 'product', 'sell', 'manufacturer', 'nt', 'design', 'business', 'customer', 'trademark', 'make']                                                                                                                                                               |\n",
            "|  3 |       2 |     151 | ['equity', 'investor', 'ask', 'offer', 'how_much_equity', 'invest', 'raise', '_equity', 'stock', 'stock_option']                                                                                                                                                       |\n",
            "|  4 |       3 |      92 | ['money', 'funding', 'raise', 'fund', 'pay', 'vcs', 'vc', 'revenue', 'raise money', 'investment']                                                                                                                                                                      |\n",
            "|  5 |       4 |      91 | ['app', 'user', 'android', 'ios', 'mobile_app', 'develop', 'build app', 'developer', 'develop app', 'target_audience']                                                                                                                                                 |\n",
            "|  6 |       5 |      81 | ['llc', 'lawyer', 'company', 'incorporate', 'file', 'incorporation', 'register', 'business', 'corp', 'contract']                                                                                                                                                       |\n",
            "|  7 |       6 |      70 | ['mvp', 'build mvp', 'app', 'launch mvp', 'create mvp', 'idea', 'develop', 'developer', 'mvp hi', 'validate mvp']                                                                                                                                                      |\n",
            "|  8 |       7 |      47 | ['time', 'feel', 'motivate', 'task', 'job', 'leave', 'motivated', 'quit', 'stress', 'motivation']                                                                                                                                                                      |\n",
            "|  9 |       8 |      35 | ['validate', 'validate idea', 'idea', 'test', 'idea validate', 'validate business_idea', 'business_idea', 'good_way validate', 'idea_validation', 'validate product']                                                                                                  |\n",
            "| 10 |       9 |      32 | ['team', 'remote_team', 'organize', 'manage', 'other_company_member', 'share knowledge', 'join', 'remote_work', 'team_member', 'task']                                                                                                                                 |\n",
            "| 11 |      10 |      29 | ['partner', 'partnership', 'business_partner', 'silent_partner', 'strategic_partner', 'depart_partner', 'product business', 'strategic_partnership', 'find partner', 'leave']                                                                                          |\n",
            "| 12 |      11 |      29 | ['b2b_startup', 'launch', 'b2c_startup', 'big_launch', 'customer', 'x200b', 'b2b', 'sale_team', 'b2b_saas_product', 'b2c']                                                                                                                                             |\n",
            "| 13 |      12 |      25 | ['saas', 'roadmap', 'saas_product', 'saas_platform', 'start saas', 'saas_tool', 'email', 'total_monthly_saas spend', 'solution client', 'total_monthly_saas']                                                                                                          |\n",
            "| 14 |      13 |      24 | ['developer', 'find', 'find developer', 'look developer', 'software_developer', 'need find', 'find software_developer', 'experienced_software_developer', 'find app_developer', 'switch developer']                                                                    |\n",
            "| 15 |      14 |      23 | ['ceo', 'leave', 'company', 'quit', 'startup', 'founder', 'job', 'owner', 'impress', 'career']                                                                                                                                                                         |\n",
            "| 16 |      15 |      21 | ['email_list', 'build email_list', 'cold_email', 'write sale_message', 'email_address_name', 'hear cold_email', 'good_cold_email', 'sign send', 'cold_email like', 'email_list reveal']                                                                                |\n",
            "| 17 |      16 |      20 | ['cofounder', 'technical_cofounder', 'find', 'nt', 'non_technical_cofounder', 'build product', 'co_founder', 'company', 'stalemate', 'cofounder family']                                                                                                               |\n",
            "| 18 |      17 |      20 | ['patent', 'patent_attorney', 'intellectual_property', 'sue', 'pursue patent', 'business operation', 'operation company', 'relate business', 'file patent', 'cared patent']                                                                                            |\n",
            "| 19 |      18 |      20 | ['landing_page', 'validate', 'create landing_page', 'online_startup', 'email', 'validate idea', 'landing_page validate', 'collect email', 'build landing_page', 'idea']                                                                                                |\n",
            "| 20 |      19 |      20 | ['day', 'how_much_time spend', 'week', 'full_time_job', 'spend learn', 'hour work', 'time work', 'spend read', 'read exercise', 'startup full_time_job']                                                                                                               |\n",
            "| 21 |      20 |      18 | ['feedback', 'customer', 'new_saa', 'potential_customer', 'quality_advice', 'process feedback', 'well_feedback', 'feedback startup', 'collect customer_feedback', 'customer_feedback']                                                                                 |\n",
            "| 22 |      21 |      17 | ['500_character_post_requirement', 'meet 500_character_post_requirement', 'first_100_customer', 'first_customer', '500_character_post_requirement text', 'get first_customer', 'vegetable_delivery_service', 'last_product service', 'first_10 000_user', '_customer'] |\n",
            "| 23 |      22 |      16 | ['shipping', 'supplier', 'paypal', 'return_shipping', 'buyer', 'contact wholesale', 'seller_dispute', 'buyer seller_dispute', 'seller', 'shipping_cost']                                                                                                               |\n",
            "| 24 |      23 |      15 | ['angel_investor', 'angel', 'find angel_investor', 'network angel_investor', 'contact angels', 'accredited_investor start', 'angel vc', 'angel_investing', 'business_angel', 'angel_investor know']                                                                    |\n",
            "| 25 |      24 |      15 | ['domain', 'domain_name', 'purchase domain', 'company_name', 'companyname com', 'dot_co_domain_name', 'com vs', 'dot_ai_domain_name', 'more_generic_name', 'sell domain']                                                                                              |\n",
            "| 26 |      25 |      15 | ['computer_science', 'college', 'software_engineer', 'career_path', 'career', 'web_development', 'tech', 'entrepreneur software_engineer', 'software_engineer australia', 'good_skillset create']                                                                      |\n",
            "| 30 |      28 |      14 | ['build website', 'need', 'create website', 'want create', 'well_look_website', 'simple_forum_website', 'functional_requirement_document', 'create simple_forum_website', 'build site', 'site build']                                                                  |\n",
            "| 32 |      27 |      14 | ['customer', 'wine', 'wine_shop', 'buy wine', 'wine_searcher', 'wine_professional', 'wine_lover', 'wine online', 'voicemail', 'online_wine_sale']                                                                                                                      |\n",
            "| 31 |      26 |      14 | ['journalist', 'press', 'press_coverage', 'publish', 'press_coverage startup', 'press_release', 'press startup', 'guy press', 'send press_release', 'bloomberg']                                                                                                       |\n",
            "| 29 |      30 |      14 | ['mentor', 'find mentor', 'business_mentor', 'thank find', 'autism_spectrum', 'support adult', 'mentor business_coach', 'adult autism_spectrum', 'mentorship', 'business_coach']                                                                                       |\n",
            "| 27 |      29 |      14 | ['marketing', 'spend marketing', 'sale_conversion', 'increase sale_conversion', 'pricing_plan', 'event_base_pricing', 'change pricing', '_general_marketing', 'price start', 'build hype']                                                                             |\n",
            "| 28 |      31 |      14 | ['independent_contractor', 'developer', 'spare_time', 'reoccurre_task', 'rails_dev', 'serverless', 'dev', 'employee', 'require', 'task']                                                                                                                               |\n",
            "| 33 |      32 |      13 | ['freelancer', 'hire freelancer', 'freelance_developer', 'freelancer want', 'hire freelance_designer', 'freelance_designer developer', 'freelance_developer access', 'work freelancer', '_freelancer', 'freelance_designer']                                           |\n",
            "| 34 |      33 |      13 | ['name', 'good_name', 'right_name', 'company_name', 'find right_name', 'name startup', 'come good_name', 'choose name', 'problem naming', 'choose startup']                                                                                                            |\n",
            "| 35 |      34 |      12 | ['market_research', 'conduct market_research', 'research', 'market', 'market_research hello', 'research competition', 'market_analysis', 'google_search', 'business_plan', 'resource']                                                                                 |\n",
            "| 36 |      35 |      12 | ['beta', 'beta_user', 'beta_tester', 'private_beta', 'open beta', 'closed_beta', 'run beta', 'recruit beta_user', 'open_beta', 'launch beta']                                                                                                                          |\n",
            "| 37 |      36 |      12 | ['host', 'nt', 'social_network', 'start', 'develop good_network', 'tv_network', 'good_network', 'start nt', 'first_step', 'beginning']                                                                                                                                 |\n",
            "| 39 |      37 |      11 | ['cto', 'find cto', 'need cto', 'raise 300', 'great_cto', 'cto know', 'hire cto', 'cto cio', 'cto find', 'debt_fundraising']                                                                                                                                           |\n",
            "| 38 |      38 |      11 | ['taxis', 'sale_taxis', 'taxation', 'saas_product', 'deal sale_taxis', 'sale_tax', 'tax', 'handle sale_taxis', 'owe taxis', 'implement taxation']                                                                                                                      |\n",
            "| 40 |      39 |      10 | ['value', 'calculate', 'company', 'tam', 'profit', 'revenue', 'value company', 'valuation company', 'company worth', '000']                                                                                                                                            |\n",
            "| 41 |      40 |      10 | ['charge', 'freemium', 'pay_api', 'pay', 'monthly_fee', 'teacher', 'charge customer', 'figure monthly_fee', 'sell sensor', 'reliance pay_api']                                                                                                                         |\n",
            "| 42 |      41 |      10 | ['twitter', 'social_medium', 'twitter work', 'maintain follower', 'follower', 'boost social_medium', 'twitter grow', 'use social_medium', 'new_social_network', 'want grow']                                                                                           |\n",
            "| 43 |      42 |       9 | ['firebase', 'reputation', 'customer', 'cause customer', 'total_addressable_and_target_market_size', 'filtering', 'filtering happen', 'determine total_addressable_and_target_market_size', 'revenue_stream', 'market_size']                                           |\n",
            "| 44 |      43 |       9 | ['feel like', 'google', 'true_north', 'define true_north', 'feel', 'shiny_object_syndrome', 's_true_north big_selection', 'obviously patent', 'sell know', 's_true_north']                                                                                             |\n",
            "| 45 |      44 |       9 | ['learn code', 'learn', 'start', 'start premium_smartphone_company', 'start ve', 'nt know', 'learn build', 'coder', 'programmer', 'start startup']                                                                                                                     |\n",
            "| 48 |      46 |       8 | ['pitch_deck', 'deck', 'pitch', 'raise', '5000_ 10', 'professional_pitch_deck', 'chance raise', 'pitch_competition', 'prepare pitch', 'look raise']                                                                                                                    |\n",
            "| 46 |      47 |       8 | ['crypto', 'api_key', 'api_key secret', 'find investor', 'secret', 'trust', 'earn trust', 'people api_key', 'crypto work', 'private_blockchain']                                                                                                                       |\n",
            "| 47 |      45 |       8 | ['upload', 'user upload', 'privacy_policy', 'upload_content', 'register upload', 'deal user_submit_content', 'upload post', 'image upload', 'user_submit_content', 'upload user']                                                                                      |\n",
            "| 49 |      48 |       7 | ['content', 'blog', 'write', 'exclude reddit', 'article newsletter', 'write article', 'write content', 'writer', 'newsletter', 'quality_blog rare']                                                                                                                    |\n",
            "| 50 |      49 |       7 | ['churn', 'return churn_user', 'social_circle', 'churn_user', 'target_customer', 'potential_customer', 'strategy', 'say ll', 'potential_customer market', 'potential_customer 10']                                                                                     |\n",
            "| 51 |      50 |       6 | ['apply', 'ycombinator_', 'happen accept', '_techstars', 'techstars_london', 'ycombinator_ _techstars', 'techstars', 'curious last_interview_stage', '_techstars important', 'good_time apply']                                                                        |\n",
            "| 52 |      51 |       6 | ['influencer', 'find influencer', 'million influencer', 'influencer_platform', 'insta_influencer blog', 'brand_advertising conversion', 'find insta_influencer', 'brand_advertising', 'contact influencer', 'instagram find']                                          |\n",
            "| 53 |      52 |       6 | ['fake', 'solve', 'community solve', 'community', 'reach people', 'pool talent', 'help work', 'solve problem', 'try solve', 'problem solve']                                                                                                                           |\n",
            "| 54 |      53 |       6 | ['start charge', 'charge', 'charge user', 'skate_park', 'graphic_card', 'credit_card_detail', 'start', 'validate idea', 'stage saas_product', 'open show']                                                                                                             |\n",
            "| 55 |      54 |       6 | ['fda_process', 'find approximate_time', 'need fda_clearance', 'approximate_time fda_approval_process', 'fda_approval_process', 'fda_clearance', 'fda_clearance approval', 'provisional_patent need', 'medical_device apply', 'class_ii_medical_device approve']       |\n",
            "| 56 |      55 |       6 | ['innovate', 'covid', 'work home', 'innovate pandemic', 'positive_business_lesson', 'strategy adopt', 'covid19', 'learn', 'fear', 'strategy']                                                                                                                          |\n",
            "| 57 |      56 |       6 | ['seo', 'link website', 'organic_traffic', 'website ve', 'improve seo', 'main_source organic_trafic', 'organic_trafic', 'website spamme', 'organic_traffic website', 'bring organic_traffic']                                                                          |\n",
            "| 58 |      57 |       6 | ['competition', 'big_competitor', 'abort', 'forward abort', 'big_competitor copy', 'competitor', 'competition hello', 'market_research', 'succeed', 'solve problem']                                                                                                   |\n",
            "| 59 |      58 |       5 | ['graduate_degree', 's_degree', 'only_a_bachelor s_degree', 'bachelors_degree', 'only_a_bachelor', 'innovative_product', 'bachelors_degree cs_engineering', 'innovative_company', 'bachelors_degree hand', 'license_platform school']                                  |\n",
            "| 60 |      59 |       5 | ['prototype', 'build prototype', 'idea prototype', 'proof concept', 'validate idea', 'create virtual_prototype', 'prototype workable', 'prototype validate', 'prototype way', 'prototype security']                                                                    |\n",
            "| 61 |      60 |       5 | ['china', 'china end', 'grow product', 'southeast_asia', 'innovate add', 'process global_eplanet_capital', 'end_result people', 'tactical_advice grow', 'tactical_advice', 'ok prototype']                                                                             |\n"
          ],
          "name": "stdout"
        }
      ]
    },
    {
      "cell_type": "markdown",
      "metadata": {
        "id": "RW5i_HON_9sb"
      },
      "source": [
        "# Dump results to JSON (Optional)"
      ]
    },
    {
      "cell_type": "code",
      "metadata": {
        "colab": {
          "base_uri": "https://localhost:8080/"
        },
        "id": "lqe1vpdUJ2PF",
        "outputId": "c3d0215e-bc20-460f-d808-e77967f18f71"
      },
      "source": [
        "\n",
        "# dump topic info\n",
        "topic_info_df.to_json('report_topic_info.json')\n",
        "\n",
        "# add topic data to doc then dump\n",
        "doc_topic = []\n",
        "doc_topic_prob = []\n",
        "for i in range(len(topics)):\n",
        "  doc_topic.append(topics[i])\n",
        "  doc_topic_prob.append(probabilities[i][topics[i]])\n",
        "\n",
        "df_selection['topic'] = doc_topic\n",
        "df_selection['topic_prob'] = doc_topic_prob\n",
        "\n",
        "print(df_selection.head(20).to_markdown())\n",
        "df_selection.to_json('report_submissions.json')\n"
      ],
      "execution_count": 24,
      "outputs": [
        {
          "output_type": "stream",
          "text": [
            "|    |   level_0 |   index | title                                                                                                        | selftext                                                                                                                                                                                                                                                                                                                                                                                                                                                                                                                                                                                                                                                                                                                                                                                                                                                                                                                                                                                                                                                                                                                                                                                                                                                                                  | author            | permalink                                                                       |   num_comments |   score |   total_awards_received |   upvote_ratio |   created_utc | combined_text                                                                                                                                                                                                                                                                                                                                                                                                                                                                                                                                                                                                                                                                                                                                                                                                                                                                                                                                                                                                                                                                                                                                                                                                                                                                                                                           | title_cat   |   topic |   topic_prob |\n",
            "|---:|----------:|--------:|:-------------------------------------------------------------------------------------------------------------|:------------------------------------------------------------------------------------------------------------------------------------------------------------------------------------------------------------------------------------------------------------------------------------------------------------------------------------------------------------------------------------------------------------------------------------------------------------------------------------------------------------------------------------------------------------------------------------------------------------------------------------------------------------------------------------------------------------------------------------------------------------------------------------------------------------------------------------------------------------------------------------------------------------------------------------------------------------------------------------------------------------------------------------------------------------------------------------------------------------------------------------------------------------------------------------------------------------------------------------------------------------------------------------------|:------------------|:--------------------------------------------------------------------------------|---------------:|--------:|------------------------:|---------------:|--------------:|:----------------------------------------------------------------------------------------------------------------------------------------------------------------------------------------------------------------------------------------------------------------------------------------------------------------------------------------------------------------------------------------------------------------------------------------------------------------------------------------------------------------------------------------------------------------------------------------------------------------------------------------------------------------------------------------------------------------------------------------------------------------------------------------------------------------------------------------------------------------------------------------------------------------------------------------------------------------------------------------------------------------------------------------------------------------------------------------------------------------------------------------------------------------------------------------------------------------------------------------------------------------------------------------------------------------------------------------|:------------|--------:|-------------:|\n",
            "|  0 |         0 |       0 | i have a great app idea but have no coding experience... where do i start?                                   | ive had an idea for an app for quite some time that i genuinely believe is a good one. im 16yo and i aspire to become a full time entrepreneur one day.. i just dont know where to start. ive been reading a plethora of books over the past couple months covering startups, marketing etc but im still hung on what to do. im a pretty impatient person and would hate to have to wait until im 18 to start an operational business. i came up with this idea for a deca project; however, i cant compete with my idea because i just moved schools and the new one doesnt offer the deca club. nonetheless, i think its a good app idea and want to pursue it with a mobile app. again, i have no coding experience but i do have a comfortable amount of money to start. any advice?                                                                                                                                                                                                                                                                                                                                                                                                                                                                                                  | hunterlewis       | /r/startups/comments/7ncwio/i_have_a_great_in_my_opinion_app_idea_but_have_no/  |             14 |       0 |                       0 |           0.46 |   1.51478e+09 | i have a great app idea but have no coding experience... where do i start? ive had an idea for an app for quite some time that i genuinely believe is a good one. im 16yo and i aspire to become a full time entrepreneur one day.. i just dont know where to start. ive been reading a plethora of books over the past couple months covering startups, marketing etc but im still hung on what to do. im a pretty impatient person and would hate to have to wait until im 18 to start an operational business. i came up with this idea for a deca project; however, i cant compete with my idea because i just moved schools and the new one doesnt offer the deca club. nonetheless, i think its a good app idea and want to pursue it with a mobile app. again, i have no coding experience but i do have a comfortable amount of money to start. any advice?                                                                                                                                                                                                                                                                                                                                                                                                                                                                     | where       |      44 |        0.187 |\n",
            "|  1 |         1 |       1 | how can we improve the world via creative, compassionate new ventures?                                       | how can we make the world a better place via creative, compassionate new ventures? how can we... improve fair trade on the consumer or producer side? strengthen and expand non-profits or charities? educate or help the working conditions of labor ? improve the ecological sustainability and environmental impact of supply chains? expand access and convenience of healthy foods and diets? improve democracy at the organization or government level? educate people through non-traditional means, or expand access to education? if you're already part of an organization focusing on these things, tell us about it!                                                                                                                                                                                                                                                                                                                                                                                                                                                                                                                                                                                                                                                          | nan               | /r/startups/comments/7njy6j/how_can_we_improve_the_world_via_creative/          |             18 |       5 |                       0 |           0.7  |   1.51487e+09 | how can we improve the world via creative, compassionate new ventures? how can we make the world a better place via creative, compassionate new ventures? how can we... improve fair trade on the consumer or producer side? strengthen and expand non-profits or charities? educate or help the working conditions of labor ? improve the ecological sustainability and environmental impact of supply chains? expand access and convenience of healthy foods and diets? improve democracy at the organization or government level? educate people through non-traditional means, or expand access to education? if you're already part of an organization focusing on these things, tell us about it!                                                                                                                                                                                                                                                                                                                                                                                                                                                                                                                                                                                                                                 | how         |      -1 |        0     |\n",
            "|  2 |         2 |       3 | which growth hacks went successful for your startup ?                                                        | hello all, i have been researching about which hacks go best for startups and which did not. so for that i thought i should ask entrepreneurs or startup founders about what or which growth hack went successful for them? let`s say for acquisition, you have tried a new social-media and channel and it worked for you. so i not only want to know about what the hack was but i also want to know how and why it worked for you. i would appreciate if you also mention at what stage your startup was before applying that hack.                                                                                                                                                                                                                                                                                                                                                                                                                                                                                                                                                                                                                                                                                                                                                    | ArsalanSheikh     | /r/startups/comments/7o22rh/which_growth_hacks_went_successful_for_your/        |             17 |      18 |                       0 |           0.84 |   1.51506e+09 | which growth hacks went successful for your startup ? hello all, i have been researching about which hacks go best for startups and which did not. so for that i thought i should ask entrepreneurs or startup founders about what or which growth hack went successful for them? let`s say for acquisition, you have tried a new social-media and channel and it worked for you. so i not only want to know about what the hack was but i also want to know how and why it worked for you. i would appreciate if you also mention at what stage your startup was before applying that hack.                                                                                                                                                                                                                                                                                                                                                                                                                                                                                                                                                                                                                                                                                                                                            | which       |      -1 |        0     |\n",
            "|  3 |         3 |       4 | where to base a virtual office?                                                                              | i've been contracting as a software developer for 6 months with great success. so far i've had 3 clients, all local to me and have come through referrals from friends and family. for 2018, i've decided to ramp up the business and look to employ some staff, essentially becoming a full-service agency for startups. at this point in time i am running the business from home in the uk. i live around 2 hours outside of london. i'm looking for a virtual office to give me a more professional looking address for the time being. the company which i plan to use offer virtual offices in multiple locations. i am torn whether to get an address local to where i am or whether to take one up in london. predominantly i see most of my business coming from london, so it seems to make more sense to base the address there. are there any downsides to doing so? edit thanks for all the feedback. it sounds like london-based is the way forward!                                                                                                                                                                                                                                                                                                                        | creativeintent    | /r/startups/comments/7o3k9d/where_to_base_a_virtual_office/                     |              9 |      18 |                       0 |           0.84 |   1.51508e+09 | where to base a virtual office? i've been contracting as a software developer for 6 months with great success. so far i've had 3 clients, all local to me and have come through referrals from friends and family. for 2018, i've decided to ramp up the business and look to employ some staff, essentially becoming a full-service agency for startups. at this point in time i am running the business from home in the uk. i live around 2 hours outside of london. i'm looking for a virtual office to give me a more professional looking address for the time being. the company which i plan to use offer virtual offices in multiple locations. i am torn whether to get an address local to where i am or whether to take one up in london. predominantly i see most of my business coming from london, so it seems to make more sense to base the address there. are there any downsides to doing so? edit thanks for all the feedback. it sounds like london-based is the way forward!                                                                                                                                                                                                                                                                                                                                      | where       |      -1 |        0     |\n",
            "|  4 |         4 |       5 | how much more validation do i need?                                                                          | i'm making a product for a certain niche. i fake sold one item just put up a landing page with mock ups of the product that looked real. and with the first 30 clicks on facebook i sold one item. basically just didn't charge the card just wanted to see if this niche would buy. should i go ahead and end up ordering an moq of the product or should i run a kickstarter and run more ads to the kickstarter? before i order the moq or do the kickstarter i want to get some samples from the 3 manufacturers i've been talking with though. should i run a kickstarter? run more ads to further validate the product? or stop running ads and work on towards a launch date either on kickstarter or elsewhere?                                                                                                                                                                                                                                                                                                                                                                                                                                                                                                                                                                   | b420k             | /r/startups/comments/7o8hmz/how_much_more_validation_do_i_need/                 |             10 |       1 |                       0 |           0.57 |   1.51512e+09 | how much more validation do i need? i'm making a product for a certain niche. i fake sold one item just put up a landing page with mock ups of the product that looked real. and with the first 30 clicks on facebook i sold one item. basically just didn't charge the card just wanted to see if this niche would buy. should i go ahead and end up ordering an moq of the product or should i run a kickstarter and run more ads to the kickstarter? before i order the moq or do the kickstarter i want to get some samples from the 3 manufacturers i've been talking with though. should i run a kickstarter? run more ads to further validate the product? or stop running ads and work on towards a launch date either on kickstarter or elsewhere?                                                                                                                                                                                                                                                                                                                                                                                                                                                                                                                                                                             | how         |      -1 |        0     |\n",
            "|  5 |         5 |      10 | how to structure llc's and dba's to maintain anonymity/legal protection?                                     | id like to start a small business where i buy and sell land. i plan to buy the land from private sellers then turn around and sell them to other entities, either business or private individuals. i need to make sure my buying arm is totally separated from the selling arm to make sure none of the land owners have any idea what i am planning to do with the land once i have bought it. while i dont think ill be needing to be worried about getting sued constantly, i know i should have at the very least an llc in place to protect myself. however, i have read that dbas can be sued as if they were sole proprietor entities. ive also heard that places like wyoming have built in llc protections. i am located in minnesota. the question is, do i keep everything in minnesota to keep it simple? or perhaps make 1 llc in wy and have it own a separate llc in mn? any reason to not do a wy llc, such as foreign business fees or whatever its called when you file out of state? thanks!                                                                                                                                                                                                                                                                           | Primal_mode       | /r/startups/comments/7otowr/how_to_structure_llcs_and_dbas_to_maintain/         |              5 |       2 |                       0 |           0.63 |   1.51536e+09 | how to structure llc's and dba's to maintain anonymity/legal protection? id like to start a small business where i buy and sell land. i plan to buy the land from private sellers then turn around and sell them to other entities, either business or private individuals. i need to make sure my buying arm is totally separated from the selling arm to make sure none of the land owners have any idea what i am planning to do with the land once i have bought it. while i dont think ill be needing to be worried about getting sued constantly, i know i should have at the very least an llc in place to protect myself. however, i have read that dbas can be sued as if they were sole proprietor entities. ive also heard that places like wyoming have built in llc protections. i am located in minnesota. the question is, do i keep everything in minnesota to keep it simple? or perhaps make 1 llc in wy and have it own a separate llc in mn? any reason to not do a wy llc, such as foreign business fees or whatever its called when you file out of state? thanks!                                                                                                                                                                                                                                                | how         |       5 |        0.115 |\n",
            "|  6 |         6 |      11 | people who have published an app, what is something you wish you had known or done early on to be succesful? | hi everyone, my partner and i are preparing to publish an app by the end of the month. its kinda like a social network. we are really excited and been working hard on it for a while. that being said, we are nervous about it as well, what if noone uses it, which is our ultimate fear. we feel our product is pretty in demand and thing it will be well built.. but you never really know... people who have launched an app, or something similar.. what is something you had done or wish you had known? basically we are just asking for advice, and just want to pick the brains of the expierenced people. wether its a logistics thing, a philosphy thing.. anything. would love to hear stories of peoples expierences as well! thanks so much!                                                                                                                                                                                                                                                                                                                                                                                                                                                                                                                              | Skippertech       | /r/startups/comments/7ow291/people_who_have_published_an_app_what_is/           |             58 |     107 |                       0 |           0.96 |   1.51539e+09 | people who have published an app, what is something you wish you had known or done early on to be succesful? hi everyone, my partner and i are preparing to publish an app by the end of the month. its kinda like a social network. we are really excited and been working hard on it for a while. that being said, we are nervous about it as well, what if noone uses it, which is our ultimate fear. we feel our product is pretty in demand and thing it will be well built.. but you never really know... people who have launched an app, or something similar.. what is something you had done or wish you had known? basically we are just asking for advice, and just want to pick the brains of the expierenced people. wether its a logistics thing, a philosphy thing.. anything. would love to hear stories of peoples expierences as well! thanks so much!                                                                                                                                                                                                                                                                                                                                                                                                                                                               | what        |       4 |        0.18  |\n",
            "|  7 |         7 |      12 | how to handle deposits on future service?                                                                    | i'm working on a service product that targets high net worth individuals. it will take a couple of years to get operational, but there are limited customer slots available and we'd like to get some early traction - deposits on future services would go a long way on the funding front. the question is do we put all the deposits in escrow and make them refundable? we're talking about $100k deposits and only about 500 slots. some have recommended making the deposits non-refundable, but i'm not sure about that. any thoughts?                                                                                                                                                                                                                                                                                                                                                                                                                                                                                                                                                                                                                                                                                                                                             | houstonspace      | /r/startups/comments/7ow38n/how_to_handle_deposits_on_future_service/           |              7 |       2 |                       0 |           0.67 |   1.51539e+09 | how to handle deposits on future service? i'm working on a service product that targets high net worth individuals. it will take a couple of years to get operational, but there are limited customer slots available and we'd like to get some early traction - deposits on future services would go a long way on the funding front. the question is do we put all the deposits in escrow and make them refundable? we're talking about $100k deposits and only about 500 slots. some have recommended making the deposits non-refundable, but i'm not sure about that. any thoughts?                                                                                                                                                                                                                                                                                                                                                                                                                                                                                                                                                                                                                                                                                                                                                 | how         |       2 |        0.081 |\n",
            "|  8 |         8 |      13 | when do i execute options?                                                                                   | hi all, received varying answers and wanted to turn to you all. i recently joined a startup, 4 year vested equity with a 1 year cliff as i understand that's a standard for most startups. i recently crossed the 1 year mark - do i need to purchase/execute on my options right now? or is this something i can do if/when we gets acquired/ipo? also, following with that, do i need to continually act on my options every month following? edit thank you all for advice! really cleared things up for me.                                                                                                                                                                                                                                                                                                                                                                                                                                                                                                                                                                                                                                                                                                                                                                           | nasaboy           | /r/startups/comments/7p01nj/when_do_i_execute_options/                          |              7 |       9 |                       0 |           0.99 |   1.51543e+09 | when do i execute options? hi all, received varying answers and wanted to turn to you all. i recently joined a startup, 4 year vested equity with a 1 year cliff as i understand that's a standard for most startups. i recently crossed the 1 year mark - do i need to purchase/execute on my options right now? or is this something i can do if/when we gets acquired/ipo? also, following with that, do i need to continually act on my options every month following? edit thank you all for advice! really cleared things up for me.                                                                                                                                                                                                                                                                                                                                                                                                                                                                                                                                                                                                                                                                                                                                                                                              | when        |       2 |        0.365 |\n",
            "|  9 |         9 |      14 | which is best for me? s, c, llc?                                                                             | sorry if this question has been asked a million times. i have received different advice from numerous articles, my tax advisor, and fellow startup friends. i'm a bit overwhelmed. here's my situation - solo founder based in ca, creating a web app. - hoping to bootstrap as much as possible, currently paying from savings when i need help with certain things - hope to sell one day - about to launch mvp, unsure if it will be profitable at this point but feedback has been positive - willing to give some equity to those who may join me in the future - plan on working from home for the time being, not sure an office is necessary based on what i've read, an llc seems like the way to go, but i wanted to get all of your informed opinions. thank you.                                                                                                                                                                                                                                                                                                                                                                                                                                                                                                              | MatttDam0n        | /r/startups/comments/7p2gcm/which_is_best_for_me_s_c_llc/                       |             13 |       7 |                       0 |           0.82 |   1.51545e+09 | which is best for me? s, c, llc? sorry if this question has been asked a million times. i have received different advice from numerous articles, my tax advisor, and fellow startup friends. i'm a bit overwhelmed. here's my situation - solo founder based in ca, creating a web app. - hoping to bootstrap as much as possible, currently paying from savings when i need help with certain things - hope to sell one day - about to launch mvp, unsure if it will be profitable at this point but feedback has been positive - willing to give some equity to those who may join me in the future - plan on working from home for the time being, not sure an office is necessary based on what i've read, an llc seems like the way to go, but i wanted to get all of your informed opinions. thank you.                                                                                                                                                                                                                                                                                                                                                                                                                                                                                                                           | which       |      -1 |        0     |\n",
            "| 10 |        10 |      16 | how to shake trees??                                                                                         | i have a small i.t. consultancy. i have gone to a client's residence and repaired their pcs, or network. i am a+ certified and have 10+ of real world experience. i've made a huge impression on about 5 clients that i haven't spoken to. i haven't spoken to them in quite some time +6 months. i'm very tall and personable so they often give me the impression that they want to continue business with me. my question to you is, this is the new year. i'd assume that this would be a good time to start back up again aka shake those trees. asking something along thing lines hey i wanted to ask to see if everything is running over there . how would i word it? or how would you word it? i mostly want to do something of a sit-down and then i can try to negotiate something else. is this inappropriate? are these dead connections that could hurt me by contacting them? thank you so much for your time                                                                                                                                                                                                                                                                                                                                                             | Uniquewarlock     | /r/startups/comments/7pisv1/how_to_shake_trees/                                 |              2 |       0 |                       0 |           0.5  |   1.51562e+09 | how to shake trees?? i have a small i.t. consultancy. i have gone to a client's residence and repaired their pcs, or network. i am a+ certified and have 10+ of real world experience. i've made a huge impression on about 5 clients that i haven't spoken to. i haven't spoken to them in quite some time +6 months. i'm very tall and personable so they often give me the impression that they want to continue business with me. my question to you is, this is the new year. i'd assume that this would be a good time to start back up again aka shake those trees. asking something along thing lines hey i wanted to ask to see if everything is running over there . how would i word it? or how would you word it? i mostly want to do something of a sit-down and then i can try to negotiate something else. is this inappropriate? are these dead connections that could hurt me by contacting them? thank you so much for your time                                                                                                                                                                                                                                                                                                                                                                                      | how         |      -1 |        0     |\n",
            "| 11 |        11 |      19 | how do you guys not burnout?                                                                                 | so i'm broke and everything i got is tied into this. i've been developing something for more than a year . i'm maybe like 80% done my project, so i'm past the point of getting a cofounder, but not past the point of being able to go to vc. i'm trying to get a grant from the government, so i have so money to leverage. but the truth is, i'm at a point where i don't even want to look at the thing. i'm all things to this company i've written the entire business plan on my own. if there's something that i have to learn code wise, i do. i'm not getting paid, i'm in my parents house, driving their car, and just trying to scrape enough together to survive day to day, so i can't even take time away. i can't even afford a video game, or something to play. i'm feeling a little imprisoned by my own project. when i work on it i'm irritated, when i'm not i'm restless and bored. i try coming on reddit with other accounts, but usually end up on areas that just hate entrepreneurs all together. how do you all deal with burnout? bonus story anyone got some i was burned out and then made some money stories as motivation?                                                                                                                             | corbinthecoder    | /r/startups/comments/7pv89e/how_do_you_guys_not_burnout/                        |             24 |      13 |                       0 |           0.82 |   1.51574e+09 | how do you guys not burnout? so i'm broke and everything i got is tied into this. i've been developing something for more than a year . i'm maybe like 80% done my project, so i'm past the point of getting a cofounder, but not past the point of being able to go to vc. i'm trying to get a grant from the government, so i have so money to leverage. but the truth is, i'm at a point where i don't even want to look at the thing. i'm all things to this company i've written the entire business plan on my own. if there's something that i have to learn code wise, i do. i'm not getting paid, i'm in my parents house, driving their car, and just trying to scrape enough together to survive day to day, so i can't even take time away. i can't even afford a video game, or something to play. i'm feeling a little imprisoned by my own project. when i work on it i'm irritated, when i'm not i'm restless and bored. i try coming on reddit with other accounts, but usually end up on areas that just hate entrepreneurs all together. how do you all deal with burnout? bonus story anyone got some i was burned out and then made some money stories as motivation?                                                                                                                                              | how         |      -1 |        0     |\n",
            "| 12 |        12 |      20 | how to get better at storytelling?                                                                           | as a first-time entrepreneur getting ready to launch a beta, i'm finding myself moving from a product development role to an evangelist role where communication and storytelling skills are critical. i would love to hear from this community about some tips or resources that have helped you cultivate this skill, specifically with regards to communicating about your startup vision, product, etc. both in speaking and in writing. who are the people you read or listen to? what are the elements of good storytelling in this context? edit thanks for all the awesome feedback and advice. this is a great community. i plan on putting a lot of this into practice. have already started to look for local toastmaster meetups. been wanting to do this for awhile, but kept putting this off.                                                                                                                                                                                                                                                                                                                                                                                                                                                                              | goingninja        | /r/startups/comments/7pz5io/how_to_get_better_at_storytelling/                  |             19 |      36 |                       0 |           0.92 |   1.51579e+09 | how to get better at storytelling? as a first-time entrepreneur getting ready to launch a beta, i'm finding myself moving from a product development role to an evangelist role where communication and storytelling skills are critical. i would love to hear from this community about some tips or resources that have helped you cultivate this skill, specifically with regards to communicating about your startup vision, product, etc. both in speaking and in writing. who are the people you read or listen to? what are the elements of good storytelling in this context? edit thanks for all the awesome feedback and advice. this is a great community. i plan on putting a lot of this into practice. have already started to look for local toastmaster meetups. been wanting to do this for awhile, but kept putting this off.                                                                                                                                                                                                                                                                                                                                                                                                                                                                                         | how         |      48 |        1     |\n",
            "| 13 |        13 |      23 | seriously, how much of facebook ads traffic is fake?                                                         | we run a pretty successful saas company, our main source of traffic are referrals, we also do adwords . now, we are testing facebook advertising. we use promoted posts and ads, we create pretty specific target audiences based on job title, location, and interests. the results we see look 100% fake. almost no traffic to the site, but people start following the page and adding reactions. you see names of people and their profiles just feel fake. the type of ad/post we put is also not the one that a typical person would `like` or `put a smile on.` you are either interested and read more to sign up or you just move on. you know what i mean? i am sure there are some real clicks and real people see those ads, but it just feels 99% of all this activity is fake. is it even worth using facebook nowadays?                                                                                                                                                                                                                                                                                                                                                                                                                                                    | ikingofeverything | /r/startups/comments/7q4u95/seriously_how_much_of_facebook_ads_traffic_is_fake/ |             68 |     194 |                       0 |           0.98 |   1.51586e+09 | seriously, how much of facebook ads traffic is fake? we run a pretty successful saas company, our main source of traffic are referrals, we also do adwords . now, we are testing facebook advertising. we use promoted posts and ads, we create pretty specific target audiences based on job title, location, and interests. the results we see look 100% fake. almost no traffic to the site, but people start following the page and adding reactions. you see names of people and their profiles just feel fake. the type of ad/post we put is also not the one that a typical person would `like` or `put a smile on.` you are either interested and read more to sign up or you just move on. you know what i mean? i am sure there are some real clicks and real people see those ads, but it just feels 99% of all this activity is fake. is it even worth using facebook nowadays?                                                                                                                                                                                                                                                                                                                                                                                                                                             | how         |      52 |        1     |\n",
            "| 14 |        14 |      24 | what should i be doing in the meantime, as my ios app is being developed?                                    | my app is under development & here wondering what to do. before starting development, i already worked on revenue model, marketing strategy, potential cost, pitch deck, social media accounts, website. what i am currently doing is working on revising the website to include more info on what to expect from my business, recruiting interns to help me out, and continuously look over things i already have in place. i feel i can be doing more, i always like i can always do more. has anyone been in this situation before? if so, what has worked for you? what to do???                                                                                                                                                                                                                                                                                                                                                                                                                                                                                                                                                                                                                                                                                                      | TheGifted_        | /r/startups/comments/7q7jys/what_should_i_be_doing_in_the_meantime_as_my_ios/   |              6 |       1 |                       0 |           1    |   1.51588e+09 | what should i be doing in the meantime, as my ios app is being developed? my app is under development & here wondering what to do. before starting development, i already worked on revenue model, marketing strategy, potential cost, pitch deck, social media accounts, website. what i am currently doing is working on revising the website to include more info on what to expect from my business, recruiting interns to help me out, and continuously look over things i already have in place. i feel i can be doing more, i always like i can always do more. has anyone been in this situation before? if so, what has worked for you? what to do???                                                                                                                                                                                                                                                                                                                                                                                                                                                                                                                                                                                                                                                                          | what        |       4 |        1     |\n",
            "| 15 |        15 |      26 | how do you get your social needs met as an it guy working from home?                                         | so i have my own business in building websites. and i have basically no social interactions at all. i get my work online. customer service is always through email or a special portal. i work all alone from my home desk. there is some family around occasionally, but never enough to improve my social skills. where do i start? i cant keep a conversation going. i dont have enough self esteem. i really want a close friend or a girlfriend so, but im fully aware that there are no quality girls interested in me, as they have too many choices. does anyone have some experience with my situation or some helpful advice? thank you for reading!                                                                                                                                                                                                                                                                                                                                                                                                                                                                                                                                                                                                                            | Broodje_met_beleg | /r/startups/comments/7qdhkn/how_do_you_get_your_social_needs_met_as_an_it_guy/  |             82 |      84 |                       0 |           0.92 |   1.51595e+09 | how do you get your social needs met as an it guy working from home? so i have my own business in building websites. and i have basically no social interactions at all. i get my work online. customer service is always through email or a special portal. i work all alone from my home desk. there is some family around occasionally, but never enough to improve my social skills. where do i start? i cant keep a conversation going. i dont have enough self esteem. i really want a close friend or a girlfriend so, but im fully aware that there are no quality girls interested in me, as they have too many choices. does anyone have some experience with my situation or some helpful advice? thank you for reading!                                                                                                                                                                                                                                                                                                                                                                                                                                                                                                                                                                                                     | how         |      36 |        0.137 |\n",
            "| 16 |        16 |      28 | when should you get pr for an app?                                                                           | hey everyone, we have launched our mvp on the ios app store in order to test our assumptions and narrow down our focus. we are about to release our refined v2 of the app and i am wondering whether we should try get pr for the launch. we have been advised that we should wait to get pr until we see traction, i guess as pouring fuel onto a fire. is that recommended? we will try to get featured on product hunt but the same question applies - do we do it on launch or wait until we see traction? with both pr and ph i know it's pretty much one shot and done so we should try to get the most out of it and i guess waiting until we see traction ensures we aren't filling a leaky bucket. on a side-note i am going on millionaire hotseat in australia which sees ~400k viewers and will plug the app, does anyone have experience in the sort of traffic this could provide? thanks for your help, alex                                                                                                                                                                                                                                                                                                                                                               | alex-bettermind   | /r/startups/comments/7qnv0w/when_should_you_get_pr_for_an_app/                  |             15 |       6 |                       0 |           0.81 |   1.51606e+09 | when should you get pr for an app? hey everyone, we have launched our mvp on the ios app store in order to test our assumptions and narrow down our focus. we are about to release our refined v2 of the app and i am wondering whether we should try get pr for the launch. we have been advised that we should wait to get pr until we see traction, i guess as pouring fuel onto a fire. is that recommended? we will try to get featured on product hunt but the same question applies - do we do it on launch or wait until we see traction? with both pr and ph i know it's pretty much one shot and done so we should try to get the most out of it and i guess waiting until we see traction ensures we aren't filling a leaky bucket. on a side-note i am going on millionaire hotseat in australia which sees ~400k viewers and will plug the app, does anyone have experience in the sort of traffic this could provide? thanks for your help, alex                                                                                                                                                                                                                                                                                                                                                                          | when        |      -1 |        0     |\n",
            "| 17 |        17 |      29 | how did you come up with your company slogan?                                                                | my partner and i are putting the finishing touches on our brand identity; we've got the logo, the company name, our values, and our mission. the only thing we're missing is our slogan, our very own just do it that encapsulates the spirit of our company in a single memorable phrase. we're a healthcare technology company that's developing a platform that enables users to build a team of personal buddies and healthcare professionals to help them tackle chronic conditions. i think part of our problem is that we want to try to say too much we're trying to build the best tool for behavioral change, but we also want to reference the personalization aspect of our product , our marketplace hiring structure, our holistic approach to health, our solving of the underlying problem rather than the symptoms . like i said, it's a lot to squeeze into three or four words. right now we're at healthcare 2.0 but i'm not totally sold. i was hoping to garner some inspiration from the /r/startup community. how did you guys develop your slogan? was it a single moment of a-ha! or did it take a significant amount of iteration and consumer testing? are there any resources, website, or blog posts that break down the process or could provide guidance? | suspectfuton      | /r/startups/comments/7qpunm/how_did_you_come_up_with_your_company_slogan/       |              8 |       2 |                       0 |           0.76 |   1.51608e+09 | how did you come up with your company slogan? my partner and i are putting the finishing touches on our brand identity; we've got the logo, the company name, our values, and our mission. the only thing we're missing is our slogan, our very own just do it that encapsulates the spirit of our company in a single memorable phrase. we're a healthcare technology company that's developing a platform that enables users to build a team of personal buddies and healthcare professionals to help them tackle chronic conditions. i think part of our problem is that we want to try to say too much we're trying to build the best tool for behavioral change, but we also want to reference the personalization aspect of our product , our marketplace hiring structure, our holistic approach to health, our solving of the underlying problem rather than the symptoms . like i said, it's a lot to squeeze into three or four words. right now we're at healthcare 2.0 but i'm not totally sold. i was hoping to garner some inspiration from the /r/startup community. how did you guys develop your slogan? was it a single moment of a-ha! or did it take a significant amount of iteration and consumer testing? are there any resources, website, or blog posts that break down the process or could provide guidance? | how         |      -1 |        0     |\n",
            "| 18 |        18 |      30 | launched a beta, what is the best way to get users without paying a lot?                                     | hi, we are building a app to prevent, detect and act on cyberbullying. we spent a decent amount of time understanding the user side of it by doing polls and user interviews. we recently started building the product and have launched a page for users to waitlist for our beta. we were looking for suggestions on what is the best way to start getting users to our page to signup? we are looking for atleast 100-500 users. we do not have a big budget for it. what i have already done is put some good content into a medium post to see if we can generate traffic from there. please share any quick or known ways of getting beta users which have worked for you before. i will share the link of the site in a comment if its not a big deal.                                                                                                                                                                                                                                                                                                                                                                                                                                                                                                                             | ShashankSingla    | /r/startups/comments/7qva1q/launched_a_beta_what_is_the_best_way_to_get_users/  |             13 |       9 |                       0 |           0.85 |   1.51613e+09 | launched a beta, what is the best way to get users without paying a lot? hi, we are building a app to prevent, detect and act on cyberbullying. we spent a decent amount of time understanding the user side of it by doing polls and user interviews. we recently started building the product and have launched a page for users to waitlist for our beta. we were looking for suggestions on what is the best way to start getting users to our page to signup? we are looking for atleast 100-500 users. we do not have a big budget for it. what i have already done is put some good content into a medium post to see if we can generate traffic from there. please share any quick or known ways of getting beta users which have worked for you before. i will share the link of the site in a comment if its not a big deal.                                                                                                                                                                                                                                                                                                                                                                                                                                                                                                  | what        |      35 |        0.025 |\n",
            "| 19 |        19 |      32 | which integrated social marketing platform is best for startups?                                             | hello everyone and thank you for the help with my request for opinions on development management software. i have an additional request regarding hootsuite and the like. which software would work best for a company with 3 or less contributors and accounts on instagram, youtube, linkedin, twitter, and discord? we will eventually add twitch as well. our use cases are cross posting, metrics, auto-follow for likers, or reposters, and scheduled posting. my request has two parts what tools have you used and what do you like not like? are there other use cases that you have found important that i did not enumerate above?                                                                                                                                                                                                                                                                                                                                                                                                                                                                                                                                                                                                                                             | GetOutGaming      | /r/startups/comments/7r3ji1/which_integrated_social_marketing_platform_is/      |              5 |       1 |                       0 |           0.6  |   1.51622e+09 | which integrated social marketing platform is best for startups? hello everyone and thank you for the help with my request for opinions on development management software. i have an additional request regarding hootsuite and the like. which software would work best for a company with 3 or less contributors and accounts on instagram, youtube, linkedin, twitter, and discord? we will eventually add twitch as well. our use cases are cross posting, metrics, auto-follow for likers, or reposters, and scheduled posting. my request has two parts what tools have you used and what do you like not like? are there other use cases that you have found important that i did not enumerate above?                                                                                                                                                                                                                                                                                                                                                                                                                                                                                                                                                                                                                          | which       |      -1 |        0     |\n"
          ],
          "name": "stdout"
        }
      ]
    },
    {
      "cell_type": "code",
      "metadata": {
        "id": "I-7gh1pPFblc"
      },
      "source": [
        "from collections import defaultdict\n",
        "\n",
        "docs_by_topics = defaultdict(list)\n",
        "\n",
        "for index, topic in enumerate(topics):\n",
        "  docs_by_topics[topic].append({\n",
        "      'docIdx': index,\n",
        "      'prob': probabilities[index][topic],\n",
        "      'num_comments':df_selection['num_comments'][index],\n",
        "      'score': df_selection['score'][index],\n",
        "      'title': df_selection['title'][index],\n",
        "      #'keywords': df_selection['keywords'][index]\n",
        "  })\n",
        "\n",
        "# sort doc by their topic prob\n",
        "for index, topic in enumerate(topics):\n",
        "  docs_by_topics[topic].sort(key=lambda x: x['score'], reverse=True)\n"
      ],
      "execution_count": 12,
      "outputs": []
    },
    {
      "cell_type": "code",
      "metadata": {
        "id": "U6qlWIBQItoR"
      },
      "source": [
        "\n",
        "for idx, row in topic_info_df.iterrows():\n",
        "  print(row.to_frame().T)\n",
        "  topic_docs_df = pd.DataFrame(docs_by_topics[row['Topic']])\n",
        "  print(topic_docs_df.head(10).to_markdown())\n",
        "\n"
      ],
      "execution_count": null,
      "outputs": []
    },
    {
      "cell_type": "code",
      "metadata": {
        "colab": {
          "base_uri": "https://localhost:8080/",
          "height": 1000
        },
        "id": "w-n1lFO3Canc",
        "outputId": "a739793f-3fa7-4739-d787-fc0ba7d3b4fe"
      },
      "source": [
        "topics_over_time = topic_model.topics_over_time(df_selection['title'], topics, df_selection['created_utc'], nr_bins=20)\n",
        "topic_model.visualize_topics_over_time(topics_over_time, top_n_topics=10)"
      ],
      "execution_count": 14,
      "outputs": [
        {
          "output_type": "stream",
          "text": [
            "using own process...\n",
            "using own process...\n",
            "using own process...\n",
            "using own process...\n",
            "using own process...\n",
            "using own process...\n",
            "using own process...\n",
            "using own process...\n",
            "using own process...\n",
            "using own process...\n",
            "using own process...\n",
            "using own process...\n",
            "using own process...\n",
            "using own process...\n",
            "using own process...\n",
            "using own process...\n",
            "using own process...\n",
            "using own process...\n",
            "using own process...\n",
            "using own process...\n"
          ],
          "name": "stdout"
        },
        {
          "output_type": "error",
          "ename": "ValueError",
          "evalue": "ignored",
          "traceback": [
            "\u001b[0;31m---------------------------------------------------------------------------\u001b[0m",
            "\u001b[0;31mValueError\u001b[0m                                Traceback (most recent call last)",
            "\u001b[0;32m<ipython-input-14-3a8e42ad96d5>\u001b[0m in \u001b[0;36m<module>\u001b[0;34m()\u001b[0m\n\u001b[1;32m      1\u001b[0m \u001b[0mtopics_over_time\u001b[0m \u001b[0;34m=\u001b[0m \u001b[0mtopic_model\u001b[0m\u001b[0;34m.\u001b[0m\u001b[0mtopics_over_time\u001b[0m\u001b[0;34m(\u001b[0m\u001b[0mdf_selection\u001b[0m\u001b[0;34m[\u001b[0m\u001b[0;34m'title'\u001b[0m\u001b[0;34m]\u001b[0m\u001b[0;34m,\u001b[0m \u001b[0mtopics\u001b[0m\u001b[0;34m,\u001b[0m \u001b[0mdf_selection\u001b[0m\u001b[0;34m[\u001b[0m\u001b[0;34m'created_utc'\u001b[0m\u001b[0;34m]\u001b[0m\u001b[0;34m,\u001b[0m \u001b[0mnr_bins\u001b[0m\u001b[0;34m=\u001b[0m\u001b[0;36m20\u001b[0m\u001b[0;34m)\u001b[0m\u001b[0;34m\u001b[0m\u001b[0;34m\u001b[0m\u001b[0m\n\u001b[0;32m----> 2\u001b[0;31m \u001b[0mtopic_model\u001b[0m\u001b[0;34m.\u001b[0m\u001b[0mvisualize_topics_over_time\u001b[0m\u001b[0;34m(\u001b[0m\u001b[0mtopics_over_time\u001b[0m\u001b[0;34m,\u001b[0m \u001b[0mtop_n_topics\u001b[0m\u001b[0;34m=\u001b[0m\u001b[0;36m10\u001b[0m\u001b[0;34m)\u001b[0m\u001b[0;34m\u001b[0m\u001b[0;34m\u001b[0m\u001b[0m\n\u001b[0m",
            "\u001b[0;32m/content/BERTopic/bertopic/_bertopic.py\u001b[0m in \u001b[0;36mvisualize_topics_over_time\u001b[0;34m(self, topics_over_time, top_n_topics, topics, width, height)\u001b[0m\n\u001b[1;32m    960\u001b[0m                                                    \u001b[0mtopics\u001b[0m\u001b[0;34m=\u001b[0m\u001b[0mtopics\u001b[0m\u001b[0;34m,\u001b[0m\u001b[0;34m\u001b[0m\u001b[0;34m\u001b[0m\u001b[0m\n\u001b[1;32m    961\u001b[0m                                                    \u001b[0mwidth\u001b[0m\u001b[0;34m=\u001b[0m\u001b[0mwidth\u001b[0m\u001b[0;34m,\u001b[0m\u001b[0;34m\u001b[0m\u001b[0;34m\u001b[0m\u001b[0m\n\u001b[0;32m--> 962\u001b[0;31m                                                    height=height)\n\u001b[0m\u001b[1;32m    963\u001b[0m \u001b[0;34m\u001b[0m\u001b[0m\n\u001b[1;32m    964\u001b[0m     def visualize_topics_per_class(self,\n",
            "\u001b[0;32m/content/BERTopic/bertopic/plotting/_topics_over_time.py\u001b[0m in \u001b[0;36mvisualize_topics_over_time\u001b[0;34m(topic_model, topics_over_time, top_n_topics, topics, width, height)\u001b[0m\n\u001b[1;32m     95\u001b[0m         ),\n\u001b[1;32m     96\u001b[0m         legend=dict(\n\u001b[0;32m---> 97\u001b[0;31m             \u001b[0mtitle\u001b[0m\u001b[0;34m=\u001b[0m\u001b[0;34m\"<b>Global Topic Representation\"\u001b[0m\u001b[0;34m,\u001b[0m\u001b[0;34m\u001b[0m\u001b[0;34m\u001b[0m\u001b[0m\n\u001b[0m\u001b[1;32m     98\u001b[0m         )\n\u001b[1;32m     99\u001b[0m     )\n",
            "\u001b[0;32m/usr/local/lib/python3.7/dist-packages/plotly/basedatatypes.py\u001b[0m in \u001b[0;36mupdate_layout\u001b[0;34m(self, dict1, overwrite, **kwargs)\u001b[0m\n\u001b[1;32m    936\u001b[0m             \u001b[0mThe\u001b[0m \u001b[0mFigure\u001b[0m \u001b[0mobject\u001b[0m \u001b[0mthat\u001b[0m \u001b[0mthe\u001b[0m \u001b[0mupdate_layout\u001b[0m \u001b[0mmethod\u001b[0m \u001b[0mwas\u001b[0m \u001b[0mcalled\u001b[0m \u001b[0mon\u001b[0m\u001b[0;34m\u001b[0m\u001b[0;34m\u001b[0m\u001b[0m\n\u001b[1;32m    937\u001b[0m         \"\"\"\n\u001b[0;32m--> 938\u001b[0;31m         \u001b[0mself\u001b[0m\u001b[0;34m.\u001b[0m\u001b[0mlayout\u001b[0m\u001b[0;34m.\u001b[0m\u001b[0mupdate\u001b[0m\u001b[0;34m(\u001b[0m\u001b[0mdict1\u001b[0m\u001b[0;34m,\u001b[0m \u001b[0moverwrite\u001b[0m\u001b[0;34m=\u001b[0m\u001b[0moverwrite\u001b[0m\u001b[0;34m,\u001b[0m \u001b[0;34m**\u001b[0m\u001b[0mkwargs\u001b[0m\u001b[0;34m)\u001b[0m\u001b[0;34m\u001b[0m\u001b[0;34m\u001b[0m\u001b[0m\n\u001b[0m\u001b[1;32m    939\u001b[0m         \u001b[0;32mreturn\u001b[0m \u001b[0mself\u001b[0m\u001b[0;34m\u001b[0m\u001b[0;34m\u001b[0m\u001b[0m\n\u001b[1;32m    940\u001b[0m \u001b[0;34m\u001b[0m\u001b[0m\n",
            "\u001b[0;32m/usr/local/lib/python3.7/dist-packages/plotly/basedatatypes.py\u001b[0m in \u001b[0;36mupdate\u001b[0;34m(self, dict1, overwrite, **kwargs)\u001b[0m\n\u001b[1;32m   3695\u001b[0m             \u001b[0;32mwith\u001b[0m \u001b[0mself\u001b[0m\u001b[0;34m.\u001b[0m\u001b[0mfigure\u001b[0m\u001b[0;34m.\u001b[0m\u001b[0mbatch_update\u001b[0m\u001b[0;34m(\u001b[0m\u001b[0;34m)\u001b[0m\u001b[0;34m:\u001b[0m\u001b[0;34m\u001b[0m\u001b[0;34m\u001b[0m\u001b[0m\n\u001b[1;32m   3696\u001b[0m                 \u001b[0mBaseFigure\u001b[0m\u001b[0;34m.\u001b[0m\u001b[0m_perform_update\u001b[0m\u001b[0;34m(\u001b[0m\u001b[0mself\u001b[0m\u001b[0;34m,\u001b[0m \u001b[0mdict1\u001b[0m\u001b[0;34m,\u001b[0m \u001b[0moverwrite\u001b[0m\u001b[0;34m=\u001b[0m\u001b[0moverwrite\u001b[0m\u001b[0;34m)\u001b[0m\u001b[0;34m\u001b[0m\u001b[0;34m\u001b[0m\u001b[0m\n\u001b[0;32m-> 3697\u001b[0;31m                 \u001b[0mBaseFigure\u001b[0m\u001b[0;34m.\u001b[0m\u001b[0m_perform_update\u001b[0m\u001b[0;34m(\u001b[0m\u001b[0mself\u001b[0m\u001b[0;34m,\u001b[0m \u001b[0mkwargs\u001b[0m\u001b[0;34m,\u001b[0m \u001b[0moverwrite\u001b[0m\u001b[0;34m=\u001b[0m\u001b[0moverwrite\u001b[0m\u001b[0;34m)\u001b[0m\u001b[0;34m\u001b[0m\u001b[0;34m\u001b[0m\u001b[0m\n\u001b[0m\u001b[1;32m   3698\u001b[0m         \u001b[0;32melse\u001b[0m\u001b[0;34m:\u001b[0m\u001b[0;34m\u001b[0m\u001b[0;34m\u001b[0m\u001b[0m\n\u001b[1;32m   3699\u001b[0m             \u001b[0mBaseFigure\u001b[0m\u001b[0;34m.\u001b[0m\u001b[0m_perform_update\u001b[0m\u001b[0;34m(\u001b[0m\u001b[0mself\u001b[0m\u001b[0;34m,\u001b[0m \u001b[0mdict1\u001b[0m\u001b[0;34m,\u001b[0m \u001b[0moverwrite\u001b[0m\u001b[0;34m=\u001b[0m\u001b[0moverwrite\u001b[0m\u001b[0;34m)\u001b[0m\u001b[0;34m\u001b[0m\u001b[0;34m\u001b[0m\u001b[0m\n",
            "\u001b[0;32m/usr/local/lib/python3.7/dist-packages/plotly/basedatatypes.py\u001b[0m in \u001b[0;36m_perform_update\u001b[0;34m(plotly_obj, update_obj, overwrite)\u001b[0m\n\u001b[1;32m   2896\u001b[0m                     \u001b[0;31m# Update compound objects recursively\u001b[0m\u001b[0;34m\u001b[0m\u001b[0;34m\u001b[0m\u001b[0;34m\u001b[0m\u001b[0m\n\u001b[1;32m   2897\u001b[0m                     \u001b[0;31m# plotly_obj[key].update(val)\u001b[0m\u001b[0;34m\u001b[0m\u001b[0;34m\u001b[0m\u001b[0;34m\u001b[0m\u001b[0m\n\u001b[0;32m-> 2898\u001b[0;31m                     \u001b[0mBaseFigure\u001b[0m\u001b[0;34m.\u001b[0m\u001b[0m_perform_update\u001b[0m\u001b[0;34m(\u001b[0m\u001b[0mplotly_obj\u001b[0m\u001b[0;34m[\u001b[0m\u001b[0mkey\u001b[0m\u001b[0;34m]\u001b[0m\u001b[0;34m,\u001b[0m \u001b[0mval\u001b[0m\u001b[0;34m)\u001b[0m\u001b[0;34m\u001b[0m\u001b[0;34m\u001b[0m\u001b[0m\n\u001b[0m\u001b[1;32m   2899\u001b[0m                 \u001b[0;32melif\u001b[0m \u001b[0misinstance\u001b[0m\u001b[0;34m(\u001b[0m\u001b[0mvalidator\u001b[0m\u001b[0;34m,\u001b[0m \u001b[0mCompoundArrayValidator\u001b[0m\u001b[0;34m)\u001b[0m\u001b[0;34m:\u001b[0m\u001b[0;34m\u001b[0m\u001b[0;34m\u001b[0m\u001b[0m\n\u001b[1;32m   2900\u001b[0m                     \u001b[0;32mif\u001b[0m \u001b[0mplotly_obj\u001b[0m\u001b[0;34m[\u001b[0m\u001b[0mkey\u001b[0m\u001b[0;34m]\u001b[0m\u001b[0;34m:\u001b[0m\u001b[0;34m\u001b[0m\u001b[0;34m\u001b[0m\u001b[0m\n",
            "\u001b[0;32m/usr/local/lib/python3.7/dist-packages/plotly/basedatatypes.py\u001b[0m in \u001b[0;36m_perform_update\u001b[0;34m(plotly_obj, update_obj, overwrite)\u001b[0m\n\u001b[1;32m   2873\u001b[0m             \u001b[0minvalid_props\u001b[0m \u001b[0;34m=\u001b[0m \u001b[0;34m[\u001b[0m\u001b[0mk\u001b[0m \u001b[0;32mfor\u001b[0m \u001b[0mk\u001b[0m \u001b[0;32min\u001b[0m \u001b[0mupdate_obj\u001b[0m \u001b[0;32mif\u001b[0m \u001b[0mk\u001b[0m \u001b[0;32mnot\u001b[0m \u001b[0;32min\u001b[0m \u001b[0mplotly_obj\u001b[0m\u001b[0;34m]\u001b[0m\u001b[0;34m\u001b[0m\u001b[0;34m\u001b[0m\u001b[0m\n\u001b[1;32m   2874\u001b[0m \u001b[0;34m\u001b[0m\u001b[0m\n\u001b[0;32m-> 2875\u001b[0;31m             \u001b[0mplotly_obj\u001b[0m\u001b[0;34m.\u001b[0m\u001b[0m_raise_on_invalid_property_error\u001b[0m\u001b[0;34m(\u001b[0m\u001b[0;34m*\u001b[0m\u001b[0minvalid_props\u001b[0m\u001b[0;34m)\u001b[0m\u001b[0;34m\u001b[0m\u001b[0;34m\u001b[0m\u001b[0m\n\u001b[0m\u001b[1;32m   2876\u001b[0m \u001b[0;34m\u001b[0m\u001b[0m\n\u001b[1;32m   2877\u001b[0m             \u001b[0;31m# Convert update_obj to dict\u001b[0m\u001b[0;34m\u001b[0m\u001b[0;34m\u001b[0m\u001b[0;34m\u001b[0m\u001b[0m\n",
            "\u001b[0;32m/usr/local/lib/python3.7/dist-packages/plotly/basedatatypes.py\u001b[0m in \u001b[0;36m_raise_on_invalid_property_error\u001b[0;34m(self, *args)\u001b[0m\n\u001b[1;32m   3664\u001b[0m                     \u001b[0mfull_obj_name\u001b[0m\u001b[0;34m=\u001b[0m\u001b[0mfull_obj_name\u001b[0m\u001b[0;34m,\u001b[0m\u001b[0;34m\u001b[0m\u001b[0;34m\u001b[0m\u001b[0m\n\u001b[1;32m   3665\u001b[0m                     \u001b[0minvalid_str\u001b[0m\u001b[0;34m=\u001b[0m\u001b[0minvalid_str\u001b[0m\u001b[0;34m,\u001b[0m\u001b[0;34m\u001b[0m\u001b[0;34m\u001b[0m\u001b[0m\n\u001b[0;32m-> 3666\u001b[0;31m                     \u001b[0mprop_descriptions\u001b[0m\u001b[0;34m=\u001b[0m\u001b[0mself\u001b[0m\u001b[0;34m.\u001b[0m\u001b[0m_prop_descriptions\u001b[0m\u001b[0;34m,\u001b[0m\u001b[0;34m\u001b[0m\u001b[0;34m\u001b[0m\u001b[0m\n\u001b[0m\u001b[1;32m   3667\u001b[0m                 )\n\u001b[1;32m   3668\u001b[0m             )\n",
            "\u001b[0;31mValueError\u001b[0m: Invalid property specified for object of type plotly.graph_objs.layout.Legend: 'title'\n\n    Valid properties:\n        bgcolor\n            Sets the legend background color. Defaults to\n            `layout.paper_bgcolor`.\n        bordercolor\n            Sets the color of the border enclosing the legend.\n        borderwidth\n            Sets the width (in px) of the border enclosing the\n            legend.\n        font\n            Sets the font used to text the legend items.\n        itemclick\n            Determines the behavior on legend item click. \"toggle\"\n            toggles the visibility of the item clicked on the\n            graph. \"toggleothers\" makes the clicked item the sole\n            visible item on the graph. False disable legend item\n            click interactions.\n        itemdoubleclick\n            Determines the behavior on legend item double-click.\n            \"toggle\" toggles the visibility of the item clicked on\n            the graph. \"toggleothers\" makes the clicked item the\n            sole visible item on the graph. False disable legend\n            item double-click interactions.\n        itemsizing\n            Determines if the legend items symbols scale with their\n            corresponding \"trace\" attributes or remain \"constant\"\n            independent of the symbol size on the graph.\n        orientation\n            Sets the orientation of the legend.\n        tracegroupgap\n            Sets the amount of vertical space (in px) between\n            legend groups.\n        traceorder\n            Determines the order at which the legend items are\n            displayed. If \"normal\", the items are displayed top-to-\n            bottom in the same order as the input data. If\n            \"reversed\", the items are displayed in the opposite\n            order as \"normal\". If \"grouped\", the items are\n            displayed in groups (when a trace `legendgroup` is\n            provided). if \"grouped+reversed\", the items are\n            displayed in the opposite order as \"grouped\".\n        uirevision\n            Controls persistence of legend-driven changes in trace\n            and pie label visibility. Defaults to\n            `layout.uirevision`.\n        valign\n            Sets the vertical alignment of the symbols with respect\n            to their associated text.\n        x\n            Sets the x position (in normalized coordinates) of the\n            legend. Defaults to 1.02 for vertical legends and\n            defaults to 0 for horizontal legends.\n        xanchor\n            Sets the legend's horizontal position anchor. This\n            anchor binds the `x` position to the \"left\", \"center\"\n            or \"right\" of the legend. Value \"auto\" anchors legends\n            to the right for `x` values greater than or equal to\n            2/3, anchors legends to the left for `x` values less\n            than or equal to 1/3 and anchors legends with respect\n            to their center otherwise.\n        y\n            Sets the y position (in normalized coordinates) of the\n            legend. Defaults to 1 for vertical legends, defaults to\n            \"-0.1\" for horizontal legends on graphs w/o range\n            sliders and defaults to 1.1 for horizontal legends on\n            graph with one or multiple range sliders.\n        yanchor\n            Sets the legend's vertical position anchor This anchor\n            binds the `y` position to the \"top\", \"middle\" or\n            \"bottom\" of the legend. Value \"auto\" anchors legends at\n            their bottom for `y` values less than or equal to 1/3,\n            anchors legends to at their top for `y` values greater\n            than or equal to 2/3 and anchors legends with respect\n            to their middle otherwise.\n        "
          ]
        }
      ]
    },
    {
      "cell_type": "code",
      "metadata": {
        "colab": {
          "base_uri": "https://localhost:8080/",
          "height": 303
        },
        "id": "QiPjaXEeMys-",
        "outputId": "e7dc8f43-2599-49bb-b9e7-b606e8ab979e"
      },
      "source": [
        "topic_model.visualize_topics()"
      ],
      "execution_count": 15,
      "outputs": [
        {
          "output_type": "error",
          "ename": "RuntimeError",
          "evalue": "ignored",
          "traceback": [
            "\u001b[0;31m---------------------------------------------------------------------------\u001b[0m",
            "\u001b[0;31mRuntimeError\u001b[0m                              Traceback (most recent call last)",
            "\u001b[0;32m<ipython-input-15-91cc4b963168>\u001b[0m in \u001b[0;36m<module>\u001b[0;34m()\u001b[0m\n\u001b[0;32m----> 1\u001b[0;31m \u001b[0mtopic_model\u001b[0m\u001b[0;34m.\u001b[0m\u001b[0mvisualize_topics\u001b[0m\u001b[0;34m(\u001b[0m\u001b[0;34m)\u001b[0m\u001b[0;34m\u001b[0m\u001b[0;34m\u001b[0m\u001b[0m\n\u001b[0m",
            "\u001b[0;32m/content/BERTopic/bertopic/_bertopic.py\u001b[0m in \u001b[0;36mvisualize_topics\u001b[0;34m(self, topics, top_n_topics, width, height)\u001b[0m\n\u001b[1;32m    864\u001b[0m                                          \u001b[0mtop_n_topics\u001b[0m\u001b[0;34m=\u001b[0m\u001b[0mtop_n_topics\u001b[0m\u001b[0;34m,\u001b[0m\u001b[0;34m\u001b[0m\u001b[0;34m\u001b[0m\u001b[0m\n\u001b[1;32m    865\u001b[0m                                          \u001b[0mwidth\u001b[0m\u001b[0;34m=\u001b[0m\u001b[0mwidth\u001b[0m\u001b[0;34m,\u001b[0m\u001b[0;34m\u001b[0m\u001b[0;34m\u001b[0m\u001b[0m\n\u001b[0;32m--> 866\u001b[0;31m                                          height=height)\n\u001b[0m\u001b[1;32m    867\u001b[0m \u001b[0;34m\u001b[0m\u001b[0m\n\u001b[1;32m    868\u001b[0m     def visualize_term_rank(self,\n",
            "\u001b[0;32m/content/BERTopic/bertopic/plotting/_topics.py\u001b[0m in \u001b[0;36mvisualize_topics\u001b[0;34m(topic_model, topics, top_n_topics, width, height)\u001b[0m\n\u001b[1;32m     66\u001b[0m     df = pd.DataFrame({\"x\": embeddings[1:, 0], \"y\": embeddings[1:, 1],\n\u001b[1;32m     67\u001b[0m                        \"Topic\": topic_list[1:], \"Words\": words[1:], \"Size\": frequencies[1:]})\n\u001b[0;32m---> 68\u001b[0;31m     \u001b[0;32mreturn\u001b[0m \u001b[0m_plotly_topic_visualization\u001b[0m\u001b[0;34m(\u001b[0m\u001b[0mdf\u001b[0m\u001b[0;34m,\u001b[0m \u001b[0mtopic_list\u001b[0m\u001b[0;34m,\u001b[0m \u001b[0mwidth\u001b[0m\u001b[0;34m,\u001b[0m \u001b[0mheight\u001b[0m\u001b[0;34m)\u001b[0m\u001b[0;34m\u001b[0m\u001b[0;34m\u001b[0m\u001b[0m\n\u001b[0m\u001b[1;32m     69\u001b[0m \u001b[0;34m\u001b[0m\u001b[0m\n\u001b[1;32m     70\u001b[0m \u001b[0;34m\u001b[0m\u001b[0m\n",
            "\u001b[0;32m/content/BERTopic/bertopic/plotting/_topics.py\u001b[0m in \u001b[0;36m_plotly_topic_visualization\u001b[0;34m(df, topic_list, width, height)\u001b[0m\n\u001b[1;32m     88\u001b[0m     \u001b[0;31m# Plot topics\u001b[0m\u001b[0;34m\u001b[0m\u001b[0;34m\u001b[0m\u001b[0;34m\u001b[0m\u001b[0m\n\u001b[1;32m     89\u001b[0m     fig = px.scatter(df, x=\"x\", y=\"y\", size=\"Size\", size_max=40, template=\"simple_white\", labels={\"x\": \"\", \"y\": \"\"},\n\u001b[0;32m---> 90\u001b[0;31m                      hover_data={\"x\": False, \"y\": False, \"Topic\": True, \"Words\": True, \"Size\": True})\n\u001b[0m\u001b[1;32m     91\u001b[0m     \u001b[0mfig\u001b[0m\u001b[0;34m.\u001b[0m\u001b[0mupdate_traces\u001b[0m\u001b[0;34m(\u001b[0m\u001b[0mmarker\u001b[0m\u001b[0;34m=\u001b[0m\u001b[0mdict\u001b[0m\u001b[0;34m(\u001b[0m\u001b[0mcolor\u001b[0m\u001b[0;34m=\u001b[0m\u001b[0;34m\"#B0BEC5\"\u001b[0m\u001b[0;34m,\u001b[0m \u001b[0mline\u001b[0m\u001b[0;34m=\u001b[0m\u001b[0mdict\u001b[0m\u001b[0;34m(\u001b[0m\u001b[0mwidth\u001b[0m\u001b[0;34m=\u001b[0m\u001b[0;36m2\u001b[0m\u001b[0;34m,\u001b[0m \u001b[0mcolor\u001b[0m\u001b[0;34m=\u001b[0m\u001b[0;34m'DarkSlateGrey'\u001b[0m\u001b[0;34m)\u001b[0m\u001b[0;34m)\u001b[0m\u001b[0;34m)\u001b[0m\u001b[0;34m\u001b[0m\u001b[0;34m\u001b[0m\u001b[0m\n\u001b[1;32m     92\u001b[0m \u001b[0;34m\u001b[0m\u001b[0m\n",
            "\u001b[0;32m/usr/local/lib/python3.7/dist-packages/plotly/express/_chart_types.py\u001b[0m in \u001b[0;36mscatter\u001b[0;34m(data_frame, x, y, color, symbol, size, hover_name, hover_data, custom_data, text, facet_row, facet_col, facet_col_wrap, error_x, error_x_minus, error_y, error_y_minus, animation_frame, animation_group, category_orders, labels, color_discrete_sequence, color_discrete_map, color_continuous_scale, range_color, color_continuous_midpoint, symbol_sequence, symbol_map, opacity, size_max, marginal_x, marginal_y, trendline, trendline_color_override, log_x, log_y, range_x, range_y, render_mode, title, template, width, height)\u001b[0m\n\u001b[1;32m     53\u001b[0m     \u001b[0mmark\u001b[0m \u001b[0;32min\u001b[0m \u001b[0;36m2\u001b[0m\u001b[0mD\u001b[0m \u001b[0mspace\u001b[0m\u001b[0;34m.\u001b[0m\u001b[0;34m\u001b[0m\u001b[0;34m\u001b[0m\u001b[0m\n\u001b[1;32m     54\u001b[0m     \"\"\"\n\u001b[0;32m---> 55\u001b[0;31m     \u001b[0;32mreturn\u001b[0m \u001b[0mmake_figure\u001b[0m\u001b[0;34m(\u001b[0m\u001b[0margs\u001b[0m\u001b[0;34m=\u001b[0m\u001b[0mlocals\u001b[0m\u001b[0;34m(\u001b[0m\u001b[0;34m)\u001b[0m\u001b[0;34m,\u001b[0m \u001b[0mconstructor\u001b[0m\u001b[0;34m=\u001b[0m\u001b[0mgo\u001b[0m\u001b[0;34m.\u001b[0m\u001b[0mScatter\u001b[0m\u001b[0;34m)\u001b[0m\u001b[0;34m\u001b[0m\u001b[0;34m\u001b[0m\u001b[0m\n\u001b[0m\u001b[1;32m     56\u001b[0m \u001b[0;34m\u001b[0m\u001b[0m\n\u001b[1;32m     57\u001b[0m \u001b[0;34m\u001b[0m\u001b[0m\n",
            "\u001b[0;32m/usr/local/lib/python3.7/dist-packages/plotly/express/_core.py\u001b[0m in \u001b[0;36mmake_figure\u001b[0;34m(args, constructor, trace_patch, layout_patch)\u001b[0m\n\u001b[1;32m   1170\u001b[0m \u001b[0;34m\u001b[0m\u001b[0m\n\u001b[1;32m   1171\u001b[0m     args, trace_specs, grouped_mappings, sizeref, show_colorbar = infer_config(\n\u001b[0;32m-> 1172\u001b[0;31m         \u001b[0margs\u001b[0m\u001b[0;34m,\u001b[0m \u001b[0mconstructor\u001b[0m\u001b[0;34m,\u001b[0m \u001b[0mtrace_patch\u001b[0m\u001b[0;34m\u001b[0m\u001b[0;34m\u001b[0m\u001b[0m\n\u001b[0m\u001b[1;32m   1173\u001b[0m     )\n\u001b[1;32m   1174\u001b[0m     \u001b[0mgrouper\u001b[0m \u001b[0;34m=\u001b[0m \u001b[0;34m[\u001b[0m\u001b[0mx\u001b[0m\u001b[0;34m.\u001b[0m\u001b[0mgrouper\u001b[0m \u001b[0;32mor\u001b[0m \u001b[0mone_group\u001b[0m \u001b[0;32mfor\u001b[0m \u001b[0mx\u001b[0m \u001b[0;32min\u001b[0m \u001b[0mgrouped_mappings\u001b[0m\u001b[0;34m]\u001b[0m \u001b[0;32mor\u001b[0m \u001b[0;34m[\u001b[0m\u001b[0mone_group\u001b[0m\u001b[0;34m]\u001b[0m\u001b[0;34m\u001b[0m\u001b[0;34m\u001b[0m\u001b[0m\n",
            "\u001b[0;32m/usr/local/lib/python3.7/dist-packages/plotly/express/_core.py\u001b[0m in \u001b[0;36minfer_config\u001b[0;34m(args, constructor, trace_patch)\u001b[0m\n\u001b[1;32m   1026\u001b[0m             \u001b[0mall_attrables\u001b[0m \u001b[0;34m+=\u001b[0m \u001b[0;34m[\u001b[0m\u001b[0mgroup_attr\u001b[0m\u001b[0;34m]\u001b[0m\u001b[0;34m\u001b[0m\u001b[0;34m\u001b[0m\u001b[0m\n\u001b[1;32m   1027\u001b[0m \u001b[0;34m\u001b[0m\u001b[0m\n\u001b[0;32m-> 1028\u001b[0;31m     \u001b[0margs\u001b[0m \u001b[0;34m=\u001b[0m \u001b[0mbuild_dataframe\u001b[0m\u001b[0;34m(\u001b[0m\u001b[0margs\u001b[0m\u001b[0;34m,\u001b[0m \u001b[0mall_attrables\u001b[0m\u001b[0;34m,\u001b[0m \u001b[0marray_attrables\u001b[0m\u001b[0;34m)\u001b[0m\u001b[0;34m\u001b[0m\u001b[0;34m\u001b[0m\u001b[0m\n\u001b[0m\u001b[1;32m   1029\u001b[0m \u001b[0;34m\u001b[0m\u001b[0m\n\u001b[1;32m   1030\u001b[0m     \u001b[0mattrs\u001b[0m \u001b[0;34m=\u001b[0m \u001b[0;34m[\u001b[0m\u001b[0mk\u001b[0m \u001b[0;32mfor\u001b[0m \u001b[0mk\u001b[0m \u001b[0;32min\u001b[0m \u001b[0mattrables\u001b[0m \u001b[0;32mif\u001b[0m \u001b[0mk\u001b[0m \u001b[0;32min\u001b[0m \u001b[0margs\u001b[0m\u001b[0;34m]\u001b[0m\u001b[0;34m\u001b[0m\u001b[0;34m\u001b[0m\u001b[0m\n",
            "\u001b[0;32m/usr/local/lib/python3.7/dist-packages/plotly/express/_core.py\u001b[0m in \u001b[0;36mbuild_dataframe\u001b[0;34m(args, attrables, array_attrables)\u001b[0m\n\u001b[1;32m    911\u001b[0m         \u001b[0;31m# argument_list and field_list ready, iterate over them\u001b[0m\u001b[0;34m\u001b[0m\u001b[0;34m\u001b[0m\u001b[0;34m\u001b[0m\u001b[0m\n\u001b[1;32m    912\u001b[0m         \u001b[0;31m# Core of the loop starts here\u001b[0m\u001b[0;34m\u001b[0m\u001b[0;34m\u001b[0m\u001b[0;34m\u001b[0m\u001b[0m\n\u001b[0;32m--> 913\u001b[0;31m         \u001b[0;32mfor\u001b[0m \u001b[0mi\u001b[0m\u001b[0;34m,\u001b[0m \u001b[0;34m(\u001b[0m\u001b[0margument\u001b[0m\u001b[0;34m,\u001b[0m \u001b[0mfield\u001b[0m\u001b[0;34m)\u001b[0m \u001b[0;32min\u001b[0m \u001b[0menumerate\u001b[0m\u001b[0;34m(\u001b[0m\u001b[0mzip\u001b[0m\u001b[0;34m(\u001b[0m\u001b[0margument_list\u001b[0m\u001b[0;34m,\u001b[0m \u001b[0mfield_list\u001b[0m\u001b[0;34m)\u001b[0m\u001b[0;34m)\u001b[0m\u001b[0;34m:\u001b[0m\u001b[0;34m\u001b[0m\u001b[0;34m\u001b[0m\u001b[0m\n\u001b[0m\u001b[1;32m    914\u001b[0m             \u001b[0mlength\u001b[0m \u001b[0;34m=\u001b[0m \u001b[0mlen\u001b[0m\u001b[0;34m(\u001b[0m\u001b[0mdf_output\u001b[0m\u001b[0;34m)\u001b[0m\u001b[0;34m\u001b[0m\u001b[0;34m\u001b[0m\u001b[0m\n\u001b[1;32m    915\u001b[0m             \u001b[0;32mif\u001b[0m \u001b[0margument\u001b[0m \u001b[0;32mis\u001b[0m \u001b[0;32mNone\u001b[0m\u001b[0;34m:\u001b[0m\u001b[0;34m\u001b[0m\u001b[0;34m\u001b[0m\u001b[0m\n",
            "\u001b[0;31mRuntimeError\u001b[0m: dictionary changed size during iteration"
          ]
        }
      ]
    },
    {
      "cell_type": "code",
      "metadata": {
        "colab": {
          "base_uri": "https://localhost:8080/",
          "height": 303
        },
        "id": "SZmZg9BrG5Vt",
        "outputId": "4ba74574-13f1-4e05-fab0-30ef717e14bb"
      },
      "source": [
        "topic_model.visualize_heatmap()"
      ],
      "execution_count": 16,
      "outputs": [
        {
          "output_type": "error",
          "ename": "TypeError",
          "evalue": "ignored",
          "traceback": [
            "\u001b[0;31m---------------------------------------------------------------------------\u001b[0m",
            "\u001b[0;31mTypeError\u001b[0m                                 Traceback (most recent call last)",
            "\u001b[0;32m<ipython-input-16-a70fcc6bf7d3>\u001b[0m in \u001b[0;36m<module>\u001b[0;34m()\u001b[0m\n\u001b[0;32m----> 1\u001b[0;31m \u001b[0mtopic_model\u001b[0m\u001b[0;34m.\u001b[0m\u001b[0mvisualize_heatmap\u001b[0m\u001b[0;34m(\u001b[0m\u001b[0;34m)\u001b[0m\u001b[0;34m\u001b[0m\u001b[0;34m\u001b[0m\u001b[0m\n\u001b[0m",
            "\u001b[0;32m/content/BERTopic/bertopic/_bertopic.py\u001b[0m in \u001b[0;36mvisualize_heatmap\u001b[0;34m(self, topics, top_n_topics, n_clusters, width, height)\u001b[0m\n\u001b[1;32m   1133\u001b[0m                                           \u001b[0mn_clusters\u001b[0m\u001b[0;34m=\u001b[0m\u001b[0mn_clusters\u001b[0m\u001b[0;34m,\u001b[0m\u001b[0;34m\u001b[0m\u001b[0;34m\u001b[0m\u001b[0m\n\u001b[1;32m   1134\u001b[0m                                           \u001b[0mwidth\u001b[0m\u001b[0;34m=\u001b[0m\u001b[0mwidth\u001b[0m\u001b[0;34m,\u001b[0m\u001b[0;34m\u001b[0m\u001b[0;34m\u001b[0m\u001b[0m\n\u001b[0;32m-> 1135\u001b[0;31m                                           height=height)\n\u001b[0m\u001b[1;32m   1136\u001b[0m \u001b[0;34m\u001b[0m\u001b[0m\n\u001b[1;32m   1137\u001b[0m     def visualize_barchart(self,\n",
            "\u001b[0;32m/content/BERTopic/bertopic/plotting/_heatmap.py\u001b[0m in \u001b[0;36mvisualize_heatmap\u001b[0;34m(topic_model, topics, top_n_topics, n_clusters, width, height)\u001b[0m\n\u001b[1;32m     98\u001b[0m                     \u001b[0mx\u001b[0m\u001b[0;34m=\u001b[0m\u001b[0mnew_labels\u001b[0m\u001b[0;34m,\u001b[0m\u001b[0;34m\u001b[0m\u001b[0;34m\u001b[0m\u001b[0m\n\u001b[1;32m     99\u001b[0m                     \u001b[0my\u001b[0m\u001b[0;34m=\u001b[0m\u001b[0mnew_labels\u001b[0m\u001b[0;34m,\u001b[0m\u001b[0;34m\u001b[0m\u001b[0;34m\u001b[0m\u001b[0m\n\u001b[0;32m--> 100\u001b[0;31m                     \u001b[0mcolor_continuous_scale\u001b[0m\u001b[0;34m=\u001b[0m\u001b[0;34m'GnBu'\u001b[0m\u001b[0;34m\u001b[0m\u001b[0;34m\u001b[0m\u001b[0m\n\u001b[0m\u001b[1;32m    101\u001b[0m                     )\n\u001b[1;32m    102\u001b[0m \u001b[0;34m\u001b[0m\u001b[0m\n",
            "\u001b[0;31mTypeError\u001b[0m: imshow() got an unexpected keyword argument 'labels'"
          ]
        }
      ]
    },
    {
      "cell_type": "code",
      "metadata": {
        "colab": {
          "base_uri": "https://localhost:8080/",
          "height": 617
        },
        "id": "iagobgBQHBC1",
        "outputId": "93991245-7430-4e62-b62a-4e972e2a5563"
      },
      "source": [
        "topic_model.visualize_hierarchy()"
      ],
      "execution_count": null,
      "outputs": [
        {
          "output_type": "display_data",
          "data": {
            "text/html": [
              "<html>\n",
              "<head><meta charset=\"utf-8\" /></head>\n",
              "<body>\n",
              "    <div>            <script src=\"https://cdnjs.cloudflare.com/ajax/libs/mathjax/2.7.5/MathJax.js?config=TeX-AMS-MML_SVG\"></script><script type=\"text/javascript\">if (window.MathJax) {MathJax.Hub.Config({SVG: {font: \"STIX-Web\"}});}</script>                <script type=\"text/javascript\">window.PlotlyConfig = {MathJaxConfig: 'local'};</script>\n",
              "        <script src=\"https://cdn.plot.ly/plotly-latest.min.js\"></script>                <div id=\"0a1f51a8-6dca-4bc8-8319-4f77f8e4451a\" class=\"plotly-graph-div\" style=\"height:600px; width:1000px;\"></div>            <script type=\"text/javascript\">                                    window.PLOTLYENV=window.PLOTLYENV || {};                                    if (document.getElementById(\"0a1f51a8-6dca-4bc8-8319-4f77f8e4451a\")) {                    Plotly.newPlot(                        \"0a1f51a8-6dca-4bc8-8319-4f77f8e4451a\",                        [{\"hoverinfo\": \"text\", \"marker\": {\"color\": \"rgb(61,153,112)\"}, \"mode\": \"lines\", \"type\": \"scatter\", \"x\": [0.0, 0.506587940771925, 0.506587940771925, 0.0], \"xaxis\": \"x\", \"y\": [-15.0, -15.0, -25.0, -25.0], \"yaxis\": \"y\"}, {\"hoverinfo\": \"text\", \"marker\": {\"color\": \"rgb(61,153,112)\"}, \"mode\": \"lines\", \"type\": \"scatter\", \"x\": [0.0, 0.42014461862731095, 0.42014461862731095, 0.0], \"xaxis\": \"x\", \"y\": [-45.0, -45.0, -55.0, -55.0], \"yaxis\": \"y\"}, {\"hoverinfo\": \"text\", \"marker\": {\"color\": \"rgb(61,153,112)\"}, \"mode\": \"lines\", \"type\": \"scatter\", \"x\": [0.0, 0.5938167359217568, 0.5938167359217568, 0.42014461862731095], \"xaxis\": \"x\", \"y\": [-35.0, -35.0, -50.0, -50.0], \"yaxis\": \"y\"}, {\"hoverinfo\": \"text\", \"marker\": {\"color\": \"rgb(61,153,112)\"}, \"mode\": \"lines\", \"type\": \"scatter\", \"x\": [0.506587940771925, 0.800054053253738, 0.800054053253738, 0.5938167359217568], \"xaxis\": \"x\", \"y\": [-20.0, -20.0, -42.5, -42.5], \"yaxis\": \"y\"}, {\"hoverinfo\": \"text\", \"marker\": {\"color\": \"rgb(255,65,54)\"}, \"mode\": \"lines\", \"type\": \"scatter\", \"x\": [0.0, 0.6674526037439613, 0.6674526037439613, 0.0], \"xaxis\": \"x\", \"y\": [-65.0, -65.0, -75.0, -75.0], \"yaxis\": \"y\"}, {\"hoverinfo\": \"text\", \"marker\": {\"color\": \"rgb(255,65,54)\"}, \"mode\": \"lines\", \"type\": \"scatter\", \"x\": [0.0, 0.6679432556432966, 0.6679432556432966, 0.0], \"xaxis\": \"x\", \"y\": [-85.0, -85.0, -95.0, -95.0], \"yaxis\": \"y\"}, {\"hoverinfo\": \"text\", \"marker\": {\"color\": \"rgb(255,65,54)\"}, \"mode\": \"lines\", \"type\": \"scatter\", \"x\": [0.6674526037439613, 0.8250109608541913, 0.8250109608541913, 0.6679432556432966], \"xaxis\": \"x\", \"y\": [-70.0, -70.0, -90.0, -90.0], \"yaxis\": \"y\"}, {\"hoverinfo\": \"text\", \"marker\": {\"color\": \"rgb(0,116,217)\"}, \"mode\": \"lines\", \"type\": \"scatter\", \"x\": [0.800054053253738, 1.0494706597980519, 1.0494706597980519, 0.8250109608541913], \"xaxis\": \"x\", \"y\": [-31.25, -31.25, -80.0, -80.0], \"yaxis\": \"y\"}, {\"hoverinfo\": \"text\", \"marker\": {\"color\": \"rgb(0,116,217)\"}, \"mode\": \"lines\", \"type\": \"scatter\", \"x\": [0.0, 1.2142764681364864, 1.2142764681364864, 1.0494706597980519], \"xaxis\": \"x\", \"y\": [-5.0, -5.0, -55.625, -55.625], \"yaxis\": \"y\"}],                        {\"autosize\": false, \"height\": 600, \"hoverlabel\": {\"bgcolor\": \"white\", \"font\": {\"family\": \"Rockwell\", \"size\": 16}}, \"hovermode\": \"closest\", \"plot_bgcolor\": \"#ECEFF1\", \"showlegend\": false, \"template\": {\"data\": {\"bar\": [{\"error_x\": {\"color\": \"#2a3f5f\"}, \"error_y\": {\"color\": \"#2a3f5f\"}, \"marker\": {\"line\": {\"color\": \"white\", \"width\": 0.5}}, \"type\": \"bar\"}], \"barpolar\": [{\"marker\": {\"line\": {\"color\": \"white\", \"width\": 0.5}}, \"type\": \"barpolar\"}], \"carpet\": [{\"aaxis\": {\"endlinecolor\": \"#2a3f5f\", \"gridcolor\": \"#C8D4E3\", \"linecolor\": \"#C8D4E3\", \"minorgridcolor\": \"#C8D4E3\", \"startlinecolor\": \"#2a3f5f\"}, \"baxis\": {\"endlinecolor\": \"#2a3f5f\", \"gridcolor\": \"#C8D4E3\", \"linecolor\": \"#C8D4E3\", \"minorgridcolor\": \"#C8D4E3\", \"startlinecolor\": \"#2a3f5f\"}, \"type\": \"carpet\"}], \"choropleth\": [{\"colorbar\": {\"outlinewidth\": 0, \"ticks\": \"\"}, \"type\": \"choropleth\"}], \"contour\": [{\"colorbar\": {\"outlinewidth\": 0, \"ticks\": \"\"}, \"colorscale\": [[0.0, \"#0d0887\"], [0.1111111111111111, \"#46039f\"], [0.2222222222222222, \"#7201a8\"], [0.3333333333333333, \"#9c179e\"], [0.4444444444444444, \"#bd3786\"], [0.5555555555555556, \"#d8576b\"], [0.6666666666666666, \"#ed7953\"], [0.7777777777777778, \"#fb9f3a\"], [0.8888888888888888, \"#fdca26\"], [1.0, \"#f0f921\"]], \"type\": \"contour\"}], \"contourcarpet\": [{\"colorbar\": {\"outlinewidth\": 0, \"ticks\": \"\"}, \"type\": \"contourcarpet\"}], \"heatmap\": [{\"colorbar\": {\"outlinewidth\": 0, \"ticks\": \"\"}, \"colorscale\": [[0.0, \"#0d0887\"], [0.1111111111111111, \"#46039f\"], [0.2222222222222222, \"#7201a8\"], [0.3333333333333333, \"#9c179e\"], [0.4444444444444444, \"#bd3786\"], [0.5555555555555556, \"#d8576b\"], [0.6666666666666666, \"#ed7953\"], [0.7777777777777778, \"#fb9f3a\"], [0.8888888888888888, \"#fdca26\"], [1.0, \"#f0f921\"]], \"type\": \"heatmap\"}], \"heatmapgl\": [{\"colorbar\": {\"outlinewidth\": 0, \"ticks\": \"\"}, \"colorscale\": [[0.0, \"#0d0887\"], [0.1111111111111111, \"#46039f\"], [0.2222222222222222, \"#7201a8\"], [0.3333333333333333, \"#9c179e\"], [0.4444444444444444, \"#bd3786\"], [0.5555555555555556, \"#d8576b\"], [0.6666666666666666, \"#ed7953\"], [0.7777777777777778, \"#fb9f3a\"], [0.8888888888888888, \"#fdca26\"], [1.0, \"#f0f921\"]], \"type\": \"heatmapgl\"}], \"histogram\": [{\"marker\": {\"colorbar\": {\"outlinewidth\": 0, \"ticks\": \"\"}}, \"type\": \"histogram\"}], \"histogram2d\": [{\"colorbar\": {\"outlinewidth\": 0, \"ticks\": \"\"}, \"colorscale\": [[0.0, \"#0d0887\"], [0.1111111111111111, \"#46039f\"], [0.2222222222222222, \"#7201a8\"], [0.3333333333333333, \"#9c179e\"], [0.4444444444444444, \"#bd3786\"], [0.5555555555555556, \"#d8576b\"], [0.6666666666666666, \"#ed7953\"], [0.7777777777777778, \"#fb9f3a\"], [0.8888888888888888, \"#fdca26\"], [1.0, \"#f0f921\"]], \"type\": \"histogram2d\"}], \"histogram2dcontour\": [{\"colorbar\": {\"outlinewidth\": 0, \"ticks\": \"\"}, \"colorscale\": [[0.0, \"#0d0887\"], [0.1111111111111111, \"#46039f\"], [0.2222222222222222, \"#7201a8\"], [0.3333333333333333, \"#9c179e\"], [0.4444444444444444, \"#bd3786\"], [0.5555555555555556, \"#d8576b\"], [0.6666666666666666, \"#ed7953\"], [0.7777777777777778, \"#fb9f3a\"], [0.8888888888888888, \"#fdca26\"], [1.0, \"#f0f921\"]], \"type\": \"histogram2dcontour\"}], \"mesh3d\": [{\"colorbar\": {\"outlinewidth\": 0, \"ticks\": \"\"}, \"type\": \"mesh3d\"}], \"parcoords\": [{\"line\": {\"colorbar\": {\"outlinewidth\": 0, \"ticks\": \"\"}}, \"type\": \"parcoords\"}], \"pie\": [{\"automargin\": true, \"type\": \"pie\"}], \"scatter\": [{\"marker\": {\"colorbar\": {\"outlinewidth\": 0, \"ticks\": \"\"}}, \"type\": \"scatter\"}], \"scatter3d\": [{\"line\": {\"colorbar\": {\"outlinewidth\": 0, \"ticks\": \"\"}}, \"marker\": {\"colorbar\": {\"outlinewidth\": 0, \"ticks\": \"\"}}, \"type\": \"scatter3d\"}], \"scattercarpet\": [{\"marker\": {\"colorbar\": {\"outlinewidth\": 0, \"ticks\": \"\"}}, \"type\": \"scattercarpet\"}], \"scattergeo\": [{\"marker\": {\"colorbar\": {\"outlinewidth\": 0, \"ticks\": \"\"}}, \"type\": \"scattergeo\"}], \"scattergl\": [{\"marker\": {\"colorbar\": {\"outlinewidth\": 0, \"ticks\": \"\"}}, \"type\": \"scattergl\"}], \"scattermapbox\": [{\"marker\": {\"colorbar\": {\"outlinewidth\": 0, \"ticks\": \"\"}}, \"type\": \"scattermapbox\"}], \"scatterpolar\": [{\"marker\": {\"colorbar\": {\"outlinewidth\": 0, \"ticks\": \"\"}}, \"type\": \"scatterpolar\"}], \"scatterpolargl\": [{\"marker\": {\"colorbar\": {\"outlinewidth\": 0, \"ticks\": \"\"}}, \"type\": \"scatterpolargl\"}], \"scatterternary\": [{\"marker\": {\"colorbar\": {\"outlinewidth\": 0, \"ticks\": \"\"}}, \"type\": \"scatterternary\"}], \"surface\": [{\"colorbar\": {\"outlinewidth\": 0, \"ticks\": \"\"}, \"colorscale\": [[0.0, \"#0d0887\"], [0.1111111111111111, \"#46039f\"], [0.2222222222222222, \"#7201a8\"], [0.3333333333333333, \"#9c179e\"], [0.4444444444444444, \"#bd3786\"], [0.5555555555555556, \"#d8576b\"], [0.6666666666666666, \"#ed7953\"], [0.7777777777777778, \"#fb9f3a\"], [0.8888888888888888, \"#fdca26\"], [1.0, \"#f0f921\"]], \"type\": \"surface\"}], \"table\": [{\"cells\": {\"fill\": {\"color\": \"#EBF0F8\"}, \"line\": {\"color\": \"white\"}}, \"header\": {\"fill\": {\"color\": \"#C8D4E3\"}, \"line\": {\"color\": \"white\"}}, \"type\": \"table\"}]}, \"layout\": {\"annotationdefaults\": {\"arrowcolor\": \"#2a3f5f\", \"arrowhead\": 0, \"arrowwidth\": 1}, \"autotypenumbers\": \"strict\", \"coloraxis\": {\"colorbar\": {\"outlinewidth\": 0, \"ticks\": \"\"}}, \"colorscale\": {\"diverging\": [[0, \"#8e0152\"], [0.1, \"#c51b7d\"], [0.2, \"#de77ae\"], [0.3, \"#f1b6da\"], [0.4, \"#fde0ef\"], [0.5, \"#f7f7f7\"], [0.6, \"#e6f5d0\"], [0.7, \"#b8e186\"], [0.8, \"#7fbc41\"], [0.9, \"#4d9221\"], [1, \"#276419\"]], \"sequential\": [[0.0, \"#0d0887\"], [0.1111111111111111, \"#46039f\"], [0.2222222222222222, \"#7201a8\"], [0.3333333333333333, \"#9c179e\"], [0.4444444444444444, \"#bd3786\"], [0.5555555555555556, \"#d8576b\"], [0.6666666666666666, \"#ed7953\"], [0.7777777777777778, \"#fb9f3a\"], [0.8888888888888888, \"#fdca26\"], [1.0, \"#f0f921\"]], \"sequentialminus\": [[0.0, \"#0d0887\"], [0.1111111111111111, \"#46039f\"], [0.2222222222222222, \"#7201a8\"], [0.3333333333333333, \"#9c179e\"], [0.4444444444444444, \"#bd3786\"], [0.5555555555555556, \"#d8576b\"], [0.6666666666666666, \"#ed7953\"], [0.7777777777777778, \"#fb9f3a\"], [0.8888888888888888, \"#fdca26\"], [1.0, \"#f0f921\"]]}, \"colorway\": [\"#636efa\", \"#EF553B\", \"#00cc96\", \"#ab63fa\", \"#FFA15A\", \"#19d3f3\", \"#FF6692\", \"#B6E880\", \"#FF97FF\", \"#FECB52\"], \"font\": {\"color\": \"#2a3f5f\"}, \"geo\": {\"bgcolor\": \"white\", \"lakecolor\": \"white\", \"landcolor\": \"white\", \"showlakes\": true, \"showland\": true, \"subunitcolor\": \"#C8D4E3\"}, \"hoverlabel\": {\"align\": \"left\"}, \"hovermode\": \"closest\", \"mapbox\": {\"style\": \"light\"}, \"paper_bgcolor\": \"white\", \"plot_bgcolor\": \"white\", \"polar\": {\"angularaxis\": {\"gridcolor\": \"#EBF0F8\", \"linecolor\": \"#EBF0F8\", \"ticks\": \"\"}, \"bgcolor\": \"white\", \"radialaxis\": {\"gridcolor\": \"#EBF0F8\", \"linecolor\": \"#EBF0F8\", \"ticks\": \"\"}}, \"scene\": {\"xaxis\": {\"backgroundcolor\": \"white\", \"gridcolor\": \"#DFE8F3\", \"gridwidth\": 2, \"linecolor\": \"#EBF0F8\", \"showbackground\": true, \"ticks\": \"\", \"zerolinecolor\": \"#EBF0F8\"}, \"yaxis\": {\"backgroundcolor\": \"white\", \"gridcolor\": \"#DFE8F3\", \"gridwidth\": 2, \"linecolor\": \"#EBF0F8\", \"showbackground\": true, \"ticks\": \"\", \"zerolinecolor\": \"#EBF0F8\"}, \"zaxis\": {\"backgroundcolor\": \"white\", \"gridcolor\": \"#DFE8F3\", \"gridwidth\": 2, \"linecolor\": \"#EBF0F8\", \"showbackground\": true, \"ticks\": \"\", \"zerolinecolor\": \"#EBF0F8\"}}, \"shapedefaults\": {\"line\": {\"color\": \"#2a3f5f\"}}, \"ternary\": {\"aaxis\": {\"gridcolor\": \"#DFE8F3\", \"linecolor\": \"#A2B1C6\", \"ticks\": \"\"}, \"baxis\": {\"gridcolor\": \"#DFE8F3\", \"linecolor\": \"#A2B1C6\", \"ticks\": \"\"}, \"bgcolor\": \"white\", \"caxis\": {\"gridcolor\": \"#DFE8F3\", \"linecolor\": \"#A2B1C6\", \"ticks\": \"\"}}, \"title\": {\"x\": 0.05}, \"xaxis\": {\"automargin\": true, \"gridcolor\": \"#EBF0F8\", \"linecolor\": \"#EBF0F8\", \"ticks\": \"\", \"title\": {\"standoff\": 15}, \"zerolinecolor\": \"#EBF0F8\", \"zerolinewidth\": 2}, \"yaxis\": {\"automargin\": true, \"gridcolor\": \"#EBF0F8\", \"linecolor\": \"#EBF0F8\", \"ticks\": \"\", \"title\": {\"standoff\": 15}, \"zerolinecolor\": \"#EBF0F8\", \"zerolinewidth\": 2}}}, \"title\": {\"font\": {\"color\": \"Black\", \"size\": 22}, \"text\": \"<b>Hierarchical Clustering\", \"x\": 0.5, \"xanchor\": \"center\", \"y\": 0.95, \"yanchor\": \"top\"}, \"width\": 1000, \"xaxis\": {\"mirror\": \"allticks\", \"rangemode\": \"tozero\", \"showgrid\": false, \"showline\": true, \"showticklabels\": true, \"ticks\": \"outside\", \"type\": \"linear\", \"zeroline\": false}, \"yaxis\": {\"mirror\": \"allticks\", \"rangemode\": \"tozero\", \"showgrid\": false, \"showline\": true, \"showticklabels\": true, \"tickmode\": \"array\", \"ticks\": \"outside\", \"ticktext\": [\"3_mint_mintable_minting\", \"-1_nfts_collectors_nft\", \"2_work_nfts_understanding\", \"4_item_make_packs\", \"0_sell_nfts_buy\", \"1_art_artist_much\", \"5_copyright_nfts_ownership\", \"7_crypto_rarible_gift\", \"6_foundation_upvoted_wallet\", \"8_marketplace_opensea_build\"], \"tickvals\": [-5.0, -15.0, -25.0, -35.0, -45.0, -55.0, -65.0, -75.0, -85.0, -95.0], \"type\": \"linear\", \"zeroline\": false}},                        {\"responsive\": true}                    ).then(function(){\n",
              "                            \n",
              "var gd = document.getElementById('0a1f51a8-6dca-4bc8-8319-4f77f8e4451a');\n",
              "var x = new MutationObserver(function (mutations, observer) {{\n",
              "        var display = window.getComputedStyle(gd).display;\n",
              "        if (!display || display === 'none') {{\n",
              "            console.log([gd, 'removed!']);\n",
              "            Plotly.purge(gd);\n",
              "            observer.disconnect();\n",
              "        }}\n",
              "}});\n",
              "\n",
              "// Listen for the removal of the full notebook cells\n",
              "var notebookContainer = gd.closest('#notebook-container');\n",
              "if (notebookContainer) {{\n",
              "    x.observe(notebookContainer, {childList: true});\n",
              "}}\n",
              "\n",
              "// Listen for the clearing of the current output cell\n",
              "var outputEl = gd.closest('.output');\n",
              "if (outputEl) {{\n",
              "    x.observe(outputEl, {childList: true});\n",
              "}}\n",
              "\n",
              "                        })                };                            </script>        </div>\n",
              "</body>\n",
              "</html>"
            ]
          },
          "metadata": {
            "tags": []
          }
        }
      ]
    }
  ]
}